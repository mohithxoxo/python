{
 "cells": [
  {
   "cell_type": "markdown",
   "metadata": {},
   "source": [
    "# Introduction\n",
    "\n",
    "Pandas can be an excellent replacement for Excel as a data wrangling tool. In many cases, a python + pandas solution is superior to the highly manual processes many use for manipulating data in Excel. In this Notebook, we build a simple amortization table with credit to [Chris Moffitt's Blog](https://pbpython.com/author/chris-moffitt.html) on Practical Business and Financial Modeling."
   ]
  },
  {
   "cell_type": "markdown",
   "metadata": {},
   "source": [
    "## Amortization schedules\n",
    "\n",
    "Here we focus on the finance aspects of a large loan.  [Wikipedia](https://en.wikipedia.org/wiki/Amortization_schedule) has a good explanation of an amortization schedule. The TL;DR version:, an amortization schedule is a table that shows the periodic principal and interest payments needed to pay off a debt. \n",
    "\n",
    "The most common case of this is the payoff schedule for a mortgage.\n",
    "\n",
    "As any homeowner knows, in each period (e.g., each month) you writes a check to your bank for a specified amount. This amount is split into a principal and interest payment. The bank keeps the interest and the principal is applied to the outstanding loan. Over a period of time the final balance will go to 0 and you will own the home.\n",
    "\n",
    "If the amount of interest paid on the mortgage is very high, it is possible that you will pay almost as much in interest as the original loan was worth. Because of the financial importance of this purchase, it is important to understand all the financial ramifications of a mortgage. In addition, there are many variables that can affect the mortgage payments:\n",
    "\n",
    "* Interest rate\n",
    "* Duration of the loan\n",
    "* Payment frequency (monthly vs bi-weekly, etc)\n",
    "* Additional principal payments\n",
    "\n",
    "By building anmortization tables, we can answer questions such as:\n",
    "\n",
    "* How much do I save in interest if I contribute a little more principal each payment period?\n",
    "* When will I pay off the loan?\n",
    "* What is the impact of various interest rates?"
   ]
  },
  {
   "cell_type": "markdown",
   "metadata": {},
   "source": [
    "The first step is to build an amortize function which effectively loops through each period and returns an OrderedDict which can be easily converted into a pandas dataframe."
   ]
  },
  {
   "cell_type": "code",
   "execution_count": 1,
   "metadata": {},
   "outputs": [],
   "source": [
    "\n",
    "import pandas as pd\n",
    "from datetime import date\n",
    "import numpy as np\n",
    "from collections import OrderedDict\n",
    "from dateutil.relativedelta import *\n",
    "import matplotlib.pyplot as plt\n",
    "from IPython.core.pylabtools import figsize"
   ]
  },
  {
   "cell_type": "markdown",
   "metadata": {},
   "source": [
    "Build a payment schedule using a generator that can be easily read into a pandas dataframe for additional analysis and plotting"
   ]
  },
  {
   "cell_type": "code",
   "execution_count": 2,
   "metadata": {},
   "outputs": [],
   "source": [
    "def amortize(principal, interest_rate, years, pmt, addl_principal, start_date, annual_payments):\n",
    "    \"\"\"\n",
    "    Calculate the amortization schedule given the loan details.\n",
    "\n",
    "    :param principal: Amount borrowed\n",
    "    :param interest_rate: The annual interest rate for this loan\n",
    "    :param years: Number of years for the loan\n",
    "    :param pmt: Payment amount per period\n",
    "    :param addl_principal: Additional payments to be made each period.\n",
    "    :param start_date: Start date for the loan.\n",
    "    :param annual_payments: Number of payments in a year.\n",
    "\n",
    "    :return: \n",
    "        schedule: Amortization schedule as an Ortdered Dictionary\n",
    "    \"\"\"\n",
    "\n",
    "    # initialize the variables to keep track of the periods and running balances\n",
    "    p = 1\n",
    "    beg_balance = principal\n",
    "    end_balance = principal\n",
    "    \n",
    "    while end_balance > 0:\n",
    "        \n",
    "        # Recalculate the interest based on the current balance\n",
    "        interest = round(((interest_rate/annual_payments) * beg_balance), 2)\n",
    "        \n",
    "        # Determine payment based on whether or not this period will pay off the loan\n",
    "        pmt = min(pmt, beg_balance + interest)\n",
    "        principal = pmt - interest\n",
    "        \n",
    "        # Ensure additional payment gets adjusted if the loan is being paid off\n",
    "        addl_principal = min(addl_principal, beg_balance - principal)\n",
    "        end_balance = beg_balance - (principal + addl_principal)\n",
    "\n",
    "        yield OrderedDict([('Month',start_date),\n",
    "                           ('Period', p),\n",
    "                           ('Begin Balance', beg_balance),\n",
    "                           ('Payment', pmt),\n",
    "                           ('Principal', principal),\n",
    "                           ('Interest', interest),\n",
    "                           ('Additional_Payment', addl_principal),\n",
    "                           ('End Balance', end_balance)])\n",
    "        \n",
    "        # Increment the counter, balance and date\n",
    "        p += 1\n",
    "        start_date += relativedelta(months=1)\n",
    "        beg_balance = end_balance"
   ]
  },
  {
   "cell_type": "markdown",
   "metadata": {},
   "source": [
    "Wrapper function to call amortize.\n",
    "\n",
    "This function primarily cleans up the table and provides summary stats so it is easy to compare various scenarios."
   ]
  },
  {
   "cell_type": "code",
   "execution_count": 4,
   "metadata": {},
   "outputs": [],
   "source": [
    "def amortization_table(principal, interest_rate, years,\n",
    "                       addl_principal=0, annual_payments=12, start_date=date.today()):\n",
    "    \"\"\"\n",
    "    Calculate the amortization schedule given the loan details as well as summary stats for the loan\n",
    "\n",
    "    :param principal: Amount borrowed\n",
    "    :param interest_rate: The annual interest rate for this loan\n",
    "    :param years: Number of years for the loan\n",
    "    \n",
    "    :param annual_payments (optional): Number of payments in a year. DEfault 12.\n",
    "    :param addl_principal (optional): Additional payments to be made each period. Default 0.\n",
    "    :param start_date (optional): Start date. Default first of next month if none provided\n",
    "\n",
    "    :return: \n",
    "        schedule: Amortization schedule as a pandas dataframe\n",
    "        summary: Pandas dataframe that summarizes the payoff information\n",
    "    \"\"\"\n",
    "    \n",
    "    # Payment stays constant based on the original terms of the loan\n",
    "    payment = -round(np.pmt(interest_rate/annual_payments, years*annual_payments, principal), 2)\n",
    "    \n",
    "    # Generate the schedule and order the resulting columns for convenience\n",
    "    schedule = pd.DataFrame(amortize(principal, interest_rate, years, payment,\n",
    "                                     addl_principal, start_date, annual_payments))\n",
    "    schedule = schedule[[\"Period\", \"Month\", \"Begin Balance\", \"Payment\", \"Interest\", \n",
    "                         \"Principal\", \"Additional_Payment\", \"End Balance\"]]\n",
    "    \n",
    "    # Convert to a datetime object to make subsequent calcs easier\n",
    "    schedule[\"Month\"] = pd.to_datetime(schedule[\"Month\"])\n",
    "    \n",
    "    #Create a summary statistics table\n",
    "    payoff_date = schedule[\"Month\"].iloc[-1]\n",
    "    stats = pd.Series([payoff_date, schedule[\"Period\"].count(), interest_rate,\n",
    "                       years, principal, payment, addl_principal,\n",
    "                       schedule[\"Interest\"].sum()],\n",
    "                       index=[\"Payoff Date\", \"Num Payments\", \"Interest Rate\", \"Years\", \"Principal\",\n",
    "                             \"Payment\", \"Additional Payment\", \"Total Interest\"])\n",
    "    \n",
    "    return schedule, stats"
   ]
  },
  {
   "cell_type": "markdown",
   "metadata": {},
   "source": [
    "Call the function"
   ]
  },
  {
   "cell_type": "code",
   "execution_count": 5,
   "metadata": {},
   "outputs": [],
   "source": [
    "df, stats = amortization_table(700000, .04, 30, addl_principal=200, start_date=date(2016, 1,1))"
   ]
  },
  {
   "cell_type": "code",
   "execution_count": 6,
   "metadata": {},
   "outputs": [
    {
     "data": {
      "text/html": [
       "<div>\n",
       "<style scoped>\n",
       "    .dataframe tbody tr th:only-of-type {\n",
       "        vertical-align: middle;\n",
       "    }\n",
       "\n",
       "    .dataframe tbody tr th {\n",
       "        vertical-align: top;\n",
       "    }\n",
       "\n",
       "    .dataframe thead th {\n",
       "        text-align: right;\n",
       "    }\n",
       "</style>\n",
       "<table border=\"1\" class=\"dataframe\">\n",
       "  <thead>\n",
       "    <tr style=\"text-align: right;\">\n",
       "      <th></th>\n",
       "      <th>Period</th>\n",
       "      <th>Month</th>\n",
       "      <th>Begin Balance</th>\n",
       "      <th>Payment</th>\n",
       "      <th>Interest</th>\n",
       "      <th>Principal</th>\n",
       "      <th>Additional_Payment</th>\n",
       "      <th>End Balance</th>\n",
       "    </tr>\n",
       "  </thead>\n",
       "  <tbody>\n",
       "    <tr>\n",
       "      <th>0</th>\n",
       "      <td>1</td>\n",
       "      <td>2016-01-01</td>\n",
       "      <td>700000.00</td>\n",
       "      <td>3341.91</td>\n",
       "      <td>2333.33</td>\n",
       "      <td>1008.58</td>\n",
       "      <td>200.0</td>\n",
       "      <td>698791.42</td>\n",
       "    </tr>\n",
       "    <tr>\n",
       "      <th>1</th>\n",
       "      <td>2</td>\n",
       "      <td>2016-02-01</td>\n",
       "      <td>698791.42</td>\n",
       "      <td>3341.91</td>\n",
       "      <td>2329.30</td>\n",
       "      <td>1012.61</td>\n",
       "      <td>200.0</td>\n",
       "      <td>697578.81</td>\n",
       "    </tr>\n",
       "    <tr>\n",
       "      <th>2</th>\n",
       "      <td>3</td>\n",
       "      <td>2016-03-01</td>\n",
       "      <td>697578.81</td>\n",
       "      <td>3341.91</td>\n",
       "      <td>2325.26</td>\n",
       "      <td>1016.65</td>\n",
       "      <td>200.0</td>\n",
       "      <td>696362.16</td>\n",
       "    </tr>\n",
       "    <tr>\n",
       "      <th>3</th>\n",
       "      <td>4</td>\n",
       "      <td>2016-04-01</td>\n",
       "      <td>696362.16</td>\n",
       "      <td>3341.91</td>\n",
       "      <td>2321.21</td>\n",
       "      <td>1020.70</td>\n",
       "      <td>200.0</td>\n",
       "      <td>695141.46</td>\n",
       "    </tr>\n",
       "    <tr>\n",
       "      <th>4</th>\n",
       "      <td>5</td>\n",
       "      <td>2016-05-01</td>\n",
       "      <td>695141.46</td>\n",
       "      <td>3341.91</td>\n",
       "      <td>2317.14</td>\n",
       "      <td>1024.77</td>\n",
       "      <td>200.0</td>\n",
       "      <td>693916.69</td>\n",
       "    </tr>\n",
       "  </tbody>\n",
       "</table>\n",
       "</div>"
      ],
      "text/plain": [
       "   Period      Month  Begin Balance  Payment  Interest  Principal  \\\n",
       "0       1 2016-01-01      700000.00  3341.91   2333.33    1008.58   \n",
       "1       2 2016-02-01      698791.42  3341.91   2329.30    1012.61   \n",
       "2       3 2016-03-01      697578.81  3341.91   2325.26    1016.65   \n",
       "3       4 2016-04-01      696362.16  3341.91   2321.21    1020.70   \n",
       "4       5 2016-05-01      695141.46  3341.91   2317.14    1024.77   \n",
       "\n",
       "   Additional_Payment  End Balance  \n",
       "0               200.0    698791.42  \n",
       "1               200.0    697578.81  \n",
       "2               200.0    696362.16  \n",
       "3               200.0    695141.46  \n",
       "4               200.0    693916.69  "
      ]
     },
     "execution_count": 6,
     "metadata": {},
     "output_type": "execute_result"
    }
   ],
   "source": [
    "df.head()"
   ]
  },
  {
   "cell_type": "code",
   "execution_count": 9,
   "metadata": {},
   "outputs": [
    {
     "data": {
      "text/html": [
       "<div>\n",
       "<style scoped>\n",
       "    .dataframe tbody tr th:only-of-type {\n",
       "        vertical-align: middle;\n",
       "    }\n",
       "\n",
       "    .dataframe tbody tr th {\n",
       "        vertical-align: top;\n",
       "    }\n",
       "\n",
       "    .dataframe thead th {\n",
       "        text-align: right;\n",
       "    }\n",
       "</style>\n",
       "<table border=\"1\" class=\"dataframe\">\n",
       "  <thead>\n",
       "    <tr style=\"text-align: right;\">\n",
       "      <th></th>\n",
       "      <th>Period</th>\n",
       "      <th>Month</th>\n",
       "      <th>Begin Balance</th>\n",
       "      <th>Payment</th>\n",
       "      <th>Interest</th>\n",
       "      <th>Principal</th>\n",
       "      <th>Additional_Payment</th>\n",
       "      <th>End Balance</th>\n",
       "    </tr>\n",
       "  </thead>\n",
       "  <tbody>\n",
       "    <tr>\n",
       "      <th>319</th>\n",
       "      <td>320</td>\n",
       "      <td>2042-08-01</td>\n",
       "      <td>14413.65</td>\n",
       "      <td>3341.91</td>\n",
       "      <td>48.05</td>\n",
       "      <td>3293.86</td>\n",
       "      <td>200.0</td>\n",
       "      <td>10919.79</td>\n",
       "    </tr>\n",
       "    <tr>\n",
       "      <th>320</th>\n",
       "      <td>321</td>\n",
       "      <td>2042-09-01</td>\n",
       "      <td>10919.79</td>\n",
       "      <td>3341.91</td>\n",
       "      <td>36.40</td>\n",
       "      <td>3305.51</td>\n",
       "      <td>200.0</td>\n",
       "      <td>7414.28</td>\n",
       "    </tr>\n",
       "    <tr>\n",
       "      <th>321</th>\n",
       "      <td>322</td>\n",
       "      <td>2042-10-01</td>\n",
       "      <td>7414.28</td>\n",
       "      <td>3341.91</td>\n",
       "      <td>24.71</td>\n",
       "      <td>3317.20</td>\n",
       "      <td>200.0</td>\n",
       "      <td>3897.08</td>\n",
       "    </tr>\n",
       "    <tr>\n",
       "      <th>322</th>\n",
       "      <td>323</td>\n",
       "      <td>2042-11-01</td>\n",
       "      <td>3897.08</td>\n",
       "      <td>3341.91</td>\n",
       "      <td>12.99</td>\n",
       "      <td>3328.92</td>\n",
       "      <td>200.0</td>\n",
       "      <td>368.16</td>\n",
       "    </tr>\n",
       "    <tr>\n",
       "      <th>323</th>\n",
       "      <td>324</td>\n",
       "      <td>2042-12-01</td>\n",
       "      <td>368.16</td>\n",
       "      <td>369.39</td>\n",
       "      <td>1.23</td>\n",
       "      <td>368.16</td>\n",
       "      <td>0.0</td>\n",
       "      <td>0.00</td>\n",
       "    </tr>\n",
       "  </tbody>\n",
       "</table>\n",
       "</div>"
      ],
      "text/plain": [
       "     Period      Month  Begin Balance  Payment  Interest  Principal  \\\n",
       "319     320 2042-08-01       14413.65  3341.91     48.05    3293.86   \n",
       "320     321 2042-09-01       10919.79  3341.91     36.40    3305.51   \n",
       "321     322 2042-10-01        7414.28  3341.91     24.71    3317.20   \n",
       "322     323 2042-11-01        3897.08  3341.91     12.99    3328.92   \n",
       "323     324 2042-12-01         368.16   369.39      1.23     368.16   \n",
       "\n",
       "     Additional_Payment  End Balance  \n",
       "319               200.0     10919.79  \n",
       "320               200.0      7414.28  \n",
       "321               200.0      3897.08  \n",
       "322               200.0       368.16  \n",
       "323                 0.0         0.00  "
      ]
     },
     "execution_count": 9,
     "metadata": {},
     "output_type": "execute_result"
    }
   ],
   "source": [
    "df.tail()"
   ]
  },
  {
   "cell_type": "code",
   "execution_count": 7,
   "metadata": {},
   "outputs": [
    {
     "data": {
      "text/plain": [
       "Payoff Date           2042-12-01 00:00:00\n",
       "Num Payments                          324\n",
       "Interest Rate                        0.04\n",
       "Years                                  30\n",
       "Principal                          700000\n",
       "Payment                           3341.91\n",
       "Additional Payment                    200\n",
       "Total Interest                     444406\n",
       "dtype: object"
      ]
     },
     "execution_count": 7,
     "metadata": {},
     "output_type": "execute_result"
    }
   ],
   "source": [
    "stats"
   ]
  },
  {
   "cell_type": "markdown",
   "metadata": {},
   "source": [
    "Make multiple calls (i.e., repeating process above)"
   ]
  },
  {
   "cell_type": "code",
   "execution_count": 10,
   "metadata": {},
   "outputs": [],
   "source": [
    "schedule1, stats1 = amortization_table(100000, .04, 30, addl_principal=50, start_date=date(2016,1,1))\n",
    "schedule2, stats2 = amortization_table(100000, .05, 30, addl_principal=200, start_date=date(2016,1,1))\n",
    "schedule3, stats3 = amortization_table(100000, .04, 15, addl_principal=0, start_date=date(2016,1,1))"
   ]
  },
  {
   "cell_type": "code",
   "execution_count": 11,
   "metadata": {},
   "outputs": [
    {
     "data": {
      "text/html": [
       "<div>\n",
       "<style scoped>\n",
       "    .dataframe tbody tr th:only-of-type {\n",
       "        vertical-align: middle;\n",
       "    }\n",
       "\n",
       "    .dataframe tbody tr th {\n",
       "        vertical-align: top;\n",
       "    }\n",
       "\n",
       "    .dataframe thead th {\n",
       "        text-align: right;\n",
       "    }\n",
       "</style>\n",
       "<table border=\"1\" class=\"dataframe\">\n",
       "  <thead>\n",
       "    <tr style=\"text-align: right;\">\n",
       "      <th></th>\n",
       "      <th>Payoff Date</th>\n",
       "      <th>Num Payments</th>\n",
       "      <th>Interest Rate</th>\n",
       "      <th>Years</th>\n",
       "      <th>Principal</th>\n",
       "      <th>Payment</th>\n",
       "      <th>Additional Payment</th>\n",
       "      <th>Total Interest</th>\n",
       "    </tr>\n",
       "  </thead>\n",
       "  <tbody>\n",
       "    <tr>\n",
       "      <th>0</th>\n",
       "      <td>2041-01-01</td>\n",
       "      <td>301</td>\n",
       "      <td>0.04</td>\n",
       "      <td>30</td>\n",
       "      <td>100000</td>\n",
       "      <td>477.42</td>\n",
       "      <td>50</td>\n",
       "      <td>58441.08</td>\n",
       "    </tr>\n",
       "    <tr>\n",
       "      <th>1</th>\n",
       "      <td>2032-09-01</td>\n",
       "      <td>201</td>\n",
       "      <td>0.05</td>\n",
       "      <td>30</td>\n",
       "      <td>100000</td>\n",
       "      <td>536.82</td>\n",
       "      <td>200</td>\n",
       "      <td>47708.38</td>\n",
       "    </tr>\n",
       "    <tr>\n",
       "      <th>2</th>\n",
       "      <td>2030-12-01</td>\n",
       "      <td>180</td>\n",
       "      <td>0.04</td>\n",
       "      <td>15</td>\n",
       "      <td>100000</td>\n",
       "      <td>739.69</td>\n",
       "      <td>0</td>\n",
       "      <td>33143.79</td>\n",
       "    </tr>\n",
       "  </tbody>\n",
       "</table>\n",
       "</div>"
      ],
      "text/plain": [
       "  Payoff Date  Num Payments  Interest Rate  Years  Principal  Payment  \\\n",
       "0  2041-01-01           301           0.04     30     100000   477.42   \n",
       "1  2032-09-01           201           0.05     30     100000   536.82   \n",
       "2  2030-12-01           180           0.04     15     100000   739.69   \n",
       "\n",
       "   Additional Payment  Total Interest  \n",
       "0                  50        58441.08  \n",
       "1                 200        47708.38  \n",
       "2                   0        33143.79  "
      ]
     },
     "execution_count": 11,
     "metadata": {},
     "output_type": "execute_result"
    }
   ],
   "source": [
    "pd.DataFrame([stats1, stats2, stats3])"
   ]
  },
  {
   "cell_type": "markdown",
   "metadata": {},
   "source": [
    "Plot it (visualizations)"
   ]
  },
  {
   "cell_type": "code",
   "execution_count": 16,
   "metadata": {},
   "outputs": [
    {
     "data": {
      "image/png": "[encoded data removed]",
      "text/plain": [
       "<Figure size 432x288 with 1 Axes>"
      ]
     },
     "metadata": {},
     "output_type": "display_data"
    }
   ],
   "source": [
    "\n",
    "%matplotlib inline\n",
    "plt.style.use('ggplot')\n",
    "\n",
    "\n",
    "fig, ax = plt.subplots(1, 1)\n",
    "schedule1.plot(x='Month', y='End Balance', label=\"Scenario 1\", ax=ax)\n",
    "schedule2.plot(x='Month', y='End Balance', label=\"Scenario 2\", ax=ax)\n",
    "schedule3.plot(x='Month', y='End Balance', label=\"Scenario 3\", ax=ax)\n",
    "plt.title(\"Pay Off Timelines\");"
   ]
  },
  {
   "cell_type": "code",
   "execution_count": 13,
   "metadata": {},
   "outputs": [],
   "source": [
    "\n",
    "def make_plot_data(schedule, stats):\n",
    "    \"\"\"Create a dataframe with annual interest totals, and a descriptive label\"\"\"\n",
    "    y = schedule.set_index('Month')['Interest'].resample(\"A\").sum().reset_index()\n",
    "    y[\"Year\"] = y[\"Month\"].dt.year\n",
    "    y.set_index('Year', inplace=True)\n",
    "    y.drop('Month', 1, inplace=True)\n",
    "    label=\"{} years at {}% with additional payment of ${}\".format(stats['Years'], stats['Interest Rate']*100, stats['Additional Payment'])\n",
    "    return y, label\n",
    "    "
   ]
  },
  {
   "cell_type": "code",
   "execution_count": 15,
   "metadata": {},
   "outputs": [
    {
     "data": {
      "image/png": "[encoded data removed]",
      "text/plain": [
       "<Figure size 504x360 with 1 Axes>"
      ]
     },
     "metadata": {},
     "output_type": "display_data"
    }
   ],
   "source": [
    "y1, label1 = make_plot_data(schedule1, stats1)\n",
    "y2, label2 = make_plot_data(schedule2, stats2)\n",
    "y3, label3 = make_plot_data(schedule3, stats3)\n",
    "\n",
    "y = pd.concat([y1, y2, y3], axis=1)\n",
    "\n",
    "figsize(7,5)\n",
    "fig, ax = plt.subplots(1, 1)\n",
    "y.plot(kind=\"bar\", ax=ax)\n",
    "\n",
    "plt.legend([label1, label2, label3], loc=1, prop={'size':10})\n",
    "plt.title(\"Interest Payments\");"
   ]
  },
  {
   "cell_type": "code",
   "execution_count": 17,
   "metadata": {},
   "outputs": [
    {
     "data": {
      "image/png": "[encoded data removed]",
      "text/plain": [
       "<Figure size 432x288 with 1 Axes>"
      ]
     },
     "metadata": {},
     "output_type": "display_data"
    }
   ],
   "source": [
    "additional_payments = [0, 50, 200, 500]\n",
    "fig, ax = plt.subplots(1, 1)\n",
    "\n",
    "for pmt in additional_payments:\n",
    "    result, _ = amortization_table(100000, .04, 30, addl_principal=pmt, start_date=date(2016,1,1))\n",
    "    ax.plot(result['Month'], result['End Balance'], label='Addl Payment = ${}'.format(str(pmt)))\n",
    "plt.title(\"Pay Off Timelines\")\n",
    "plt.ylabel(\"Balance\")\n",
    "ax.legend();"
   ]
  }
 ],
 "metadata": {
  "kernelspec": {
   "display_name": "Python 3",
   "language": "python",
   "name": "python3"
  },
  "language_info": {
   "codemirror_mode": {
    "name": "ipython",
    "version": 3
   },
   "file_extension": ".py",
   "mimetype": "text/x-python",
   "name": "python",
   "nbconvert_exporter": "python",
   "pygments_lexer": "ipython3",
   "version": "3.7.3"
  }
 },
 "nbformat": 4,
 "nbformat_minor": 2
}
