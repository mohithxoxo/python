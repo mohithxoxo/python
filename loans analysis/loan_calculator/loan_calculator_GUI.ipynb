{
 "cells": [
  {
   "cell_type": "markdown",
   "metadata": {},
   "source": [
    "# GUI instructions\n",
    "\n",
    "This notebook has the instructions for running the Python code (`loan_calculator_GUI.py`) which launches the GUI for calculating loans."
   ]
  },
  {
   "cell_type": "markdown",
   "metadata": {},
   "source": [
    "## Introduction\n",
    "\n",
    "We use Tkinter to build our calculator GUI.  Tkinter is a standard Python interface to the Tk GUI toolkit shipped with Python. Python with tkinter offers a fast and easy way to create a GUI applications.\n",
    "\n",
    "The associated python code, `loan_calculator_GUI.py`, does the following:\n",
    "\n",
    "1. Imports tkinter package for use\n",
    "2. Creates the main window (i.e., container)\n",
    "3. Adds widgets to the main window (calculation fields)\n",
    "4. Applies the event trigger to allow user to calculate loan payments\n",
    "\n",
    "The final product should look something like this\n",
    "![](../images/loan-calc.png \"Calculator GUI\")"
   ]
  },
  {
   "cell_type": "markdown",
   "metadata": {},
   "source": [
    "## Calculations\n",
    "\n",
    "Before you start calculating payments, you need to know what type of loan you’re using. Different loans require different calculations (or calculators). For example, with interest-only loans, you don’t pay down any debt in the early years—you only “service” the loan by paying interest. Other loans are amortizing loans, where you pay down the loan balance over a set period (such as a five-year auto loan).\n",
    "\n",
    "### Formulas for Amortizing Loan Payment\n",
    "This approach works for most amortizing loans, which covers many popular loans except credit cards and interest-only loans.\n",
    "\n",
    "\n",
    "$Loan Payment = Loan Amount / Discount Factor$ \n",
    "\n",
    "\n",
    "You need the following values:\n",
    "\n",
    "- Number of Periodic Payments ($n$) = (Payments per year) $x$ (number of years)\n",
    "- Periodic Interest Rate ($i$) = (Annual rate) $/$  (number of payment periods per year)\n",
    "- Discount Factor ($D$) = $\\frac{[(1 + i) ^n] - 1}{[i(1 + i)^n]}$\n",
    "- Loan amount ($A$)\n",
    "\n",
    "The above equation becomes:\n",
    "$P = A/D = A/\\frac{[(1 + i) ^n] - 1}{[i(1 + i)^n]}$\n",
    "\n",
    "\n",
    "#### Example: Loan Payment Calculation\n",
    "Assume you borrow $100,000 at 6% for 30 years, to be repaid monthly. What is the monthly payment?\n",
    "\n",
    "$n = 12*30 = 360$ (30 years times 12 monthly payments per year)\n",
    "\n",
    "$i = (6/100)/12 = .005$ (6% annually expressed as 0.06, divided by 12 monthly payments per year)\n",
    "\n",
    "$D = (([(1+.005)^360] - 1) / [0.005(1+.005)^360]) = 166.7916$\n",
    "\n",
    "$A = 100000$\n",
    "\n",
    "$P = A / D = 100,000 / 166.7916 = 599.55$\n",
    "\n",
    "The monthly payment is $599.55. Check your math with the Python GUI payment calculator.\n",
    "\n",
    "![alt text](../images/calculation.png \"Results\")"
   ]
  },
  {
   "cell_type": "markdown",
   "metadata": {},
   "source": [
    "## Launching the calculator\n",
    "\n",
    "1. Clone or Download the repo using the green button at the top right-hand side of the screen <br>\n",
    "<img src=\"../images/green_button.png\"><br>\n",
    "2. Open a terminal (command prompt) and change directory (`cd`) to where you saved the loan_calculator_GUI.py code downloaded from step 1.\n",
    "3. Each repository comes with a <span>&#42;</span>.yml.  An environment to run the GUI from can be created by executing the commands below in your terminal:\n",
    "\n",
    "<blockquote> \n",
    "    <p> \n",
    "        conda env create -f /path/to/environment.yml \n",
    "        <br>conda activate environment\n",
    "    </p> \n",
    "</blockquote>\n",
    "\n",
    "<br><font color=\"red\">Important: Be sure to replace the word *environment* in the commands above with the actual name of the .yml file you are using (e.g., pyfinance.yml)</font>\n",
    "\n",
    "\n",
    "4. In the terminal with the activated environment type `python loan_calculator_GUI.py`\n",
    "\n",
    "This should launch the GUI for you and you can run your calculations.  You can use the [example above](#Example:-Loan-Payment-Calculation) to make sure it is working right for you.  **Note** that Annual Interest Rate is entered as a percentage (%) not a decimal.\n"
   ]
  }
 ],
 "metadata": {
  "kernelspec": {
   "display_name": "Python 3",
   "language": "python",
   "name": "python3"
  },
  "language_info": {
   "codemirror_mode": {
    "name": "ipython",
    "version": 3
   },
   "file_extension": ".py",
   "mimetype": "text/x-python",
   "name": "python",
   "nbconvert_exporter": "python",
   "pygments_lexer": "ipython3",
   "version": "3.7.3"
  }
 },
 "nbformat": 4,
 "nbformat_minor": 2
}
