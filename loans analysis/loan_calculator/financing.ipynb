{
 "cells": [
  {
   "cell_type": "markdown",
   "metadata": {},
   "source": [
    "# Financing\n",
    "\n",
    "This notebook shows how to implement financing calculations.  I've defined the calculations as functions in the module finance.py.\n",
    "\n",
    "To use the functions you just need to know what your principal, interest rate, and fees are and the length of your loan. "
   ]
  },
  {
   "cell_type": "code",
   "execution_count": 1,
   "metadata": {},
   "outputs": [],
   "source": [
    "# Import Libraries\n",
    "\n",
    "%matplotlib inline\n",
    "import matplotlib.pyplot as plt\n",
    "import numpy as np\n",
    "import financing as fin"
   ]
  },
  {
   "cell_type": "markdown",
   "metadata": {},
   "source": [
    "# Introduction\n",
    "\n",
    "Your monthly payment, also called your Equated Monthly Installment (EMI) is a fixed payment amount made by a borrower to a lender at a specified date each calendar month.  A monthly payment can be calculated using an [EMI formula](./loan_calculator_GUI.ipynb). \n"
   ]
  },
  {
   "cell_type": "markdown",
   "metadata": {},
   "source": [
    "# How a Monthly Payment (Equated Monthly Installment) is Calculated\n",
    "\n",
    "## The cost of financing a new car\n",
    "\n",
    "### Scenario\n",
    "\n",
    "Say I buy want to buy a new car for **$31,115**. I am curious how much it will cost me each month if I decide on taking out a loan to buy this new vehicle. A car dealer offers me a fixed interest rate of **7.02%** on a **five-year** auto loan. How much would a monthly car payment be assuming the sales tax rate is **7.5%**?\n",
    "\n",
    "### Calculating a Monthly Payment (Simplified)"
   ]
  },
  {
   "cell_type": "code",
   "execution_count": 2,
   "metadata": {},
   "outputs": [],
   "source": [
    "# P = principal (loan amount)\n",
    "# rate = annual interest rate (as % so if rate is 5 percent then rate = 5)\n",
    "# years = # of years for the loan (e.g., ror 0-year loan, years = 30)\n",
    "\n",
    "P = 31115 * (1.075)  \n",
    "rate = 7.02\n",
    "years = 5"
   ]
  },
  {
   "cell_type": "code",
   "execution_count": 3,
   "metadata": {},
   "outputs": [
    {
     "data": {
      "text/plain": [
       "662.64"
      ]
     },
     "execution_count": 3,
     "metadata": {},
     "output_type": "execute_result"
    }
   ],
   "source": [
    "fin.emi_calc(P, rate, years)"
   ]
  },
  {
   "cell_type": "markdown",
   "metadata": {},
   "source": [
    "While the above is a simplified calculation, there is a more accurate calculation that considers fees.\n",
    "\n",
    "### Scenario\n",
    "\n",
    "Say I buy want to buy a car for **$31,115** from a car dealership which has a total sales tax rate of **9.75%**. \n",
    "\n",
    "The price was originally **$32,615** before the dealership reduced the price through a rebate. \n",
    "\n",
    "The state taxes the vehicle purchases before the rebate is applied to the price of a car. Other fees for this example are:\n",
    "- Emissions testing fee: **$50**\n",
    "\n",
    "- Registration Fee: **$200**\n",
    "\n",
    "- Plate Transfer Fee: **$65**\n",
    "\n",
    "- Documentation Fee: **$80**\n",
    "\n",
    "\n",
    "A car dealer offers me a fixed interest rate of **7.02%** on a **five-year** auto loan. How much would a monthly car payment be?\n",
    "\n",
    "### Calculating a Monthly Payment (with some fees included)"
   ]
  },
  {
   "cell_type": "code",
   "execution_count": 4,
   "metadata": {},
   "outputs": [],
   "source": [
    "P = 31115 \n",
    "sales_tax = (32615 * 0.0975)\n",
    "emissions_fee = 50\n",
    "reg_fee = 200\n",
    "plate_fee = 65\n",
    "addl_fee = 80\n",
    "fees = [sales_tax, emissions_fee, reg_fee, plate_fee, addl_fee]\n",
    "rate = 7.02\n",
    "years = 5"
   ]
  },
  {
   "cell_type": "code",
   "execution_count": 5,
   "metadata": {},
   "outputs": [
    {
     "data": {
      "text/plain": [
       "687.23"
      ]
     },
     "execution_count": 5,
     "metadata": {},
     "output_type": "execute_result"
    }
   ],
   "source": [
    "fin.emi_with_fees(P, rate, years, fees)"
   ]
  },
  {
   "cell_type": "markdown",
   "metadata": {},
   "source": [
    "# How much in interest you will pay over the course of your loan\n",
    "\n",
    "This is a little complicated as the percent of a monthly payment that go towards paying off the principal of a loan increases over time. The graph we generate below shows that with every subsequent monthly payment, the principal paid keeps on rising while the interest paid keeps on lowering.\n",
    "\n",
    "Using the same values for principal, rate, and years as above:"
   ]
  },
  {
   "cell_type": "code",
   "execution_count": 6,
   "metadata": {},
   "outputs": [],
   "source": [
    "payment_table = fin.make_payment_table(P, rate, years, fees)"
   ]
  },
  {
   "cell_type": "code",
   "execution_count": 7,
   "metadata": {},
   "outputs": [
    {
     "data": {
      "text/html": [
       "<div>\n",
       "<style scoped>\n",
       "    .dataframe tbody tr th:only-of-type {\n",
       "        vertical-align: middle;\n",
       "    }\n",
       "\n",
       "    .dataframe tbody tr th {\n",
       "        vertical-align: top;\n",
       "    }\n",
       "\n",
       "    .dataframe thead th {\n",
       "        text-align: right;\n",
       "    }\n",
       "</style>\n",
       "<table border=\"1\" class=\"dataframe\">\n",
       "  <thead>\n",
       "    <tr style=\"text-align: right;\">\n",
       "      <th></th>\n",
       "      <th>Month</th>\n",
       "      <th>Starting Balance</th>\n",
       "      <th>Repayment</th>\n",
       "      <th>Interest Paid</th>\n",
       "      <th>Principal Paid</th>\n",
       "      <th>New Balance</th>\n",
       "    </tr>\n",
       "  </thead>\n",
       "  <tbody>\n",
       "    <tr>\n",
       "      <th>0</th>\n",
       "      <td>1</td>\n",
       "      <td>34689.9625</td>\n",
       "      <td>687.23</td>\n",
       "      <td>202.93</td>\n",
       "      <td>484.30</td>\n",
       "      <td>34205.66</td>\n",
       "    </tr>\n",
       "    <tr>\n",
       "      <th>1</th>\n",
       "      <td>2</td>\n",
       "      <td>34205.6600</td>\n",
       "      <td>687.23</td>\n",
       "      <td>200.10</td>\n",
       "      <td>487.13</td>\n",
       "      <td>33718.53</td>\n",
       "    </tr>\n",
       "    <tr>\n",
       "      <th>2</th>\n",
       "      <td>3</td>\n",
       "      <td>33718.5300</td>\n",
       "      <td>687.23</td>\n",
       "      <td>197.25</td>\n",
       "      <td>489.98</td>\n",
       "      <td>33228.55</td>\n",
       "    </tr>\n",
       "    <tr>\n",
       "      <th>3</th>\n",
       "      <td>4</td>\n",
       "      <td>33228.5500</td>\n",
       "      <td>687.23</td>\n",
       "      <td>194.38</td>\n",
       "      <td>492.85</td>\n",
       "      <td>32735.70</td>\n",
       "    </tr>\n",
       "    <tr>\n",
       "      <th>4</th>\n",
       "      <td>5</td>\n",
       "      <td>32735.7000</td>\n",
       "      <td>687.23</td>\n",
       "      <td>191.50</td>\n",
       "      <td>495.73</td>\n",
       "      <td>32239.97</td>\n",
       "    </tr>\n",
       "  </tbody>\n",
       "</table>\n",
       "</div>"
      ],
      "text/plain": [
       "   Month  Starting Balance  Repayment  Interest Paid  Principal Paid  \\\n",
       "0      1        34689.9625     687.23         202.93          484.30   \n",
       "1      2        34205.6600     687.23         200.10          487.13   \n",
       "2      3        33718.5300     687.23         197.25          489.98   \n",
       "3      4        33228.5500     687.23         194.38          492.85   \n",
       "4      5        32735.7000     687.23         191.50          495.73   \n",
       "\n",
       "   New Balance  \n",
       "0     34205.66  \n",
       "1     33718.53  \n",
       "2     33228.55  \n",
       "3     32735.70  \n",
       "4     32239.97  "
      ]
     },
     "execution_count": 7,
     "metadata": {},
     "output_type": "execute_result"
    }
   ],
   "source": [
    "payment_table.head()"
   ]
  },
  {
   "cell_type": "code",
   "execution_count": 8,
   "metadata": {},
   "outputs": [
    {
     "data": {
      "text/html": [
       "<div>\n",
       "<style scoped>\n",
       "    .dataframe tbody tr th:only-of-type {\n",
       "        vertical-align: middle;\n",
       "    }\n",
       "\n",
       "    .dataframe tbody tr th {\n",
       "        vertical-align: top;\n",
       "    }\n",
       "\n",
       "    .dataframe thead th {\n",
       "        text-align: right;\n",
       "    }\n",
       "</style>\n",
       "<table border=\"1\" class=\"dataframe\">\n",
       "  <thead>\n",
       "    <tr style=\"text-align: right;\">\n",
       "      <th></th>\n",
       "      <th>Month</th>\n",
       "      <th>Starting Balance</th>\n",
       "      <th>Repayment</th>\n",
       "      <th>Interest Paid</th>\n",
       "      <th>Principal Paid</th>\n",
       "      <th>New Balance</th>\n",
       "    </tr>\n",
       "  </thead>\n",
       "  <tbody>\n",
       "    <tr>\n",
       "      <th>55</th>\n",
       "      <td>56</td>\n",
       "      <td>3376.37</td>\n",
       "      <td>687.23</td>\n",
       "      <td>19.75</td>\n",
       "      <td>667.48</td>\n",
       "      <td>2708.89</td>\n",
       "    </tr>\n",
       "    <tr>\n",
       "      <th>56</th>\n",
       "      <td>57</td>\n",
       "      <td>2708.89</td>\n",
       "      <td>687.23</td>\n",
       "      <td>15.84</td>\n",
       "      <td>671.39</td>\n",
       "      <td>2037.50</td>\n",
       "    </tr>\n",
       "    <tr>\n",
       "      <th>57</th>\n",
       "      <td>58</td>\n",
       "      <td>2037.50</td>\n",
       "      <td>687.23</td>\n",
       "      <td>11.91</td>\n",
       "      <td>675.32</td>\n",
       "      <td>1362.18</td>\n",
       "    </tr>\n",
       "    <tr>\n",
       "      <th>58</th>\n",
       "      <td>59</td>\n",
       "      <td>1362.18</td>\n",
       "      <td>687.23</td>\n",
       "      <td>7.96</td>\n",
       "      <td>679.27</td>\n",
       "      <td>682.91</td>\n",
       "    </tr>\n",
       "    <tr>\n",
       "      <th>59</th>\n",
       "      <td>60</td>\n",
       "      <td>682.91</td>\n",
       "      <td>687.23</td>\n",
       "      <td>3.99</td>\n",
       "      <td>683.24</td>\n",
       "      <td>-0.33</td>\n",
       "    </tr>\n",
       "  </tbody>\n",
       "</table>\n",
       "</div>"
      ],
      "text/plain": [
       "    Month  Starting Balance  Repayment  Interest Paid  Principal Paid  \\\n",
       "55     56           3376.37     687.23          19.75          667.48   \n",
       "56     57           2708.89     687.23          15.84          671.39   \n",
       "57     58           2037.50     687.23          11.91          675.32   \n",
       "58     59           1362.18     687.23           7.96          679.27   \n",
       "59     60            682.91     687.23           3.99          683.24   \n",
       "\n",
       "    New Balance  \n",
       "55      2708.89  \n",
       "56      2037.50  \n",
       "57      1362.18  \n",
       "58       682.91  \n",
       "59        -0.33  "
      ]
     },
     "execution_count": 8,
     "metadata": {},
     "output_type": "execute_result"
    }
   ],
   "source": [
    "payment_table.tail()"
   ]
  },
  {
   "cell_type": "code",
   "execution_count": 9,
   "metadata": {},
   "outputs": [
    {
     "data": {
      "text/plain": [
       "6543.51"
      ]
     },
     "execution_count": 9,
     "metadata": {},
     "output_type": "execute_result"
    }
   ],
   "source": [
    "np.round(payment_table['Interest Paid'].sum(),2)"
   ]
  },
  {
   "cell_type": "code",
   "execution_count": 10,
   "metadata": {},
   "outputs": [
    {
     "data": {
      "image/png": "[encoded data removed]",
      "text/plain": [
       "<Figure size 720x360 with 1 Axes>"
      ]
     },
     "metadata": {
      "needs_background": "light"
     },
     "output_type": "display_data"
    }
   ],
   "source": [
    "fin.nb_print_int_princpl(payment_table);"
   ]
  },
  {
   "cell_type": "markdown",
   "metadata": {},
   "source": [
    "We can also look at how much you would save if you repaid additional money each month (beyond the required \\$687.23)."
   ]
  },
  {
   "cell_type": "code",
   "execution_count": 11,
   "metadata": {},
   "outputs": [],
   "source": [
    "add_pay = 300\n",
    "\n",
    "payment_table = fin.make_payment_table(Po=P, air=rate, years=years, fees=fees, add_emi=add_pay)"
   ]
  },
  {
   "cell_type": "code",
   "execution_count": 12,
   "metadata": {},
   "outputs": [
    {
     "data": {
      "text/html": [
       "<div>\n",
       "<style scoped>\n",
       "    .dataframe tbody tr th:only-of-type {\n",
       "        vertical-align: middle;\n",
       "    }\n",
       "\n",
       "    .dataframe tbody tr th {\n",
       "        vertical-align: top;\n",
       "    }\n",
       "\n",
       "    .dataframe thead th {\n",
       "        text-align: right;\n",
       "    }\n",
       "</style>\n",
       "<table border=\"1\" class=\"dataframe\">\n",
       "  <thead>\n",
       "    <tr style=\"text-align: right;\">\n",
       "      <th></th>\n",
       "      <th>Month</th>\n",
       "      <th>Starting Balance</th>\n",
       "      <th>Repayment</th>\n",
       "      <th>Interest Paid</th>\n",
       "      <th>Principal Paid</th>\n",
       "      <th>New Balance</th>\n",
       "    </tr>\n",
       "  </thead>\n",
       "  <tbody>\n",
       "    <tr>\n",
       "      <th>0</th>\n",
       "      <td>1</td>\n",
       "      <td>34689.9625</td>\n",
       "      <td>987.23</td>\n",
       "      <td>202.93</td>\n",
       "      <td>784.30</td>\n",
       "      <td>33905.66</td>\n",
       "    </tr>\n",
       "    <tr>\n",
       "      <th>1</th>\n",
       "      <td>2</td>\n",
       "      <td>33905.6600</td>\n",
       "      <td>987.23</td>\n",
       "      <td>198.34</td>\n",
       "      <td>788.89</td>\n",
       "      <td>33116.77</td>\n",
       "    </tr>\n",
       "    <tr>\n",
       "      <th>2</th>\n",
       "      <td>3</td>\n",
       "      <td>33116.7700</td>\n",
       "      <td>987.23</td>\n",
       "      <td>193.73</td>\n",
       "      <td>793.50</td>\n",
       "      <td>32323.27</td>\n",
       "    </tr>\n",
       "    <tr>\n",
       "      <th>3</th>\n",
       "      <td>4</td>\n",
       "      <td>32323.2700</td>\n",
       "      <td>987.23</td>\n",
       "      <td>189.09</td>\n",
       "      <td>798.14</td>\n",
       "      <td>31525.13</td>\n",
       "    </tr>\n",
       "    <tr>\n",
       "      <th>4</th>\n",
       "      <td>5</td>\n",
       "      <td>31525.1300</td>\n",
       "      <td>987.23</td>\n",
       "      <td>184.42</td>\n",
       "      <td>802.81</td>\n",
       "      <td>30722.32</td>\n",
       "    </tr>\n",
       "  </tbody>\n",
       "</table>\n",
       "</div>"
      ],
      "text/plain": [
       "   Month  Starting Balance  Repayment  Interest Paid  Principal Paid  \\\n",
       "0      1        34689.9625     987.23         202.93          784.30   \n",
       "1      2        33905.6600     987.23         198.34          788.89   \n",
       "2      3        33116.7700     987.23         193.73          793.50   \n",
       "3      4        32323.2700     987.23         189.09          798.14   \n",
       "4      5        31525.1300     987.23         184.42          802.81   \n",
       "\n",
       "   New Balance  \n",
       "0     33905.66  \n",
       "1     33116.77  \n",
       "2     32323.27  \n",
       "3     31525.13  \n",
       "4     30722.32  "
      ]
     },
     "execution_count": 12,
     "metadata": {},
     "output_type": "execute_result"
    }
   ],
   "source": [
    "payment_table.head()"
   ]
  },
  {
   "cell_type": "code",
   "execution_count": 13,
   "metadata": {},
   "outputs": [
    {
     "data": {
      "text/html": [
       "<div>\n",
       "<style scoped>\n",
       "    .dataframe tbody tr th:only-of-type {\n",
       "        vertical-align: middle;\n",
       "    }\n",
       "\n",
       "    .dataframe tbody tr th {\n",
       "        vertical-align: top;\n",
       "    }\n",
       "\n",
       "    .dataframe thead th {\n",
       "        text-align: right;\n",
       "    }\n",
       "</style>\n",
       "<table border=\"1\" class=\"dataframe\">\n",
       "  <thead>\n",
       "    <tr style=\"text-align: right;\">\n",
       "      <th></th>\n",
       "      <th>Month</th>\n",
       "      <th>Starting Balance</th>\n",
       "      <th>Repayment</th>\n",
       "      <th>Interest Paid</th>\n",
       "      <th>Principal Paid</th>\n",
       "      <th>New Balance</th>\n",
       "    </tr>\n",
       "  </thead>\n",
       "  <tbody>\n",
       "    <tr>\n",
       "      <th>35</th>\n",
       "      <td>36</td>\n",
       "      <td>4325.37</td>\n",
       "      <td>987.23</td>\n",
       "      <td>25.30</td>\n",
       "      <td>961.93</td>\n",
       "      <td>3363.44</td>\n",
       "    </tr>\n",
       "    <tr>\n",
       "      <th>36</th>\n",
       "      <td>37</td>\n",
       "      <td>3363.44</td>\n",
       "      <td>987.23</td>\n",
       "      <td>19.67</td>\n",
       "      <td>967.56</td>\n",
       "      <td>2395.88</td>\n",
       "    </tr>\n",
       "    <tr>\n",
       "      <th>37</th>\n",
       "      <td>38</td>\n",
       "      <td>2395.88</td>\n",
       "      <td>987.23</td>\n",
       "      <td>14.01</td>\n",
       "      <td>973.22</td>\n",
       "      <td>1422.66</td>\n",
       "    </tr>\n",
       "    <tr>\n",
       "      <th>38</th>\n",
       "      <td>39</td>\n",
       "      <td>1422.66</td>\n",
       "      <td>987.23</td>\n",
       "      <td>8.32</td>\n",
       "      <td>978.91</td>\n",
       "      <td>443.75</td>\n",
       "    </tr>\n",
       "    <tr>\n",
       "      <th>39</th>\n",
       "      <td>40</td>\n",
       "      <td>443.75</td>\n",
       "      <td>987.23</td>\n",
       "      <td>2.59</td>\n",
       "      <td>984.64</td>\n",
       "      <td>-540.89</td>\n",
       "    </tr>\n",
       "  </tbody>\n",
       "</table>\n",
       "</div>"
      ],
      "text/plain": [
       "    Month  Starting Balance  Repayment  Interest Paid  Principal Paid  \\\n",
       "35     36           4325.37     987.23          25.30          961.93   \n",
       "36     37           3363.44     987.23          19.67          967.56   \n",
       "37     38           2395.88     987.23          14.01          973.22   \n",
       "38     39           1422.66     987.23           8.32          978.91   \n",
       "39     40            443.75     987.23           2.59          984.64   \n",
       "\n",
       "    New Balance  \n",
       "35      3363.44  \n",
       "36      2395.88  \n",
       "37      1422.66  \n",
       "38       443.75  \n",
       "39      -540.89  "
      ]
     },
     "execution_count": 13,
     "metadata": {},
     "output_type": "execute_result"
    }
   ],
   "source": [
    "payment_table.tail()"
   ]
  },
  {
   "cell_type": "code",
   "execution_count": 14,
   "metadata": {},
   "outputs": [
    {
     "data": {
      "image/png": "[encoded data removed]",
      "text/plain": [
       "<Figure size 720x360 with 1 Axes>"
      ]
     },
     "metadata": {
      "needs_background": "light"
     },
     "output_type": "display_data"
    }
   ],
   "source": [
    "fin.nb_print_int_princpl(payment_table,1000);"
   ]
  },
  {
   "cell_type": "code",
   "execution_count": 15,
   "metadata": {},
   "outputs": [
    {
     "data": {
      "text/plain": [
       "4258.35"
      ]
     },
     "execution_count": 15,
     "metadata": {},
     "output_type": "execute_result"
    }
   ],
   "source": [
    "np.round(payment_table['Interest Paid'].sum(),2)"
   ]
  },
  {
   "cell_type": "code",
   "execution_count": 16,
   "metadata": {},
   "outputs": [
    {
     "data": {
      "text/plain": [
       "2285.16"
      ]
     },
     "execution_count": 16,
     "metadata": {},
     "output_type": "execute_result"
    }
   ],
   "source": [
    "6543.51 - 4258.35"
   ]
  },
  {
   "cell_type": "code",
   "execution_count": 17,
   "metadata": {},
   "outputs": [
    {
     "data": {
      "text/plain": [
       "1.67"
      ]
     },
     "execution_count": 17,
     "metadata": {},
     "output_type": "execute_result"
    }
   ],
   "source": [
    "np.round((60-40)/12,2)"
   ]
  },
  {
   "cell_type": "markdown",
   "metadata": {},
   "source": [
    "You would save **\\$2285.16** by repaying an extra \\$300 each month and own the car ~1.7 years sooner (3.3 years vs. 5 years).\n",
    "\n",
    "Making extra payments early in the loan saves you money over the life of the loan. The earlier you begin paying extra the more money you'll save.\n",
    "\n",
    "You can compare calculations using an online [calculator](https://www.calcxml.com/calculators/extra-payment-calculator)."
   ]
  },
  {
   "cell_type": "markdown",
   "metadata": {},
   "source": [
    "# How much will refinancing to a lower interest rate save you\n",
    "\n",
    "This example looks at how much less a person could pay in interest (Total Interest Paid) over the course of a loan with a lower interest rate.\n",
    "\n",
    "### Scenario\n",
    "\n",
    "We refinance to a **3.59%** interest rate vs a **7.02%** interest rate.  Everything else stays the same."
   ]
  },
  {
   "cell_type": "code",
   "execution_count": 18,
   "metadata": {},
   "outputs": [],
   "source": [
    "rate = 3.59"
   ]
  },
  {
   "cell_type": "code",
   "execution_count": 19,
   "metadata": {},
   "outputs": [
    {
     "data": {
      "text/plain": [
       "632.47"
      ]
     },
     "execution_count": 19,
     "metadata": {},
     "output_type": "execute_result"
    }
   ],
   "source": [
    "fin.emi_with_fees(P, rate, years, fees)"
   ]
  },
  {
   "cell_type": "code",
   "execution_count": 20,
   "metadata": {},
   "outputs": [],
   "source": [
    "payment_table = fin.make_payment_table(P, rate, years, fees)"
   ]
  },
  {
   "cell_type": "code",
   "execution_count": 21,
   "metadata": {},
   "outputs": [
    {
     "data": {
      "text/plain": [
       "3257.88"
      ]
     },
     "execution_count": 21,
     "metadata": {},
     "output_type": "execute_result"
    }
   ],
   "source": [
    "np.round(payment_table['Interest Paid'].sum(),2)"
   ]
  },
  {
   "cell_type": "code",
   "execution_count": 22,
   "metadata": {},
   "outputs": [
    {
     "data": {
      "text/plain": [
       "54.76"
      ]
     },
     "execution_count": 22,
     "metadata": {},
     "output_type": "execute_result"
    }
   ],
   "source": [
    "np.round(687.23 - 632.47,2)"
   ]
  },
  {
   "cell_type": "code",
   "execution_count": 23,
   "metadata": {},
   "outputs": [
    {
     "data": {
      "text/plain": [
       "3285.63"
      ]
     },
     "execution_count": 23,
     "metadata": {},
     "output_type": "execute_result"
    }
   ],
   "source": [
    "6543.51 - 3257.88"
   ]
  },
  {
   "cell_type": "markdown",
   "metadata": {},
   "source": [
    "By using the same calculation method as the previous section, the lower interest rate would save **\\$3285.63**\n",
    "(`6543.51 — 3257.88`) in total interest paid. Also, the monthly payment would be **\\$54.76** less (`687.23 — 632.47`) with the lower interest rate."
   ]
  }
 ],
 "metadata": {
  "kernelspec": {
   "display_name": "Python 3",
   "language": "python",
   "name": "python3"
  },
  "language_info": {
   "codemirror_mode": {
    "name": "ipython",
    "version": 3
   },
   "file_extension": ".py",
   "mimetype": "text/x-python",
   "name": "python",
   "nbconvert_exporter": "python",
   "pygments_lexer": "ipython3",
   "version": "3.7.3"
  }
 },
 "nbformat": 4,
 "nbformat_minor": 2
}
