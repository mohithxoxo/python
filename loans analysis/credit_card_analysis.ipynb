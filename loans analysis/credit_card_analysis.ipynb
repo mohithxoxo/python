{
 "cells": [
  {
   "cell_type": "markdown",
   "metadata": {},
   "source": [
    "# Default of Credit Card Clients \n",
    "\n",
    "### <font color=\"SpringGreen\">Predicting the probability of credit card default</font>"
   ]
  },
  {
   "cell_type": "markdown",
   "metadata": {},
   "source": [
    "# Dataset Information\n",
    "This dataset contains information on default payments, demographic factors, credit data, history of payment, and bill statements of credit card clients in Taiwan from April 2005 to September 2005.\n",
    "\n",
    "### Content\n",
    "There are 25 variables:\n",
    "<ul>\n",
    "<li>ID: ID of each client</li>\n",
    "<li>LIMIT_BAL: Amount of given credit in NT dollars (includes individual and family/supplementary credit</li>\n",
    "<li>SEX: Gender (1=male, 2=female)</li>\n",
    "<li>EDUCATION: (1=graduate school, 2=university, 3=high school, 4=others, 5=unknown, 6=unknown)</li>\n",
    "<li>MARRIAGE: Marital status (1=married, 2=single, 3=others)</li>\n",
    "<li>AGE: Age in years</li>\n",
    "<li>PAY_0: Repayment status in September, 2005 </li>\n",
    "    &nbsp;&nbsp;&nbsp;&nbsp; (-1=pay duly, 1=payment delay for one month, 2=payment delay for two months, ...<br> &nbsp;&nbsp;&nbsp;&nbsp; 8=payment delay for eight months, 9=payment delay for nine months and above)\n",
    "<li>PAY_2: Repayment status in August, 2005 (scale same as above)</li>\n",
    "<li>PAY_3: Repayment status in July, 2005 (scale same as above)</li>\n",
    "<li>PAY_4: Repayment status in June, 2005 (scale same as above)</li>\n",
    "<li>PAY_5: Repayment status in May, 2005 (scale same as above)</li>\n",
    "<li>PAY_6: Repayment status in April, 2005 (scale same as above)</li>\n",
    "<li>BILL_AMT1: Amount of bill statement in September, 2005 (NT dollar)</li>\n",
    "<li>BILL_AMT2: Amount of bill statement in August, 2005 (NT dollar)</li>\n",
    "<li>BILL_AMT3: Amount of bill statement in July, 2005 (NT dollar)</li>\n",
    "<li>BILL_AMT4: Amount of bill statement in June, 2005 (NT dollar)</li>\n",
    "<li>BILL_AMT5: Amount of bill statement in May, 2005 (NT dollar)</li>\n",
    "<li>BILL_AMT6: Amount of bill statement in April, 2005 (NT dollar)</li>\n",
    "<li>PAY_AMT1: Amount of previous payment in September, 2005 (NT dollar)</li>\n",
    "<li>PAY_AMT2: Amount of previous payment in August, 2005 (NT dollar)</li>\n",
    "<li>PAY_AMT3: Amount of previous payment in July, 2005 (NT dollar)</li>\n",
    "<li>PAY_AMT4: Amount of previous payment in June, 2005 (NT dollar)</li>\n",
    "<li>PAY_AMT5: Amount of previous payment in May, 2005 (NT dollar)</li>\n",
    "<li>PAY_AMT6: Amount of previous payment in April, 2005 (NT dollar)</li>\n",
    "<li>default: Whether client defaults on payment (1=yes, 0=no)</li>\n",
    "</ul>\n",
    "    \n",
    "### Source\n",
    "The original dataset can be found [here](https://archive.ics.uci.edu/ml/datasets/default+of+credit+card+clients) at the UCI Machine Learning Repository.\n",
    "\n",
    "### Relevant Reference\n",
    "Yeh, I. C., & Lien, C. H. (2009). The comparisons of data mining techniques for the predictive accuracy of probability of default of credit card clients. Expert Systems with Applications, 36(2), 2473-2480."
   ]
  },
  {
   "cell_type": "markdown",
   "metadata": {},
   "source": [
    "This notebook employs a binary variable, default payment, as the response variable. The goal is to understand the data and try to predict if a client will default (Yes = 1, No = 0) based on the other atttributes (explanatory variables like age, education, etc.) in the dataset."
   ]
  },
  {
   "cell_type": "markdown",
   "metadata": {},
   "source": [
    "## Imports\n",
    "We are using a typical data science stack: `numpy`, `pandas`, `sklearn`, `matplotlib`."
   ]
  },
  {
   "cell_type": "code",
   "execution_count": 401,
   "metadata": {},
   "outputs": [],
   "source": [
    "# numpy and pandas for data manipulation\n",
    "import numpy as np\n",
    "import pandas as pd \n",
    "\n",
    "# sklearn preprocessing for dealing with categorical variables\n",
    "from sklearn.preprocessing import LabelEncoder\n",
    "\n",
    "# File system manangement\n",
    "import os\n",
    "\n",
    "# Suppress warnings \n",
    "import warnings\n",
    "warnings.filterwarnings('ignore')\n",
    "\n",
    "# matplotlib and seaborn for plotting\n",
    "import matplotlib.pyplot as plt\n",
    "import seaborn as sns\n",
    "\n",
    "import researchpy as rp\n",
    "import scipy.stats as stats\n",
    "import statsmodels.api as sm\n",
    "from statsmodels.formula.api import ols"
   ]
  },
  {
   "cell_type": "markdown",
   "metadata": {},
   "source": [
    "# Read in Data\n",
    "First, we can list all the available data files. "
   ]
  },
  {
   "cell_type": "code",
   "execution_count": 402,
   "metadata": {},
   "outputs": [
    {
     "name": "stdout",
     "output_type": "stream",
     "text": [
      "Training data shape:  (30000, 25)\n"
     ]
    },
    {
     "data": {
      "text/html": [
       "<div>\n",
       "<style scoped>\n",
       "    .dataframe tbody tr th:only-of-type {\n",
       "        vertical-align: middle;\n",
       "    }\n",
       "\n",
       "    .dataframe tbody tr th {\n",
       "        vertical-align: top;\n",
       "    }\n",
       "\n",
       "    .dataframe thead th {\n",
       "        text-align: right;\n",
       "    }\n",
       "</style>\n",
       "<table border=\"1\" class=\"dataframe\">\n",
       "  <thead>\n",
       "    <tr style=\"text-align: right;\">\n",
       "      <th></th>\n",
       "      <th>ID</th>\n",
       "      <th>LIMIT_BAL</th>\n",
       "      <th>SEX</th>\n",
       "      <th>EDUCATION</th>\n",
       "      <th>MARRIAGE</th>\n",
       "      <th>AGE</th>\n",
       "      <th>PAY_0</th>\n",
       "      <th>PAY_2</th>\n",
       "      <th>PAY_3</th>\n",
       "      <th>PAY_4</th>\n",
       "      <th>...</th>\n",
       "      <th>BILL_AMT4</th>\n",
       "      <th>BILL_AMT5</th>\n",
       "      <th>BILL_AMT6</th>\n",
       "      <th>PAY_AMT1</th>\n",
       "      <th>PAY_AMT2</th>\n",
       "      <th>PAY_AMT3</th>\n",
       "      <th>PAY_AMT4</th>\n",
       "      <th>PAY_AMT5</th>\n",
       "      <th>PAY_AMT6</th>\n",
       "      <th>default</th>\n",
       "    </tr>\n",
       "  </thead>\n",
       "  <tbody>\n",
       "    <tr>\n",
       "      <th>0</th>\n",
       "      <td>1</td>\n",
       "      <td>20000</td>\n",
       "      <td>2</td>\n",
       "      <td>2</td>\n",
       "      <td>1</td>\n",
       "      <td>24</td>\n",
       "      <td>2</td>\n",
       "      <td>2</td>\n",
       "      <td>-1</td>\n",
       "      <td>-1</td>\n",
       "      <td>...</td>\n",
       "      <td>0</td>\n",
       "      <td>0</td>\n",
       "      <td>0</td>\n",
       "      <td>0</td>\n",
       "      <td>689</td>\n",
       "      <td>0</td>\n",
       "      <td>0</td>\n",
       "      <td>0</td>\n",
       "      <td>0</td>\n",
       "      <td>1</td>\n",
       "    </tr>\n",
       "    <tr>\n",
       "      <th>1</th>\n",
       "      <td>2</td>\n",
       "      <td>120000</td>\n",
       "      <td>2</td>\n",
       "      <td>2</td>\n",
       "      <td>2</td>\n",
       "      <td>26</td>\n",
       "      <td>-1</td>\n",
       "      <td>2</td>\n",
       "      <td>0</td>\n",
       "      <td>0</td>\n",
       "      <td>...</td>\n",
       "      <td>3272</td>\n",
       "      <td>3455</td>\n",
       "      <td>3261</td>\n",
       "      <td>0</td>\n",
       "      <td>1000</td>\n",
       "      <td>1000</td>\n",
       "      <td>1000</td>\n",
       "      <td>0</td>\n",
       "      <td>2000</td>\n",
       "      <td>1</td>\n",
       "    </tr>\n",
       "    <tr>\n",
       "      <th>2</th>\n",
       "      <td>3</td>\n",
       "      <td>90000</td>\n",
       "      <td>2</td>\n",
       "      <td>2</td>\n",
       "      <td>2</td>\n",
       "      <td>34</td>\n",
       "      <td>0</td>\n",
       "      <td>0</td>\n",
       "      <td>0</td>\n",
       "      <td>0</td>\n",
       "      <td>...</td>\n",
       "      <td>14331</td>\n",
       "      <td>14948</td>\n",
       "      <td>15549</td>\n",
       "      <td>1518</td>\n",
       "      <td>1500</td>\n",
       "      <td>1000</td>\n",
       "      <td>1000</td>\n",
       "      <td>1000</td>\n",
       "      <td>5000</td>\n",
       "      <td>0</td>\n",
       "    </tr>\n",
       "    <tr>\n",
       "      <th>3</th>\n",
       "      <td>4</td>\n",
       "      <td>50000</td>\n",
       "      <td>2</td>\n",
       "      <td>2</td>\n",
       "      <td>1</td>\n",
       "      <td>37</td>\n",
       "      <td>0</td>\n",
       "      <td>0</td>\n",
       "      <td>0</td>\n",
       "      <td>0</td>\n",
       "      <td>...</td>\n",
       "      <td>28314</td>\n",
       "      <td>28959</td>\n",
       "      <td>29547</td>\n",
       "      <td>2000</td>\n",
       "      <td>2019</td>\n",
       "      <td>1200</td>\n",
       "      <td>1100</td>\n",
       "      <td>1069</td>\n",
       "      <td>1000</td>\n",
       "      <td>0</td>\n",
       "    </tr>\n",
       "    <tr>\n",
       "      <th>4</th>\n",
       "      <td>5</td>\n",
       "      <td>50000</td>\n",
       "      <td>1</td>\n",
       "      <td>2</td>\n",
       "      <td>1</td>\n",
       "      <td>57</td>\n",
       "      <td>-1</td>\n",
       "      <td>0</td>\n",
       "      <td>-1</td>\n",
       "      <td>0</td>\n",
       "      <td>...</td>\n",
       "      <td>20940</td>\n",
       "      <td>19146</td>\n",
       "      <td>19131</td>\n",
       "      <td>2000</td>\n",
       "      <td>36681</td>\n",
       "      <td>10000</td>\n",
       "      <td>9000</td>\n",
       "      <td>689</td>\n",
       "      <td>679</td>\n",
       "      <td>0</td>\n",
       "    </tr>\n",
       "  </tbody>\n",
       "</table>\n",
       "<p>5 rows × 25 columns</p>\n",
       "</div>"
      ],
      "text/plain": [
       "   ID  LIMIT_BAL  SEX  EDUCATION  MARRIAGE  AGE  PAY_0  PAY_2  PAY_3  PAY_4  \\\n",
       "0   1      20000    2          2         1   24      2      2     -1     -1   \n",
       "1   2     120000    2          2         2   26     -1      2      0      0   \n",
       "2   3      90000    2          2         2   34      0      0      0      0   \n",
       "3   4      50000    2          2         1   37      0      0      0      0   \n",
       "4   5      50000    1          2         1   57     -1      0     -1      0   \n",
       "\n",
       "   ...  BILL_AMT4  BILL_AMT5  BILL_AMT6  PAY_AMT1  PAY_AMT2  PAY_AMT3  \\\n",
       "0  ...          0          0          0         0       689         0   \n",
       "1  ...       3272       3455       3261         0      1000      1000   \n",
       "2  ...      14331      14948      15549      1518      1500      1000   \n",
       "3  ...      28314      28959      29547      2000      2019      1200   \n",
       "4  ...      20940      19146      19131      2000     36681     10000   \n",
       "\n",
       "   PAY_AMT4  PAY_AMT5  PAY_AMT6  default  \n",
       "0         0         0         0        1  \n",
       "1      1000         0      2000        1  \n",
       "2      1000      1000      5000        0  \n",
       "3      1100      1069      1000        0  \n",
       "4      9000       689       679        0  \n",
       "\n",
       "[5 rows x 25 columns]"
      ]
     },
     "execution_count": 402,
     "metadata": {},
     "output_type": "execute_result"
    }
   ],
   "source": [
    "app_train = pd.read_csv('./data/UCI_Credit_Card.csv')\n",
    "print('Training data shape: ', app_train.shape)\n",
    "app_train.head()"
   ]
  },
  {
   "cell_type": "markdown",
   "metadata": {},
   "source": [
    "# Exploratory Data Analysis\n",
    "Exploratory Data Analysis (EDA) is an open-ended process where we calculate statistics and make figures to find trends, anomalies, patterns, or relationships within the data. The goal of EDA is to learn what our data can tell us. It generally starts out with a high level overview, then narrows in to specific areas as we find intriguing areas of the data. The findings may be interesting in their own right, or they can be used to inform our modeling choices, such as by helping us decide which features to use.\n",
    "\n",
    "## Examine the Distribution of the Target Column\n",
    "The target is what we are asked to predict: either a 0 for a credit card payment made on time, or a 1 indicating the client had payment difficulties (defaulted). We can first examine the number of loans falling into each category."
   ]
  },
  {
   "cell_type": "code",
   "execution_count": 403,
   "metadata": {},
   "outputs": [
    {
     "data": {
      "text/plain": [
       "0    23364\n",
       "1     6636\n",
       "Name: default, dtype: int64"
      ]
     },
     "execution_count": 403,
     "metadata": {},
     "output_type": "execute_result"
    }
   ],
   "source": [
    "app_train['default'].value_counts()"
   ]
  },
  {
   "cell_type": "code",
   "execution_count": 404,
   "metadata": {},
   "outputs": [
    {
     "data": {
      "image/png": "[encoded data removed]",
      "text/plain": [
       "<Figure size 432x288 with 1 Axes>"
      ]
     },
     "metadata": {},
     "output_type": "display_data"
    }
   ],
   "source": [
    "app_train['default'].astype(int).plot.hist();"
   ]
  },
  {
   "cell_type": "markdown",
   "metadata": {},
   "source": [
    "From this information, we see this is an [imbalanced class](http://www.chioka.in/class-imbalance-problem/) problem. There are far more loans that were repaid on time than loans that were not repaid. Once we get into more sophisticated machine learning models, we can *weight* the classes by their representation in the data to reflect this imbalance."
   ]
  },
  {
   "cell_type": "markdown",
   "metadata": {},
   "source": [
    "## Examine Missing Values\n",
    "Next we can look at the number and percentage of missing values in each column."
   ]
  },
  {
   "cell_type": "code",
   "execution_count": 405,
   "metadata": {},
   "outputs": [],
   "source": [
    "def missing_values_table(df):\n",
    "        # Total missing values\n",
    "        mis_val = df.isnull().sum()\n",
    "        \n",
    "        # Percentage of missing values\n",
    "        mis_val_percent = 100 * df.isnull().sum() / len(df)\n",
    "        \n",
    "        # Make a table with the results\n",
    "        mis_val_table = pd.concat([mis_val, mis_val_percent], axis=1)\n",
    "        \n",
    "        # Rename the columns\n",
    "        mis_val_table_ren_columns = mis_val_table.rename(\n",
    "        columns = {0 : 'Missing Values', 1 : '% of Total Values'})\n",
    "        \n",
    "        # Sort the table by percentage of missing descending\n",
    "        mis_val_table_ren_columns = mis_val_table_ren_columns[\n",
    "            mis_val_table_ren_columns.iloc[:,1] != 0].sort_values(\n",
    "        '% of Total Values', ascending=False).round(1)\n",
    "        \n",
    "        # Print some summary information\n",
    "        print (\"Your selected dataframe has \" + str(df.shape[1]) + \" columns.\\n\"      \n",
    "            \"There are \" + str(mis_val_table_ren_columns.shape[0]) +\n",
    "              \" columns that have missing values.\")\n",
    "        \n",
    "        # Return the dataframe with missing information\n",
    "        return mis_val_table_ren_columns"
   ]
  },
  {
   "cell_type": "code",
   "execution_count": 406,
   "metadata": {},
   "outputs": [
    {
     "name": "stdout",
     "output_type": "stream",
     "text": [
      "Your selected dataframe has 25 columns.\n",
      "There are 0 columns that have missing values.\n"
     ]
    },
    {
     "data": {
      "text/html": [
       "<div>\n",
       "<style scoped>\n",
       "    .dataframe tbody tr th:only-of-type {\n",
       "        vertical-align: middle;\n",
       "    }\n",
       "\n",
       "    .dataframe tbody tr th {\n",
       "        vertical-align: top;\n",
       "    }\n",
       "\n",
       "    .dataframe thead th {\n",
       "        text-align: right;\n",
       "    }\n",
       "</style>\n",
       "<table border=\"1\" class=\"dataframe\">\n",
       "  <thead>\n",
       "    <tr style=\"text-align: right;\">\n",
       "      <th></th>\n",
       "      <th>Missing Values</th>\n",
       "      <th>% of Total Values</th>\n",
       "    </tr>\n",
       "  </thead>\n",
       "  <tbody>\n",
       "  </tbody>\n",
       "</table>\n",
       "</div>"
      ],
      "text/plain": [
       "Empty DataFrame\n",
       "Columns: [Missing Values, % of Total Values]\n",
       "Index: []"
      ]
     },
     "execution_count": 406,
     "metadata": {},
     "output_type": "execute_result"
    }
   ],
   "source": [
    "# Missing values statistics\n",
    "\n",
    "missing_values = missing_values_table(app_train)\n",
    "missing_values.head(10)"
   ]
  },
  {
   "cell_type": "markdown",
   "metadata": {},
   "source": [
    "If this dataset had missing values, when it came time to build our machine learning models, we would have to fill in these missing values (known as imputation). As an aside, some methods, such as [XGBoost](https://xgboost.readthedocs.io/en/latest/parameter.html), can handle [missing values with no need for imputation](https://stats.stackexchange.com/questions/235489/xgboost-can-handle-missing-data-in-the-forecasting-phase). Another option would be to drop columns with a high percentage of missing values, although it is impossible to know ahead of time if these columns will be helpful to our model. Therefore, it may be wise to keep all of the columns early on in EDA."
   ]
  },
  {
   "cell_type": "markdown",
   "metadata": {},
   "source": [
    "Examine Missing Values<br>\n",
    "If we had missing values we could look at the number and percentage of missing values in each column as follows"
   ]
  },
  {
   "cell_type": "code",
   "execution_count": 407,
   "metadata": {},
   "outputs": [],
   "source": [
    "# Function to calculate missing values by column# Funct \n",
    "def missing_values_table(df):\n",
    "        # Total non-missing values\n",
    "        nonmis_val = df.notnull().sum()\n",
    "    \n",
    "        # Total missing values\n",
    "        mis_val = df.isnull().sum()\n",
    "        \n",
    "        # Percentage of missing values\n",
    "        mis_val_percent = 100 * df.isnull().sum() / len(df)\n",
    "        \n",
    "        # Make a table with the results\n",
    "        mis_val_table = pd.concat([nonmis_val, mis_val, mis_val_percent], axis=1)\n",
    "        \n",
    "        # Rename the columns\n",
    "        mis_val_table_ren_columns = mis_val_table.rename(\n",
    "        columns = {0 : 'Non-Missing Values', 1 : 'Missing Values', 2 : '% of Total Values'})\n",
    "       \n",
    "        # Sort the table by percentage of missing descending\n",
    "        mis_val_table_ren_columns = mis_val_table_ren_columns.sort_values(\n",
    "        '% of Total Values', ascending=False).round(1)\n",
    "        \n",
    "        # Print some summary information\n",
    "        print (\"Your selected dataframe has \" + str(df.shape[1]) + \" columns.\\n\"      \n",
    "            \"There are \" + str(mis_val_table_ren_columns.shape[0]) +\n",
    "              \" columns that have missing values.\")\n",
    "        \n",
    "        # Return the dataframe with missing information\n",
    "        return mis_val_table_ren_columns"
   ]
  },
  {
   "cell_type": "code",
   "execution_count": 408,
   "metadata": {},
   "outputs": [
    {
     "name": "stdout",
     "output_type": "stream",
     "text": [
      "Your selected dataframe has 25 columns.\n",
      "There are 25 columns that have missing values.\n"
     ]
    },
    {
     "data": {
      "text/html": [
       "<div>\n",
       "<style scoped>\n",
       "    .dataframe tbody tr th:only-of-type {\n",
       "        vertical-align: middle;\n",
       "    }\n",
       "\n",
       "    .dataframe tbody tr th {\n",
       "        vertical-align: top;\n",
       "    }\n",
       "\n",
       "    .dataframe thead th {\n",
       "        text-align: right;\n",
       "    }\n",
       "</style>\n",
       "<table border=\"1\" class=\"dataframe\">\n",
       "  <thead>\n",
       "    <tr style=\"text-align: right;\">\n",
       "      <th></th>\n",
       "      <th>Non-Missing Values</th>\n",
       "      <th>Missing Values</th>\n",
       "      <th>% of Total Values</th>\n",
       "    </tr>\n",
       "  </thead>\n",
       "  <tbody>\n",
       "    <tr>\n",
       "      <th>ID</th>\n",
       "      <td>30000</td>\n",
       "      <td>0</td>\n",
       "      <td>0.0</td>\n",
       "    </tr>\n",
       "    <tr>\n",
       "      <th>BILL_AMT2</th>\n",
       "      <td>30000</td>\n",
       "      <td>0</td>\n",
       "      <td>0.0</td>\n",
       "    </tr>\n",
       "    <tr>\n",
       "      <th>PAY_AMT6</th>\n",
       "      <td>30000</td>\n",
       "      <td>0</td>\n",
       "      <td>0.0</td>\n",
       "    </tr>\n",
       "    <tr>\n",
       "      <th>PAY_AMT5</th>\n",
       "      <td>30000</td>\n",
       "      <td>0</td>\n",
       "      <td>0.0</td>\n",
       "    </tr>\n",
       "    <tr>\n",
       "      <th>PAY_AMT4</th>\n",
       "      <td>30000</td>\n",
       "      <td>0</td>\n",
       "      <td>0.0</td>\n",
       "    </tr>\n",
       "    <tr>\n",
       "      <th>PAY_AMT3</th>\n",
       "      <td>30000</td>\n",
       "      <td>0</td>\n",
       "      <td>0.0</td>\n",
       "    </tr>\n",
       "    <tr>\n",
       "      <th>PAY_AMT2</th>\n",
       "      <td>30000</td>\n",
       "      <td>0</td>\n",
       "      <td>0.0</td>\n",
       "    </tr>\n",
       "    <tr>\n",
       "      <th>PAY_AMT1</th>\n",
       "      <td>30000</td>\n",
       "      <td>0</td>\n",
       "      <td>0.0</td>\n",
       "    </tr>\n",
       "    <tr>\n",
       "      <th>BILL_AMT6</th>\n",
       "      <td>30000</td>\n",
       "      <td>0</td>\n",
       "      <td>0.0</td>\n",
       "    </tr>\n",
       "    <tr>\n",
       "      <th>BILL_AMT5</th>\n",
       "      <td>30000</td>\n",
       "      <td>0</td>\n",
       "      <td>0.0</td>\n",
       "    </tr>\n",
       "  </tbody>\n",
       "</table>\n",
       "</div>"
      ],
      "text/plain": [
       "           Non-Missing Values  Missing Values  % of Total Values\n",
       "ID                      30000               0                0.0\n",
       "BILL_AMT2               30000               0                0.0\n",
       "PAY_AMT6                30000               0                0.0\n",
       "PAY_AMT5                30000               0                0.0\n",
       "PAY_AMT4                30000               0                0.0\n",
       "PAY_AMT3                30000               0                0.0\n",
       "PAY_AMT2                30000               0                0.0\n",
       "PAY_AMT1                30000               0                0.0\n",
       "BILL_AMT6               30000               0                0.0\n",
       "BILL_AMT5               30000               0                0.0"
      ]
     },
     "execution_count": 408,
     "metadata": {},
     "output_type": "execute_result"
    }
   ],
   "source": [
    "# Missing values statistics\n",
    "missing_values = missing_values_table(app_train)\n",
    "missing_values.head(10)\n"
   ]
  },
  {
   "cell_type": "markdown",
   "metadata": {},
   "source": [
    "## Column Types\n",
    "Let's look at the number of columns of each data type. int64 and float64 are numeric variables (which can be either discrete or continuous). object columns contain strings and are categorical features. "
   ]
  },
  {
   "cell_type": "code",
   "execution_count": 409,
   "metadata": {},
   "outputs": [
    {
     "data": {
      "text/plain": [
       "int64    25\n",
       "dtype: int64"
      ]
     },
     "execution_count": 409,
     "metadata": {},
     "output_type": "execute_result"
    }
   ],
   "source": [
    "# Number of each type of column\n",
    "app_train.dtypes.value_counts()"
   ]
  },
  {
   "cell_type": "markdown",
   "metadata": {},
   "source": [
    "### Encoding Categorical Variables\n",
    "In this example we do not have any categorical variables, just integers. Well actually we do, but they have already been [encoded](https://towardsdatascience.com/all-about-categorical-variable-encoding-305f3361fd02): **Label encoding** assigns each unique category in a categorical variable with an integer. No new columns are created. For example, in education, 1=graduate school, 2=university, 3=high school, 4=others, 5=unknown\n",
    "\n",
    "As an alternative: **One-hot encoding** creates a new column for each unique category in a categorical variable. Each observation recieves a 1 in the column for its corresponding category and a 0 in all other new columns.\n",
    "\n",
    "If this hadn't been done alreay for us, the categorical variables would need to be dealt with before we went further. A machine learning model unfortunately cannot deal with categorical variables (except for some models such as LightGBM). Therefore, we have to find a way to [encode](https://blog.cambridgespark.com/robust-one-hot-encoding-in-python-3e29bfcec77e) (represent) these variables as numbers before handing them off to the model. \n",
    "\n",
    "Additioanl resources to study:\n",
    "- https://maxhalford.github.io/blog/target-encoding-done-the-right-way/\n",
    "- https://towardsdatascience.com/all-about-categorical-variable-encoding-305f3361fd02\n",
    "- https://www.kaggle.com/danavg/dummy-variables-vs-label-encoding-approach\n",
    "- https://datascience.stackexchange.com/questions/36240/how-to-deal-with-nominal-categorical-with-label-encoding\n",
    "- https://www.researchgate.net/post/Can_I_use_Pearsons_correlation_coefficient_to_know_the_relation_between_perception_and_gender_age_income"
   ]
  },
  {
   "cell_type": "code",
   "execution_count": 410,
   "metadata": {},
   "outputs": [],
   "source": [
    "# # Number of unique classes in each object column\n",
    "# app_train.select_dtypes('object').apply(pd.Series.nunique, axis = 0)"
   ]
  },
  {
   "cell_type": "markdown",
   "metadata": {},
   "source": [
    "## Anomalies\n",
    "One problem we always want to be on the lookout for when doing EDA is **anomalies** within the data. These may be due to mis-typed numbers, errors in measuring equipment, or they could be valid but extreme measurements. \n",
    "\n",
    "One way to support anomalies quantitatively is by looking at the statistics of a column using the describe method. "
   ]
  },
  {
   "cell_type": "code",
   "execution_count": 411,
   "metadata": {},
   "outputs": [
    {
     "data": {
      "text/plain": [
       "count    30000.000000\n",
       "mean        35.485500\n",
       "std          9.217904\n",
       "min         21.000000\n",
       "25%         28.000000\n",
       "50%         34.000000\n",
       "75%         41.000000\n",
       "max         79.000000\n",
       "Name: AGE, dtype: float64"
      ]
     },
     "execution_count": 411,
     "metadata": {},
     "output_type": "execute_result"
    }
   ],
   "source": [
    "(app_train['AGE']).describe()"
   ]
  },
  {
   "cell_type": "markdown",
   "metadata": {},
   "source": [
    "Those ages look reasonable. There are no outliers for the age (e.g., a 2 year old with a credit card) on either the high or low end. How about balance limits?"
   ]
  },
  {
   "cell_type": "code",
   "execution_count": 412,
   "metadata": {},
   "outputs": [
    {
     "data": {
      "text/plain": [
       "count      30000.000000\n",
       "mean      167484.322667\n",
       "std       129747.661567\n",
       "min        10000.000000\n",
       "25%        50000.000000\n",
       "50%       140000.000000\n",
       "75%       240000.000000\n",
       "max      1000000.000000\n",
       "Name: LIMIT_BAL, dtype: float64"
      ]
     },
     "execution_count": 412,
     "metadata": {},
     "output_type": "execute_result"
    }
   ],
   "source": [
    "app_train['LIMIT_BAL'].describe()"
   ]
  },
  {
   "cell_type": "code",
   "execution_count": 413,
   "metadata": {},
   "outputs": [
    {
     "data": {
      "image/png": "[encoded data removed]",
      "text/plain": [
       "<Figure size 432x288 with 1 Axes>"
      ]
     },
     "metadata": {},
     "output_type": "display_data"
    }
   ],
   "source": [
    "app_train['LIMIT_BAL'].plot.hist(title = 'Credit Limit Histogram');\n",
    "plt.xlabel('Credit Limit');"
   ]
  },
  {
   "cell_type": "markdown",
   "metadata": {},
   "source": [
    "This looks okay.  The data are positively skewed with most having a limit under 100,000 and a few individuals with a limit highter than 500,000."
   ]
  },
  {
   "cell_type": "markdown",
   "metadata": {},
   "source": [
    "## Correlations\n",
    "\n",
    "#### Numerical\n",
    "One way to try and understand the data is by looking for correlations between the features and the target. We can calculate the Pearson correlation coefficient between every variable and the target using the `.corr dataframe` method.\n",
    "\n",
    "The correlation coefficient is not the greatest method to represent \"relevance\" of a feature, but it does give us an idea of possible relationships within the data. Some [general interpretations](http://www.statstutor.ac.uk/resources/uploaded/pearsons.pdf) of the absolute value of the correlation coefficent are:\n",
    "\n",
    "- .00-.19 “very weak”\n",
    "- .20-.39 “weak”\n",
    "- .40-.59 “moderate”\n",
    "- .60-.79 “strong”\n",
    "- .80-1.0 “very strong”\n",
    "\n",
    "#### Categorical\n",
    "Two Categorical Variables:<br>\n",
    "Checking if two categorical variables are independent can be done with Chi-Squared test of independence.\n",
    "\n",
    "Pearson’s chi-squared statistical hypothesis test is an example of a test for independence between categorical variables.  The results of this test can be used for feature selection, where those features that are independent of the target variable can be removed from the dataset.\n",
    "\n",
    "For a typical **Chi-Square test**: we assume that two variables are independent, then the values of the contingency table for these variables should be distributed uniformly. And then we check how far away from uniform the actual values are.\n",
    "\n",
    "There also exists a Crammer's V that is a measure of correlation that follows from this test.\n",
    "\n",
    "#### Catetorical and Numerical\n",
    "Categorical vs Numerical Variables: <br>\n",
    "For this type we typically perform **one-way ANOVA test**: we calculate in-group variance and intra-group variance and then compare them."
   ]
  },
  {
   "cell_type": "markdown",
   "metadata": {},
   "source": [
    "#### [Contingency Tables](https://www.geeksforgeeks.org/contingency-table-in-python/) \n",
    "(Chi-squared test for categorical data)"
   ]
  },
  {
   "cell_type": "code",
   "execution_count": 414,
   "metadata": {},
   "outputs": [
    {
     "data": {
      "text/html": [
       "<div>\n",
       "<style scoped>\n",
       "    .dataframe tbody tr th:only-of-type {\n",
       "        vertical-align: middle;\n",
       "    }\n",
       "\n",
       "    .dataframe tbody tr th {\n",
       "        vertical-align: top;\n",
       "    }\n",
       "\n",
       "    .dataframe thead th {\n",
       "        text-align: right;\n",
       "    }\n",
       "</style>\n",
       "<table border=\"1\" class=\"dataframe\">\n",
       "  <thead>\n",
       "    <tr style=\"text-align: right;\">\n",
       "      <th>default</th>\n",
       "      <th>0</th>\n",
       "      <th>1</th>\n",
       "    </tr>\n",
       "    <tr>\n",
       "      <th>PAY_0</th>\n",
       "      <th></th>\n",
       "      <th></th>\n",
       "    </tr>\n",
       "  </thead>\n",
       "  <tbody>\n",
       "    <tr>\n",
       "      <th>-2</th>\n",
       "      <td>2394</td>\n",
       "      <td>365</td>\n",
       "    </tr>\n",
       "    <tr>\n",
       "      <th>-1</th>\n",
       "      <td>4732</td>\n",
       "      <td>954</td>\n",
       "    </tr>\n",
       "    <tr>\n",
       "      <th>0</th>\n",
       "      <td>12849</td>\n",
       "      <td>1888</td>\n",
       "    </tr>\n",
       "    <tr>\n",
       "      <th>1</th>\n",
       "      <td>2436</td>\n",
       "      <td>1252</td>\n",
       "    </tr>\n",
       "    <tr>\n",
       "      <th>2</th>\n",
       "      <td>823</td>\n",
       "      <td>1844</td>\n",
       "    </tr>\n",
       "    <tr>\n",
       "      <th>3</th>\n",
       "      <td>78</td>\n",
       "      <td>244</td>\n",
       "    </tr>\n",
       "    <tr>\n",
       "      <th>4</th>\n",
       "      <td>24</td>\n",
       "      <td>52</td>\n",
       "    </tr>\n",
       "    <tr>\n",
       "      <th>5</th>\n",
       "      <td>13</td>\n",
       "      <td>13</td>\n",
       "    </tr>\n",
       "    <tr>\n",
       "      <th>6</th>\n",
       "      <td>5</td>\n",
       "      <td>6</td>\n",
       "    </tr>\n",
       "    <tr>\n",
       "      <th>7</th>\n",
       "      <td>2</td>\n",
       "      <td>7</td>\n",
       "    </tr>\n",
       "    <tr>\n",
       "      <th>8</th>\n",
       "      <td>8</td>\n",
       "      <td>11</td>\n",
       "    </tr>\n",
       "  </tbody>\n",
       "</table>\n",
       "</div>"
      ],
      "text/plain": [
       "default      0     1\n",
       "PAY_0               \n",
       "-2        2394   365\n",
       "-1        4732   954\n",
       " 0       12849  1888\n",
       " 1        2436  1252\n",
       " 2         823  1844\n",
       " 3          78   244\n",
       " 4          24    52\n",
       " 5          13    13\n",
       " 6           5     6\n",
       " 7           2     7\n",
       " 8           8    11"
      ]
     },
     "execution_count": 414,
     "metadata": {},
     "output_type": "execute_result"
    }
   ],
   "source": [
    "pay_tab = pd.crosstab(app_train['PAY_0'], app_train['default'],  \n",
    "                               margins = False) \n",
    "pay_tab"
   ]
  },
  {
   "cell_type": "markdown",
   "metadata": {},
   "source": [
    "Let's take a look at some of more significant correlations: PAY_0 (most recent repayment status) is the most positive correlation."
   ]
  },
  {
   "cell_type": "code",
   "execution_count": 415,
   "metadata": {},
   "outputs": [
    {
     "data": {
      "text/html": [
       "<div>\n",
       "<style scoped>\n",
       "    .dataframe tbody tr th:only-of-type {\n",
       "        vertical-align: middle;\n",
       "    }\n",
       "\n",
       "    .dataframe tbody tr th {\n",
       "        vertical-align: top;\n",
       "    }\n",
       "\n",
       "    .dataframe thead th {\n",
       "        text-align: right;\n",
       "    }\n",
       "</style>\n",
       "<table border=\"1\" class=\"dataframe\">\n",
       "  <thead>\n",
       "    <tr style=\"text-align: right;\">\n",
       "      <th>default</th>\n",
       "      <th>0</th>\n",
       "      <th>1</th>\n",
       "      <th>All</th>\n",
       "    </tr>\n",
       "    <tr>\n",
       "      <th>SEX</th>\n",
       "      <th></th>\n",
       "      <th></th>\n",
       "      <th></th>\n",
       "    </tr>\n",
       "  </thead>\n",
       "  <tbody>\n",
       "    <tr>\n",
       "      <th>1</th>\n",
       "      <td>9015</td>\n",
       "      <td>2873</td>\n",
       "      <td>11888</td>\n",
       "    </tr>\n",
       "    <tr>\n",
       "      <th>2</th>\n",
       "      <td>14349</td>\n",
       "      <td>3763</td>\n",
       "      <td>18112</td>\n",
       "    </tr>\n",
       "    <tr>\n",
       "      <th>All</th>\n",
       "      <td>23364</td>\n",
       "      <td>6636</td>\n",
       "      <td>30000</td>\n",
       "    </tr>\n",
       "  </tbody>\n",
       "</table>\n",
       "</div>"
      ],
      "text/plain": [
       "default      0     1    All\n",
       "SEX                        \n",
       "1         9015  2873  11888\n",
       "2        14349  3763  18112\n",
       "All      23364  6636  30000"
      ]
     },
     "execution_count": 415,
     "metadata": {},
     "output_type": "execute_result"
    }
   ],
   "source": [
    "sex_tab = pd.crosstab(app_train['SEX'], app_train['default'],  \n",
    "                               margins = True) \n",
    "sex_tab"
   ]
  },
  {
   "cell_type": "code",
   "execution_count": 416,
   "metadata": {},
   "outputs": [
    {
     "data": {
      "text/html": [
       "<div>\n",
       "<style scoped>\n",
       "    .dataframe tbody tr th:only-of-type {\n",
       "        vertical-align: middle;\n",
       "    }\n",
       "\n",
       "    .dataframe tbody tr th {\n",
       "        vertical-align: top;\n",
       "    }\n",
       "\n",
       "    .dataframe thead th {\n",
       "        text-align: right;\n",
       "    }\n",
       "</style>\n",
       "<table border=\"1\" class=\"dataframe\">\n",
       "  <thead>\n",
       "    <tr style=\"text-align: right;\">\n",
       "      <th>default</th>\n",
       "      <th>0</th>\n",
       "      <th>1</th>\n",
       "    </tr>\n",
       "    <tr>\n",
       "      <th>EDUCATION</th>\n",
       "      <th></th>\n",
       "      <th></th>\n",
       "    </tr>\n",
       "  </thead>\n",
       "  <tbody>\n",
       "    <tr>\n",
       "      <th>0</th>\n",
       "      <td>14</td>\n",
       "      <td>0</td>\n",
       "    </tr>\n",
       "    <tr>\n",
       "      <th>1</th>\n",
       "      <td>8549</td>\n",
       "      <td>2036</td>\n",
       "    </tr>\n",
       "    <tr>\n",
       "      <th>2</th>\n",
       "      <td>10700</td>\n",
       "      <td>3330</td>\n",
       "    </tr>\n",
       "    <tr>\n",
       "      <th>3</th>\n",
       "      <td>3680</td>\n",
       "      <td>1237</td>\n",
       "    </tr>\n",
       "    <tr>\n",
       "      <th>4</th>\n",
       "      <td>116</td>\n",
       "      <td>7</td>\n",
       "    </tr>\n",
       "    <tr>\n",
       "      <th>5</th>\n",
       "      <td>262</td>\n",
       "      <td>18</td>\n",
       "    </tr>\n",
       "    <tr>\n",
       "      <th>6</th>\n",
       "      <td>43</td>\n",
       "      <td>8</td>\n",
       "    </tr>\n",
       "  </tbody>\n",
       "</table>\n",
       "</div>"
      ],
      "text/plain": [
       "default        0     1\n",
       "EDUCATION             \n",
       "0             14     0\n",
       "1           8549  2036\n",
       "2          10700  3330\n",
       "3           3680  1237\n",
       "4            116     7\n",
       "5            262    18\n",
       "6             43     8"
      ]
     },
     "execution_count": 416,
     "metadata": {},
     "output_type": "execute_result"
    }
   ],
   "source": [
    "edu_tab = pd.crosstab(app_train['EDUCATION'], app_train['default'],  \n",
    "                               margins = False) \n",
    "edu_tab"
   ]
  },
  {
   "cell_type": "markdown",
   "metadata": {},
   "source": [
    "We can calculate the expected frequency of observations in each default group and see whether the partitioning of interests by Sex results in similar or different frequencies.  \n",
    "\n",
    "We assume (**null hypothesis**, $H_O$) that the observed frequencies for a categorical variable match the expected frequencies for the categorical variable. \n",
    "\n",
    "In other words, the **null hypothesis** of the Chi-Square test is that *no* relationship exists on the categorical variables in the population; they are *independent*.  We \"*reject*\" or \"*fail to reject*\" the $H_O$ based on the test statistics."
   ]
  },
  {
   "cell_type": "code",
   "execution_count": 417,
   "metadata": {},
   "outputs": [
    {
     "name": "stdout",
     "output_type": "stream",
     "text": [
      "default      0     1    All\n",
      "SEX                        \n",
      "1         9015  2873  11888\n",
      "2        14349  3763  18112\n",
      "All      23364  6636  30000 \n",
      "\n",
      "dof=4\n",
      "\n",
      "[[ 9258.3744  2629.6256 11888.    ]\n",
      " [14105.6256  4006.3744 18112.    ]\n",
      " [23364.      6636.     30000.    ]] \n",
      "\n",
      "interpret test-statistic\n",
      "probability=0.950, critical=9.488, stat=47.905\n",
      "Dependent (reject H0)\n",
      "\n",
      "interpret p-value\n",
      "significance=0.050, p=0.000\n",
      "Dependent (reject H0)\n"
     ]
    }
   ],
   "source": [
    "# chi-squared test with similar proportions\n",
    "from scipy.stats import chi2_contingency\n",
    "from scipy.stats import chi2\n",
    "\n",
    "# contingency table\n",
    "table = sex_tab\n",
    "print(table,\"\\n\")\n",
    "stat, p, dof, expected = chi2_contingency(table)\n",
    "print('dof=%d\\n' % dof)\n",
    "print(expected,\"\\n\")\n",
    "\n",
    "# interpret test-statistic\n",
    "print(\"interpret test-statistic\")\n",
    "prob = 0.95\n",
    "critical = chi2.ppf(prob, dof)\n",
    "print('probability=%.3f, critical=%.3f, stat=%.3f' % (prob, critical, stat))\n",
    "if abs(stat) >= critical:\n",
    "    print('Dependent (reject H0)\\n')\n",
    "else:\n",
    "    print('Independent (fail to reject H0)\\n')\n",
    "    \n",
    "# interpret p-value\n",
    "print(\"interpret p-value\")\n",
    "alpha = 1.0 - prob\n",
    "print('significance=%.3f, p=%.3f' % (alpha, p))\n",
    "if p <= alpha:\n",
    "    print('Dependent (reject H0)')\n",
    "else:\n",
    "    print('Independent (fail to reject H0)')"
   ]
  },
  {
   "cell_type": "markdown",
   "metadata": {},
   "source": [
    "Similar for education"
   ]
  },
  {
   "cell_type": "code",
   "execution_count": 418,
   "metadata": {},
   "outputs": [
    {
     "name": "stdout",
     "output_type": "stream",
     "text": [
      "default        0     1\n",
      "EDUCATION             \n",
      "0             14     0\n",
      "1           8549  2036\n",
      "2          10700  3330\n",
      "3           3680  1237\n",
      "4            116     7\n",
      "5            262    18\n",
      "6             43     8 \n",
      "\n",
      "dof=6\n",
      "\n",
      "[[1.0903200e+01 3.0968000e+00]\n",
      " [8.2435980e+03 2.3414020e+03]\n",
      " [1.0926564e+04 3.1034360e+03]\n",
      " [3.8293596e+03 1.0876404e+03]\n",
      " [9.5792400e+01 2.7207600e+01]\n",
      " [2.1806400e+02 6.1936000e+01]\n",
      " [3.9718800e+01 1.1281200e+01]] \n",
      "\n",
      "interpret test-statistic\n",
      "probability=0.950, critical=12.592, stat=163.217\n",
      "Dependent (reject H0)\n",
      "\n",
      "interpret p-value\n",
      "significance=0.050, p=0.000\n",
      "Dependent (reject H0)\n"
     ]
    }
   ],
   "source": [
    "# contingency table\n",
    "table = edu_tab\n",
    "print(table,\"\\n\")\n",
    "stat, p, dof, expected = chi2_contingency(table)\n",
    "print('dof=%d\\n' % dof)\n",
    "print(expected,\"\\n\")\n",
    "\n",
    "# interpret test-statistic\n",
    "print(\"interpret test-statistic\")\n",
    "prob = 0.95\n",
    "critical = chi2.ppf(prob, dof)\n",
    "print('probability=%.3f, critical=%.3f, stat=%.3f' % (prob, critical, stat))\n",
    "if abs(stat) >= critical:\n",
    "    print('Dependent (reject H0)\\n')\n",
    "else:\n",
    "    print('Independent (fail to reject H0)\\n')\n",
    "    \n",
    "# interpret p-value\n",
    "print(\"interpret p-value\")\n",
    "alpha = 1.0 - prob\n",
    "print('significance=%.3f, p=%.3f' % (alpha, p))\n",
    "if p <= alpha:\n",
    "    print('Dependent (reject H0)')\n",
    "else:\n",
    "    print('Independent (fail to reject H0)')"
   ]
  },
  {
   "cell_type": "markdown",
   "metadata": {},
   "source": [
    "and for pay_0"
   ]
  },
  {
   "cell_type": "code",
   "execution_count": 419,
   "metadata": {},
   "outputs": [
    {
     "name": "stdout",
     "output_type": "stream",
     "text": [
      "default      0     1\n",
      "PAY_0               \n",
      "-2        2394   365\n",
      "-1        4732   954\n",
      " 0       12849  1888\n",
      " 1        2436  1252\n",
      " 2         823  1844\n",
      " 3          78   244\n",
      " 4          24    52\n",
      " 5          13    13\n",
      " 6           5     6\n",
      " 7           2     7\n",
      " 8           8    11 \n",
      "\n",
      "dof=10\n",
      "\n",
      "[[2.14870920e+03 6.10290800e+02]\n",
      " [4.42825680e+03 1.25774320e+03]\n",
      " [1.14771756e+04 3.25982440e+03]\n",
      " [2.87221440e+03 8.15785600e+02]\n",
      " [2.07705960e+03 5.89940400e+02]\n",
      " [2.50773600e+02 7.12264000e+01]\n",
      " [5.91888000e+01 1.68112000e+01]\n",
      " [2.02488000e+01 5.75120000e+00]\n",
      " [8.56680000e+00 2.43320000e+00]\n",
      " [7.00920000e+00 1.99080000e+00]\n",
      " [1.47972000e+01 4.20280000e+00]] \n",
      "\n",
      "interpret test-statistic\n",
      "probability=0.950, critical=18.307, stat=5365.965\n",
      "Dependent (reject H0)\n",
      "\n",
      "interpret p-value\n",
      "significance=0.050, p=0.000\n",
      "Dependent (reject H0)\n"
     ]
    }
   ],
   "source": [
    "# contingency table\n",
    "table = pay_tab\n",
    "print(table,\"\\n\")\n",
    "stat, p, dof, expected = chi2_contingency(table)\n",
    "print('dof=%d\\n' % dof)\n",
    "print(expected,\"\\n\")\n",
    "\n",
    "# interpret test-statistic\n",
    "print(\"interpret test-statistic\")\n",
    "prob = 0.95\n",
    "critical = chi2.ppf(prob, dof)\n",
    "print('probability=%.3f, critical=%.3f, stat=%.3f' % (prob, critical, stat))\n",
    "if abs(stat) >= critical:\n",
    "    print('Dependent (reject H0)\\n')\n",
    "else:\n",
    "    print('Independent (fail to reject H0)\\n')\n",
    "    \n",
    "# interpret p-value\n",
    "print(\"interpret p-value\")\n",
    "alpha = 1.0 - prob\n",
    "print('significance=%.3f, p=%.3f' % (alpha, p))\n",
    "if p <= alpha:\n",
    "    print('Dependent (reject H0)')\n",
    "else:\n",
    "    print('Independent (fail to reject H0)')"
   ]
  },
  {
   "cell_type": "markdown",
   "metadata": {},
   "source": [
    "### Encoding categorical data -- an aside\n",
    "\n",
    "You can also [skip to the end](#End-encoding) of this section to get back to chi-squared test."
   ]
  },
  {
   "cell_type": "code",
   "execution_count": 420,
   "metadata": {},
   "outputs": [],
   "source": [
    "def order_cat(df,col,order):\n",
    "    df[col]=df[col].astype('category')\n",
    "    df[col]=df[col].cat.reorder_categories(order,ordered=True)\n",
    "    df[col]=df[col].cat.codes.astype(int)\n",
    "    \n",
    "def check_count(var,df):\n",
    "    return(sorted(df[var].unique()))"
   ]
  },
  {
   "cell_type": "markdown",
   "metadata": {},
   "source": [
    "<font color=\"red\">NOTE</font>  We are going to convert the numeric encoded values back to nominal.  This is just an exercise to show how to use encoding in scikit-learn"
   ]
  },
  {
   "cell_type": "code",
   "execution_count": 421,
   "metadata": {},
   "outputs": [
    {
     "data": {
      "text/html": [
       "<div>\n",
       "<style scoped>\n",
       "    .dataframe tbody tr th:only-of-type {\n",
       "        vertical-align: middle;\n",
       "    }\n",
       "\n",
       "    .dataframe tbody tr th {\n",
       "        vertical-align: top;\n",
       "    }\n",
       "\n",
       "    .dataframe thead th {\n",
       "        text-align: right;\n",
       "    }\n",
       "</style>\n",
       "<table border=\"1\" class=\"dataframe\">\n",
       "  <thead>\n",
       "    <tr style=\"text-align: right;\">\n",
       "      <th></th>\n",
       "      <th>sex</th>\n",
       "      <th>education</th>\n",
       "      <th>marriage</th>\n",
       "      <th>pay_0</th>\n",
       "      <th>pay_2</th>\n",
       "      <th>pay_3</th>\n",
       "      <th>pay_4</th>\n",
       "      <th>pay_5</th>\n",
       "      <th>pay_6</th>\n",
       "      <th>default</th>\n",
       "    </tr>\n",
       "  </thead>\n",
       "  <tbody>\n",
       "    <tr>\n",
       "      <th>0</th>\n",
       "      <td>2</td>\n",
       "      <td>2</td>\n",
       "      <td>1</td>\n",
       "      <td>2</td>\n",
       "      <td>2</td>\n",
       "      <td>-1</td>\n",
       "      <td>-1</td>\n",
       "      <td>-2</td>\n",
       "      <td>-2</td>\n",
       "      <td>1</td>\n",
       "    </tr>\n",
       "    <tr>\n",
       "      <th>1</th>\n",
       "      <td>2</td>\n",
       "      <td>2</td>\n",
       "      <td>2</td>\n",
       "      <td>-1</td>\n",
       "      <td>2</td>\n",
       "      <td>0</td>\n",
       "      <td>0</td>\n",
       "      <td>0</td>\n",
       "      <td>2</td>\n",
       "      <td>1</td>\n",
       "    </tr>\n",
       "    <tr>\n",
       "      <th>2</th>\n",
       "      <td>2</td>\n",
       "      <td>2</td>\n",
       "      <td>2</td>\n",
       "      <td>0</td>\n",
       "      <td>0</td>\n",
       "      <td>0</td>\n",
       "      <td>0</td>\n",
       "      <td>0</td>\n",
       "      <td>0</td>\n",
       "      <td>0</td>\n",
       "    </tr>\n",
       "    <tr>\n",
       "      <th>3</th>\n",
       "      <td>2</td>\n",
       "      <td>2</td>\n",
       "      <td>1</td>\n",
       "      <td>0</td>\n",
       "      <td>0</td>\n",
       "      <td>0</td>\n",
       "      <td>0</td>\n",
       "      <td>0</td>\n",
       "      <td>0</td>\n",
       "      <td>0</td>\n",
       "    </tr>\n",
       "    <tr>\n",
       "      <th>4</th>\n",
       "      <td>1</td>\n",
       "      <td>2</td>\n",
       "      <td>1</td>\n",
       "      <td>-1</td>\n",
       "      <td>0</td>\n",
       "      <td>-1</td>\n",
       "      <td>0</td>\n",
       "      <td>0</td>\n",
       "      <td>0</td>\n",
       "      <td>0</td>\n",
       "    </tr>\n",
       "  </tbody>\n",
       "</table>\n",
       "</div>"
      ],
      "text/plain": [
       "   sex  education  marriage  pay_0  pay_2  pay_3  pay_4  pay_5  pay_6  default\n",
       "0    2          2         1      2      2     -1     -1     -2     -2        1\n",
       "1    2          2         2     -1      2      0      0      0      2        1\n",
       "2    2          2         2      0      0      0      0      0      0        0\n",
       "3    2          2         1      0      0      0      0      0      0        0\n",
       "4    1          2         1     -1      0     -1      0      0      0        0"
      ]
     },
     "execution_count": 421,
     "metadata": {},
     "output_type": "execute_result"
    }
   ],
   "source": [
    "cat_data = app_train[[\"SEX\",\"EDUCATION\", \"MARRIAGE\",\"PAY_0\",\"PAY_2\",\"PAY_3\",\"PAY_4\",\"PAY_5\",\"PAY_6\",\"default\"]]\n",
    "cat_data.rename(columns=lambda x:x.lower(),inplace=True)\n",
    "cat_data.head()"
   ]
  },
  {
   "cell_type": "code",
   "execution_count": 422,
   "metadata": {},
   "outputs": [
    {
     "data": {
      "text/html": [
       "<div>\n",
       "<style scoped>\n",
       "    .dataframe tbody tr th:only-of-type {\n",
       "        vertical-align: middle;\n",
       "    }\n",
       "\n",
       "    .dataframe tbody tr th {\n",
       "        vertical-align: top;\n",
       "    }\n",
       "\n",
       "    .dataframe thead th {\n",
       "        text-align: right;\n",
       "    }\n",
       "</style>\n",
       "<table border=\"1\" class=\"dataframe\">\n",
       "  <thead>\n",
       "    <tr style=\"text-align: right;\">\n",
       "      <th></th>\n",
       "      <th>sex</th>\n",
       "      <th>education</th>\n",
       "      <th>marriage</th>\n",
       "      <th>pay_0</th>\n",
       "      <th>pay_2</th>\n",
       "      <th>pay_3</th>\n",
       "      <th>pay_4</th>\n",
       "      <th>pay_5</th>\n",
       "      <th>pay_6</th>\n",
       "      <th>default</th>\n",
       "    </tr>\n",
       "  </thead>\n",
       "  <tbody>\n",
       "    <tr>\n",
       "      <th>0</th>\n",
       "      <td>female</td>\n",
       "      <td>university</td>\n",
       "      <td>married</td>\n",
       "      <td>2</td>\n",
       "      <td>2</td>\n",
       "      <td>-1</td>\n",
       "      <td>-1</td>\n",
       "      <td>-2</td>\n",
       "      <td>-2</td>\n",
       "      <td>yes</td>\n",
       "    </tr>\n",
       "    <tr>\n",
       "      <th>1</th>\n",
       "      <td>female</td>\n",
       "      <td>university</td>\n",
       "      <td>single</td>\n",
       "      <td>-1</td>\n",
       "      <td>2</td>\n",
       "      <td>0</td>\n",
       "      <td>0</td>\n",
       "      <td>0</td>\n",
       "      <td>2</td>\n",
       "      <td>yes</td>\n",
       "    </tr>\n",
       "    <tr>\n",
       "      <th>2</th>\n",
       "      <td>female</td>\n",
       "      <td>university</td>\n",
       "      <td>single</td>\n",
       "      <td>0</td>\n",
       "      <td>0</td>\n",
       "      <td>0</td>\n",
       "      <td>0</td>\n",
       "      <td>0</td>\n",
       "      <td>0</td>\n",
       "      <td>no</td>\n",
       "    </tr>\n",
       "    <tr>\n",
       "      <th>3</th>\n",
       "      <td>female</td>\n",
       "      <td>university</td>\n",
       "      <td>married</td>\n",
       "      <td>0</td>\n",
       "      <td>0</td>\n",
       "      <td>0</td>\n",
       "      <td>0</td>\n",
       "      <td>0</td>\n",
       "      <td>0</td>\n",
       "      <td>no</td>\n",
       "    </tr>\n",
       "    <tr>\n",
       "      <th>4</th>\n",
       "      <td>male</td>\n",
       "      <td>university</td>\n",
       "      <td>married</td>\n",
       "      <td>-1</td>\n",
       "      <td>0</td>\n",
       "      <td>-1</td>\n",
       "      <td>0</td>\n",
       "      <td>0</td>\n",
       "      <td>0</td>\n",
       "      <td>no</td>\n",
       "    </tr>\n",
       "    <tr>\n",
       "      <th>...</th>\n",
       "      <td>...</td>\n",
       "      <td>...</td>\n",
       "      <td>...</td>\n",
       "      <td>...</td>\n",
       "      <td>...</td>\n",
       "      <td>...</td>\n",
       "      <td>...</td>\n",
       "      <td>...</td>\n",
       "      <td>...</td>\n",
       "      <td>...</td>\n",
       "    </tr>\n",
       "    <tr>\n",
       "      <th>29995</th>\n",
       "      <td>male</td>\n",
       "      <td>high_school</td>\n",
       "      <td>married</td>\n",
       "      <td>0</td>\n",
       "      <td>0</td>\n",
       "      <td>0</td>\n",
       "      <td>0</td>\n",
       "      <td>0</td>\n",
       "      <td>0</td>\n",
       "      <td>no</td>\n",
       "    </tr>\n",
       "    <tr>\n",
       "      <th>29996</th>\n",
       "      <td>male</td>\n",
       "      <td>high_school</td>\n",
       "      <td>single</td>\n",
       "      <td>-1</td>\n",
       "      <td>-1</td>\n",
       "      <td>-1</td>\n",
       "      <td>-1</td>\n",
       "      <td>0</td>\n",
       "      <td>0</td>\n",
       "      <td>no</td>\n",
       "    </tr>\n",
       "    <tr>\n",
       "      <th>29997</th>\n",
       "      <td>male</td>\n",
       "      <td>university</td>\n",
       "      <td>single</td>\n",
       "      <td>4</td>\n",
       "      <td>3</td>\n",
       "      <td>2</td>\n",
       "      <td>-1</td>\n",
       "      <td>0</td>\n",
       "      <td>0</td>\n",
       "      <td>yes</td>\n",
       "    </tr>\n",
       "    <tr>\n",
       "      <th>29998</th>\n",
       "      <td>male</td>\n",
       "      <td>high_school</td>\n",
       "      <td>married</td>\n",
       "      <td>1</td>\n",
       "      <td>-1</td>\n",
       "      <td>0</td>\n",
       "      <td>0</td>\n",
       "      <td>0</td>\n",
       "      <td>-1</td>\n",
       "      <td>yes</td>\n",
       "    </tr>\n",
       "    <tr>\n",
       "      <th>29999</th>\n",
       "      <td>male</td>\n",
       "      <td>university</td>\n",
       "      <td>married</td>\n",
       "      <td>0</td>\n",
       "      <td>0</td>\n",
       "      <td>0</td>\n",
       "      <td>0</td>\n",
       "      <td>0</td>\n",
       "      <td>0</td>\n",
       "      <td>yes</td>\n",
       "    </tr>\n",
       "  </tbody>\n",
       "</table>\n",
       "<p>30000 rows × 10 columns</p>\n",
       "</div>"
      ],
      "text/plain": [
       "          sex    education marriage  pay_0  pay_2  pay_3  pay_4  pay_5  pay_6  \\\n",
       "0      female   university  married      2      2     -1     -1     -2     -2   \n",
       "1      female   university   single     -1      2      0      0      0      2   \n",
       "2      female   university   single      0      0      0      0      0      0   \n",
       "3      female   university  married      0      0      0      0      0      0   \n",
       "4        male   university  married     -1      0     -1      0      0      0   \n",
       "...       ...          ...      ...    ...    ...    ...    ...    ...    ...   \n",
       "29995    male  high_school  married      0      0      0      0      0      0   \n",
       "29996    male  high_school   single     -1     -1     -1     -1      0      0   \n",
       "29997    male   university   single      4      3      2     -1      0      0   \n",
       "29998    male  high_school  married      1     -1      0      0      0     -1   \n",
       "29999    male   university  married      0      0      0      0      0      0   \n",
       "\n",
       "      default  \n",
       "0         yes  \n",
       "1         yes  \n",
       "2          no  \n",
       "3          no  \n",
       "4          no  \n",
       "...       ...  \n",
       "29995      no  \n",
       "29996      no  \n",
       "29997     yes  \n",
       "29998     yes  \n",
       "29999     yes  \n",
       "\n",
       "[30000 rows x 10 columns]"
      ]
     },
     "execution_count": 422,
     "metadata": {},
     "output_type": "execute_result"
    }
   ],
   "source": [
    "cat_data['sex'] = np.where((cat_data.sex == 1),'male',cat_data.sex)\n",
    "cat_data['sex'] = np.where((cat_data.sex == '2'),'female',cat_data.sex)\n",
    "\n",
    "cat_data['marriage'] = np.where((cat_data.marriage == 1),'married',cat_data.marriage)\n",
    "cat_data['marriage'] = np.where((cat_data.marriage == '2'),'single',cat_data.marriage)\n",
    "cat_data['marriage'] = np.where((cat_data.marriage == '3'),'other',cat_data.marriage)\n",
    "cat_data['marriage'] = np.where((cat_data.marriage == '0'),'other',cat_data.marriage)\n",
    "\n",
    "cat_data['education'] = np.where((cat_data.education == 1),'grad_school',cat_data.education)\n",
    "cat_data['education'] = np.where((cat_data.education == \"2\"),'university',cat_data.education)\n",
    "cat_data['education'] = np.where((cat_data.education == \"3\"),'high_school',cat_data.education)\n",
    "cat_data['education'] = np.where((cat_data.education == \"4\"),'other',cat_data.education)\n",
    "cat_data['education'] = np.where((cat_data.education == \"5\"),'unknown',cat_data.education)\n",
    "cat_data['education'] = np.where((cat_data.education == \"6\"),'unknown',cat_data.education)\n",
    "cat_data['education'] = np.where((cat_data.education == \"0\"),'unknown',cat_data.education)\n",
    "\n",
    "cat_data['default'] = np.where((cat_data.default == 0),'no',cat_data.default)\n",
    "cat_data['default'] = np.where((cat_data.default == '1'),'yes',cat_data.default)\n",
    "\n",
    "cat_data"
   ]
  },
  {
   "cell_type": "code",
   "execution_count": 423,
   "metadata": {},
   "outputs": [
    {
     "data": {
      "text/html": [
       "<div>\n",
       "<style scoped>\n",
       "    .dataframe tbody tr th:only-of-type {\n",
       "        vertical-align: middle;\n",
       "    }\n",
       "\n",
       "    .dataframe tbody tr th {\n",
       "        vertical-align: top;\n",
       "    }\n",
       "\n",
       "    .dataframe thead th {\n",
       "        text-align: right;\n",
       "    }\n",
       "</style>\n",
       "<table border=\"1\" class=\"dataframe\">\n",
       "  <thead>\n",
       "    <tr style=\"text-align: right;\">\n",
       "      <th></th>\n",
       "      <th>sex</th>\n",
       "      <th>education</th>\n",
       "      <th>marriage</th>\n",
       "      <th>pay_0</th>\n",
       "      <th>pay_2</th>\n",
       "      <th>pay_3</th>\n",
       "      <th>pay_4</th>\n",
       "      <th>pay_5</th>\n",
       "      <th>pay_6</th>\n",
       "      <th>default</th>\n",
       "    </tr>\n",
       "  </thead>\n",
       "  <tbody>\n",
       "    <tr>\n",
       "      <th>0</th>\n",
       "      <td>female</td>\n",
       "      <td>university</td>\n",
       "      <td>married</td>\n",
       "      <td>paid_2months_late</td>\n",
       "      <td>paid_2months_late</td>\n",
       "      <td>paid_on_time</td>\n",
       "      <td>paid_on_time</td>\n",
       "      <td>paid_on_time</td>\n",
       "      <td>paid_on_time</td>\n",
       "      <td>yes</td>\n",
       "    </tr>\n",
       "    <tr>\n",
       "      <th>1</th>\n",
       "      <td>female</td>\n",
       "      <td>university</td>\n",
       "      <td>single</td>\n",
       "      <td>paid_on_time</td>\n",
       "      <td>paid_2months_late</td>\n",
       "      <td>paid_on_time</td>\n",
       "      <td>paid_on_time</td>\n",
       "      <td>paid_on_time</td>\n",
       "      <td>paid_2months_late</td>\n",
       "      <td>yes</td>\n",
       "    </tr>\n",
       "    <tr>\n",
       "      <th>2</th>\n",
       "      <td>female</td>\n",
       "      <td>university</td>\n",
       "      <td>single</td>\n",
       "      <td>paid_on_time</td>\n",
       "      <td>paid_on_time</td>\n",
       "      <td>paid_on_time</td>\n",
       "      <td>paid_on_time</td>\n",
       "      <td>paid_on_time</td>\n",
       "      <td>paid_on_time</td>\n",
       "      <td>no</td>\n",
       "    </tr>\n",
       "    <tr>\n",
       "      <th>3</th>\n",
       "      <td>female</td>\n",
       "      <td>university</td>\n",
       "      <td>married</td>\n",
       "      <td>paid_on_time</td>\n",
       "      <td>paid_on_time</td>\n",
       "      <td>paid_on_time</td>\n",
       "      <td>paid_on_time</td>\n",
       "      <td>paid_on_time</td>\n",
       "      <td>paid_on_time</td>\n",
       "      <td>no</td>\n",
       "    </tr>\n",
       "    <tr>\n",
       "      <th>4</th>\n",
       "      <td>male</td>\n",
       "      <td>university</td>\n",
       "      <td>married</td>\n",
       "      <td>paid_on_time</td>\n",
       "      <td>paid_on_time</td>\n",
       "      <td>paid_on_time</td>\n",
       "      <td>paid_on_time</td>\n",
       "      <td>paid_on_time</td>\n",
       "      <td>paid_on_time</td>\n",
       "      <td>no</td>\n",
       "    </tr>\n",
       "  </tbody>\n",
       "</table>\n",
       "</div>"
      ],
      "text/plain": [
       "      sex   education marriage              pay_0              pay_2  \\\n",
       "0  female  university  married  paid_2months_late  paid_2months_late   \n",
       "1  female  university   single       paid_on_time  paid_2months_late   \n",
       "2  female  university   single       paid_on_time       paid_on_time   \n",
       "3  female  university  married       paid_on_time       paid_on_time   \n",
       "4    male  university  married       paid_on_time       paid_on_time   \n",
       "\n",
       "          pay_3         pay_4         pay_5              pay_6 default  \n",
       "0  paid_on_time  paid_on_time  paid_on_time       paid_on_time     yes  \n",
       "1  paid_on_time  paid_on_time  paid_on_time  paid_2months_late     yes  \n",
       "2  paid_on_time  paid_on_time  paid_on_time       paid_on_time      no  \n",
       "3  paid_on_time  paid_on_time  paid_on_time       paid_on_time      no  \n",
       "4  paid_on_time  paid_on_time  paid_on_time       paid_on_time      no  "
      ]
     },
     "execution_count": 423,
     "metadata": {},
     "output_type": "execute_result"
    }
   ],
   "source": [
    "pay_features=['pay_0','pay_2','pay_3','pay_4','pay_5','pay_6']\n",
    "\n",
    "for p in pay_features:\n",
    "    cat_data.loc[cat_data[p]<0,p]=0\n",
    "\n",
    "cat_data['pay_0'] = np.where((cat_data.pay_0 == 0),'paid_on_time',cat_data.pay_0)\n",
    "cat_data['pay_0'] = np.where((cat_data.pay_0 == '1'),'paid_1month_late',cat_data.pay_0)\n",
    "cat_data['pay_0'] = np.where((cat_data.pay_0 == '2'),'paid_2months_late',cat_data.pay_0)\n",
    "cat_data['pay_0'] = np.where((cat_data.pay_0 == '3'),'paid_3months_late',cat_data.pay_0)\n",
    "cat_data['pay_0'] = np.where((cat_data.pay_0 == '4'),'paid_4months_late',cat_data.pay_0)\n",
    "cat_data['pay_0'] = np.where((cat_data.pay_0 == '5'),'paid_5months_late',cat_data.pay_0)\n",
    "cat_data['pay_0'] = np.where((cat_data.pay_0 == '6'),'paid_6months_late',cat_data.pay_0)\n",
    "cat_data['pay_0'] = np.where((cat_data.pay_0 == '7'),'paid_7months_late',cat_data.pay_0)\n",
    "cat_data['pay_0'] = np.where((cat_data.pay_0 == '8'),'paid_8months_late',cat_data.pay_0)\n",
    "\n",
    "cat_data['pay_2'] = np.where((cat_data.pay_2 == 0),'paid_on_time',cat_data.pay_2)\n",
    "cat_data['pay_2'] = np.where((cat_data.pay_2 == '1'),'paid_1month_late',cat_data.pay_2)\n",
    "cat_data['pay_2'] = np.where((cat_data.pay_2 == '2'),'paid_2months_late',cat_data.pay_2)\n",
    "cat_data['pay_2'] = np.where((cat_data.pay_2 == '3'),'paid_3months_late',cat_data.pay_2)\n",
    "cat_data['pay_2'] = np.where((cat_data.pay_2 == '4'),'paid_4months_late',cat_data.pay_2)\n",
    "cat_data['pay_2'] = np.where((cat_data.pay_2 == '5'),'paid_5months_late',cat_data.pay_2)\n",
    "cat_data['pay_2'] = np.where((cat_data.pay_2 == '6'),'paid_6months_late',cat_data.pay_2)\n",
    "cat_data['pay_2'] = np.where((cat_data.pay_2 == '7'),'paid_7months_late',cat_data.pay_2)\n",
    "cat_data['pay_2'] = np.where((cat_data.pay_2 == '8'),'paid_8months_late',cat_data.pay_2)\n",
    "\n",
    "cat_data['pay_3'] = np.where((cat_data.pay_3 == 0),'paid_on_time',cat_data.pay_3)\n",
    "cat_data['pay_3'] = np.where((cat_data.pay_3 == '1'),'paid_1month_late',cat_data.pay_3)\n",
    "cat_data['pay_3'] = np.where((cat_data.pay_3 == '2'),'paid_2months_late',cat_data.pay_3)\n",
    "cat_data['pay_3'] = np.where((cat_data.pay_3 == '3'),'paid_3months_late',cat_data.pay_3)\n",
    "cat_data['pay_3'] = np.where((cat_data.pay_3 == '4'),'paid_4months_late',cat_data.pay_3)\n",
    "cat_data['pay_3'] = np.where((cat_data.pay_3 == '5'),'paid_5months_late',cat_data.pay_3)\n",
    "cat_data['pay_3'] = np.where((cat_data.pay_3 == '6'),'paid_6months_late',cat_data.pay_3)\n",
    "cat_data['pay_3'] = np.where((cat_data.pay_3 == '7'),'paid_7months_late',cat_data.pay_3)\n",
    "cat_data['pay_3'] = np.where((cat_data.pay_3 == '8'),'paid_8months_late',cat_data.pay_3)\n",
    "\n",
    "cat_data['pay_4'] = np.where((cat_data.pay_4 == 0),'paid_on_time',cat_data.pay_4)\n",
    "cat_data['pay_4'] = np.where((cat_data.pay_4 == '1'),'paid_1month_late',cat_data.pay_4)\n",
    "cat_data['pay_4'] = np.where((cat_data.pay_4 == '2'),'paid_2months_late',cat_data.pay_4)\n",
    "cat_data['pay_4'] = np.where((cat_data.pay_4 == '3'),'paid_3months_late',cat_data.pay_4)\n",
    "cat_data['pay_4'] = np.where((cat_data.pay_4 == '4'),'paid_4months_late',cat_data.pay_4)\n",
    "cat_data['pay_4'] = np.where((cat_data.pay_4 == '5'),'paid_5months_late',cat_data.pay_4)\n",
    "cat_data['pay_4'] = np.where((cat_data.pay_4 == '6'),'paid_6months_late',cat_data.pay_4)\n",
    "cat_data['pay_4'] = np.where((cat_data.pay_4 == '7'),'paid_7months_late',cat_data.pay_4)\n",
    "cat_data['pay_4'] = np.where((cat_data.pay_4 == '8'),'paid_8months_late',cat_data.pay_4)\n",
    "\n",
    "cat_data['pay_5'] = np.where((cat_data.pay_5 == 0),'paid_on_time',cat_data.pay_5)\n",
    "cat_data['pay_5'] = np.where((cat_data.pay_5 == '1'),'paid_1month_late',cat_data.pay_5)\n",
    "cat_data['pay_5'] = np.where((cat_data.pay_5 == '2'),'paid_2months_late',cat_data.pay_5)\n",
    "cat_data['pay_5'] = np.where((cat_data.pay_5 == '3'),'paid_3months_late',cat_data.pay_5)\n",
    "cat_data['pay_5'] = np.where((cat_data.pay_5 == '4'),'paid_4months_late',cat_data.pay_5)\n",
    "cat_data['pay_5'] = np.where((cat_data.pay_5 == '5'),'paid_5months_late',cat_data.pay_5)\n",
    "cat_data['pay_5'] = np.where((cat_data.pay_5 == '6'),'paid_6months_late',cat_data.pay_5)\n",
    "cat_data['pay_5'] = np.where((cat_data.pay_5 == '7'),'paid_7months_late',cat_data.pay_5)\n",
    "cat_data['pay_5'] = np.where((cat_data.pay_5 == '8'),'paid_8months_late',cat_data.pay_5)\n",
    "\n",
    "cat_data['pay_6'] = np.where((cat_data.pay_6 == 0),'paid_on_time',cat_data.pay_6)\n",
    "cat_data['pay_6'] = np.where((cat_data.pay_6 == '1'),'paid_1month_late',cat_data.pay_6)\n",
    "cat_data['pay_6'] = np.where((cat_data.pay_6 == '2'),'paid_2months_late',cat_data.pay_6)\n",
    "cat_data['pay_6'] = np.where((cat_data.pay_6 == '3'),'paid_3months_late',cat_data.pay_6)\n",
    "cat_data['pay_6'] = np.where((cat_data.pay_6 == '4'),'paid_4months_late',cat_data.pay_6)\n",
    "cat_data['pay_6'] = np.where((cat_data.pay_6 == '5'),'paid_5months_late',cat_data.pay_6)\n",
    "cat_data['pay_6'] = np.where((cat_data.pay_6 == '6'),'paid_6months_late',cat_data.pay_6)\n",
    "cat_data['pay_6'] = np.where((cat_data.pay_6 == '7'),'paid_7months_late',cat_data.pay_6)\n",
    "cat_data['pay_6'] = np.where((cat_data.pay_6 == '8'),'paid_8months_late',cat_data.pay_6)\n",
    "\n",
    "cat_data.head()"
   ]
  },
  {
   "cell_type": "code",
   "execution_count": 424,
   "metadata": {},
   "outputs": [],
   "source": [
    "X = cat_data.iloc[:, :-1]\n",
    "y = cat_data.iloc[:, -1]"
   ]
  },
  {
   "cell_type": "markdown",
   "metadata": {},
   "source": [
    "We can use the OrdinalEncoder() from scikit-learn to encode each variable to integers. This is a flexible class and does allow the order of the categories to be specified as arguments if any such order is known.\n",
    "\n",
    "Yes, I know we are undoing what we did above, but this is just for showing how to code things if we started with a less clean dataset"
   ]
  },
  {
   "cell_type": "code",
   "execution_count": 425,
   "metadata": {},
   "outputs": [],
   "source": [
    "from sklearn.model_selection import train_test_split\n",
    "from sklearn.preprocessing import LabelEncoder\n",
    "from sklearn.preprocessing import OrdinalEncoder\n",
    "from sklearn.feature_selection import SelectKBest\n",
    "from sklearn.feature_selection import chi2\n",
    "from matplotlib import pyplot"
   ]
  },
  {
   "cell_type": "markdown",
   "metadata": {},
   "source": [
    "[Label vs. Ordinal Encoders](https://stackoverflow.com/questions/54440507/encoding-ordinal-values-in-python)\n",
    "\n",
    "[OrdinalEncoder Help](https://stackoverflow.com/questions/53295208/specifying-the-order-of-encoding-in-ordinal-encoder)\n",
    "\n",
    "[Sklearn OrdinalEncoder](https://towardsdatascience.com/preprocessing-with-sklearn-a-complete-and-comprehensive-guide-670cb98fcfb9)"
   ]
  },
  {
   "cell_type": "code",
   "execution_count": 426,
   "metadata": {},
   "outputs": [],
   "source": [
    "#Prepare input variable (independent variables)\n",
    "\n",
    "X_enc = X.copy()\n",
    "\n",
    "oe = OrdinalEncoder(categories=[['unknown', 'other', 'high_school', 'university', 'grad_school']])\n",
    "X_enc.education = oe.fit_transform(X.education.values.reshape(-1, 1))\n",
    "\n",
    "pay_cats = ['paid_on_time', 'paid_1month_late', 'paid_2months_late', \n",
    "                                 'paid_3months_late', 'paid_4months_late',\n",
    "                                 'paid_5months_late', 'paid_6months_late',\n",
    "                                 'paid_7months_late', 'paid_8months_late']\n",
    "\n",
    "oe = OrdinalEncoder(categories=[pay_cats,pay_cats,pay_cats,pay_cats,pay_cats,pay_cats])\n",
    "X_enc.iloc[:,3:] = oe.fit_transform(X.iloc[:,3:])\n",
    "\n",
    "oe = OrdinalEncoder()\n",
    "X_enc[['sex','marriage']] = oe.fit_transform(X[['sex','marriage']])\n",
    "\n",
    "#oe.categories_\n",
    "\n"
   ]
  },
  {
   "cell_type": "code",
   "execution_count": 427,
   "metadata": {},
   "outputs": [
    {
     "data": {
      "text/html": [
       "<div>\n",
       "<style scoped>\n",
       "    .dataframe tbody tr th:only-of-type {\n",
       "        vertical-align: middle;\n",
       "    }\n",
       "\n",
       "    .dataframe tbody tr th {\n",
       "        vertical-align: top;\n",
       "    }\n",
       "\n",
       "    .dataframe thead th {\n",
       "        text-align: right;\n",
       "    }\n",
       "</style>\n",
       "<table border=\"1\" class=\"dataframe\">\n",
       "  <thead>\n",
       "    <tr style=\"text-align: right;\">\n",
       "      <th></th>\n",
       "      <th>sex</th>\n",
       "      <th>education</th>\n",
       "      <th>marriage</th>\n",
       "      <th>pay_0</th>\n",
       "      <th>pay_2</th>\n",
       "      <th>pay_3</th>\n",
       "      <th>pay_4</th>\n",
       "      <th>pay_5</th>\n",
       "      <th>pay_6</th>\n",
       "    </tr>\n",
       "  </thead>\n",
       "  <tbody>\n",
       "    <tr>\n",
       "      <th>0</th>\n",
       "      <td>0.0</td>\n",
       "      <td>3.0</td>\n",
       "      <td>0.0</td>\n",
       "      <td>2.0</td>\n",
       "      <td>2.0</td>\n",
       "      <td>0.0</td>\n",
       "      <td>0.0</td>\n",
       "      <td>0.0</td>\n",
       "      <td>0.0</td>\n",
       "    </tr>\n",
       "    <tr>\n",
       "      <th>1</th>\n",
       "      <td>0.0</td>\n",
       "      <td>3.0</td>\n",
       "      <td>2.0</td>\n",
       "      <td>0.0</td>\n",
       "      <td>2.0</td>\n",
       "      <td>0.0</td>\n",
       "      <td>0.0</td>\n",
       "      <td>0.0</td>\n",
       "      <td>2.0</td>\n",
       "    </tr>\n",
       "    <tr>\n",
       "      <th>2</th>\n",
       "      <td>0.0</td>\n",
       "      <td>3.0</td>\n",
       "      <td>2.0</td>\n",
       "      <td>0.0</td>\n",
       "      <td>0.0</td>\n",
       "      <td>0.0</td>\n",
       "      <td>0.0</td>\n",
       "      <td>0.0</td>\n",
       "      <td>0.0</td>\n",
       "    </tr>\n",
       "    <tr>\n",
       "      <th>3</th>\n",
       "      <td>0.0</td>\n",
       "      <td>3.0</td>\n",
       "      <td>0.0</td>\n",
       "      <td>0.0</td>\n",
       "      <td>0.0</td>\n",
       "      <td>0.0</td>\n",
       "      <td>0.0</td>\n",
       "      <td>0.0</td>\n",
       "      <td>0.0</td>\n",
       "    </tr>\n",
       "    <tr>\n",
       "      <th>4</th>\n",
       "      <td>1.0</td>\n",
       "      <td>3.0</td>\n",
       "      <td>0.0</td>\n",
       "      <td>0.0</td>\n",
       "      <td>0.0</td>\n",
       "      <td>0.0</td>\n",
       "      <td>0.0</td>\n",
       "      <td>0.0</td>\n",
       "      <td>0.0</td>\n",
       "    </tr>\n",
       "    <tr>\n",
       "      <th>...</th>\n",
       "      <td>...</td>\n",
       "      <td>...</td>\n",
       "      <td>...</td>\n",
       "      <td>...</td>\n",
       "      <td>...</td>\n",
       "      <td>...</td>\n",
       "      <td>...</td>\n",
       "      <td>...</td>\n",
       "      <td>...</td>\n",
       "    </tr>\n",
       "    <tr>\n",
       "      <th>29995</th>\n",
       "      <td>1.0</td>\n",
       "      <td>2.0</td>\n",
       "      <td>0.0</td>\n",
       "      <td>0.0</td>\n",
       "      <td>0.0</td>\n",
       "      <td>0.0</td>\n",
       "      <td>0.0</td>\n",
       "      <td>0.0</td>\n",
       "      <td>0.0</td>\n",
       "    </tr>\n",
       "    <tr>\n",
       "      <th>29996</th>\n",
       "      <td>1.0</td>\n",
       "      <td>2.0</td>\n",
       "      <td>2.0</td>\n",
       "      <td>0.0</td>\n",
       "      <td>0.0</td>\n",
       "      <td>0.0</td>\n",
       "      <td>0.0</td>\n",
       "      <td>0.0</td>\n",
       "      <td>0.0</td>\n",
       "    </tr>\n",
       "    <tr>\n",
       "      <th>29997</th>\n",
       "      <td>1.0</td>\n",
       "      <td>3.0</td>\n",
       "      <td>2.0</td>\n",
       "      <td>4.0</td>\n",
       "      <td>3.0</td>\n",
       "      <td>2.0</td>\n",
       "      <td>0.0</td>\n",
       "      <td>0.0</td>\n",
       "      <td>0.0</td>\n",
       "    </tr>\n",
       "    <tr>\n",
       "      <th>29998</th>\n",
       "      <td>1.0</td>\n",
       "      <td>2.0</td>\n",
       "      <td>0.0</td>\n",
       "      <td>1.0</td>\n",
       "      <td>0.0</td>\n",
       "      <td>0.0</td>\n",
       "      <td>0.0</td>\n",
       "      <td>0.0</td>\n",
       "      <td>0.0</td>\n",
       "    </tr>\n",
       "    <tr>\n",
       "      <th>29999</th>\n",
       "      <td>1.0</td>\n",
       "      <td>3.0</td>\n",
       "      <td>0.0</td>\n",
       "      <td>0.0</td>\n",
       "      <td>0.0</td>\n",
       "      <td>0.0</td>\n",
       "      <td>0.0</td>\n",
       "      <td>0.0</td>\n",
       "      <td>0.0</td>\n",
       "    </tr>\n",
       "  </tbody>\n",
       "</table>\n",
       "<p>30000 rows × 9 columns</p>\n",
       "</div>"
      ],
      "text/plain": [
       "       sex  education  marriage  pay_0  pay_2  pay_3  pay_4  pay_5  pay_6\n",
       "0      0.0        3.0       0.0    2.0    2.0    0.0    0.0    0.0    0.0\n",
       "1      0.0        3.0       2.0    0.0    2.0    0.0    0.0    0.0    2.0\n",
       "2      0.0        3.0       2.0    0.0    0.0    0.0    0.0    0.0    0.0\n",
       "3      0.0        3.0       0.0    0.0    0.0    0.0    0.0    0.0    0.0\n",
       "4      1.0        3.0       0.0    0.0    0.0    0.0    0.0    0.0    0.0\n",
       "...    ...        ...       ...    ...    ...    ...    ...    ...    ...\n",
       "29995  1.0        2.0       0.0    0.0    0.0    0.0    0.0    0.0    0.0\n",
       "29996  1.0        2.0       2.0    0.0    0.0    0.0    0.0    0.0    0.0\n",
       "29997  1.0        3.0       2.0    4.0    3.0    2.0    0.0    0.0    0.0\n",
       "29998  1.0        2.0       0.0    1.0    0.0    0.0    0.0    0.0    0.0\n",
       "29999  1.0        3.0       0.0    0.0    0.0    0.0    0.0    0.0    0.0\n",
       "\n",
       "[30000 rows x 9 columns]"
      ]
     },
     "execution_count": 427,
     "metadata": {},
     "output_type": "execute_result"
    }
   ],
   "source": [
    "X_enc"
   ]
  },
  {
   "cell_type": "code",
   "execution_count": 428,
   "metadata": {},
   "outputs": [],
   "source": [
    "# Prepare target\n",
    "\n",
    "y_enc = y.copy()\n",
    "\n",
    "le = LabelEncoder()\n",
    "y_enc = le.fit_transform(y)\n"
   ]
  },
  {
   "cell_type": "code",
   "execution_count": 429,
   "metadata": {},
   "outputs": [
    {
     "data": {
      "text/plain": [
       "array([1, 1, 0, ..., 1, 1, 1])"
      ]
     },
     "execution_count": 429,
     "metadata": {},
     "output_type": "execute_result"
    }
   ],
   "source": [
    "y_enc"
   ]
  },
  {
   "cell_type": "markdown",
   "metadata": {},
   "source": [
    "### End encoding"
   ]
  },
  {
   "cell_type": "markdown",
   "metadata": {},
   "source": [
    "### chi-squared (chi2)\n",
    "\n",
    "The scikit-learn machine library also provides an implementation of the chi-squared test in the chi2() function. This function can be used in a **feature selection strategy**, such as selecting the top k most relevant features (largest values) via the SelectKBest class.\n",
    "\n",
    "For example, we can define the SelectKBest class to use the chi2() function and select all features, then transform the train and test sets."
   ]
  },
  {
   "cell_type": "code",
   "execution_count": 430,
   "metadata": {},
   "outputs": [],
   "source": [
    "# split into train and test sets -- use 75% of the data for training and 25% for testing.\n",
    "X_train_enc, X_test_enc, y_train_enc, y_test_enc = train_test_split(X_enc, y_enc, test_size=0.25, random_state=1)"
   ]
  },
  {
   "cell_type": "code",
   "execution_count": 431,
   "metadata": {},
   "outputs": [
    {
     "name": "stdout",
     "output_type": "stream",
     "text": [
      "Train (22500, 9) (22500,)\n",
      "Test (7500, 9) (7500,)\n"
     ]
    }
   ],
   "source": [
    "# summarize\n",
    "print('Train', X_train_enc.shape, y_train_enc.shape)\n",
    "print('Test', X_test_enc.shape, y_test_enc.shape)"
   ]
  },
  {
   "cell_type": "code",
   "execution_count": 432,
   "metadata": {},
   "outputs": [],
   "source": [
    "# feature selection\n",
    "def select_features(X_train, y_train, X_test):\n",
    "    fs = SelectKBest(score_func=chi2, k='all')\n",
    "    fs.fit(X_train, y_train)\n",
    "    X_train_fs = fs.transform(X_train)\n",
    "    X_test_fs = fs.transform(X_test)\n",
    "    return X_train_fs, X_test_fs, fs"
   ]
  },
  {
   "cell_type": "markdown",
   "metadata": {},
   "source": [
    "### Selection strategy\n",
    "Outcome...."
   ]
  },
  {
   "cell_type": "code",
   "execution_count": 446,
   "metadata": {},
   "outputs": [
    {
     "name": "stdout",
     "output_type": "stream",
     "text": [
      "Feature 0: 16.234230\n",
      "Feature 1: 3.564257\n",
      "Feature 2: 20.810206\n",
      "Feature 3: 5756.642705\n",
      "Feature 4: 4970.090561\n",
      "Feature 5: 3822.148800\n",
      "Feature 6: 3678.842810\n",
      "Feature 7: 3543.233511\n",
      "Feature 8: 2958.710178\n"
     ]
    },
    {
     "data": {
      "image/png": "[encoded data removed]",
      "text/plain": [
       "<Figure size 432x288 with 1 Axes>"
      ]
     },
     "metadata": {},
     "output_type": "display_data"
    }
   ],
   "source": [
    "# feature selection\n",
    "X_train_fs, X_test_fs, fs = select_features(X_train_enc, y_train_enc, X_test_enc)\n",
    "# what are scores for the features\n",
    "for i in range(len(fs.scores_)):\n",
    "    print('Feature %d: %f' % (i, fs.scores_[i]))\n",
    "# plot the scores\n",
    "pyplot.bar([i for i in range(len(fs.scores_))], fs.scores_)\n",
    "pyplot.show()"
   ]
  },
  {
   "cell_type": "markdown",
   "metadata": {},
   "source": [
    "Running the example first prints the scores calculated for each input feature and the target variable.\n",
    "\n",
    "Note: your specific results may differ. Try running the example a few times.\n",
    "\n",
    "In some cases it may be hard to get an idea from the number alone as to which features are more relevant.\n",
    "\n",
    "Perhaps the repayment featrues are most relevant (especially the most recent repayment, pay_0).\n",
    "\n",
    "A bar chart of the feature importance scores for each input feature  was also created above.\n",
    "\n",
    "This clearly shows that features 3 (pay_0) and 4 (pay_2) might be the most relevant with sex, marriage, and education being little relevant.\n",
    "\n",
    "We could set k=4 (vs. =all) when configuring the SelectKBest to select the top four features."
   ]
  },
  {
   "cell_type": "markdown",
   "metadata": {},
   "source": [
    "#### ANOVA Assumptions\n",
    "\n",
    "- Normality\n",
    "    * Caveat to this is, if group sizes are equal, the F-statistic is robust to violations of normality\n",
    "- Homogeneity of variance\n",
    "    * Same caveat as above, if group sizes are equal, the F-statistic is robust to this violation\n",
    "- Independent observations\n",
    "\n",
    "#### Hypotheses\n",
    "- $H_0$: No difference between means\n",
    "- $H_a$: Difference between means exist somewhere\n",
    "\n",
    "If the p-value is less than or equal to the significance level, you reject the null hypothesis and conclude that not all of population means are equal. \n",
    "\n",
    "If the p-value is greater than the significance level, you do not have enough evidence to reject the null hypothesis that the population means are all equal.\n",
    "\n",
    "For $p < 0.05$, we will reject the null hypothesis"
   ]
  },
  {
   "cell_type": "markdown",
   "metadata": {},
   "source": [
    "<font color=\"red\">NOTE</font><br>\n",
    "Below we just show the functions you can use.  This exercise doesn't really make sense/isn't useful to the analysis.  Just an example to show the mechanics."
   ]
  },
  {
   "cell_type": "code",
   "execution_count": 72,
   "metadata": {},
   "outputs": [
    {
     "name": "stdout",
     "output_type": "stream",
     "text": [
      "\n",
      "\n"
     ]
    },
    {
     "data": {
      "text/html": [
       "<div>\n",
       "<style scoped>\n",
       "    .dataframe tbody tr th:only-of-type {\n",
       "        vertical-align: middle;\n",
       "    }\n",
       "\n",
       "    .dataframe tbody tr th {\n",
       "        vertical-align: top;\n",
       "    }\n",
       "\n",
       "    .dataframe thead th {\n",
       "        text-align: right;\n",
       "    }\n",
       "</style>\n",
       "<table border=\"1\" class=\"dataframe\">\n",
       "  <thead>\n",
       "    <tr style=\"text-align: right;\">\n",
       "      <th></th>\n",
       "      <th>N</th>\n",
       "      <th>Mean</th>\n",
       "      <th>SD</th>\n",
       "      <th>SE</th>\n",
       "      <th>95% Conf.</th>\n",
       "      <th>Interval</th>\n",
       "    </tr>\n",
       "    <tr>\n",
       "      <th>default</th>\n",
       "      <th></th>\n",
       "      <th></th>\n",
       "      <th></th>\n",
       "      <th></th>\n",
       "      <th></th>\n",
       "      <th></th>\n",
       "    </tr>\n",
       "  </thead>\n",
       "  <tbody>\n",
       "    <tr>\n",
       "      <th>0</th>\n",
       "      <td>23364</td>\n",
       "      <td>35.417266</td>\n",
       "      <td>9.077355</td>\n",
       "      <td>0.059386</td>\n",
       "      <td>35.300866</td>\n",
       "      <td>35.533665</td>\n",
       "    </tr>\n",
       "    <tr>\n",
       "      <th>1</th>\n",
       "      <td>6636</td>\n",
       "      <td>35.725738</td>\n",
       "      <td>9.693438</td>\n",
       "      <td>0.118994</td>\n",
       "      <td>35.492493</td>\n",
       "      <td>35.958984</td>\n",
       "    </tr>\n",
       "  </tbody>\n",
       "</table>\n",
       "</div>"
      ],
      "text/plain": [
       "             N       Mean        SD        SE  95% Conf.   Interval\n",
       "default                                                            \n",
       "0        23364  35.417266  9.077355  0.059386  35.300866  35.533665\n",
       "1         6636  35.725738  9.693438  0.118994  35.492493  35.958984"
      ]
     },
     "execution_count": 72,
     "metadata": {},
     "output_type": "execute_result"
    }
   ],
   "source": [
    "rp.summary_cont(app_train['AGE'].groupby(app_train['default']))"
   ]
  },
  {
   "cell_type": "code",
   "execution_count": 73,
   "metadata": {},
   "outputs": [
    {
     "name": "stdout",
     "output_type": "stream",
     "text": [
      "\n",
      "\n"
     ]
    },
    {
     "data": {
      "text/html": [
       "<div>\n",
       "<style scoped>\n",
       "    .dataframe tbody tr th:only-of-type {\n",
       "        vertical-align: middle;\n",
       "    }\n",
       "\n",
       "    .dataframe tbody tr th {\n",
       "        vertical-align: top;\n",
       "    }\n",
       "\n",
       "    .dataframe thead th {\n",
       "        text-align: right;\n",
       "    }\n",
       "</style>\n",
       "<table border=\"1\" class=\"dataframe\">\n",
       "  <thead>\n",
       "    <tr style=\"text-align: right;\">\n",
       "      <th></th>\n",
       "      <th>N</th>\n",
       "      <th>Mean</th>\n",
       "      <th>SD</th>\n",
       "      <th>SE</th>\n",
       "      <th>95% Conf.</th>\n",
       "      <th>Interval</th>\n",
       "    </tr>\n",
       "    <tr>\n",
       "      <th>default</th>\n",
       "      <th></th>\n",
       "      <th></th>\n",
       "      <th></th>\n",
       "      <th></th>\n",
       "      <th></th>\n",
       "      <th></th>\n",
       "    </tr>\n",
       "  </thead>\n",
       "  <tbody>\n",
       "    <tr>\n",
       "      <th>0</th>\n",
       "      <td>23364</td>\n",
       "      <td>178099.726074</td>\n",
       "      <td>131628.359660</td>\n",
       "      <td>861.144179</td>\n",
       "      <td>176411.847361</td>\n",
       "      <td>179787.604787</td>\n",
       "    </tr>\n",
       "    <tr>\n",
       "      <th>1</th>\n",
       "      <td>6636</td>\n",
       "      <td>130109.656420</td>\n",
       "      <td>115378.540571</td>\n",
       "      <td>1416.354128</td>\n",
       "      <td>127333.393139</td>\n",
       "      <td>132885.919700</td>\n",
       "    </tr>\n",
       "  </tbody>\n",
       "</table>\n",
       "</div>"
      ],
      "text/plain": [
       "             N           Mean             SD           SE      95% Conf.  \\\n",
       "default                                                                    \n",
       "0        23364  178099.726074  131628.359660   861.144179  176411.847361   \n",
       "1         6636  130109.656420  115378.540571  1416.354128  127333.393139   \n",
       "\n",
       "              Interval  \n",
       "default                 \n",
       "0        179787.604787  \n",
       "1        132885.919700  "
      ]
     },
     "execution_count": 73,
     "metadata": {},
     "output_type": "execute_result"
    }
   ],
   "source": [
    "rp.summary_cont(app_train['LIMIT_BAL'].groupby(app_train['default']))"
   ]
  },
  {
   "cell_type": "code",
   "execution_count": 78,
   "metadata": {},
   "outputs": [
    {
     "data": {
      "text/plain": [
       "F_onewayResult(statistic=5.788555824672056, pvalue=0.016136845890286453)"
      ]
     },
     "execution_count": 78,
     "metadata": {},
     "output_type": "execute_result"
    }
   ],
   "source": [
    "stats.f_oneway(app_train['AGE'][app_train['default'] == 0], \n",
    "             app_train['AGE'][app_train['default'] == 1])"
   ]
  },
  {
   "cell_type": "code",
   "execution_count": 80,
   "metadata": {},
   "outputs": [
    {
     "data": {
      "text/plain": [
       "F_onewayResult(statistic=724.0685392611651, pvalue=1.3022439532706416e-157)"
      ]
     },
     "execution_count": 80,
     "metadata": {},
     "output_type": "execute_result"
    }
   ],
   "source": [
    "stats.f_oneway(app_train['LIMIT_BAL'][app_train['default'] == 0], \n",
    "             app_train['LIMIT_BAL'][app_train['default'] == 1])"
   ]
  },
  {
   "cell_type": "code",
   "execution_count": 102,
   "metadata": {},
   "outputs": [],
   "source": [
    "results = ols('AGE ~ C(default)', data=app_train).fit()\n",
    "#results.summary()"
   ]
  },
  {
   "cell_type": "code",
   "execution_count": 101,
   "metadata": {},
   "outputs": [
    {
     "data": {
      "text/html": [
       "<div>\n",
       "<style scoped>\n",
       "    .dataframe tbody tr th:only-of-type {\n",
       "        vertical-align: middle;\n",
       "    }\n",
       "\n",
       "    .dataframe tbody tr th {\n",
       "        vertical-align: top;\n",
       "    }\n",
       "\n",
       "    .dataframe thead th {\n",
       "        text-align: right;\n",
       "    }\n",
       "</style>\n",
       "<table border=\"1\" class=\"dataframe\">\n",
       "  <thead>\n",
       "    <tr style=\"text-align: right;\">\n",
       "      <th></th>\n",
       "      <th>sum_sq</th>\n",
       "      <th>df</th>\n",
       "      <th>F</th>\n",
       "      <th>PR(&gt;F)</th>\n",
       "    </tr>\n",
       "  </thead>\n",
       "  <tbody>\n",
       "    <tr>\n",
       "      <th>C(AGE)</th>\n",
       "      <td>27.313997</td>\n",
       "      <td>55.0</td>\n",
       "      <td>2.892687</td>\n",
       "      <td>5.163895e-12</td>\n",
       "    </tr>\n",
       "    <tr>\n",
       "      <th>Residual</th>\n",
       "      <td>5140.802803</td>\n",
       "      <td>29944.0</td>\n",
       "      <td>NaN</td>\n",
       "      <td>NaN</td>\n",
       "    </tr>\n",
       "  </tbody>\n",
       "</table>\n",
       "</div>"
      ],
      "text/plain": [
       "               sum_sq       df         F        PR(>F)\n",
       "C(AGE)      27.313997     55.0  2.892687  5.163895e-12\n",
       "Residual  5140.802803  29944.0       NaN           NaN"
      ]
     },
     "execution_count": 101,
     "metadata": {},
     "output_type": "execute_result"
    }
   ],
   "source": [
    "aov_table = sm.stats.anova_lm(results, typ=2)\n",
    "aov_table"
   ]
  },
  {
   "cell_type": "code",
   "execution_count": 96,
   "metadata": {},
   "outputs": [],
   "source": [
    "results = ols('LIMIT_BAL ~ C(default)', data=app_train).fit()\n",
    "#results.summary()"
   ]
  },
  {
   "cell_type": "code",
   "execution_count": 97,
   "metadata": {},
   "outputs": [
    {
     "data": {
      "text/html": [
       "<div>\n",
       "<style scoped>\n",
       "    .dataframe tbody tr th:only-of-type {\n",
       "        vertical-align: middle;\n",
       "    }\n",
       "\n",
       "    .dataframe tbody tr th {\n",
       "        vertical-align: top;\n",
       "    }\n",
       "\n",
       "    .dataframe thead th {\n",
       "        text-align: right;\n",
       "    }\n",
       "</style>\n",
       "<table border=\"1\" class=\"dataframe\">\n",
       "  <thead>\n",
       "    <tr style=\"text-align: right;\">\n",
       "      <th></th>\n",
       "      <th>sum_sq</th>\n",
       "      <th>df</th>\n",
       "      <th>F</th>\n",
       "      <th>PR(&gt;F)</th>\n",
       "    </tr>\n",
       "  </thead>\n",
       "  <tbody>\n",
       "    <tr>\n",
       "      <th>C(default)</th>\n",
       "      <td>1.190241e+13</td>\n",
       "      <td>1.0</td>\n",
       "      <td>724.068539</td>\n",
       "      <td>1.302244e-157</td>\n",
       "    </tr>\n",
       "    <tr>\n",
       "      <th>Residual</th>\n",
       "      <td>4.931144e+14</td>\n",
       "      <td>29998.0</td>\n",
       "      <td>NaN</td>\n",
       "      <td>NaN</td>\n",
       "    </tr>\n",
       "  </tbody>\n",
       "</table>\n",
       "</div>"
      ],
      "text/plain": [
       "                  sum_sq       df           F         PR(>F)\n",
       "C(default)  1.190241e+13      1.0  724.068539  1.302244e-157\n",
       "Residual    4.931144e+14  29998.0         NaN            NaN"
      ]
     },
     "execution_count": 97,
     "metadata": {},
     "output_type": "execute_result"
    }
   ],
   "source": [
    "aov_table = sm.stats.anova_lm(results, typ=2)\n",
    "aov_table"
   ]
  },
  {
   "cell_type": "markdown",
   "metadata": {},
   "source": [
    "#### Histogram of age"
   ]
  },
  {
   "cell_type": "code",
   "execution_count": 95,
   "metadata": {},
   "outputs": [
    {
     "data": {
      "image/png": "[encoded data removed]",
      "text/plain": [
       "<Figure size 432x288 with 1 Axes>"
      ]
     },
     "metadata": {},
     "output_type": "display_data"
    }
   ],
   "source": [
    "# Set the style of plots\n",
    "plt.style.use('fivethirtyeight')\n",
    "\n",
    "# Plot the distribution of ages in years\n",
    "plt.hist(app_train['AGE'], edgecolor = 'k', bins = 25)\n",
    "plt.title('Age of Client'); plt.xlabel('Age (years)'); plt.ylabel('Count');"
   ]
  },
  {
   "cell_type": "markdown",
   "metadata": {},
   "source": [
    "By itself, the distribution of age does not tell us much other than that there are no outliers as all the ages are reasonable. To visualize the effect of the age on the target, we will next make a kernel density estimation plot (KDE) colored by the value of the target. A kernel density estimate plot shows the distribution of a single variable and can be thought of as a smoothed histogram (it is created by computing a kernel, usually a Gaussian, at each data point and then averaging all the individual kernels to develop a single smooth curve). We will use the seaborn kdeplot for this graph."
   ]
  },
  {
   "cell_type": "code",
   "execution_count": 104,
   "metadata": {},
   "outputs": [
    {
     "data": {
      "image/png": "[encoded data removed]",
      "text/plain": [
       "<Figure size 720x576 with 1 Axes>"
      ]
     },
     "metadata": {},
     "output_type": "display_data"
    }
   ],
   "source": [
    "plt.figure(figsize = (10, 8))\n",
    "\n",
    "# KDE plot of loans that were repaid on time\n",
    "sns.kdeplot(app_train.loc[app_train['default'] == 0, 'AGE'], label = 'default == 0')\n",
    "\n",
    "# KDE plot of loans which were not repaid on time\n",
    "sns.kdeplot(app_train.loc[app_train['default'] == 1, 'AGE'], label = 'default == 1')\n",
    "\n",
    "# Labeling of plot\n",
    "plt.xlabel('Age (years)'); plt.ylabel('Density'); plt.title('Distribution of Ages');"
   ]
  },
  {
   "cell_type": "markdown",
   "metadata": {},
   "source": [
    "The default == 0 (no default) curve skews slightly towards the younger end of the range. Let's look at this relationship in another way: average failure to pay credit card debt by age bracket.\n",
    "\n",
    "To make this graph, first we cut the age category into bins of 5 years each. Then, for each bin, we calculate the average value of the target, which tells us the ratio of loans that were not repaid in each age category."
   ]
  },
  {
   "cell_type": "code",
   "execution_count": 106,
   "metadata": {},
   "outputs": [
    {
     "data": {
      "text/html": [
       "<div>\n",
       "<style scoped>\n",
       "    .dataframe tbody tr th:only-of-type {\n",
       "        vertical-align: middle;\n",
       "    }\n",
       "\n",
       "    .dataframe tbody tr th {\n",
       "        vertical-align: top;\n",
       "    }\n",
       "\n",
       "    .dataframe thead th {\n",
       "        text-align: right;\n",
       "    }\n",
       "</style>\n",
       "<table border=\"1\" class=\"dataframe\">\n",
       "  <thead>\n",
       "    <tr style=\"text-align: right;\">\n",
       "      <th></th>\n",
       "      <th>default</th>\n",
       "      <th>AGE</th>\n",
       "      <th>AGE_BINNED</th>\n",
       "    </tr>\n",
       "  </thead>\n",
       "  <tbody>\n",
       "    <tr>\n",
       "      <th>0</th>\n",
       "      <td>1</td>\n",
       "      <td>24</td>\n",
       "      <td>(20.0, 25.0]</td>\n",
       "    </tr>\n",
       "    <tr>\n",
       "      <th>1</th>\n",
       "      <td>1</td>\n",
       "      <td>26</td>\n",
       "      <td>(25.0, 30.0]</td>\n",
       "    </tr>\n",
       "    <tr>\n",
       "      <th>2</th>\n",
       "      <td>0</td>\n",
       "      <td>34</td>\n",
       "      <td>(30.0, 35.0]</td>\n",
       "    </tr>\n",
       "    <tr>\n",
       "      <th>3</th>\n",
       "      <td>0</td>\n",
       "      <td>37</td>\n",
       "      <td>(35.0, 40.0]</td>\n",
       "    </tr>\n",
       "    <tr>\n",
       "      <th>4</th>\n",
       "      <td>0</td>\n",
       "      <td>57</td>\n",
       "      <td>(55.0, 60.0]</td>\n",
       "    </tr>\n",
       "    <tr>\n",
       "      <th>5</th>\n",
       "      <td>0</td>\n",
       "      <td>37</td>\n",
       "      <td>(35.0, 40.0]</td>\n",
       "    </tr>\n",
       "    <tr>\n",
       "      <th>6</th>\n",
       "      <td>0</td>\n",
       "      <td>29</td>\n",
       "      <td>(25.0, 30.0]</td>\n",
       "    </tr>\n",
       "    <tr>\n",
       "      <th>7</th>\n",
       "      <td>0</td>\n",
       "      <td>23</td>\n",
       "      <td>(20.0, 25.0]</td>\n",
       "    </tr>\n",
       "    <tr>\n",
       "      <th>8</th>\n",
       "      <td>0</td>\n",
       "      <td>28</td>\n",
       "      <td>(25.0, 30.0]</td>\n",
       "    </tr>\n",
       "    <tr>\n",
       "      <th>9</th>\n",
       "      <td>0</td>\n",
       "      <td>35</td>\n",
       "      <td>(30.0, 35.0]</td>\n",
       "    </tr>\n",
       "  </tbody>\n",
       "</table>\n",
       "</div>"
      ],
      "text/plain": [
       "   default  AGE    AGE_BINNED\n",
       "0        1   24  (20.0, 25.0]\n",
       "1        1   26  (25.0, 30.0]\n",
       "2        0   34  (30.0, 35.0]\n",
       "3        0   37  (35.0, 40.0]\n",
       "4        0   57  (55.0, 60.0]\n",
       "5        0   37  (35.0, 40.0]\n",
       "6        0   29  (25.0, 30.0]\n",
       "7        0   23  (20.0, 25.0]\n",
       "8        0   28  (25.0, 30.0]\n",
       "9        0   35  (30.0, 35.0]"
      ]
     },
     "execution_count": 106,
     "metadata": {},
     "output_type": "execute_result"
    }
   ],
   "source": [
    "# Age information into a separate dataframe\n",
    "age_data = app_train[['default', 'AGE']]\n",
    "\n",
    "# Bin the age data\n",
    "age_data['AGE_BINNED'] = pd.cut(age_data['AGE'], bins = np.linspace(20, 70, num = 11))\n",
    "age_data.head(10)"
   ]
  },
  {
   "cell_type": "code",
   "execution_count": 107,
   "metadata": {},
   "outputs": [
    {
     "data": {
      "text/html": [
       "<div>\n",
       "<style scoped>\n",
       "    .dataframe tbody tr th:only-of-type {\n",
       "        vertical-align: middle;\n",
       "    }\n",
       "\n",
       "    .dataframe tbody tr th {\n",
       "        vertical-align: top;\n",
       "    }\n",
       "\n",
       "    .dataframe thead th {\n",
       "        text-align: right;\n",
       "    }\n",
       "</style>\n",
       "<table border=\"1\" class=\"dataframe\">\n",
       "  <thead>\n",
       "    <tr style=\"text-align: right;\">\n",
       "      <th></th>\n",
       "      <th>default</th>\n",
       "      <th>AGE</th>\n",
       "    </tr>\n",
       "    <tr>\n",
       "      <th>AGE_BINNED</th>\n",
       "      <th></th>\n",
       "      <th></th>\n",
       "    </tr>\n",
       "  </thead>\n",
       "  <tbody>\n",
       "    <tr>\n",
       "      <th>(20.0, 25.0]</th>\n",
       "      <td>0.266598</td>\n",
       "      <td>23.724619</td>\n",
       "    </tr>\n",
       "    <tr>\n",
       "      <th>(25.0, 30.0]</th>\n",
       "      <td>0.201484</td>\n",
       "      <td>28.056847</td>\n",
       "    </tr>\n",
       "    <tr>\n",
       "      <th>(30.0, 35.0]</th>\n",
       "      <td>0.194272</td>\n",
       "      <td>32.964803</td>\n",
       "    </tr>\n",
       "    <tr>\n",
       "      <th>(35.0, 40.0]</th>\n",
       "      <td>0.216189</td>\n",
       "      <td>37.885499</td>\n",
       "    </tr>\n",
       "    <tr>\n",
       "      <th>(40.0, 45.0]</th>\n",
       "      <td>0.221359</td>\n",
       "      <td>42.859085</td>\n",
       "    </tr>\n",
       "    <tr>\n",
       "      <th>(45.0, 50.0]</th>\n",
       "      <td>0.250417</td>\n",
       "      <td>47.847083</td>\n",
       "    </tr>\n",
       "    <tr>\n",
       "      <th>(50.0, 55.0]</th>\n",
       "      <td>0.247719</td>\n",
       "      <td>52.776140</td>\n",
       "    </tr>\n",
       "    <tr>\n",
       "      <th>(55.0, 60.0]</th>\n",
       "      <td>0.263986</td>\n",
       "      <td>57.543706</td>\n",
       "    </tr>\n",
       "    <tr>\n",
       "      <th>(60.0, 65.0]</th>\n",
       "      <td>0.268817</td>\n",
       "      <td>62.586022</td>\n",
       "    </tr>\n",
       "    <tr>\n",
       "      <th>(65.0, 70.0]</th>\n",
       "      <td>0.253521</td>\n",
       "      <td>67.563380</td>\n",
       "    </tr>\n",
       "  </tbody>\n",
       "</table>\n",
       "</div>"
      ],
      "text/plain": [
       "               default        AGE\n",
       "AGE_BINNED                       \n",
       "(20.0, 25.0]  0.266598  23.724619\n",
       "(25.0, 30.0]  0.201484  28.056847\n",
       "(30.0, 35.0]  0.194272  32.964803\n",
       "(35.0, 40.0]  0.216189  37.885499\n",
       "(40.0, 45.0]  0.221359  42.859085\n",
       "(45.0, 50.0]  0.250417  47.847083\n",
       "(50.0, 55.0]  0.247719  52.776140\n",
       "(55.0, 60.0]  0.263986  57.543706\n",
       "(60.0, 65.0]  0.268817  62.586022\n",
       "(65.0, 70.0]  0.253521  67.563380"
      ]
     },
     "execution_count": 107,
     "metadata": {},
     "output_type": "execute_result"
    }
   ],
   "source": [
    "# Group by the bin and calculate averages\n",
    "age_groups  = age_data.groupby('AGE_BINNED').mean()\n",
    "age_groups"
   ]
  },
  {
   "cell_type": "code",
   "execution_count": 112,
   "metadata": {},
   "outputs": [
    {
     "data": {
      "image/png": "[encoded data removed]",
      "text/plain": [
       "<Figure size 576x576 with 1 Axes>"
      ]
     },
     "metadata": {},
     "output_type": "display_data"
    }
   ],
   "source": [
    "plt.figure(figsize = (8, 8))\n",
    "\n",
    "# Graph the age bins and the average of the target as a bar plot\n",
    "plt.bar(age_groups.index.astype(str), 100 * age_groups['default'])\n",
    "\n",
    "# Plot labeling\n",
    "plt.xticks(rotation = 75); plt.xlabel('Age Group (years)'); plt.ylabel('Default (%)')\n",
    "plt.title('Default by Age Group');"
   ]
  },
  {
   "cell_type": "markdown",
   "metadata": {},
   "source": [
    "The trend appears to be that the youngest and oldest applicants are more likely to default! Perhaps the youngest do not yet have well-paying jobs and the older are on fixed (retirement) budgets and have less money.\n",
    "\n",
    "This is information that could be directly used by the bank: clients in age groups more likely to default, maybe  should be provided with more guidance or financial planning tips."
   ]
  },
  {
   "cell_type": "markdown",
   "metadata": {},
   "source": [
    "# Next Steps in Modeling\n",
    "\n",
    "Now that we've explored and better understand the data...\n",
    "\n",
    "Let's clean things up a bit and try a model\n",
    "\n",
    "### Cleaning"
   ]
  },
  {
   "cell_type": "code",
   "execution_count": 113,
   "metadata": {},
   "outputs": [],
   "source": [
    "data = app_train.copy()"
   ]
  },
  {
   "cell_type": "code",
   "execution_count": 114,
   "metadata": {},
   "outputs": [
    {
     "data": {
      "text/html": [
       "<div>\n",
       "<style scoped>\n",
       "    .dataframe tbody tr th:only-of-type {\n",
       "        vertical-align: middle;\n",
       "    }\n",
       "\n",
       "    .dataframe tbody tr th {\n",
       "        vertical-align: top;\n",
       "    }\n",
       "\n",
       "    .dataframe thead th {\n",
       "        text-align: right;\n",
       "    }\n",
       "</style>\n",
       "<table border=\"1\" class=\"dataframe\">\n",
       "  <thead>\n",
       "    <tr style=\"text-align: right;\">\n",
       "      <th></th>\n",
       "      <th>limit_bal</th>\n",
       "      <th>sex</th>\n",
       "      <th>education</th>\n",
       "      <th>marriage</th>\n",
       "      <th>age</th>\n",
       "      <th>pay_0</th>\n",
       "      <th>pay_2</th>\n",
       "      <th>pay_3</th>\n",
       "      <th>pay_4</th>\n",
       "      <th>pay_5</th>\n",
       "      <th>...</th>\n",
       "      <th>bill_amt4</th>\n",
       "      <th>bill_amt5</th>\n",
       "      <th>bill_amt6</th>\n",
       "      <th>pay_amt1</th>\n",
       "      <th>pay_amt2</th>\n",
       "      <th>pay_amt3</th>\n",
       "      <th>pay_amt4</th>\n",
       "      <th>pay_amt5</th>\n",
       "      <th>pay_amt6</th>\n",
       "      <th>default</th>\n",
       "    </tr>\n",
       "  </thead>\n",
       "  <tbody>\n",
       "    <tr>\n",
       "      <th>0</th>\n",
       "      <td>20000</td>\n",
       "      <td>2</td>\n",
       "      <td>2</td>\n",
       "      <td>1</td>\n",
       "      <td>24</td>\n",
       "      <td>2</td>\n",
       "      <td>2</td>\n",
       "      <td>-1</td>\n",
       "      <td>-1</td>\n",
       "      <td>-2</td>\n",
       "      <td>...</td>\n",
       "      <td>0</td>\n",
       "      <td>0</td>\n",
       "      <td>0</td>\n",
       "      <td>0</td>\n",
       "      <td>689</td>\n",
       "      <td>0</td>\n",
       "      <td>0</td>\n",
       "      <td>0</td>\n",
       "      <td>0</td>\n",
       "      <td>1</td>\n",
       "    </tr>\n",
       "    <tr>\n",
       "      <th>1</th>\n",
       "      <td>120000</td>\n",
       "      <td>2</td>\n",
       "      <td>2</td>\n",
       "      <td>2</td>\n",
       "      <td>26</td>\n",
       "      <td>-1</td>\n",
       "      <td>2</td>\n",
       "      <td>0</td>\n",
       "      <td>0</td>\n",
       "      <td>0</td>\n",
       "      <td>...</td>\n",
       "      <td>3272</td>\n",
       "      <td>3455</td>\n",
       "      <td>3261</td>\n",
       "      <td>0</td>\n",
       "      <td>1000</td>\n",
       "      <td>1000</td>\n",
       "      <td>1000</td>\n",
       "      <td>0</td>\n",
       "      <td>2000</td>\n",
       "      <td>1</td>\n",
       "    </tr>\n",
       "    <tr>\n",
       "      <th>2</th>\n",
       "      <td>90000</td>\n",
       "      <td>2</td>\n",
       "      <td>2</td>\n",
       "      <td>2</td>\n",
       "      <td>34</td>\n",
       "      <td>0</td>\n",
       "      <td>0</td>\n",
       "      <td>0</td>\n",
       "      <td>0</td>\n",
       "      <td>0</td>\n",
       "      <td>...</td>\n",
       "      <td>14331</td>\n",
       "      <td>14948</td>\n",
       "      <td>15549</td>\n",
       "      <td>1518</td>\n",
       "      <td>1500</td>\n",
       "      <td>1000</td>\n",
       "      <td>1000</td>\n",
       "      <td>1000</td>\n",
       "      <td>5000</td>\n",
       "      <td>0</td>\n",
       "    </tr>\n",
       "    <tr>\n",
       "      <th>3</th>\n",
       "      <td>50000</td>\n",
       "      <td>2</td>\n",
       "      <td>2</td>\n",
       "      <td>1</td>\n",
       "      <td>37</td>\n",
       "      <td>0</td>\n",
       "      <td>0</td>\n",
       "      <td>0</td>\n",
       "      <td>0</td>\n",
       "      <td>0</td>\n",
       "      <td>...</td>\n",
       "      <td>28314</td>\n",
       "      <td>28959</td>\n",
       "      <td>29547</td>\n",
       "      <td>2000</td>\n",
       "      <td>2019</td>\n",
       "      <td>1200</td>\n",
       "      <td>1100</td>\n",
       "      <td>1069</td>\n",
       "      <td>1000</td>\n",
       "      <td>0</td>\n",
       "    </tr>\n",
       "    <tr>\n",
       "      <th>4</th>\n",
       "      <td>50000</td>\n",
       "      <td>1</td>\n",
       "      <td>2</td>\n",
       "      <td>1</td>\n",
       "      <td>57</td>\n",
       "      <td>-1</td>\n",
       "      <td>0</td>\n",
       "      <td>-1</td>\n",
       "      <td>0</td>\n",
       "      <td>0</td>\n",
       "      <td>...</td>\n",
       "      <td>20940</td>\n",
       "      <td>19146</td>\n",
       "      <td>19131</td>\n",
       "      <td>2000</td>\n",
       "      <td>36681</td>\n",
       "      <td>10000</td>\n",
       "      <td>9000</td>\n",
       "      <td>689</td>\n",
       "      <td>679</td>\n",
       "      <td>0</td>\n",
       "    </tr>\n",
       "  </tbody>\n",
       "</table>\n",
       "<p>5 rows × 24 columns</p>\n",
       "</div>"
      ],
      "text/plain": [
       "   limit_bal  sex  education  marriage  age  pay_0  pay_2  pay_3  pay_4  \\\n",
       "0      20000    2          2         1   24      2      2     -1     -1   \n",
       "1     120000    2          2         2   26     -1      2      0      0   \n",
       "2      90000    2          2         2   34      0      0      0      0   \n",
       "3      50000    2          2         1   37      0      0      0      0   \n",
       "4      50000    1          2         1   57     -1      0     -1      0   \n",
       "\n",
       "   pay_5  ...  bill_amt4  bill_amt5  bill_amt6  pay_amt1  pay_amt2  pay_amt3  \\\n",
       "0     -2  ...          0          0          0         0       689         0   \n",
       "1      0  ...       3272       3455       3261         0      1000      1000   \n",
       "2      0  ...      14331      14948      15549      1518      1500      1000   \n",
       "3      0  ...      28314      28959      29547      2000      2019      1200   \n",
       "4      0  ...      20940      19146      19131      2000     36681     10000   \n",
       "\n",
       "   pay_amt4  pay_amt5  pay_amt6  default  \n",
       "0         0         0         0        1  \n",
       "1      1000         0      2000        1  \n",
       "2      1000      1000      5000        0  \n",
       "3      1100      1069      1000        0  \n",
       "4      9000       689       679        0  \n",
       "\n",
       "[5 rows x 24 columns]"
      ]
     },
     "execution_count": 114,
     "metadata": {},
     "output_type": "execute_result"
    }
   ],
   "source": [
    "data.drop(['ID'],axis=1,inplace=True)\n",
    "data.rename(columns=lambda x:x.lower(),inplace=True)\n",
    "data.rename(columns={'default.payment.next.month':'default'},inplace=True)\n",
    "data.head()"
   ]
  },
  {
   "cell_type": "code",
   "execution_count": 118,
   "metadata": {},
   "outputs": [
    {
     "name": "stdout",
     "output_type": "stream",
     "text": [
      "0 77.88000000000001\n",
      "1 22.12\n"
     ]
    }
   ],
   "source": [
    "#Remind ourselves of how many no-default to default responses we have \n",
    "#(hint: ~78% 0 (no) responses and ~22% 1 (yes))\n",
    "\n",
    "print(data.default.value_counts().index[0],\n",
    "      (data.default.value_counts()[0]/len(data)*100))\n",
    "print(data.default.value_counts().index[1], \n",
    "      (data.default.value_counts()[1]/len(data)*100))"
   ]
  },
  {
   "cell_type": "markdown",
   "metadata": {},
   "source": [
    "### Model building and Evaluation in Scikit-learn\n",
    "\n",
    "The code below is an example of logistic regression in Python using `scikit-learn`.  At the end, to improve our initial results, we show grid search using `GridSearchCV` (also from the `scikit-learn` library).\n",
    "\n",
    "**What is grid search?**\n",
    "Grid search is the process of performing hyper parameter tuning in order to determine the optimal values for a given model.  More on this [below](#GridSearchCV)."
   ]
  },
  {
   "cell_type": "markdown",
   "metadata": {},
   "source": [
    "First split the columns in our dataframe into input (X) and output (y) for modeling."
   ]
  },
  {
   "cell_type": "code",
   "execution_count": 122,
   "metadata": {},
   "outputs": [],
   "source": [
    "from sklearn.preprocessing import RobustScaler\n",
    "\n",
    "scaler=RobustScaler()\n",
    "\n",
    "label='default'\n",
    "X=data.drop(label,axis=1)\n",
    "\n",
    "features=X.columns\n",
    "\n",
    "X=scaler.fit_transform(X)\n",
    "y=data[label]"
   ]
  },
  {
   "cell_type": "markdown",
   "metadata": {},
   "source": [
    "**Functions**<br>\n",
    "Define some functions we can use\n",
    "\n",
    "It is useful to tie tie steps together into helpful functions so that we can reuse later."
   ]
  },
  {
   "cell_type": "code",
   "execution_count": 123,
   "metadata": {},
   "outputs": [],
   "source": [
    "def CFMatrix(cm,labels=['pay','default']):\n",
    "    df=pd.DataFrame(data=cm,index=labels,columns=labels)\n",
    "    df.index.name='TRUE'\n",
    "    df.columns.name='PREDICTION'\n",
    "    df.loc['Total']=df.sum()\n",
    "    df['Total']=df.sum(axis=1)\n",
    "    return df"
   ]
  },
  {
   "cell_type": "code",
   "execution_count": 124,
   "metadata": {},
   "outputs": [],
   "source": [
    "from sklearn.metrics import accuracy_score,precision_score,recall_score, confusion_matrix\n",
    "\n",
    "def predict(model,X_test,y_test):\n",
    "    \n",
    "    pred=model.predict(X_test)\n",
    "    \n",
    "    acc_score=accuracy_score(y_pred=pred,y_true=y_test)\n",
    "    precision=precision_score(y_pred=pred,y_true=y_test)\n",
    "    recall=recall_score(y_pred=pred,y_true=y_test)\n",
    "\n",
    "    print('Acc Score:',acc_score)\n",
    "    print('Precission: ',precision)\n",
    "    print('Recall: ',recall)\n",
    "    \n",
    "    return CFMatrix(confusion_matrix(y_pred=pred,y_true=y_test))"
   ]
  },
  {
   "cell_type": "code",
   "execution_count": 125,
   "metadata": {},
   "outputs": [],
   "source": [
    "from sklearn.metrics import roc_auc_score,roc_curve\n",
    "\n",
    "def plot_roc_curve(model,X_test,y_test):\n",
    "    \n",
    "    log_roc_auc=roc_auc_score(y_test,model.predict(X_test))\n",
    "    \n",
    "    fpr,tpr,thresholds=roc_curve(y_test,model.predict_proba(X_test)[:,1])\n",
    "    \n",
    "    plt.figure()\n",
    "    plt.plot(fpr,tpr,label='Logistic Regression (area = %0.2f)'%log_roc_auc)\n",
    "    plt.plot([0,1],[0,1],'r--')\n",
    "    plt.xlim([0.0,1.0])\n",
    "    plt.ylim([0.0,1.05])\n",
    "\n",
    "    plt.xlabel('False Positive Rate')\n",
    "    plt.ylabel('True Posiive Rate')\n",
    "    plt.title('ROC Curve')\n",
    "    plt.legend(loc=\"lower right\")\n",
    "    plt.show()\n",
    "    return"
   ]
  },
  {
   "cell_type": "code",
   "execution_count": 126,
   "metadata": {},
   "outputs": [],
   "source": [
    "from sklearn.metrics import precision_recall_curve\n",
    "\n",
    "def recall_to_precision(model,X_test,y_test):\n",
    "    precision_p,recall_p,thresholds=precision_recall_curve(y_true=y_test,probas_pred=model.predict_proba(X_test)[:,1])\n",
    "\n",
    "    fig,ax=plt.subplots(figsize=(8,5))\n",
    "\n",
    "    ax.plot(thresholds,precision_p[1:],label='Precision')\n",
    "    ax.plot(thresholds,recall_p[1:],label='Recall')\n",
    "\n",
    "    ax.set_xlabel('Classification Threshold')\n",
    "    ax.set_ylabel('Precision, Recall')\n",
    "    ax.set_title('Logistic Regression Classifier: Precision-Recall')\n",
    "    ax.hlines(y=0.6,xmin=0,xmax=1,color='red')\n",
    "    ax.legend()\n",
    "    ax.grid();\n",
    "    return"
   ]
  },
  {
   "cell_type": "code",
   "execution_count": 127,
   "metadata": {},
   "outputs": [],
   "source": [
    "def predict_threshold(model,X_test,y_test,threshold):\n",
    "    pred_02_prob=model.predict_proba(X_test)[:,1]\n",
    "\n",
    "    pred_02= (pred_02_prob >= threshold).astype('int')\n",
    "\n",
    "    acc_score=accuracy_score(y_pred=pred_02,y_true=y_test)\n",
    "    precision=precision_score(y_pred=pred_02,y_true=y_test)\n",
    "    recall=recall_score(y_pred=pred_02,y_true=y_test)\n",
    "\n",
    "    print('Acc Score:',acc_score)\n",
    "    print('Precission: ',precision)\n",
    "    print('Recall: ',recall)\n",
    "\n",
    "    return CFMatrix(confusion_matrix(y_pred=pred_02,y_true=y_test))"
   ]
  },
  {
   "cell_type": "code",
   "execution_count": 128,
   "metadata": {},
   "outputs": [],
   "source": [
    "# Feature importance\n",
    "def plot_feature_imp(model,features):\n",
    "    \n",
    "    df=pd.DataFrame({'features':features.tolist(),'relation':model.coef_.reshape(X_train.shape[1]).tolist()})\n",
    "    df=df.sort_values(by='relation',ascending=False)\n",
    "    \n",
    "    p_pos= np.arange(len(df.loc[df['relation']>=0,'relation']))\n",
    "    n_pos= np.arange(len(p_pos),len(p_pos)+len(df.loc[df['relation']<0,'relation']))\n",
    "    \n",
    "    plt.figure(figsize=(13,16))\n",
    "    plt.barh(p_pos,df.loc[df['relation']>=0,'relation'])\n",
    "    plt.barh(n_pos,df.loc[df['relation']<0,'relation'])\n",
    "    plt.yticks(np.arange(len(p_pos)+len(n_pos)),df['features'].tolist())\n",
    "    plt.title('Feature Coefficents with respect to Label')\n",
    "    plt.show()\n",
    "    return"
   ]
  },
  {
   "cell_type": "markdown",
   "metadata": {},
   "source": [
    "### Model: First Attempt\n"
   ]
  },
  {
   "cell_type": "markdown",
   "metadata": {},
   "source": [
    "### Metrics and Evaluation Primer\n",
    "\n",
    "Before going into the steps to execute a logistic regression classifier in scikit-learn, let's review some basics on how to evaluate your model.\n",
    "\n",
    "When making a prediction for a binary or two-class classification problem, there are two types of errors that we could make.\n",
    "\n",
    "- **False Positive**. Predict an event (true) when there was no event (false).\n",
    "- **False Negative**. Predict no event (false) when in fact there was an event (true).\n",
    "\n",
    "By predicting probabilities and calibrating a threshold, a balance of these two concerns can be chosen by the operator of the model.\n",
    "\n",
    "A common way to compare models that predict probabilities for two-class problems is to use a **Receiver Operating Characteristic curve (ROC) curve**.\n",
    "\n",
    "It is a plot of the false positive rate (x-axis) versus the true positive rate (y-axis) for a number of different candidate threshold values between 0.0 and 1.0. Put another way, it plots the false alarm rate versus the hit rate.\n",
    "\n",
    "Let’s review how to interpret the **ROC plot**:\n",
    "\n",
    "- A **true positive** is a true observation correctly predicted to be true.\n",
    "- The **true-positive rate (TPR)** is the number of true positives / ground truth positives. \n",
    ">$True Positive Rate = True Positives / (True Positives + False Negatives)$\n",
    "- A **true negative** is an observation labeled as negative that is actually negative.\n",
    "- The false-positive rate (FPR) is the number of false positives / ground truth negatives. \n",
    ">$False Positive Rate = False Positives / (False Positives + True Negatives)$\n",
    "\n",
    "We put the TPR on the left axis and the FPR on the bottom axis. And we also plot the 45º line as a dashed line. The 45º line is the ROC curve you would get if you classified your observations randomly using the base rate.\n",
    "\n",
    "Smaller values on the x-axis of the plot indicate lower false positives and higher true negatives.\n",
    "Larger values on the y-axis of the plot indicate higher true positives and lower false negatives.\n",
    "\n",
    "As you may have figured out, the closer the ROC curve reaches to the top left corner, the better the test.\n",
    "We quantify a model’s ROC curve by calculating the total **Area Under the Curve (AUC)**, a metric which falls between 0 and 1 with a higher number indicating better classification performance. In the graph above, the AUC for the blue curve will be greater than that for the red curve, meaning the blue model is better at achieving a blend of precision and recall. A random classifier (the black line) achieves an AUC of 0.5.\n",
    "\n",
    "A skilful model will assign a higher probability to a randomly chosen real positive occurrence than a negative occurrence on average. This is what we mean when we say that the model has **skill**. Generally, skilful models are represented by curves that bow up to the top left of the plot.\n",
    "\n",
    "A **no-skill classifier** is one that cannot discriminate between the classes and would predict a random class or a constant class in all cases. A model with no skill is represented at the point (0.5, 0.5). A model with no skill at each threshold is represented by a diagonal line from the bottom left of the plot to the top right and has an AUC of 0.5.\n",
    "\n",
    "ROC Curves summarize the trade-off between the true positive rate and false positive rate for a predictive model using different probability [thresholds](#Threshold-(Additional-Evaluation-Considerations).\n",
    "\n",
    "**Precision-Recall** summarize the trade-off between the true positive rate and the positive predictive value for a predictive model using different probability thresholds.\n",
    "\n",
    "- **Precision** is a ratio of the number of true positives divided by the sum of the true positives and false positives. It describes how good a model is at predicting the positive class. Precision is referred to as the positive predictive value.\n",
    ">$Precision = True Positives / (True Positives + False Positives)$\n",
    "- **Recall** is calculated as the ratio of the number of true positives divided by the sum of the true positives and the false negatives. Recall is the same as sensitivity and true-positive rate.\n",
    ">$Recall = True Positives / (True Positives + False Negatives)$\n",
    "\n",
    "What happens if you can’t decide how to balance the false positives and false negatives on your business case?\n",
    "A frequently used metric is the **F1-score**, which is the harmonic mean of **precision** and **recall**.\n",
    "\n",
    "![](./images/Fscore.png \"F1-score Equation\")\n",
    "![](./images/confusionmatrix.png \"Confusion Matrix\")"
   ]
  },
  {
   "cell_type": "markdown",
   "metadata": {},
   "source": [
    "### Summary of terms\n",
    "\n",
    "\n",
    "**Four Outcomes of Binary Classification**\n",
    "\n",
    "- True positives: data points labeled as positive that are actually positive\n",
    "- False positives: data points labeled as positive that are actually negative\n",
    "- True negatives: data points labeled as negative that are actually negative\n",
    "- False negatives: data points labeled as negative that are actually positive\n",
    "\n",
    "**Recall and Precision Metrics**\n",
    "\n",
    "- Recall: ability of a classification model to identify all relevant instances\n",
    "- Precision: ability of a classification model to return only relevant instances\n",
    "- F1 score: single metric that combines recall and precision using the harmonic mean\n",
    "\n",
    "**Visualizing Recall and Precision**\n",
    "\n",
    "- Receiver operating characteristic (ROC) curve: plots the true positive rate (TPR) versus the false positive rate (FPR) as a function of the model’s threshold for classifying a positive\n",
    "- Area under the curve (AUC): metric to calculate the overall performance of a classification model based on area under the ROC curve"
   ]
  },
  {
   "cell_type": "markdown",
   "metadata": {},
   "source": [
    "**Split data into Test & Train**\n",
    "\n",
    "We split the data into training and test sets so that we can fit and evaluate a learning model.\n",
    "\n",
    "Rationale:\n",
    "- Split the dataset into two pieces, so that the model can be trained and tested on different data\n",
    "- Better estimate of out-of-sample performance, but still a \"high variance\" estimate\n",
    "- Useful due to its speed, simplicity, and flexibility\n",
    "\n",
    "We will use the `train_test_split()` function form `scikit-learn` and use 85% of the data for training and 15% for testing."
   ]
  },
  {
   "cell_type": "code",
   "execution_count": 129,
   "metadata": {},
   "outputs": [
    {
     "name": "stdout",
     "output_type": "stream",
     "text": [
      "Acc Score: 0.8126666666666666\n",
      "Precission:  0.7389937106918238\n",
      "Recall:  0.23618090452261306\n"
     ]
    },
    {
     "data": {
      "text/html": [
       "<div>\n",
       "<style scoped>\n",
       "    .dataframe tbody tr th:only-of-type {\n",
       "        vertical-align: middle;\n",
       "    }\n",
       "\n",
       "    .dataframe tbody tr th {\n",
       "        vertical-align: top;\n",
       "    }\n",
       "\n",
       "    .dataframe thead th {\n",
       "        text-align: right;\n",
       "    }\n",
       "</style>\n",
       "<table border=\"1\" class=\"dataframe\">\n",
       "  <thead>\n",
       "    <tr style=\"text-align: right;\">\n",
       "      <th>PREDICTION</th>\n",
       "      <th>pay</th>\n",
       "      <th>default</th>\n",
       "      <th>Total</th>\n",
       "    </tr>\n",
       "    <tr>\n",
       "      <th>TRUE</th>\n",
       "      <th></th>\n",
       "      <th></th>\n",
       "      <th></th>\n",
       "    </tr>\n",
       "  </thead>\n",
       "  <tbody>\n",
       "    <tr>\n",
       "      <th>pay</th>\n",
       "      <td>3422</td>\n",
       "      <td>83</td>\n",
       "      <td>3505</td>\n",
       "    </tr>\n",
       "    <tr>\n",
       "      <th>default</th>\n",
       "      <td>760</td>\n",
       "      <td>235</td>\n",
       "      <td>995</td>\n",
       "    </tr>\n",
       "    <tr>\n",
       "      <th>Total</th>\n",
       "      <td>4182</td>\n",
       "      <td>318</td>\n",
       "      <td>4500</td>\n",
       "    </tr>\n",
       "  </tbody>\n",
       "</table>\n",
       "</div>"
      ],
      "text/plain": [
       "PREDICTION   pay  default  Total\n",
       "TRUE                            \n",
       "pay         3422       83   3505\n",
       "default      760      235    995\n",
       "Total       4182      318   4500"
      ]
     },
     "execution_count": 129,
     "metadata": {},
     "output_type": "execute_result"
    }
   ],
   "source": [
    "from sklearn.model_selection import train_test_split\n",
    "\n",
    "X_train,X_test,y_train,y_test=train_test_split(X,y,test_size=0.15,random_state=99,stratify=y)\n",
    "\n",
    "from sklearn.linear_model import LogisticRegression\n",
    "\n",
    "model= LogisticRegression(random_state=0)\n",
    "\n",
    "model.fit(X_train,y_train)\n",
    "\n",
    "predict(model,X_test,y_test)"
   ]
  },
  {
   "cell_type": "code",
   "execution_count": 130,
   "metadata": {},
   "outputs": [
    {
     "data": {
      "image/png": "[encoded data removed]",
      "text/plain": [
       "<Figure size 432x288 with 1 Axes>"
      ]
     },
     "metadata": {},
     "output_type": "display_data"
    }
   ],
   "source": [
    "plot_roc_curve(model,X_test,y_test)"
   ]
  },
  {
   "cell_type": "markdown",
   "metadata": {},
   "source": [
    "the ROC curve above shows 0.6 for AUC score."
   ]
  },
  {
   "cell_type": "markdown",
   "metadata": {},
   "source": [
    "### Threshold (Additional Evaluation Considerations)\n",
    "\n",
    "In the real world, business doesn't care about [metrics](#Metrics-and-Evaluation-Primer), but about outcomes.  Your job as a data scientist isn’t done until you explain how to interpret the model and apply it. That means threshold selection for the business decision that motivated the model.\n",
    "\n",
    "Threshold selection is necessary in the context of an algorithm which predicts the probability that an observation will belong to the positive class. The question then becomes, if we need to make discrete predictions based on the modeled probability, what is the best threshold to classify an observation as positive?\n",
    "\n",
    "You need to first consider the cost of type I and type II errors for your business problem? What is the marginal cost of a false positive, and what is the marginal cost of a false negative? \n",
    "\n",
    "Select the threshold that minimizes the total cost of false positives and false negatives in cross-validation. \n",
    "\n",
    "The ROC curve shows how the recall vs precision relationship changes as we vary the threshold for identifying a positive in our model. The threshold represents the value above which a data point is considered in the positive class. If we have a model for identifying a disease, our model might output a score for each patient between 0 and 1 and we can set a threshold in this range for labeling a patient as having the disease (a positive label). By altering the threshold, we can try to achieve the right precision vs recall balance.\n",
    "\n",
    "For a given model, we can only travel along one curve, but we can move along that curve by adjusting our threshold for classifying a positive case. Generally, as we decrease the threshold, we move to the right and upwards along the curve. \n",
    "\n",
    "Starting in the lower left of the ROC graph we would be at a threshold of 1.0 because we identify no data points as positives leading to no true positives and no false positives (TPR = FPR = 0).  As we decrease the threshold, we identify more data points as positive, leading to more true positives, but also more false positives (the TPR and FPR increase). Eventually, at a threshold of 0.0 we identify all data points as positive and find ourselves in the upper right corner of the ROC curve (TPR = FPR = 1.0).\n",
    "\n",
    "If you're confused the logistic regression curve images below may help clarify:\n",
    "\n",
    "![](./images/threshold.png \"Explanation of Threshold\")\n",
    "\n",
    "**Summary**<br>\n",
    "If the cost of a false negative is higher, you need a low threshold to minimize false negatives.  If you need to instead minimize false positives, you want a higher threshold.\n",
    "\n",
    "**Case**<br>\n",
    "For our example here -- when predicting whether a client will default on a credit card, extending credit that should have been denied could cost a lot in credit losses and administrative costs. Denying credit that should have been extended would likely result in lesser losses. Pick the threshold that gives the lowest total cost risk (i.e., better to deny credit to a non-defaulter than extend credit to a defaulter).\n"
   ]
  },
  {
   "cell_type": "markdown",
   "metadata": {},
   "source": [
    "\n",
    "\n",
    "We want ot minimize the False Negative rate with respect to True positive, because we don't wan't to classify any person who is potential defaulter to be classified as non-defaulter. We can tolerate with some False Positive cases i.e. Non defaulters classified as defaulters. So we require high Recall rate, so lets compare the model to find true positive with respect to false positive rate"
   ]
  },
  {
   "cell_type": "code",
   "execution_count": 131,
   "metadata": {},
   "outputs": [
    {
     "data": {
      "image/png": "[encoded data removed]",
      "text/plain": [
       "<Figure size 576x360 with 1 Axes>"
      ]
     },
     "metadata": {},
     "output_type": "display_data"
    }
   ],
   "source": [
    "recall_to_precision(model,X_test,y_test)"
   ]
  },
  {
   "cell_type": "markdown",
   "metadata": {},
   "source": [
    "So from graph we can see with threshold of 0.2 we can can get Recall of 60%.\n",
    "So lets now predict the test data with threshold of 0.2.\n"
   ]
  },
  {
   "cell_type": "code",
   "execution_count": 132,
   "metadata": {},
   "outputs": [
    {
     "name": "stdout",
     "output_type": "stream",
     "text": [
      "Acc Score: 0.6288888888888889\n",
      "Precission:  0.3385939741750359\n",
      "Recall:  0.7115577889447237\n"
     ]
    },
    {
     "data": {
      "text/html": [
       "<div>\n",
       "<style scoped>\n",
       "    .dataframe tbody tr th:only-of-type {\n",
       "        vertical-align: middle;\n",
       "    }\n",
       "\n",
       "    .dataframe tbody tr th {\n",
       "        vertical-align: top;\n",
       "    }\n",
       "\n",
       "    .dataframe thead th {\n",
       "        text-align: right;\n",
       "    }\n",
       "</style>\n",
       "<table border=\"1\" class=\"dataframe\">\n",
       "  <thead>\n",
       "    <tr style=\"text-align: right;\">\n",
       "      <th>PREDICTION</th>\n",
       "      <th>pay</th>\n",
       "      <th>default</th>\n",
       "      <th>Total</th>\n",
       "    </tr>\n",
       "    <tr>\n",
       "      <th>TRUE</th>\n",
       "      <th></th>\n",
       "      <th></th>\n",
       "      <th></th>\n",
       "    </tr>\n",
       "  </thead>\n",
       "  <tbody>\n",
       "    <tr>\n",
       "      <th>pay</th>\n",
       "      <td>2122</td>\n",
       "      <td>1383</td>\n",
       "      <td>3505</td>\n",
       "    </tr>\n",
       "    <tr>\n",
       "      <th>default</th>\n",
       "      <td>287</td>\n",
       "      <td>708</td>\n",
       "      <td>995</td>\n",
       "    </tr>\n",
       "    <tr>\n",
       "      <th>Total</th>\n",
       "      <td>2409</td>\n",
       "      <td>2091</td>\n",
       "      <td>4500</td>\n",
       "    </tr>\n",
       "  </tbody>\n",
       "</table>\n",
       "</div>"
      ],
      "text/plain": [
       "PREDICTION   pay  default  Total\n",
       "TRUE                            \n",
       "pay         2122     1383   3505\n",
       "default      287      708    995\n",
       "Total       2409     2091   4500"
      ]
     },
     "execution_count": 132,
     "metadata": {},
     "output_type": "execute_result"
    }
   ],
   "source": [
    "predict_threshold(model,X_test,y_test,0.2)"
   ]
  },
  {
   "cell_type": "code",
   "execution_count": 133,
   "metadata": {},
   "outputs": [
    {
     "data": {
      "image/png": "[encoded data removed]",
      "text/plain": [
       "<Figure size 936x1152 with 1 Axes>"
      ]
     },
     "metadata": {},
     "output_type": "display_data"
    }
   ],
   "source": [
    "plot_feature_imp(model,features)"
   ]
  },
  {
   "cell_type": "markdown",
   "metadata": {},
   "source": [
    "### Tuning the model\n",
    "\n",
    "### GridSearchCV\n",
    "\n",
    "Using grid search in scikit-learn.\n",
    "\n",
    "A list of values (param_grid) to choose from is given to each hyper parameter of the model. You can change these values and experiment more to see which value ranges give better performance. A [cross validation process](https://medium.com/datadriveninvestor/k-fold-cross-validation-6b8518070833) is performed in order to determine the hyper parameter value set which provides the best accuracy levels.\n",
    "\n",
    "Once we have that, we use the best set of hyper parameter values chosen in the grid search, in the actual model as shown below."
   ]
  },
  {
   "cell_type": "code",
   "execution_count": 158,
   "metadata": {},
   "outputs": [],
   "source": [
    "dual=[True,False]\n",
    "max_iter=[100,110,120,130,140]\n",
    "penalty=['l1','l2']\n",
    "C=np.logspace(-4,4,20)\n",
    "class_weight=['balanced']\n",
    "solver=['saga']\n",
    "\n",
    "#option 1 -- better accuracy\n",
    "param_grid=dict(dual=dual,max_iter=max_iter,penalty=penalty,C=C,class_weight=class_weight,solver=solver)\n",
    "\n",
    "#option 2 -- faster run time, lower accuracy\n",
    "#param_grid=dict(max_iter=max_iter,penalty=penalty,class_weight=class_weight,solver=solver)\n"
   ]
  },
  {
   "cell_type": "code",
   "execution_count": 159,
   "metadata": {},
   "outputs": [],
   "source": [
    "from sklearn.model_selection import GridSearchCV\n",
    "\n",
    "grid=GridSearchCV(estimator=model,param_grid=param_grid,cv=4,n_jobs=-1)\n",
    "grid.fit(X_train,y_train);"
   ]
  },
  {
   "cell_type": "code",
   "execution_count": 160,
   "metadata": {},
   "outputs": [
    {
     "data": {
      "text/plain": [
       "LogisticRegression(C=0.0006951927961775605, class_weight='balanced', dual=False,\n",
       "                   fit_intercept=True, intercept_scaling=1, l1_ratio=None,\n",
       "                   max_iter=100, multi_class='auto', n_jobs=None, penalty='l1',\n",
       "                   random_state=0, solver='saga', tol=0.0001, verbose=0,\n",
       "                   warm_start=False)"
      ]
     },
     "execution_count": 160,
     "metadata": {},
     "output_type": "execute_result"
    }
   ],
   "source": [
    "tuned_model=grid.best_estimator_\n",
    "tuned_model"
   ]
  },
  {
   "cell_type": "code",
   "execution_count": 161,
   "metadata": {},
   "outputs": [
    {
     "name": "stdout",
     "output_type": "stream",
     "text": [
      "Acc Score: 0.7886666666666666\n",
      "Precission:  0.5225872689938398\n",
      "Recall:  0.5115577889447236\n"
     ]
    },
    {
     "data": {
      "text/html": [
       "<div>\n",
       "<style scoped>\n",
       "    .dataframe tbody tr th:only-of-type {\n",
       "        vertical-align: middle;\n",
       "    }\n",
       "\n",
       "    .dataframe tbody tr th {\n",
       "        vertical-align: top;\n",
       "    }\n",
       "\n",
       "    .dataframe thead th {\n",
       "        text-align: right;\n",
       "    }\n",
       "</style>\n",
       "<table border=\"1\" class=\"dataframe\">\n",
       "  <thead>\n",
       "    <tr style=\"text-align: right;\">\n",
       "      <th>PREDICTION</th>\n",
       "      <th>pay</th>\n",
       "      <th>default</th>\n",
       "      <th>Total</th>\n",
       "    </tr>\n",
       "    <tr>\n",
       "      <th>TRUE</th>\n",
       "      <th></th>\n",
       "      <th></th>\n",
       "      <th></th>\n",
       "    </tr>\n",
       "  </thead>\n",
       "  <tbody>\n",
       "    <tr>\n",
       "      <th>pay</th>\n",
       "      <td>3040</td>\n",
       "      <td>465</td>\n",
       "      <td>3505</td>\n",
       "    </tr>\n",
       "    <tr>\n",
       "      <th>default</th>\n",
       "      <td>486</td>\n",
       "      <td>509</td>\n",
       "      <td>995</td>\n",
       "    </tr>\n",
       "    <tr>\n",
       "      <th>Total</th>\n",
       "      <td>3526</td>\n",
       "      <td>974</td>\n",
       "      <td>4500</td>\n",
       "    </tr>\n",
       "  </tbody>\n",
       "</table>\n",
       "</div>"
      ],
      "text/plain": [
       "PREDICTION   pay  default  Total\n",
       "TRUE                            \n",
       "pay         3040      465   3505\n",
       "default      486      509    995\n",
       "Total       3526      974   4500"
      ]
     },
     "execution_count": 161,
     "metadata": {},
     "output_type": "execute_result"
    }
   ],
   "source": [
    "predict(tuned_model,X_test,y_test)"
   ]
  },
  {
   "cell_type": "code",
   "execution_count": 162,
   "metadata": {},
   "outputs": [
    {
     "data": {
      "image/png": "[encoded data removed]",
      "text/plain": [
       "<Figure size 432x288 with 1 Axes>"
      ]
     },
     "metadata": {},
     "output_type": "display_data"
    }
   ],
   "source": [
    "plot_roc_curve(tuned_model,X_test,y_test)"
   ]
  },
  {
   "cell_type": "code",
   "execution_count": 163,
   "metadata": {},
   "outputs": [
    {
     "data": {
      "image/png": "[encoded data removed]",
      "text/plain": [
       "<Figure size 936x1152 with 1 Axes>"
      ]
     },
     "metadata": {},
     "output_type": "display_data"
    }
   ],
   "source": [
    "plot_feature_imp(tuned_model,features)"
   ]
  },
  {
   "cell_type": "markdown",
   "metadata": {},
   "source": [
    "### Conclusion\n",
    "\n",
    "Using, exploratory analysis, data processing methods, and logistic regression with hyper-parameter tunning we found a best fit model and important features which predict the which clients will default on payment.\n",
    "\n",
    "This seems to support the [feature selection](#Selection-strategy) we did above.\n",
    "\n",
    "With the above approach, we predict with ~80% accuracy (and ~50% recall) whether a person will default on an upcoming payment."
   ]
  },
  {
   "cell_type": "code",
   "execution_count": null,
   "metadata": {},
   "outputs": [],
   "source": []
  }
 ],
 "metadata": {
  "kernelspec": {
   "display_name": "Python 3",
   "language": "python",
   "name": "python3"
  },
  "language_info": {
   "codemirror_mode": {
    "name": "ipython",
    "version": 3
   },
   "file_extension": ".py",
   "mimetype": "text/x-python",
   "name": "python",
   "nbconvert_exporter": "python",
   "pygments_lexer": "ipython3",
   "version": "3.7.3"
  }
 },
 "nbformat": 4,
 "nbformat_minor": 2
}
