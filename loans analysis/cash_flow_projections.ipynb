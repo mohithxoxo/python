{
 "cells": [
  {
   "cell_type": "markdown",
   "metadata": {},
   "source": [
    "# Financial Analysis with Python\n",
    "\n",
    "A primer\n",
    "\n",
    "### Table of Contents\n",
    "[Introduction](#Introduction)<br>\n",
    "[Background](#Background)<br>\n",
    "[Tools for Financial Analysis](#Tools)<br>\n",
    "[Cash Flow Case Study](#Case-study:-Free-Cash-Flow-Projections-with-Monte-Carlo-Simulation)<br>\n",
    "[Creating Financial Statements](#Creating-the-Financial-Statements)<br>\n",
    "[DCF Valuation](#Performing-the-DCF-Valuation)<br>\n",
    "[Data Export](#Exporting-the-Data)<br>\n",
    "[Probability Distributions & Monte Carlo Simulation](#Creating-Probability-Distributions-for-Our-Monte-Carlo-Simulation)<br>\n",
    "[Refactoring](#Refactoring)<br>\n",
    "[Learning Resources](#Resources-for-Finance-Professionals-to-Learn-Python)<br>"
   ]
  },
  {
   "cell_type": "markdown",
   "metadata": {},
   "source": [
    "## Introduction\n",
    "\n",
    "Pandas with its DataFrame and Series objects, and Numpy with its ndarray are the workhorses of financial analysis with Python. Combined with matplotlib and other visualization libraries, you have great tools at your disposal to assist productivity.\n",
    "\n",
    "This notebook is meant to demonstrate how to use Python with finance.\n",
    "\n",
    "The example below shows the use of Monte Carlo simulations with a Discoutned Cash Flow (DCF) valuation model."
   ]
  },
  {
   "cell_type": "markdown",
   "metadata": {},
   "source": [
    "## Background\n",
    "\n",
    "Some background before we get started.\n",
    "\n",
    "[Discounted Cash Flow](https://www.youtube.com/watch?v=M8cuAJYYnTM) (DCF) analysis is a method of valuing a project, company, or asset using the concepts of the time value of money. Discounted cash flow analysis is widely used in investment finance, real estate development, corporate financial management and patent valuation.  Additional information of DCF models can be found [here](https://www.youtube.com/watch?v=L0e4tiZ-LA0) and [here](http://www.streetofwalls.com/finance-training-courses/investment-banking-technical-training/discounted-cash-flow-analysis/)\n",
    "\n",
    "Expected value is the probability-weighted average of cash flows in all possible scenarios.\n",
    "\n",
    "There are a few established ways of handling uncertainty in medium- or long-term projections.  One of those is using probability distributions and Monte Carlo simulations.  Using probability distributions allows modeling and visualizing the full range of possible outcomes in the forecast. Monte Carlo methods are subseqently utilized to calculate the resulting probability distributions.   This step permits analysis of how uncertain variables contribute to the overall uncertainty. "
   ]
  },
  {
   "cell_type": "markdown",
   "metadata": {},
   "source": [
    "## Tools\n",
    "\n",
    "Here I use [Jupyter notebook](https://jupyter-notebook-beginner-guide.readthedocs.io/en/latest/what_is_jupyter.html).\n",
    "\n",
    "You may also be interested in [the Python Quant Platform](https://home.tpq.io/pqp/).  Quant is a browser-based financial analytics and application development platform.\n",
    "\n",
    "Jupyter is free to install.  I believe there is some cost to Quant."
   ]
  },
  {
   "cell_type": "markdown",
   "metadata": {},
   "source": [
    "## Case study: Free Cash Flow Projections with Monte Carlo Simulation\n",
    "\n",
    "[Free Cash Flow](https://corporatefinanceinstitute.com/resources/knowledge/valuation/what-is-free-cash-flow-fcf/) Projections: a five-year cash flow forecast. These are projections of the amount of cash produced by a company’s business operations after paying for operating expenses and capital expenditures. Note there is no exact answer for deriving Free Cash Flow projections. The key is to be diligent when making the assumptions needed to derive these projections, and where uncertain, use valuation technique guidelines to  guide your thinking.  [Investopedia](https://www.investopedia.com/terms/f/freecashflow.asp) has additional information on free cash flow.\n",
    "\n",
    "In this example, I set up and populate a basic cash flow model for valuation purposes, gradually replace the inputs with probability distributions, and finally run the simulation and analyze the results.\n",
    "\n",
    "First, import the third-party packages we need for data manipulation and visualizations, and tell the program that we want to see charts inline in our notebook, instead of in separate windows:"
   ]
  },
  {
   "cell_type": "code",
   "execution_count": 1,
   "metadata": {},
   "outputs": [],
   "source": [
    "import numpy as np\n",
    "import pandas as pd\n",
    "import matplotlib.pyplot as plt\n",
    "%matplotlib inline"
   ]
  },
  {
   "cell_type": "markdown",
   "metadata": {},
   "source": [
    "## Creating the Financial Statements\n",
    "There are many ways that we can work with existing spreadsheet data in Python. We could, for example, read a sheet into a Pandas DataFrame with one line of code using the read_excel command. If you are not familiar with Pandas you can Google it or look at one of the [tutorials](https://github.com/jenniferp1/usg_tutorials) I developed.\n",
    "\n",
    "Since this is a simple demonstration, we will be recreating it from scratch in our script vs. reading in an Excel spreadsheet. "
   ]
  },
  {
   "cell_type": "code",
   "execution_count": 3,
   "metadata": {},
   "outputs": [
    {
     "data": {
      "text/plain": [
       "2018A   NaN\n",
       "2019B   NaN\n",
       "2020P   NaN\n",
       "2021P   NaN\n",
       "2022P   NaN\n",
       "2023P   NaN\n",
       "dtype: float64"
      ]
     },
     "execution_count": 3,
     "metadata": {},
     "output_type": "execute_result"
    }
   ],
   "source": [
    "years = ['2018A', '2019B', '2020P', '2021P', '2022P', '2023P']\n",
    "sales = pd.Series(index=years) \n",
    "sales"
   ]
  },
  {
   "cell_type": "markdown",
   "metadata": {},
   "source": [
    "Next, we declare a variable to represent the projected annual sales growth. Using this variable, we create a loop that calculates the sales in each year of the projections based on the previous year and the growth rate:"
   ]
  },
  {
   "cell_type": "code",
   "execution_count": 7,
   "metadata": {},
   "outputs": [
    {
     "data": {
      "text/plain": [
       "2018A    31.00000\n",
       "2019B    34.10000\n",
       "2020P    37.51000\n",
       "2021P    41.26100\n",
       "2022P    45.38710\n",
       "2023P    49.92581\n",
       "dtype: float64"
      ]
     },
     "execution_count": 7,
     "metadata": {},
     "output_type": "execute_result"
    }
   ],
   "source": [
    "growth_rate = 0.1\n",
    "sales[0] = 31.0\n",
    "for year in range(1, 6):\n",
    "    sales[year] = sales[year - 1] * (1 + growth_rate)\n",
    "    \n",
    "sales"
   ]
  },
  {
   "cell_type": "markdown",
   "metadata": {},
   "source": [
    "We now have projected sales above, instead of NaN\n",
    "\n",
    "We continue, declaring variables we will need for the calculations to eventually arrive at free cash flow."
   ]
  },
  {
   "cell_type": "code",
   "execution_count": 8,
   "metadata": {},
   "outputs": [],
   "source": [
    "ebitda_margin = 0.14\n",
    "depr_percent = 0.032\n",
    "\n",
    "ebitda = sales * ebitda_margin\n",
    "depreciation = sales * depr_percent\n",
    "ebit = ebitda - depreciation"
   ]
  },
  {
   "cell_type": "code",
   "execution_count": 9,
   "metadata": {},
   "outputs": [
    {
     "data": {
      "text/plain": [
       "2018A         NaN\n",
       "2019B    2.018100\n",
       "2020P    2.219910\n",
       "2021P    2.441901\n",
       "2022P    2.686091\n",
       "2023P    2.954700\n",
       "dtype: float64"
      ]
     },
     "execution_count": 9,
     "metadata": {},
     "output_type": "execute_result"
    }
   ],
   "source": [
    "nwc_percent = 0.24\n",
    "\n",
    "nwc = sales * nwc_percent\n",
    "change_in_nwc = nwc.shift(1) - nwc \n",
    "capex_percent = depr_percent\n",
    "capex = -(sales * capex_percent)\n",
    "\n",
    "tax_rate = 0.25\n",
    "\n",
    "tax_payment = -ebit * tax_rate\n",
    "tax_payment = tax_payment.apply(lambda x: min(x, 0))\n",
    "\n",
    "free_cash_flow = ebit + depreciation + tax_payment + capex + change_in_nwc\n",
    "free_cash_flow"
   ]
  },
  {
   "cell_type": "markdown",
   "metadata": {},
   "source": [
    "The `tax_rate` variable above ensures that in scenarios where profit before tax becomes negative, we won’t have a positive tax payment. This shows how effectively you can apply custom functions to all cells in a Pandas Series or DataFrame. The actual function applied is, of course, a simplification. A more realistic model would have a separate tax model that calculates actual cash taxes paid based on a number of factors."
   ]
  },
  {
   "cell_type": "markdown",
   "metadata": {},
   "source": [
    "## Performing the DCF Valuation"
   ]
  },
  {
   "cell_type": "markdown",
   "metadata": {},
   "source": [
    "We now calculate a simple terminal value and discount all cash flows back to the present to get the DCF result. "
   ]
  },
  {
   "cell_type": "code",
   "execution_count": 10,
   "metadata": {},
   "outputs": [
    {
     "data": {
      "text/plain": [
       "25.79438401113792"
      ]
     },
     "execution_count": 10,
     "metadata": {},
     "output_type": "execute_result"
    }
   ],
   "source": [
    "cost_of_capital = 0.12\n",
    "terminal_growth = 0.02\n",
    "terminal_value = ((free_cash_flow[-1] * (1 + terminal_growth)) / \n",
    "                 (cost_of_capital - terminal_growth))\n",
    "discount_factors = [(1 / (1 + cost_of_capital)) ** i for i in range (1,6)]\n",
    "dcf_value = (sum(free_cash_flow[1:] * discount_factors) +\n",
    "            terminal_value * discount_factors[-1])\n",
    "dcf_value"
   ]
  },
  {
   "cell_type": "markdown",
   "metadata": {},
   "source": [
    "We now have a (rudimentary) DCF model in Python."
   ]
  },
  {
   "cell_type": "markdown",
   "metadata": {},
   "source": [
    "## Exporting the Data"
   ]
  },
  {
   "cell_type": "markdown",
   "metadata": {},
   "source": [
    "Before moving on to the actual Monte Carlo simulation, let's exporting our results. If you have a Pandas DataFrame object, you can write that to an Excel file with one line using the to_excel method. "
   ]
  },
  {
   "cell_type": "code",
   "execution_count": 12,
   "metadata": {},
   "outputs": [
    {
     "data": {
      "text/html": [
       "<div>\n",
       "<style scoped>\n",
       "    .dataframe tbody tr th:only-of-type {\n",
       "        vertical-align: middle;\n",
       "    }\n",
       "\n",
       "    .dataframe tbody tr th {\n",
       "        vertical-align: top;\n",
       "    }\n",
       "\n",
       "    .dataframe thead th {\n",
       "        text-align: right;\n",
       "    }\n",
       "</style>\n",
       "<table border=\"1\" class=\"dataframe\">\n",
       "  <thead>\n",
       "    <tr style=\"text-align: right;\">\n",
       "      <th></th>\n",
       "      <th>2018A</th>\n",
       "      <th>2019B</th>\n",
       "      <th>2020P</th>\n",
       "      <th>2021P</th>\n",
       "      <th>2022P</th>\n",
       "      <th>2023P</th>\n",
       "    </tr>\n",
       "  </thead>\n",
       "  <tbody>\n",
       "    <tr>\n",
       "      <th>Sales</th>\n",
       "      <td>31.0</td>\n",
       "      <td>34.1</td>\n",
       "      <td>37.5</td>\n",
       "      <td>41.3</td>\n",
       "      <td>45.4</td>\n",
       "      <td>49.9</td>\n",
       "    </tr>\n",
       "    <tr>\n",
       "      <th>EBIT</th>\n",
       "      <td>3.3</td>\n",
       "      <td>3.7</td>\n",
       "      <td>4.1</td>\n",
       "      <td>4.5</td>\n",
       "      <td>4.9</td>\n",
       "      <td>5.4</td>\n",
       "    </tr>\n",
       "    <tr>\n",
       "      <th>Free Cash Flow</th>\n",
       "      <td>NaN</td>\n",
       "      <td>2.0</td>\n",
       "      <td>2.2</td>\n",
       "      <td>2.4</td>\n",
       "      <td>2.7</td>\n",
       "      <td>3.0</td>\n",
       "    </tr>\n",
       "  </tbody>\n",
       "</table>\n",
       "</div>"
      ],
      "text/plain": [
       "                2018A  2019B  2020P  2021P  2022P  2023P\n",
       "Sales            31.0   34.1   37.5   41.3   45.4   49.9\n",
       "EBIT              3.3    3.7    4.1    4.5    4.9    5.4\n",
       "Free Cash Flow    NaN    2.0    2.2    2.4    2.7    3.0"
      ]
     },
     "execution_count": 12,
     "metadata": {},
     "output_type": "execute_result"
    }
   ],
   "source": [
    "dcf_model_output = pd.DataFrame([sales, ebit, free_cash_flow],\n",
    "                     index=['Sales', 'EBIT', 'Free Cash Flow']).round(1)\n",
    "dcf_model_output.to_excel('Python_DCF_Model_Output.xlsx')\n",
    "dcf_model_output"
   ]
  },
  {
   "cell_type": "markdown",
   "metadata": {},
   "source": [
    "## Creating Probability Distributions for Our Monte Carlo Simulation\n",
    "\n",
    "Next let's replace some of the point estimate inputs with probability distributions. \n",
    "\n",
    "Our first step is to decide how many iterations we want to run in the simulation. Using 1,000 as a starting point strikes a balance between getting enough data points to get sensible output plots, versus having the simulation finish within a sensible time frame. \n",
    "\n",
    "Next, we generate the actual distributions. Below we generate three normal distributions, but the NumPy library has a large number of distributions to choose from, and there are other places to look as well, including the Python standard library. After deciding which distribution to use, we need to specify the parameters required to describe their shape, such as mean and standard deviation, and the number of desired outcomes."
   ]
  },
  {
   "cell_type": "code",
   "execution_count": 13,
   "metadata": {},
   "outputs": [
    {
     "data": {
      "image/png": "[encoded data removed]",
      "text/plain": [
       "<Figure size 432x288 with 1 Axes>"
      ]
     },
     "metadata": {
      "needs_background": "light"
     },
     "output_type": "display_data"
    }
   ],
   "source": [
    "iterations = 1000\n",
    "sales_growth_dist = np.random.normal(loc=0.1, scale=0.01, size=iterations)\n",
    "ebitda_margin_dist = np.random.normal(loc=0.14, scale=0.02, size=iterations)\n",
    "nwc_percent_dist = np.random.normal(loc=0.24, scale=0.01, size=iterations)\n",
    "plt.hist(sales_growth_dist, bins=20)\n",
    "plt.show()"
   ]
  },
  {
   "cell_type": "markdown",
   "metadata": {},
   "source": [
    "Now we have everything we need to run the simulation, but they are not in a convenient format for running the simulation because they are broken up in different cell in the Notebook. Here is all the code we have worked with  in one cell and rearranged into a function for convenience:"
   ]
  },
  {
   "cell_type": "code",
   "execution_count": 15,
   "metadata": {},
   "outputs": [],
   "source": [
    "def run_mcs():\n",
    "    \n",
    "    # Create probability distributions\n",
    "    sales_growth_dist = np.random.normal(loc=0.1, scale=0.01, size=iterations)\n",
    "    ebitda_margin_dist = np.random.normal(loc=0.14, scale=0.02, size=iterations)\n",
    "    nwc_percent_dist = np.random.normal(loc=0.24, scale=0.01, size=iterations)\n",
    "    \n",
    "    # Calculate DCF value for each set of random inputs\n",
    "    output_distribution = []\n",
    "    for i in range(iterations):\n",
    "        for year in range(1, 6):\n",
    "            sales[year] = sales[year - 1] * (1 + sales_growth_dist[0])\n",
    "        ebitda = sales * ebitda_margin_dist[i]\n",
    "        depreciation = (sales * depr_percent)\n",
    "        ebit = ebitda - depreciation\n",
    "        nwc = sales * nwc_percent_dist[i]\n",
    "        change_in_nwc = nwc.shift(1) - nwc \n",
    "        capex = -(sales * capex_percent)\n",
    "        tax_payment = -ebit * tax_rate\n",
    "        tax_payment = tax_payment.apply(lambda x: min(x, 0))\n",
    "        free_cash_flow = ebit + depreciation + tax_payment + capex + change_in_nwc\n",
    "        \n",
    "    # DCF valuation\n",
    "        terminal_value = (free_cash_flow[-1] * 1.02) / (cost_of_capital - 0.02)\n",
    "        free_cash_flow[-1] += terminal_value\n",
    "        discount_factors = [(1 / (1 + cost_of_capital)) ** i for i in range (1,6)]\n",
    "        dcf_value = sum(free_cash_flow[1:] * discount_factors )\n",
    "        output_distribution.append(dcf_value)\n",
    "    \n",
    "    return output_distribution"
   ]
  },
  {
   "cell_type": "markdown",
   "metadata": {},
   "source": [
    "We can now run the whole simulation and plot the output distribution, which will be the discounted cash flow value  in each of the 1,000 iterations. The `%time` command is not Python code but a notebook shorthand that measures the time to run something. It depends on the computer you run it on, so your times may differ."
   ]
  },
  {
   "cell_type": "code",
   "execution_count": 16,
   "metadata": {},
   "outputs": [
    {
     "name": "stdout",
     "output_type": "stream",
     "text": [
      "CPU times: user 1.77 s, sys: 0 ns, total: 1.77 s\n",
      "Wall time: 1.7 s\n"
     ]
    },
    {
     "data": {
      "image/png": "[encoded data removed]",
      "text/plain": [
       "<Figure size 432x288 with 1 Axes>"
      ]
     },
     "metadata": {
      "needs_background": "light"
     },
     "output_type": "display_data"
    }
   ],
   "source": [
    "%time plt.hist(run_mcs(), bins=20, color='r')\n",
    "plt.show()"
   ]
  },
  {
   "cell_type": "markdown",
   "metadata": {},
   "source": [
    "## Refactoring\n",
    "\n",
    "Refactoring refers to the process of rewriting existing code to improve its structure without changing its functionality. There can be several reasons to do this:\n",
    "<ol>\n",
    "<li>Organize the different parts in a more sensible way.</li>\n",
    "<li>Rename variables and functions to make their purpose and workings clearer.</li>\n",
    "<li>Allow and prepare for future features.</li>\n",
    "<li>Improve the execution speed, memory footprint or other resource utilization.</li>\n",
    "</ol>\n",
    "As an example, we clean things up below by collecting all initial variables in one place, rather than scattered throughout as in the prototype script\n"
   ]
  },
  {
   "cell_type": "code",
   "execution_count": 17,
   "metadata": {},
   "outputs": [],
   "source": [
    "# Key inputs from DCF model\n",
    "years = 5\n",
    "starting_sales = 31.0\n",
    "capex_percent = depr_percent = 0.032\n",
    "sales_growth = 0.1\n",
    "ebitda_margin = 0.14\n",
    "nwc_percent = 0.24\n",
    "tax_rate = 0.25\n",
    "\n",
    "# DCF assumptions\n",
    "r = 0.12\n",
    "g = 0.02\n",
    "\n",
    "# For MCS model\n",
    "iterations = 1000\n",
    "sales_std_dev = 0.01\n",
    "ebitda_std_dev = 0.02\n",
    "nwc_std_dev = 0.01"
   ]
  },
  {
   "cell_type": "code",
   "execution_count": 19,
   "metadata": {},
   "outputs": [],
   "source": [
    "def run_mcs():\n",
    "    \n",
    "    # Generate probability distributions\n",
    "    sales_growth_dist = np.random.normal(loc=sales_growth, \n",
    "                                         scale=sales_std_dev, \n",
    "                                         size=(years, iterations))\n",
    "    ebitda_margin_dist = np.random.normal(loc=ebitda_margin, \n",
    "                                          scale=ebitda_std_dev, \n",
    "                                          size=(years, iterations))\n",
    "    nwc_percent_dist = np.random.normal(loc=nwc_percent, \n",
    "                                        scale=nwc_std_dev, \n",
    "                                        size=(years, iterations))\n",
    "    \n",
    "    # Calculate free cash flow\n",
    "    sales_growth_dist += 1\n",
    "    for i in range(1, len(sales_growth_dist)):\n",
    "        sales_growth_dist[i] *= sales_growth_dist[i-1]\n",
    "        \n",
    "    sales = sales_growth_dist * starting_sales\n",
    "    ebitda = sales * ebitda_margin_dist\n",
    "    ebit = ebitda - (sales * depr_percent)\n",
    "    tax = -(ebit * tax_rate)\n",
    "    np.clip(tax, a_min=None, a_max=0)\n",
    "    nwc = nwc_percent_dist * sales\n",
    "    starting_nwc = starting_sales * nwc_percent\n",
    "    prev_year_nwc = np.roll(nwc, 1, axis=0)\n",
    "    prev_year_nwc[0] = starting_nwc\n",
    "    delta_nwc = prev_year_nwc - nwc\n",
    "    capex = -(sales * capex_percent)\n",
    "    free_cash_flow = ebitda + tax + delta_nwc + capex\n",
    "    \n",
    "    # Discount cash flows to get DCF value\n",
    "    terminal_value = free_cash_flow[-1] * (1 + g) / (r - g)\n",
    "    discount_rates = [(1 / (1 + r)) ** i for i in range (1,6)]\n",
    "    dcf_value = sum((free_cash_flow.T * discount_rates).T) \n",
    "    dcf_value += terminal_value * discount_rates[-1]\n",
    "        \n",
    "    return dcf_value"
   ]
  },
  {
   "cell_type": "code",
   "execution_count": 20,
   "metadata": {},
   "outputs": [
    {
     "name": "stdout",
     "output_type": "stream",
     "text": [
      "CPU times: user 24.8 ms, sys: 0 ns, total: 24.8 ms\n",
      "Wall time: 23.6 ms\n"
     ]
    },
    {
     "data": {
      "image/png": "[encoded data removed]",
      "text/plain": [
       "<Figure size 432x288 with 1 Axes>"
      ]
     },
     "metadata": {
      "needs_background": "light"
     },
     "output_type": "display_data"
    }
   ],
   "source": [
    "%time plt.hist(run_mcs(), bins=20, density=True, color=\"r\")\n",
    "plt.show()"
   ]
  },
  {
   "cell_type": "markdown",
   "metadata": {},
   "source": [
    "You can see that we reduced the runtime by refactoring."
   ]
  },
  {
   "cell_type": "markdown",
   "metadata": {},
   "source": [
    "That's it for now."
   ]
  },
  {
   "cell_type": "markdown",
   "metadata": {},
   "source": [
    "## Resources for Finance Professionals to Learn Python\n",
    "Books:\n",
    "\n",
    "* [Python for Finance](https://www.goodreads.com/book/show/22221113-python-for-finance) by Yves Hilpisch<br>\n",
    "* [Learning Python](https://www.goodreads.com/book/show/80435.Learning_Python?ac=1&from_search=true) by Mark Lutz<br>\n",
    "* [Fluent Python](https://www.goodreads.com/book/show/22800567-fluent-python?ac=1&from_search=true) by Luciano Ramalho<br>\n",
    "\n",
    "\n",
    "[The Python Quants](https://home.tpq.io/)"
   ]
  }
 ],
 "metadata": {
  "kernelspec": {
   "display_name": "Python 3",
   "language": "python",
   "name": "python3"
  },
  "language_info": {
   "codemirror_mode": {
    "name": "ipython",
    "version": 3
   },
   "file_extension": ".py",
   "mimetype": "text/x-python",
   "name": "python",
   "nbconvert_exporter": "python",
   "pygments_lexer": "ipython3",
   "version": "3.7.3"
  }
 },
 "nbformat": 4,
 "nbformat_minor": 2
}
