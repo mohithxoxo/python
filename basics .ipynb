{
  "nbformat": 4,
  "nbformat_minor": 0,
  "metadata": {
    "colab": {
      "name": "02/12/2019.ipynb",
      "provenance": [],
      "collapsed_sections": [],
      "include_colab_link": true
    },
    "kernelspec": {
      "name": "python3",
      "display_name": "Python 3"
    }
  },
  "cells": [
    {
      "cell_type": "markdown",
      "metadata": {
        "id": "view-in-github",
        "colab_type": "text"
      },
      "source": [
        "<a href=\"https://colab.research.google.com/github/mohithxoxo/python/blob/master/basics%20.ipynb\" target=\"_parent\"><img src=\"https://colab.research.google.com/assets/colab-badge.svg\" alt=\"Open In Colab\"/></a>"
      ]
    },
    {
      "cell_type": "code",
      "metadata": {
        "id": "PzYzXySyQyjq",
        "colab_type": "code",
        "colab": {}
      },
      "source": [
        "cars = ['bmw', 'hundai', 'swift', 'alto', 'audi']"
      ],
      "execution_count": 0,
      "outputs": []
    },
    {
      "cell_type": "code",
      "metadata": {
        "id": "6F0X6pAfQ5qh",
        "colab_type": "code",
        "outputId": "006992f7-4c52-4091-867a-d78db43bda4a",
        "colab": {
          "base_uri": "https://localhost:8080/",
          "height": 102
        }
      },
      "source": [
        "for cars in cars:\n",
        "    print(cars)"
      ],
      "execution_count": 0,
      "outputs": [
        {
          "output_type": "stream",
          "text": [
            "bmw\n",
            "hundai\n",
            "swift\n",
            "alto\n",
            "audi\n"
          ],
          "name": "stdout"
        }
      ]
    },
    {
      "cell_type": "code",
      "metadata": {
        "id": "RmGjsW3cRCWp",
        "colab_type": "code",
        "outputId": "550572af-be0f-4925-8d05-91ca1092f358",
        "colab": {
          "base_uri": "https://localhost:8080/",
          "height": 34
        }
      },
      "source": [
        "first_name = 'xoxo'\n",
        "last_name = 'lol'\n",
        "name = first_name + ' ' + last_name\n",
        "\n",
        "print(name)"
      ],
      "execution_count": 0,
      "outputs": [
        {
          "output_type": "stream",
          "text": [
            "xoxo lol\n"
          ],
          "name": "stdout"
        }
      ]
    },
    {
      "cell_type": "code",
      "metadata": {
        "id": "0lUww4xyRDPJ",
        "colab_type": "code",
        "outputId": "143d9764-9ab6-4811-a942-0a8247bed47d",
        "colab": {
          "base_uri": "https://localhost:8080/",
          "height": 34
        }
      },
      "source": [
        "x=[1,2,3,4,'string']\n",
        "x"
      ],
      "execution_count": 0,
      "outputs": [
        {
          "output_type": "execute_result",
          "data": {
            "text/plain": [
              "[1, 2, 3, 4, 'string']"
            ]
          },
          "metadata": {
            "tags": []
          },
          "execution_count": 5
        }
      ]
    },
    {
      "cell_type": "code",
      "metadata": {
        "id": "UXkdK3OiRhgE",
        "colab_type": "code",
        "outputId": "66b41ef8-1d9f-460f-e9f0-08aafa111c0a",
        "colab": {
          "base_uri": "https://localhost:8080/",
          "height": 180
        }
      },
      "source": [
        "for cars in cars:\n",
        "    print(cars)"
      ],
      "execution_count": 0,
      "outputs": [
        {
          "output_type": "error",
          "ename": "NameError",
          "evalue": "ignored",
          "traceback": [
            "\u001b[0;31m---------------------------------------------------------------------------\u001b[0m",
            "\u001b[0;31mNameError\u001b[0m                                 Traceback (most recent call last)",
            "\u001b[0;32m<ipython-input-6-66b1f41f9a3d>\u001b[0m in \u001b[0;36m<module>\u001b[0;34m()\u001b[0m\n\u001b[0;32m----> 1\u001b[0;31m \u001b[0;32mfor\u001b[0m \u001b[0mcars\u001b[0m \u001b[0;32min\u001b[0m \u001b[0mcars\u001b[0m\u001b[0;34m:\u001b[0m\u001b[0;34m\u001b[0m\u001b[0;34m\u001b[0m\u001b[0m\n\u001b[0m\u001b[1;32m      2\u001b[0m     \u001b[0mprint\u001b[0m\u001b[0;34m(\u001b[0m\u001b[0mcars\u001b[0m\u001b[0;34m)\u001b[0m\u001b[0;34m\u001b[0m\u001b[0;34m\u001b[0m\u001b[0m\n",
            "\u001b[0;31mNameError\u001b[0m: name 'cars' is not defined"
          ]
        }
      ]
    },
    {
      "cell_type": "code",
      "metadata": {
        "id": "_SCieg0eRDFa",
        "colab_type": "code",
        "outputId": "4eb41996-d6db-4e11-c557-0e3d1c94cc27",
        "colab": {
          "base_uri": "https://localhost:8080/",
          "height": 187
        }
      },
      "source": [
        "squares = []\n",
        "for x in range(1, 11):\n",
        "  squares.append(x**2)\n",
        "  print(squares)"
      ],
      "execution_count": 0,
      "outputs": [
        {
          "output_type": "stream",
          "text": [
            "[1]\n",
            "[1, 4]\n",
            "[1, 4, 9]\n",
            "[1, 4, 9, 16]\n",
            "[1, 4, 9, 16, 25]\n",
            "[1, 4, 9, 16, 25, 36]\n",
            "[1, 4, 9, 16, 25, 36, 49]\n",
            "[1, 4, 9, 16, 25, 36, 49, 64]\n",
            "[1, 4, 9, 16, 25, 36, 49, 64, 81]\n",
            "[1, 4, 9, 16, 25, 36, 49, 64, 81, 100]\n"
          ],
          "name": "stdout"
        }
      ]
    },
    {
      "cell_type": "code",
      "metadata": {
        "id": "DEb5FEd9UdE6",
        "colab_type": "code",
        "outputId": "af18c027-6a65-44f0-d28f-27dfba2f02fa",
        "colab": {
          "base_uri": "https://localhost:8080/",
          "height": 204
        }
      },
      "source": [
        "squares = []\n",
        "x = 1\n",
        "for x in range(1, 11):\n",
        "  squares.append(x**2)\n",
        "  print(squares)\n",
        "  x = x + 1\n",
        "print(x)"
      ],
      "execution_count": 0,
      "outputs": [
        {
          "output_type": "stream",
          "text": [
            "[1]\n",
            "[1, 4]\n",
            "[1, 4, 9]\n",
            "[1, 4, 9, 16]\n",
            "[1, 4, 9, 16, 25]\n",
            "[1, 4, 9, 16, 25, 36]\n",
            "[1, 4, 9, 16, 25, 36, 49]\n",
            "[1, 4, 9, 16, 25, 36, 49, 64]\n",
            "[1, 4, 9, 16, 25, 36, 49, 64, 81]\n",
            "[1, 4, 9, 16, 25, 36, 49, 64, 81, 100]\n",
            "11\n"
          ],
          "name": "stdout"
        }
      ]
    },
    {
      "cell_type": "code",
      "metadata": {
        "id": "kx4gUD8cVxyK",
        "colab_type": "code",
        "colab": {}
      },
      "source": [
        "# use .pop()  for index remove (position)\n",
        "# use .remove() for value remove\n",
        "# use .clear for whole cell remove\n",
        "# use .del for range "
      ],
      "execution_count": 0,
      "outputs": []
    },
    {
      "cell_type": "code",
      "metadata": {
        "id": "UhxKlrtnasO8",
        "colab_type": "code",
        "outputId": "5a8ede68-4579-47ac-d2cf-4784ed16043b",
        "colab": {
          "base_uri": "https://localhost:8080/",
          "height": 34
        }
      },
      "source": [
        "la=list(range(5,30))\n",
        "print(la)"
      ],
      "execution_count": 0,
      "outputs": [
        {
          "output_type": "stream",
          "text": [
            "[5, 6, 7, 8, 9, 10, 11, 12, 13, 14, 15, 16, 17, 18, 19, 20, 21, 22, 23, 24, 25, 26, 27, 28, 29]\n"
          ],
          "name": "stdout"
        }
      ]
    },
    {
      "cell_type": "code",
      "metadata": {
        "id": "NnwIXZpocRsK",
        "colab_type": "code",
        "outputId": "2a9d50f0-f61c-40a2-aba2-3379d803b4f3",
        "colab": {
          "base_uri": "https://localhost:8080/",
          "height": 34
        }
      },
      "source": [
        "la.pop(2)\n"
      ],
      "execution_count": 0,
      "outputs": [
        {
          "output_type": "execute_result",
          "data": {
            "text/plain": [
              "8"
            ]
          },
          "metadata": {
            "tags": []
          },
          "execution_count": 23
        }
      ]
    },
    {
      "cell_type": "code",
      "metadata": {
        "id": "lT71HYrTdAaA",
        "colab_type": "code",
        "colab": {}
      },
      "source": [
        "la.remove(10)"
      ],
      "execution_count": 0,
      "outputs": []
    },
    {
      "cell_type": "code",
      "metadata": {
        "id": "p1Eg_uUYcrwY",
        "colab_type": "code",
        "outputId": "f2ec0149-cfe7-4a92-d5e2-1e4d89e0d2aa",
        "colab": {
          "base_uri": "https://localhost:8080/",
          "height": 34
        }
      },
      "source": [
        "print(la)"
      ],
      "execution_count": 0,
      "outputs": [
        {
          "output_type": "stream",
          "text": [
            "[5, 7, 8, 9, 11, 12, 13, 14, 15, 16, 17, 18, 19]\n"
          ],
          "name": "stdout"
        }
      ]
    },
    {
      "cell_type": "code",
      "metadata": {
        "id": "cOtA_Wx2ec5w",
        "colab_type": "code",
        "outputId": "0818fe04-cb0b-4f0d-dafb-91151636c81c",
        "colab": {
          "base_uri": "https://localhost:8080/",
          "height": 34
        }
      },
      "source": [
        "age=23\n",
        "\n",
        "if age >= 18:\n",
        "    print(\"You can vote!\")\n"
      ],
      "execution_count": 0,
      "outputs": [
        {
          "output_type": "stream",
          "text": [
            "You can vote!\n"
          ],
          "name": "stdout"
        }
      ]
    },
    {
      "cell_type": "code",
      "metadata": {
        "id": "mHBO6abOUiKi",
        "colab_type": "code",
        "outputId": "2e81f158-321f-48bc-87db-a8957d29a773",
        "colab": {
          "base_uri": "https://localhost:8080/",
          "height": 34
        }
      },
      "source": [
        "x=15\n",
        "y=15\n",
        "if x> y:\n",
        "  print(\"X is greater than Ten.\")\n",
        "elif x<y:\n",
        "  print(\"Y is greater than Ten\")\n",
        "else :\n",
        "  print(\"X is equal to Y\")"
      ],
      "execution_count": 0,
      "outputs": [
        {
          "output_type": "stream",
          "text": [
            "X is equal to Y\n"
          ],
          "name": "stdout"
        }
      ]
    },
    {
      "cell_type": "code",
      "metadata": {
        "id": "mrOiiWi3V_Ub",
        "colab_type": "code",
        "outputId": "b2789457-ff04-4532-a053-3452ba24f66a",
        "colab": {
          "base_uri": "https://localhost:8080/",
          "height": 34
        }
      },
      "source": [
        "x=11\n",
        "isgreater = True if x>10 else False\n",
        "print(isgreater) "
      ],
      "execution_count": 0,
      "outputs": [
        {
          "output_type": "stream",
          "text": [
            "True\n"
          ],
          "name": "stdout"
        }
      ]
    },
    {
      "cell_type": "code",
      "metadata": {
        "id": "CKaUy4XnYx7V",
        "colab_type": "code",
        "outputId": "2c45065f-29cc-49f2-8d80-7adf581f7ac1",
        "colab": {
          "base_uri": "https://localhost:8080/",
          "height": 34
        }
      },
      "source": [
        "var1 = 2\n",
        "if var1>1:\n",
        "  print(\"Variable is bigger than one\")"
      ],
      "execution_count": 0,
      "outputs": [
        {
          "output_type": "stream",
          "text": [
            "Variable is bigger than one\n"
          ],
          "name": "stdout"
        }
      ]
    },
    {
      "cell_type": "code",
      "metadata": {
        "id": "XMVPnD00ZV-R",
        "colab_type": "code",
        "outputId": "4067d487-69d0-4a02-d5a9-07707ac99342",
        "colab": {
          "base_uri": "https://localhost:8080/",
          "height": 34
        }
      },
      "source": [
        "var2 = 3\n",
        "print( \" value of variable\", var2)"
      ],
      "execution_count": 0,
      "outputs": [
        {
          "output_type": "stream",
          "text": [
            " value of variable 3\n"
          ],
          "name": "stdout"
        }
      ]
    },
    {
      "cell_type": "code",
      "metadata": {
        "id": "_deRtdLcZwsI",
        "colab_type": "code",
        "outputId": "b1533cd2-ebfc-49a6-ba80-3a1563e05399",
        "colab": {
          "base_uri": "https://localhost:8080/",
          "height": 34
        }
      },
      "source": [
        "var = 10\n",
        "if var > 5:\n",
        "  print(\"variable is greater than 5\")\n",
        "elif var < 5:\n",
        "  print(\"variable is lesser than 5\")\n",
        "else :\n",
        "  print(\"variable is equal to 5\")"
      ],
      "execution_count": 0,
      "outputs": [
        {
          "output_type": "stream",
          "text": [
            "variable is greater than 5\n"
          ],
          "name": "stdout"
        }
      ]
    },
    {
      "cell_type": "code",
      "metadata": {
        "id": "1Pv6Rojyadz7",
        "colab_type": "code",
        "outputId": "db6f470d-1a86-4304-9fc5-f14339f8b8e6",
        "colab": {
          "base_uri": "https://localhost:8080/",
          "height": 34
        }
      },
      "source": [
        "number = list(range(10,20))\n",
        "print(number)"
      ],
      "execution_count": 0,
      "outputs": [
        {
          "output_type": "stream",
          "text": [
            "[10, 11, 12, 13, 14, 15, 16, 17, 18, 19]\n"
          ],
          "name": "stdout"
        }
      ]
    },
    {
      "cell_type": "code",
      "metadata": {
        "id": "PFeRDyhRawuh",
        "colab_type": "code",
        "outputId": "7805dda4-703c-447c-b0ae-d8e5c9584c26",
        "colab": {
          "base_uri": "https://localhost:8080/",
          "height": 34
        }
      },
      "source": [
        "number = range(10,20)\n",
        "number"
      ],
      "execution_count": 0,
      "outputs": [
        {
          "output_type": "execute_result",
          "data": {
            "text/plain": [
              "range(10, 20)"
            ]
          },
          "metadata": {
            "tags": []
          },
          "execution_count": 26
        }
      ]
    },
    {
      "cell_type": "code",
      "metadata": {
        "id": "OQ6vsx6Kb0SD",
        "colab_type": "code",
        "outputId": "7ba5190a-701c-46cc-8763-42684641a312",
        "colab": {
          "base_uri": "https://localhost:8080/",
          "height": 187
        }
      },
      "source": [
        "for i in number:\n",
        "  print(i)"
      ],
      "execution_count": 0,
      "outputs": [
        {
          "output_type": "stream",
          "text": [
            "10\n",
            "11\n",
            "12\n",
            "13\n",
            "14\n",
            "15\n",
            "16\n",
            "17\n",
            "18\n",
            "19\n"
          ],
          "name": "stdout"
        }
      ]
    },
    {
      "cell_type": "code",
      "metadata": {
        "id": "W-P33dBzcbTJ",
        "colab_type": "code",
        "outputId": "ef99f15b-2c2b-4df6-8ae1-9c5bd86810ca",
        "colab": {
          "base_uri": "https://localhost:8080/",
          "height": 51
        }
      },
      "source": [
        "i=4\n",
        "while i<5:\n",
        "  print(i)\n",
        "  i=i + 1\n",
        "  print(\"done\")\n"
      ],
      "execution_count": 0,
      "outputs": [
        {
          "output_type": "stream",
          "text": [
            "4\n",
            "done\n"
          ],
          "name": "stdout"
        }
      ]
    },
    {
      "cell_type": "code",
      "metadata": {
        "id": "EDK1WgO7cv5x",
        "colab_type": "code",
        "outputId": "89c99a96-cb9d-441f-8bbf-573b23295239",
        "colab": {
          "base_uri": "https://localhost:8080/",
          "height": 51
        }
      },
      "source": [
        "a = (1,2)\n",
        "b = (\"hi hello vanakam\")\n",
        "print(type(4.2),type(b),type(1),type(a))\n",
        "\n",
        "print (b[3:8])\n"
      ],
      "execution_count": 0,
      "outputs": [
        {
          "output_type": "stream",
          "text": [
            "<class 'float'> <class 'str'> <class 'int'> <class 'tuple'>\n",
            "hello\n"
          ],
          "name": "stdout"
        }
      ]
    },
    {
      "cell_type": "code",
      "metadata": {
        "id": "82f1a7N-CYPZ",
        "colab_type": "code",
        "outputId": "a68aff55-27f6-4491-afc4-062c11478ab3",
        "colab": {
          "base_uri": "https://localhost:8080/",
          "height": 119
        }
      },
      "source": [
        "d = {1:'Jimmy', 2:'pummy', 3:'kummy', 4:'gimmy'}   \n",
        "print(\"1st name is \"+d[1])  \n",
        "print(\"2nd name is \"+ d[2]) \n",
        "print (d)  \n",
        "print (d.keys())  \n",
        "print (d.values())  \n",
        "\n",
        "\n",
        "\n",
        "print(d[4])"
      ],
      "execution_count": 0,
      "outputs": [
        {
          "output_type": "stream",
          "text": [
            "1st name is Jimmy\n",
            "2nd name is pummy\n",
            "{1: 'Jimmy', 2: 'pummy', 3: 'kummy', 4: 'gimmy'}\n",
            "dict_keys([1, 2, 3, 4])\n",
            "dict_values(['Jimmy', 'pummy', 'kummy', 'gimmy'])\n",
            "gimmy\n"
          ],
          "name": "stdout"
        }
      ]
    },
    {
      "cell_type": "code",
      "metadata": {
        "id": "P_pMBkeJZiRv",
        "colab_type": "code",
        "outputId": "2d4b71f5-27a3-4585-e6a1-9452b3d3a80b",
        "colab": {
          "base_uri": "https://localhost:8080/",
          "height": 34
        }
      },
      "source": [
        "x=10\n",
        "y=15\n",
        "if x>y:\n",
        "  print( \"x is greater than y\")\n",
        "elif x>=y :\n",
        "  print(\"x is equal to y\")\n",
        "else:\n",
        "  print(\"y is greater than x\")"
      ],
      "execution_count": 0,
      "outputs": [
        {
          "output_type": "stream",
          "text": [
            "y is greater than x\n"
          ],
          "name": "stdout"
        }
      ]
    },
    {
      "cell_type": "code",
      "metadata": {
        "id": "aDr15jSVa1iq",
        "colab_type": "code",
        "outputId": "7b62bd73-3679-43ff-f643-a2e3bf18d864",
        "colab": {
          "base_uri": "https://localhost:8080/",
          "height": 34
        }
      },
      "source": [
        "var1 = 2\n",
        "if var1>1:\n",
        "  print(\"Variable is bigger than one\")"
      ],
      "execution_count": 0,
      "outputs": [
        {
          "output_type": "stream",
          "text": [
            "Variable is bigger than one\n"
          ],
          "name": "stdout"
        }
      ]
    },
    {
      "cell_type": "code",
      "metadata": {
        "colab_type": "code",
        "outputId": "09fecf30-7d8a-4af1-f717-bd2c4b260aab",
        "id": "UKaQ7qrnb-Ek",
        "colab": {
          "base_uri": "https://localhost:8080/",
          "height": 34
        }
      },
      "source": [
        "x=11\n",
        "isgreater = True if x>10 else False\n",
        "print(isgreater) "
      ],
      "execution_count": 0,
      "outputs": [
        {
          "output_type": "stream",
          "text": [
            "True\n"
          ],
          "name": "stdout"
        }
      ]
    },
    {
      "cell_type": "code",
      "metadata": {
        "id": "xi7NZYmocA7o",
        "colab_type": "code",
        "outputId": "7b6f4600-1b8e-44cb-c588-2416274fa741",
        "colab": {
          "base_uri": "https://localhost:8080/",
          "height": 34
        }
      },
      "source": [
        "numbers = list(range(1,25))\n",
        "print(numbers)"
      ],
      "execution_count": 0,
      "outputs": [
        {
          "output_type": "stream",
          "text": [
            "[1, 2, 3, 4, 5, 6, 7, 8, 9, 10, 11, 12, 13, 14, 15, 16, 17, 18, 19, 20, 21, 22, 23, 24]\n"
          ],
          "name": "stdout"
        }
      ]
    },
    {
      "cell_type": "code",
      "metadata": {
        "id": "Krbt6wbhcztQ",
        "colab_type": "code",
        "outputId": "394e5830-d241-4cc2-93b0-c7f019d3b4e3",
        "colab": {
          "base_uri": "https://localhost:8080/",
          "height": 85
        }
      },
      "source": [
        "x = input(\"what is your name \")\n",
        "print(\" Hello \" + x)\n",
        "y = input (\"what is your age \") \n",
        "\n",
        "y = int(y)\n",
        "\n",
        "if y > 60:\n",
        "  print(x + \" you are a senior citizen\")\n",
        "else :\n",
        "  print( x + \" you are a non senior citizen\")\n",
        "\n"
      ],
      "execution_count": 0,
      "outputs": [
        {
          "output_type": "stream",
          "text": [
            "what is your name harsh\n",
            " Hello harsh\n",
            "what is your age 20\n",
            "harsh you are a non senior citizen\n"
          ],
          "name": "stdout"
        }
      ]
    },
    {
      "cell_type": "code",
      "metadata": {
        "id": "jJFb55Hffcuv",
        "colab_type": "code",
        "outputId": "3ab7c018-d78f-46c4-dc80-15ee4532bb4d",
        "colab": {
          "base_uri": "https://localhost:8080/",
          "height": 153
        }
      },
      "source": [
        ""
      ],
      "execution_count": 0,
      "outputs": [
        {
          "output_type": "stream",
          "text": [
            "1\n",
            "2\n",
            "2\n",
            "3\n",
            "3\n",
            "4\n",
            "4\n",
            "5\n"
          ],
          "name": "stdout"
        }
      ]
    },
    {
      "cell_type": "code",
      "metadata": {
        "id": "1qpssX6HhP26",
        "colab_type": "code",
        "colab": {}
      },
      "source": [
        "class car():\n",
        "  def __init__ (self,make,model,year):\n",
        "    self.make = make\n",
        "    self.model = model\n",
        "    self.year = year\n",
        "    self.fuel_capacity = 15\n",
        "    self.fuel_level = 0\n",
        "\n",
        "  def fill_fuel(self):\n",
        "    self.fuel_level = self.fuel_capacity\n",
        "    print(\"tank is full \")\n",
        "\n",
        "  def update_fuel_tank(self,level_increase):\n",
        "    if (self.fuel_level + level_increase <= self.fuel_capacity) :\n",
        "      self.fuel_level += level_increase\n",
        "      print(\"fuel added\")\n",
        "    else :\n",
        "      print(\"tank cannot hold that much fuel\")\n"
      ],
      "execution_count": 0,
      "outputs": []
    },
    {
      "cell_type": "code",
      "metadata": {
        "id": "VTve8PurpBGw",
        "colab_type": "code",
        "outputId": "ad66dfcb-2df2-4236-d523-831fc3b7c733",
        "colab": {
          "base_uri": "https://localhost:8080/",
          "height": 51
        }
      },
      "source": [
        "my_car.update_fuel_tank(16)\n",
        "print(my_car.fuel_level)"
      ],
      "execution_count": 0,
      "outputs": [
        {
          "output_type": "stream",
          "text": [
            "tank cannot hold that much fuel\n",
            "15\n"
          ],
          "name": "stdout"
        }
      ]
    },
    {
      "cell_type": "code",
      "metadata": {
        "id": "_rvnHwX2DPjq",
        "colab_type": "code",
        "outputId": "32ac6540-c3f6-4b7b-d778-d7660a9ea56e",
        "colab": {
          "base_uri": "https://localhost:8080/",
          "height": 119
        }
      },
      "source": [
        "a = 23\n",
        "b = 10\n",
        "c = a + b\n",
        "print(\"The value of c is\", c)\n",
        "c = a * b\n",
        "print(\"The value of c is\", c)\n",
        "c = a / b\n",
        "print(\"The value of c is\", c)\n",
        "c = a - b\n",
        "print(\"The value of c is\", c)\n",
        "c = a // b\n",
        "print(\"The value of c is\", c)\n",
        "c = a ** b\n",
        "print(\"The value of c is\", c) "
      ],
      "execution_count": 0,
      "outputs": [
        {
          "output_type": "stream",
          "text": [
            "The value of c is 33\n",
            "The value of c is 230\n",
            "The value of c is 2.3\n",
            "The value of c is 13\n",
            "The value of c is 2\n",
            "The value of c is 41426511213649\n"
          ],
          "name": "stdout"
        }
      ]
    },
    {
      "cell_type": "code",
      "metadata": {
        "id": "7lX2stHfFMHa",
        "colab_type": "code",
        "outputId": "e4cdf1a9-70b4-4fe2-cf34-8f60d90f9b6b",
        "colab": {
          "base_uri": "https://localhost:8080/",
          "height": 51
        }
      },
      "source": [
        "a = 1 + 2 + 3 + \\\n",
        "4 + 5 + 6\n",
        "b = 2\n",
        "print(a)\n",
        "print(b)"
      ],
      "execution_count": 0,
      "outputs": [
        {
          "output_type": "stream",
          "text": [
            "21\n",
            "2\n"
          ],
          "name": "stdout"
        }
      ]
    },
    {
      "cell_type": "code",
      "metadata": {
        "id": "U7pjLWieDhdZ",
        "colab_type": "code",
        "outputId": "686ccf65-bc07-4848-da68-f709710ad6d2",
        "colab": {
          "base_uri": "https://localhost:8080/",
          "height": 119
        }
      },
      "source": [
        "for i in range ( 20,30):\n",
        "  print(i)\n",
        "  if (i==25):\n",
        "    break"
      ],
      "execution_count": 0,
      "outputs": [
        {
          "output_type": "stream",
          "text": [
            "20\n",
            "21\n",
            "22\n",
            "23\n",
            "24\n",
            "25\n"
          ],
          "name": "stdout"
        }
      ]
    },
    {
      "cell_type": "code",
      "metadata": {
        "id": "zy3xFLs0DhbU",
        "colab_type": "code",
        "outputId": "08394015-ca16-452f-c253-a607178cc669",
        "colab": {
          "base_uri": "https://localhost:8080/",
          "height": 34
        }
      },
      "source": [
        "tuple1 = ['a','b']\n",
        "list1 = (a)\n",
        "\n",
        "print(type(tuple2),type(list2))"
      ],
      "execution_count": 0,
      "outputs": [
        {
          "output_type": "stream",
          "text": [
            "<class 'list'> <class 'tuple'>\n"
          ],
          "name": "stdout"
        }
      ]
    },
    {
      "cell_type": "code",
      "metadata": {
        "id": "ASD29p7WDhXu",
        "colab_type": "code",
        "colab": {}
      },
      "source": [
        "tuple1[1:]=('c')"
      ],
      "execution_count": 0,
      "outputs": []
    },
    {
      "cell_type": "code",
      "metadata": {
        "id": "Zl6XR5NEDhWU",
        "colab_type": "code",
        "outputId": "6b6acd30-56e3-4e38-9d5d-05c0dd4c39f3",
        "colab": {
          "base_uri": "https://localhost:8080/",
          "height": 34
        }
      },
      "source": [
        "tuple1"
      ],
      "execution_count": 0,
      "outputs": [
        {
          "output_type": "execute_result",
          "data": {
            "text/plain": [
              "['c', 'c']"
            ]
          },
          "metadata": {
            "tags": []
          },
          "execution_count": 52
        }
      ]
    },
    {
      "cell_type": "markdown",
      "metadata": {
        "id": "cVSi-SR1qKqe",
        "colab_type": "text"
      },
      "source": [
        "\n",
        "\n",
        "```\n",
        "**function ( programming for analytics)**\n",
        "```\n",
        "\n"
      ]
    },
    {
      "cell_type": "code",
      "metadata": {
        "id": "4twkQFj6DhDC",
        "colab_type": "code",
        "outputId": "8c534d98-aa44-44b1-d996-e2ccde6e1294",
        "colab": {
          "base_uri": "https://localhost:8080/",
          "height": 34
        }
      },
      "source": [
        "big = max('hello world')\n",
        "print(big)"
      ],
      "execution_count": 0,
      "outputs": [
        {
          "output_type": "stream",
          "text": [
            "w\n"
          ],
          "name": "stdout"
        }
      ]
    },
    {
      "cell_type": "code",
      "metadata": {
        "id": "g9vt58UKS9Iy",
        "colab_type": "code",
        "outputId": "804c0422-2f37-47e5-9ebb-1db0a793956d",
        "colab": {
          "base_uri": "https://localhost:8080/",
          "height": 34
        }
      },
      "source": [
        "print (float(99)/100)"
      ],
      "execution_count": 0,
      "outputs": [
        {
          "output_type": "stream",
          "text": [
            "0.99\n"
          ],
          "name": "stdout"
        }
      ]
    },
    {
      "cell_type": "code",
      "metadata": {
        "id": "EATQZDinT073",
        "colab_type": "code",
        "outputId": "046ac873-4ba1-4bcf-f403-d500b85d4c90",
        "colab": {
          "base_uri": "https://localhost:8080/",
          "height": 34
        }
      },
      "source": [
        "i = 45\n",
        "print(type(i))"
      ],
      "execution_count": 0,
      "outputs": [
        {
          "output_type": "stream",
          "text": [
            "<class 'int'>\n"
          ],
          "name": "stdout"
        }
      ]
    },
    {
      "cell_type": "code",
      "metadata": {
        "id": "-MFTWUJjUAi_",
        "colab_type": "code",
        "outputId": "74c59056-2813-4fd6-cdeb-5847bc60eac4",
        "colab": {
          "base_uri": "https://localhost:8080/",
          "height": 34
        }
      },
      "source": [
        "f = float(i)\n",
        "print(type(f))"
      ],
      "execution_count": 0,
      "outputs": [
        {
          "output_type": "stream",
          "text": [
            "<class 'float'>\n"
          ],
          "name": "stdout"
        }
      ]
    },
    {
      "cell_type": "code",
      "metadata": {
        "id": "Y-1zpo-sUHuu",
        "colab_type": "code",
        "outputId": "4dd561cd-2447-4157-be5d-b4f7ebdafec6",
        "colab": {
          "base_uri": "https://localhost:8080/",
          "height": 34
        }
      },
      "source": [
        "sval = '123'\n",
        "print(type(sval))"
      ],
      "execution_count": 0,
      "outputs": [
        {
          "output_type": "stream",
          "text": [
            "<class 'str'>\n"
          ],
          "name": "stdout"
        }
      ]
    },
    {
      "cell_type": "code",
      "metadata": {
        "id": "O1xDy3_TUdpW",
        "colab_type": "code",
        "outputId": "341d4b9d-0136-4726-d941-f08c67858ccc",
        "colab": {
          "base_uri": "https://localhost:8080/",
          "height": 34
        }
      },
      "source": [
        "aval = int(sval)\n",
        "print(type(aval))"
      ],
      "execution_count": 0,
      "outputs": [
        {
          "output_type": "stream",
          "text": [
            "<class 'int'>\n"
          ],
          "name": "stdout"
        }
      ]
    },
    {
      "cell_type": "code",
      "metadata": {
        "id": "WN_iyj6jUp5D",
        "colab_type": "code",
        "colab": {}
      },
      "source": [
        "print(aval + 1)"
      ],
      "execution_count": 0,
      "outputs": []
    },
    {
      "cell_type": "code",
      "metadata": {
        "id": "2kxVU1-dUvTH",
        "colab_type": "code",
        "colab": {}
      },
      "source": [
        "def print_lyrics():\n",
        "  print (\"I'm a lumberjack, and i'm okay\")\n",
        "  print ('I sleep all night ')"
      ],
      "execution_count": 0,
      "outputs": []
    },
    {
      "cell_type": "code",
      "metadata": {
        "id": "eoW6HiD7VKcq",
        "colab_type": "code",
        "outputId": "8fc265da-2ad7-4886-f6c4-750507fe8201",
        "colab": {
          "base_uri": "https://localhost:8080/",
          "height": 51
        }
      },
      "source": [
        "print_lyrics()"
      ],
      "execution_count": 0,
      "outputs": [
        {
          "output_type": "stream",
          "text": [
            "I'm a lumberjack, and i'm okay\n",
            "I sleep all night \n"
          ],
          "name": "stdout"
        }
      ]
    },
    {
      "cell_type": "code",
      "metadata": {
        "id": "Ygu7mUCGVTU-",
        "colab_type": "code",
        "colab": {}
      },
      "source": [
        "def greet(lang):\n",
        "  if(lang == \"en\"):\n",
        "    print(\"hello\") \n",
        "  elif(lang == \"fr\"):\n",
        "    print(\"bonjor\") \n",
        "  elif(lang == \"es\"):\n",
        "    print(\"Hola\")\n",
        "  else:\n",
        "    print(\"namasta\")\n",
        " \n",
        "\n",
        "  "
      ],
      "execution_count": 0,
      "outputs": []
    },
    {
      "cell_type": "code",
      "metadata": {
        "id": "GpvLBAg9W3LH",
        "colab_type": "code",
        "outputId": "a4fff7ac-c46c-44d0-82e3-9b283b971978",
        "colab": {
          "base_uri": "https://localhost:8080/",
          "height": 68
        }
      },
      "source": [
        "print(greet('es'),greet('fr'))"
      ],
      "execution_count": 0,
      "outputs": [
        {
          "output_type": "stream",
          "text": [
            "Hola\n",
            "bonjor\n",
            "None None\n"
          ],
          "name": "stdout"
        }
      ]
    },
    {
      "cell_type": "code",
      "metadata": {
        "id": "MEbz71TpXKgo",
        "colab_type": "code",
        "colab": {}
      },
      "source": [
        "def my_function(name,greet):\n",
        "  print(\"hello %s, i wish you %s \" %(name,greet))\n"
      ],
      "execution_count": 0,
      "outputs": []
    },
    {
      "cell_type": "code",
      "metadata": {
        "id": "6LCQarD8amrO",
        "colab_type": "code",
        "outputId": "296d8987-6bbb-4a8a-f693-e747ba4617ac",
        "colab": {
          "base_uri": "https://localhost:8080/",
          "height": 34
        }
      },
      "source": [
        "my_function('xo',2020)"
      ],
      "execution_count": 0,
      "outputs": [
        {
          "output_type": "stream",
          "text": [
            "hello xo, i wish you 2020 \n"
          ],
          "name": "stdout"
        }
      ]
    },
    {
      "cell_type": "code",
      "metadata": {
        "id": "W9ES5iEdar_t",
        "colab_type": "code",
        "colab": {}
      },
      "source": [
        "def mul(x, y =0):\n",
        "  return x*y\n",
        "def sqr(x):\n",
        "  return x*x\n",
        "def cube(x):\n",
        "  return x*x*x"
      ],
      "execution_count": 0,
      "outputs": []
    },
    {
      "cell_type": "code",
      "metadata": {
        "id": "TAWt8M_2bFqy",
        "colab_type": "code",
        "outputId": "d645dd7e-df8e-473a-b4ef-996d1bab7ed7",
        "colab": {
          "base_uri": "https://localhost:8080/",
          "height": 68
        }
      },
      "source": [
        "print(mul(3,1))\n",
        "print(sqr(5))\n",
        "print(cube(7))\n"
      ],
      "execution_count": 0,
      "outputs": [
        {
          "output_type": "stream",
          "text": [
            "3\n",
            "25\n",
            "343\n"
          ],
          "name": "stdout"
        }
      ]
    },
    {
      "cell_type": "code",
      "metadata": {
        "id": "FksKXE5tbrWV",
        "colab_type": "code",
        "colab": {}
      },
      "source": [
        "def computepay(hour,rate):\n",
        "  if hour <= 40:\n",
        "    pay = hour*rate\n",
        "    return pay\n",
        "  else:\n",
        "    pay = (40 * rate) + ((hour - 40) * 1.5 * rate)\n",
        "    return (pay)"
      ],
      "execution_count": 0,
      "outputs": []
    },
    {
      "cell_type": "code",
      "metadata": {
        "id": "Utd4pZg0bFjr",
        "colab_type": "code",
        "outputId": "2a5d915e-ee98-4659-b987-e5aa342b3e67",
        "colab": {
          "base_uri": "https://localhost:8080/",
          "height": 34
        }
      },
      "source": [
        "computepay(41,8)"
      ],
      "execution_count": 0,
      "outputs": [
        {
          "output_type": "execute_result",
          "data": {
            "text/plain": [
              "332.0"
            ]
          },
          "metadata": {
            "tags": []
          },
          "execution_count": 124
        }
      ]
    },
    {
      "cell_type": "code",
      "metadata": {
        "id": "pRTQaKv2eYOK",
        "colab_type": "code",
        "colab": {}
      },
      "source": [
        "def list_benefits():\n",
        "  return (\"more organised code\",\"more readable code\",\"easier code reuse\",\"allowing programmers to share and connect code together\")\n",
        "\n",
        "  "
      ],
      "execution_count": 0,
      "outputs": []
    },
    {
      "cell_type": "code",
      "metadata": {
        "id": "dhqM1KhPj5R2",
        "colab_type": "code",
        "outputId": "392737d2-e9e5-45a6-a4fc-aa976a25712a",
        "colab": {
          "base_uri": "https://localhost:8080/",
          "height": 87
        }
      },
      "source": [
        "list_benefits()"
      ],
      "execution_count": 0,
      "outputs": [
        {
          "output_type": "execute_result",
          "data": {
            "text/plain": [
              "('more organised code',\n",
              " 'more readable code',\n",
              " 'easier code reuse',\n",
              " 'allowing programmers to share and connect code together')"
            ]
          },
          "metadata": {
            "tags": []
          },
          "execution_count": 4
        }
      ]
    },
    {
      "cell_type": "code",
      "metadata": {
        "id": "fF6fgyK0Jx2g",
        "colab_type": "code",
        "colab": {}
      },
      "source": [
        "def built_sentence(benefit):\n",
        "  for i in benefit:\n",
        "    print(i, \"benefit of functions\"  )\n"
      ],
      "execution_count": 0,
      "outputs": []
    },
    {
      "cell_type": "code",
      "metadata": {
        "id": "8LPhcAwdLxy1",
        "colab_type": "code",
        "outputId": "37cbf44c-368e-49eb-ee8d-8aa4b3eb4c3e",
        "colab": {
          "base_uri": "https://localhost:8080/",
          "height": 141
        }
      },
      "source": [
        "built_sentence('benefit')"
      ],
      "execution_count": 0,
      "outputs": [
        {
          "output_type": "stream",
          "text": [
            "b benefit of functions\n",
            "e benefit of functions\n",
            "n benefit of functions\n",
            "e benefit of functions\n",
            "f benefit of functions\n",
            "i benefit of functions\n",
            "t benefit of functions\n"
          ],
          "name": "stdout"
        }
      ]
    },
    {
      "cell_type": "code",
      "metadata": {
        "id": "4Q0lqwNEL3n1",
        "colab_type": "code",
        "colab": {}
      },
      "source": [
        ""
      ],
      "execution_count": 0,
      "outputs": []
    },
    {
      "cell_type": "code",
      "metadata": {
        "id": "o60bewHDj8R0",
        "colab_type": "code",
        "outputId": "eb8313ae-21b3-459b-89cf-ab824b3aa884",
        "colab": {
          "base_uri": "https://localhost:8080/",
          "height": 68
        }
      },
      "source": [
        "#multiple statements \n",
        "x = 1 + 2 + 3 +\\\n",
        "    4 + 5 + 6 +\\\n",
        "    7 + 8 + 9 \n",
        "print(x)\n",
        "\n",
        "\n",
        "y = (1 + 2 + 3 +\n",
        "    4 + 5 + 6 +\n",
        "    7 + 8 + 9 )\n",
        "print(y)\n",
        "\n",
        "\n",
        "z = colors = ['red',\n",
        "              'blue',\n",
        "              'green']\n",
        "print (z)\n",
        "\n",
        "\n"
      ],
      "execution_count": 0,
      "outputs": [
        {
          "output_type": "stream",
          "text": [
            "45\n",
            "45\n",
            "['red', 'blue', 'green']\n"
          ],
          "name": "stdout"
        }
      ]
    },
    {
      "cell_type": "code",
      "metadata": {
        "id": "jw688mGVkTfa",
        "colab_type": "code",
        "outputId": "f6c2616e-7a34-409d-9e1e-6def139c78c1",
        "colab": {
          "base_uri": "https://localhost:8080/",
          "height": 51
        }
      },
      "source": [
        "a=b=c = \"xo\"\n",
        "print(a ,\"\\n\" ,b,c )"
      ],
      "execution_count": 0,
      "outputs": [
        {
          "output_type": "stream",
          "text": [
            "xo \n",
            " xo xo\n"
          ],
          "name": "stdout"
        }
      ]
    },
    {
      "cell_type": "code",
      "metadata": {
        "id": "Gu-ZRv60hg1F",
        "colab_type": "code",
        "colab": {}
      },
      "source": [
        "#Special literal(None)\n",
        "\n",
        "snacks = \"Available\"\n",
        "drinks = None\n",
        "\n",
        "def food(x):\n",
        "  if x== snacks:\n",
        "    print(x)\n",
        "  else:\n",
        "    print(drinks)"
      ],
      "execution_count": 0,
      "outputs": []
    },
    {
      "cell_type": "code",
      "metadata": {
        "id": "6hLThzvaVhKf",
        "colab_type": "code",
        "outputId": "86ec107b-17d8-486b-a93c-40b14c06b39d",
        "colab": {
          "base_uri": "https://localhost:8080/",
          "height": 51
        }
      },
      "source": [
        "food(snacks)\n",
        "food(drinks)\n",
        "\n"
      ],
      "execution_count": 0,
      "outputs": [
        {
          "output_type": "stream",
          "text": [
            "Available\n",
            "None\n"
          ],
          "name": "stdout"
        }
      ]
    },
    {
      "cell_type": "code",
      "metadata": {
        "id": "N_Q-UT1Bh8zr",
        "colab_type": "code",
        "outputId": "a823375b-8ffb-4fb6-915a-8df512c834ea",
        "colab": {
          "base_uri": "https://localhost:8080/",
          "height": 34
        }
      },
      "source": [
        "#doc string\n",
        "def test():\n",
        "  \"\"\"hello\"\"\"\n",
        "print(test.__doc__)"
      ],
      "execution_count": 0,
      "outputs": [
        {
          "output_type": "stream",
          "text": [
            "hello\n"
          ],
          "name": "stdout"
        }
      ]
    },
    {
      "cell_type": "code",
      "metadata": {
        "id": "Aqp7Yp6bTKfJ",
        "colab_type": "code",
        "outputId": "8435157c-cce7-493a-e751-c022916d7732",
        "colab": {
          "base_uri": "https://localhost:8080/",
          "height": 102
        }
      },
      "source": [
        "#Literals Collection\n",
        "#list , tuple, dict, set\n",
        "\n",
        "z = [\"as\",\"ds\",\"ab\"]\n",
        "x = (1,2,3,4,5)\n",
        "c = {1 : 'a' ,2 : 'b', 3 : 'c'} \n",
        "vs = {1,2,3,4,2,3,4} #sets elimates duplicate values, they dont have slicing option\n",
        "\n",
        "print(z,type(z), z[1] )\n",
        "print(x,type(x), x[3:])\n",
        "print(c,type(c), c[2] )\n",
        "print(vs,type(vs))\n",
        "\n",
        "\n",
        "#mutation num\n",
        "z[2] = 10\n",
        "print(z)"
      ],
      "execution_count": 0,
      "outputs": [
        {
          "output_type": "stream",
          "text": [
            "['as', 'ds', 'ab'] <class 'list'> ds\n",
            "(1, 2, 3, 4, 5) <class 'tuple'> (4, 5)\n",
            "{1: 'a', 2: 'b', 3: 'c'} <class 'dict'> b\n",
            "{1, 2, 3, 4} <class 'set'>\n",
            "['as', 'ds', 10]\n"
          ],
          "name": "stdout"
        }
      ]
    },
    {
      "cell_type": "code",
      "metadata": {
        "id": "aj4Ppx_rTYkE",
        "colab_type": "code",
        "outputId": "a00d1a59-3d1b-4d2b-bb4d-a54986b4a3f2",
        "colab": {
          "base_uri": "https://localhost:8080/",
          "height": 34
        }
      },
      "source": [
        "x = 1+2j\n",
        "\n",
        "print( \"is x variable is complex ?\",isinstance(x,complex))\n",
        "\n"
      ],
      "execution_count": 0,
      "outputs": [
        {
          "output_type": "stream",
          "text": [
            "is x variable is complex ? True\n"
          ],
          "name": "stdout"
        }
      ]
    },
    {
      "cell_type": "code",
      "metadata": {
        "id": "uRYl_7y3ZBbz",
        "colab_type": "code",
        "outputId": "2e286a36-8ea9-4af5-8229-ea9f52a6f581",
        "colab": {
          "base_uri": "https://localhost:8080/",
          "height": 119
        }
      },
      "source": [
        "#conversion\n",
        "\n",
        "a = 2\n",
        "b = 3.2\n",
        "print(a,type(a))\n",
        "print(b,type(b))\n",
        "\n",
        "c = float(a)\n",
        "d = int(b)\n",
        "print(c,type(c))\n",
        "print(d,type(d))\n",
        "\n",
        "\n",
        "#one sequence to another\n",
        "x = (1,2,3)\n",
        "print(type(x))\n",
        "\n",
        "#list(x) #tuple to list\n",
        "\n",
        "#set(x) #tuple to set\n",
        "\n",
        "\n",
        "#conversion 2 types ,(one data type to another type)\n",
        "#implicit (automatic by python) \n",
        "#explicit (type casting , user defined, )\n"
      ],
      "execution_count": 0,
      "outputs": [
        {
          "output_type": "stream",
          "text": [
            "2 <class 'int'>\n",
            "3.2 <class 'float'>\n",
            "2.0 <class 'float'>\n",
            "3 <class 'int'>\n",
            "<class 'tuple'>\n"
          ],
          "name": "stdout"
        },
        {
          "output_type": "execute_result",
          "data": {
            "text/plain": [
              "{1, 2, 3}"
            ]
          },
          "metadata": {
            "tags": []
          },
          "execution_count": 183
        }
      ]
    },
    {
      "cell_type": "code",
      "metadata": {
        "id": "-WcI2Japf1wm",
        "colab_type": "code",
        "outputId": "c3906065-5be9-4189-969a-80afa229b5e0",
        "colab": {
          "base_uri": "https://localhost:8080/",
          "height": 34
        }
      },
      "source": [
        "x  = 12.232432234\n",
        "print('x is %30.4f' %x )\n",
        "\n",
        "\n"
      ],
      "execution_count": 0,
      "outputs": [
        {
          "output_type": "stream",
          "text": [
            "x is                        12.2324\n"
          ],
          "name": "stdout"
        }
      ]
    },
    {
      "cell_type": "code",
      "metadata": {
        "id": "OfHDKTgSlkWP",
        "colab_type": "code",
        "outputId": "9127a624-3417-4f59-8dcd-d952919356e4",
        "colab": {
          "base_uri": "https://localhost:8080/",
          "height": 34
        }
      },
      "source": [
        "x = '2+2'\n",
        "\n",
        "type(x)\n",
        "\n",
        "#int() wont work here\n",
        "eval(x)\n"
      ],
      "execution_count": 0,
      "outputs": [
        {
          "output_type": "execute_result",
          "data": {
            "text/plain": [
              "4"
            ]
          },
          "metadata": {
            "tags": []
          },
          "execution_count": 202
        }
      ]
    },
    {
      "cell_type": "code",
      "metadata": {
        "id": "IhhNwUeOlwLY",
        "colab_type": "code",
        "colab": {}
      },
      "source": [
        "#is ,is not , identical operators\n",
        "#in , in not,  membership operators\n",
        "#id() object identifier\n",
        "# global funtion, outer function, inner function\n",
        "\n"
      ],
      "execution_count": 0,
      "outputs": []
    },
    {
      "cell_type": "code",
      "metadata": {
        "id": "tBi6nvNxtzr7",
        "colab_type": "code",
        "outputId": "83f121eb-74c2-4649-a3ab-63c0f4b1eb03",
        "colab": {
          "base_uri": "https://localhost:8080/",
          "height": 34
        }
      },
      "source": [
        "alien_0 = {'color': 'green', 'points': 5}\n",
        "\n",
        "alien_0['x']= 0\n",
        "\n",
        "print(alien_0)"
      ],
      "execution_count": 0,
      "outputs": [
        {
          "output_type": "stream",
          "text": [
            "{'color': 'green', 'points': 5, 'x': 0}\n"
          ],
          "name": "stdout"
        }
      ]
    },
    {
      "cell_type": "code",
      "metadata": {
        "id": "dvvGldDzeyPh",
        "colab_type": "code",
        "outputId": "5da905b0-2068-4b0b-e9cd-c2bdfb3e2c95",
        "colab": {
          "base_uri": "https://localhost:8080/",
          "height": 85
        }
      },
      "source": [
        "# Store people's favorite languages.\n",
        "fav_languages = {\n",
        " 'jen': 'python',\n",
        " 'sarah': 'c',\n",
        " 'edward': 'ruby',\n",
        " 'phil': 'python',\n",
        " }\n",
        "\n",
        "\n",
        "for x,y in fav_languages.items():\n",
        "  print(x + \":\" + y)\n",
        "\n",
        "#for name in sorted(fav_languages.keys()): #for acending order alphabets \n"
      ],
      "execution_count": 0,
      "outputs": [
        {
          "output_type": "stream",
          "text": [
            "jen:python\n",
            "sarah:c\n",
            "edward:ruby\n",
            "phil:python\n"
          ],
          "name": "stdout"
        }
      ]
    },
    {
      "cell_type": "code",
      "metadata": {
        "id": "Lg5t1JBQfz0e",
        "colab_type": "code",
        "outputId": "2065cb68-7cd0-4600-df68-555378a5d9b7",
        "colab": {
          "base_uri": "https://localhost:8080/",
          "height": 34
        }
      },
      "source": [
        "num_responses = len(fav_languages)\n",
        "num_responses\n"
      ],
      "execution_count": 0,
      "outputs": [
        {
          "output_type": "execute_result",
          "data": {
            "text/plain": [
              "4"
            ]
          },
          "metadata": {
            "tags": []
          },
          "execution_count": 38
        }
      ]
    },
    {
      "cell_type": "code",
      "metadata": {
        "id": "Eag5LkcLhD9N",
        "colab_type": "code",
        "outputId": "868f5c49-fe91-47b7-cda6-5cc1d2b1cc79",
        "colab": {
          "base_uri": "https://localhost:8080/",
          "height": 170
        }
      },
      "source": [
        "user = []\n",
        "user1 = {'1' : 'a' , '2' : 'b' } \n",
        "user.append(user1)\n",
        "user2 = {'3' : 'c' , '4' : 'd' }\n",
        "user.append(user2)\n",
        "print(user)\n",
        "\n",
        "for user_dict1 in user:\n",
        "    for x , y in user_dict1.items():\n",
        "      print(x + \" : \"  + y)\n",
        "    print(\"\\n\")\n",
        "\n"
      ],
      "execution_count": 0,
      "outputs": [
        {
          "output_type": "stream",
          "text": [
            "[{'1': 'a', '2': 'b'}, {'3': 'c', '4': 'd'}]\n",
            "1 : a\n",
            "2 : b\n",
            "\n",
            "\n",
            "3 : c\n",
            "4 : d\n",
            "\n",
            "\n"
          ],
          "name": "stdout"
        }
      ]
    },
    {
      "cell_type": "code",
      "metadata": {
        "id": "RsATRr74oozV",
        "colab_type": "code",
        "outputId": "be4d6e83-ef75-4cfe-f8ca-fb6883ca6e88",
        "colab": {
          "base_uri": "https://localhost:8080/",
          "height": 1000
        }
      },
      "source": [
        "alien_new = []\n",
        "\n",
        "for alien_num in range(100):\n",
        "  alien = {}\n",
        "  alien['hair'] = 'green'\n",
        "  alien['head'] = 'traingle'\n",
        "  alien['size'] = alien_num\n",
        "  alien_new.append(alien)\n",
        "\n",
        "\n",
        "for alien_dic in alien_new:\n",
        "  for x,y in alien_dic.items():\n",
        "    print(x , y )\n",
        "  print(\"\\n\")"
      ],
      "execution_count": 0,
      "outputs": [
        {
          "output_type": "stream",
          "text": [
            "hair green\n",
            "head traingle\n",
            "size 0\n",
            "\n",
            "\n",
            "hair green\n",
            "head traingle\n",
            "size 1\n",
            "\n",
            "\n",
            "hair green\n",
            "head traingle\n",
            "size 2\n",
            "\n",
            "\n",
            "hair green\n",
            "head traingle\n",
            "size 3\n",
            "\n",
            "\n",
            "hair green\n",
            "head traingle\n",
            "size 4\n",
            "\n",
            "\n",
            "hair green\n",
            "head traingle\n",
            "size 5\n",
            "\n",
            "\n",
            "hair green\n",
            "head traingle\n",
            "size 6\n",
            "\n",
            "\n",
            "hair green\n",
            "head traingle\n",
            "size 7\n",
            "\n",
            "\n",
            "hair green\n",
            "head traingle\n",
            "size 8\n",
            "\n",
            "\n",
            "hair green\n",
            "head traingle\n",
            "size 9\n",
            "\n",
            "\n",
            "hair green\n",
            "head traingle\n",
            "size 10\n",
            "\n",
            "\n",
            "hair green\n",
            "head traingle\n",
            "size 11\n",
            "\n",
            "\n",
            "hair green\n",
            "head traingle\n",
            "size 12\n",
            "\n",
            "\n",
            "hair green\n",
            "head traingle\n",
            "size 13\n",
            "\n",
            "\n",
            "hair green\n",
            "head traingle\n",
            "size 14\n",
            "\n",
            "\n",
            "hair green\n",
            "head traingle\n",
            "size 15\n",
            "\n",
            "\n",
            "hair green\n",
            "head traingle\n",
            "size 16\n",
            "\n",
            "\n",
            "hair green\n",
            "head traingle\n",
            "size 17\n",
            "\n",
            "\n",
            "hair green\n",
            "head traingle\n",
            "size 18\n",
            "\n",
            "\n",
            "hair green\n",
            "head traingle\n",
            "size 19\n",
            "\n",
            "\n",
            "hair green\n",
            "head traingle\n",
            "size 20\n",
            "\n",
            "\n",
            "hair green\n",
            "head traingle\n",
            "size 21\n",
            "\n",
            "\n",
            "hair green\n",
            "head traingle\n",
            "size 22\n",
            "\n",
            "\n",
            "hair green\n",
            "head traingle\n",
            "size 23\n",
            "\n",
            "\n",
            "hair green\n",
            "head traingle\n",
            "size 24\n",
            "\n",
            "\n",
            "hair green\n",
            "head traingle\n",
            "size 25\n",
            "\n",
            "\n",
            "hair green\n",
            "head traingle\n",
            "size 26\n",
            "\n",
            "\n",
            "hair green\n",
            "head traingle\n",
            "size 27\n",
            "\n",
            "\n",
            "hair green\n",
            "head traingle\n",
            "size 28\n",
            "\n",
            "\n",
            "hair green\n",
            "head traingle\n",
            "size 29\n",
            "\n",
            "\n",
            "hair green\n",
            "head traingle\n",
            "size 30\n",
            "\n",
            "\n",
            "hair green\n",
            "head traingle\n",
            "size 31\n",
            "\n",
            "\n",
            "hair green\n",
            "head traingle\n",
            "size 32\n",
            "\n",
            "\n",
            "hair green\n",
            "head traingle\n",
            "size 33\n",
            "\n",
            "\n",
            "hair green\n",
            "head traingle\n",
            "size 34\n",
            "\n",
            "\n",
            "hair green\n",
            "head traingle\n",
            "size 35\n",
            "\n",
            "\n",
            "hair green\n",
            "head traingle\n",
            "size 36\n",
            "\n",
            "\n",
            "hair green\n",
            "head traingle\n",
            "size 37\n",
            "\n",
            "\n",
            "hair green\n",
            "head traingle\n",
            "size 38\n",
            "\n",
            "\n",
            "hair green\n",
            "head traingle\n",
            "size 39\n",
            "\n",
            "\n",
            "hair green\n",
            "head traingle\n",
            "size 40\n",
            "\n",
            "\n",
            "hair green\n",
            "head traingle\n",
            "size 41\n",
            "\n",
            "\n",
            "hair green\n",
            "head traingle\n",
            "size 42\n",
            "\n",
            "\n",
            "hair green\n",
            "head traingle\n",
            "size 43\n",
            "\n",
            "\n",
            "hair green\n",
            "head traingle\n",
            "size 44\n",
            "\n",
            "\n",
            "hair green\n",
            "head traingle\n",
            "size 45\n",
            "\n",
            "\n",
            "hair green\n",
            "head traingle\n",
            "size 46\n",
            "\n",
            "\n",
            "hair green\n",
            "head traingle\n",
            "size 47\n",
            "\n",
            "\n",
            "hair green\n",
            "head traingle\n",
            "size 48\n",
            "\n",
            "\n",
            "hair green\n",
            "head traingle\n",
            "size 49\n",
            "\n",
            "\n",
            "hair green\n",
            "head traingle\n",
            "size 50\n",
            "\n",
            "\n",
            "hair green\n",
            "head traingle\n",
            "size 51\n",
            "\n",
            "\n",
            "hair green\n",
            "head traingle\n",
            "size 52\n",
            "\n",
            "\n",
            "hair green\n",
            "head traingle\n",
            "size 53\n",
            "\n",
            "\n",
            "hair green\n",
            "head traingle\n",
            "size 54\n",
            "\n",
            "\n",
            "hair green\n",
            "head traingle\n",
            "size 55\n",
            "\n",
            "\n",
            "hair green\n",
            "head traingle\n",
            "size 56\n",
            "\n",
            "\n",
            "hair green\n",
            "head traingle\n",
            "size 57\n",
            "\n",
            "\n",
            "hair green\n",
            "head traingle\n",
            "size 58\n",
            "\n",
            "\n",
            "hair green\n",
            "head traingle\n",
            "size 59\n",
            "\n",
            "\n",
            "hair green\n",
            "head traingle\n",
            "size 60\n",
            "\n",
            "\n",
            "hair green\n",
            "head traingle\n",
            "size 61\n",
            "\n",
            "\n",
            "hair green\n",
            "head traingle\n",
            "size 62\n",
            "\n",
            "\n",
            "hair green\n",
            "head traingle\n",
            "size 63\n",
            "\n",
            "\n",
            "hair green\n",
            "head traingle\n",
            "size 64\n",
            "\n",
            "\n",
            "hair green\n",
            "head traingle\n",
            "size 65\n",
            "\n",
            "\n",
            "hair green\n",
            "head traingle\n",
            "size 66\n",
            "\n",
            "\n",
            "hair green\n",
            "head traingle\n",
            "size 67\n",
            "\n",
            "\n",
            "hair green\n",
            "head traingle\n",
            "size 68\n",
            "\n",
            "\n",
            "hair green\n",
            "head traingle\n",
            "size 69\n",
            "\n",
            "\n",
            "hair green\n",
            "head traingle\n",
            "size 70\n",
            "\n",
            "\n",
            "hair green\n",
            "head traingle\n",
            "size 71\n",
            "\n",
            "\n",
            "hair green\n",
            "head traingle\n",
            "size 72\n",
            "\n",
            "\n",
            "hair green\n",
            "head traingle\n",
            "size 73\n",
            "\n",
            "\n",
            "hair green\n",
            "head traingle\n",
            "size 74\n",
            "\n",
            "\n",
            "hair green\n",
            "head traingle\n",
            "size 75\n",
            "\n",
            "\n",
            "hair green\n",
            "head traingle\n",
            "size 76\n",
            "\n",
            "\n",
            "hair green\n",
            "head traingle\n",
            "size 77\n",
            "\n",
            "\n",
            "hair green\n",
            "head traingle\n",
            "size 78\n",
            "\n",
            "\n",
            "hair green\n",
            "head traingle\n",
            "size 79\n",
            "\n",
            "\n",
            "hair green\n",
            "head traingle\n",
            "size 80\n",
            "\n",
            "\n",
            "hair green\n",
            "head traingle\n",
            "size 81\n",
            "\n",
            "\n",
            "hair green\n",
            "head traingle\n",
            "size 82\n",
            "\n",
            "\n",
            "hair green\n",
            "head traingle\n",
            "size 83\n",
            "\n",
            "\n",
            "hair green\n",
            "head traingle\n",
            "size 84\n",
            "\n",
            "\n",
            "hair green\n",
            "head traingle\n",
            "size 85\n",
            "\n",
            "\n",
            "hair green\n",
            "head traingle\n",
            "size 86\n",
            "\n",
            "\n",
            "hair green\n",
            "head traingle\n",
            "size 87\n",
            "\n",
            "\n",
            "hair green\n",
            "head traingle\n",
            "size 88\n",
            "\n",
            "\n",
            "hair green\n",
            "head traingle\n",
            "size 89\n",
            "\n",
            "\n",
            "hair green\n",
            "head traingle\n",
            "size 90\n",
            "\n",
            "\n",
            "hair green\n",
            "head traingle\n",
            "size 91\n",
            "\n",
            "\n",
            "hair green\n",
            "head traingle\n",
            "size 92\n",
            "\n",
            "\n",
            "hair green\n",
            "head traingle\n",
            "size 93\n",
            "\n",
            "\n",
            "hair green\n",
            "head traingle\n",
            "size 94\n",
            "\n",
            "\n",
            "hair green\n",
            "head traingle\n",
            "size 95\n",
            "\n",
            "\n",
            "hair green\n",
            "head traingle\n",
            "size 96\n",
            "\n",
            "\n",
            "hair green\n",
            "head traingle\n",
            "size 97\n",
            "\n",
            "\n",
            "hair green\n",
            "head traingle\n",
            "size 98\n",
            "\n",
            "\n",
            "hair green\n",
            "head traingle\n",
            "size 99\n",
            "\n",
            "\n"
          ],
          "name": "stdout"
        }
      ]
    },
    {
      "cell_type": "code",
      "metadata": {
        "id": "EusYYKitsHDF",
        "colab_type": "code",
        "colab": {}
      },
      "source": [
        "import numpy as np\n",
        "import pandas as pd\n",
        "import matplotlib.pyplot as plt\n",
        "from scipy import sparse "
      ],
      "execution_count": 0,
      "outputs": []
    },
    {
      "cell_type": "code",
      "metadata": {
        "id": "0DcRfX42MNKE",
        "colab_type": "code",
        "outputId": "4b994ac4-9364-45ed-9a22-55fdb3d129c8",
        "colab": {
          "base_uri": "https://localhost:8080/",
          "height": 70
        }
      },
      "source": [
        "mat = np.array([[0,0],\n",
        "               [0,1],\n",
        "               [3,0]])\n",
        "mat"
      ],
      "execution_count": 0,
      "outputs": [
        {
          "output_type": "execute_result",
          "data": {
            "text/plain": [
              "array([[0, 0],\n",
              "       [0, 1],\n",
              "       [3, 0]])"
            ]
          },
          "metadata": {
            "tags": []
          },
          "execution_count": 17
        }
      ]
    },
    {
      "cell_type": "code",
      "metadata": {
        "id": "ucEmexfGNRFG",
        "colab_type": "code",
        "outputId": "4b8faecf-cbcf-4a79-a1ce-603129536be3",
        "colab": {
          "base_uri": "https://localhost:8080/",
          "height": 52
        }
      },
      "source": [
        "mat1 = sparse.csc_matrix(mat) #removes 0 values\n",
        "\n",
        "print(mat1)"
      ],
      "execution_count": 0,
      "outputs": [
        {
          "output_type": "stream",
          "text": [
            "  (2, 0)\t3\n",
            "  (1, 1)\t1\n"
          ],
          "name": "stdout"
        }
      ]
    },
    {
      "cell_type": "code",
      "metadata": {
        "id": "F_Ugu8PcNWV8",
        "colab_type": "code",
        "outputId": "621d03b2-e0d8-4836-9681-6345343a9e84",
        "colab": {
          "base_uri": "https://localhost:8080/",
          "height": 197
        }
      },
      "source": [
        "data = pd.read_csv(\"salary.csv\")\n",
        "data.head()\n"
      ],
      "execution_count": 0,
      "outputs": [
        {
          "output_type": "execute_result",
          "data": {
            "text/html": [
              "<div>\n",
              "<style scoped>\n",
              "    .dataframe tbody tr th:only-of-type {\n",
              "        vertical-align: middle;\n",
              "    }\n",
              "\n",
              "    .dataframe tbody tr th {\n",
              "        vertical-align: top;\n",
              "    }\n",
              "\n",
              "    .dataframe thead th {\n",
              "        text-align: right;\n",
              "    }\n",
              "</style>\n",
              "<table border=\"1\" class=\"dataframe\">\n",
              "  <thead>\n",
              "    <tr style=\"text-align: right;\">\n",
              "      <th></th>\n",
              "      <th>YearsExperience</th>\n",
              "      <th>Salary</th>\n",
              "    </tr>\n",
              "  </thead>\n",
              "  <tbody>\n",
              "    <tr>\n",
              "      <th>0</th>\n",
              "      <td>1.1</td>\n",
              "      <td>39343.0</td>\n",
              "    </tr>\n",
              "    <tr>\n",
              "      <th>1</th>\n",
              "      <td>1.3</td>\n",
              "      <td>46205.0</td>\n",
              "    </tr>\n",
              "    <tr>\n",
              "      <th>2</th>\n",
              "      <td>1.5</td>\n",
              "      <td>37731.0</td>\n",
              "    </tr>\n",
              "    <tr>\n",
              "      <th>3</th>\n",
              "      <td>2.0</td>\n",
              "      <td>43525.0</td>\n",
              "    </tr>\n",
              "    <tr>\n",
              "      <th>4</th>\n",
              "      <td>2.2</td>\n",
              "      <td>39891.0</td>\n",
              "    </tr>\n",
              "  </tbody>\n",
              "</table>\n",
              "</div>"
            ],
            "text/plain": [
              "   YearsExperience   Salary\n",
              "0              1.1  39343.0\n",
              "1              1.3  46205.0\n",
              "2              1.5  37731.0\n",
              "3              2.0  43525.0\n",
              "4              2.2  39891.0"
            ]
          },
          "metadata": {
            "tags": []
          },
          "execution_count": 36
        }
      ]
    },
    {
      "cell_type": "code",
      "metadata": {
        "id": "kgHKshoFPyEd",
        "colab_type": "code",
        "colab": {}
      },
      "source": [
        "x = data.iloc[:,0].values \n",
        "y = data.iloc[:,1].values "
      ],
      "execution_count": 0,
      "outputs": []
    },
    {
      "cell_type": "code",
      "metadata": {
        "id": "BEb5FpemQNpu",
        "colab_type": "code",
        "outputId": "e29f5ff0-feac-4a20-f329-6bb68b24641d",
        "colab": {
          "base_uri": "https://localhost:8080/",
          "height": 282
        }
      },
      "source": [
        "plt.scatter(x,y)"
      ],
      "execution_count": 0,
      "outputs": [
        {
          "output_type": "execute_result",
          "data": {
            "text/plain": [
              "<matplotlib.collections.PathCollection at 0x7f3c40d68ac8>"
            ]
          },
          "metadata": {
            "tags": []
          },
          "execution_count": 43
        },
        {
          "output_type": "display_data",
          "data": {
            "image/png": "[encoded data removed]",
            "text/plain": [
              "<Figure size 432x288 with 1 Axes>"
            ]
          },
          "metadata": {
            "tags": []
          }
        }
      ]
    },
    {
      "cell_type": "code",
      "metadata": {
        "id": "bkflIgy7S-qX",
        "colab_type": "code",
        "colab": {}
      },
      "source": [
        "def is_prime(num):\n",
        "  for i in range(2,num):\n",
        "    if num % i == 0 :\n",
        "      print(num , \"is not a prime number\")\n",
        "      print(\"because its divisible by\",i )\n",
        "      break\n",
        "\n",
        "    else :\n",
        "      print(num ,\"is a prime number\")\n",
        "      break"
      ],
      "execution_count": 0,
      "outputs": []
    },
    {
      "cell_type": "code",
      "metadata": {
        "id": "AmKbh-lRVIhA",
        "colab_type": "code",
        "outputId": "040467ac-f17f-4796-fcd1-7f6ee9e5aa2c",
        "colab": {
          "base_uri": "https://localhost:8080/",
          "height": 51
        }
      },
      "source": [
        "is_prime(20)"
      ],
      "execution_count": 0,
      "outputs": [
        {
          "output_type": "stream",
          "text": [
            "20 is not a prime number\n",
            "because its divisible by 2\n"
          ],
          "name": "stdout"
        }
      ]
    },
    {
      "cell_type": "code",
      "metadata": {
        "id": "hr_npJFgWnml",
        "colab_type": "code",
        "colab": {}
      },
      "source": [
        "def is_primev1(n):\n",
        "  if n <=1:\n",
        "    print(n, \" is not prime number \")\n",
        "  else :\n",
        "    k = 0\n",
        "    for i in range (2,n//2+1):\n",
        "      if (n%i==0):\n",
        "        k = k+1\n",
        "  if(k<=0):\n",
        "    print(n, \" number is prime\")\n",
        "  else:\n",
        "    print(n, \" number isn't prime\")"
      ],
      "execution_count": 0,
      "outputs": []
    },
    {
      "cell_type": "code",
      "metadata": {
        "id": "qsBghWd1bRCx",
        "colab_type": "code",
        "outputId": "b683ed9a-d78b-48b3-da5d-44bd30bcaf24",
        "colab": {
          "base_uri": "https://localhost:8080/",
          "height": 34
        }
      },
      "source": [
        "is_primev1(40)"
      ],
      "execution_count": 0,
      "outputs": [
        {
          "output_type": "stream",
          "text": [
            "40  number isn't prime\n"
          ],
          "name": "stdout"
        }
      ]
    },
    {
      "cell_type": "code",
      "metadata": {
        "id": "SHBgmjdibTM-",
        "colab_type": "code",
        "colab": {}
      },
      "source": [
        "import numpy as np\n",
        "from sklearn.preprocessing import Normalizer\n",
        "\n",
        "\n",
        "x = np.array([[2.5],\n",
        "              [3.4],\n",
        "              [5.7],\n",
        "              [1.5],\n",
        "              [9.1]])\n"
      ],
      "execution_count": 0,
      "outputs": []
    },
    {
      "cell_type": "code",
      "metadata": {
        "id": "f3A61I-1RBzu",
        "colab_type": "code",
        "colab": {}
      },
      "source": [
        "x_pre =   Normalizer(x)"
      ],
      "execution_count": 0,
      "outputs": []
    },
    {
      "cell_type": "code",
      "metadata": {
        "id": "WqWZT2RpRMsH",
        "colab_type": "code",
        "outputId": "d7d1f4b0-5b2d-4505-a021-efe34e9ab767",
        "colab": {
          "base_uri": "https://localhost:8080/",
          "height": 119
        }
      },
      "source": [
        "print(x_pre)"
      ],
      "execution_count": 0,
      "outputs": [
        {
          "output_type": "stream",
          "text": [
            "Normalizer(copy=True,\n",
            "           norm=array([[2.5],\n",
            "       [3.4],\n",
            "       [5.7],\n",
            "       [1.5],\n",
            "       [9.1]]))\n"
          ],
          "name": "stdout"
        }
      ]
    },
    {
      "cell_type": "code",
      "metadata": {
        "id": "9Q_nMV5SNKQQ",
        "colab_type": "code",
        "colab": {}
      },
      "source": [
        "url = \"https://tinyurl.com/titanic-csv\"\n",
        "import pandas as pd\n",
        "data = pd.read_csv(url)"
      ],
      "execution_count": 0,
      "outputs": []
    },
    {
      "cell_type": "code",
      "metadata": {
        "id": "IRo6Wr6GNY53",
        "colab_type": "code",
        "outputId": "48960148-5d04-4d60-9261-d42eadd18896",
        "colab": {
          "base_uri": "https://localhost:8080/",
          "height": 204
        }
      },
      "source": [
        "data.head()"
      ],
      "execution_count": 0,
      "outputs": [
        {
          "output_type": "execute_result",
          "data": {
            "text/html": [
              "<div>\n",
              "<style scoped>\n",
              "    .dataframe tbody tr th:only-of-type {\n",
              "        vertical-align: middle;\n",
              "    }\n",
              "\n",
              "    .dataframe tbody tr th {\n",
              "        vertical-align: top;\n",
              "    }\n",
              "\n",
              "    .dataframe thead th {\n",
              "        text-align: right;\n",
              "    }\n",
              "</style>\n",
              "<table border=\"1\" class=\"dataframe\">\n",
              "  <thead>\n",
              "    <tr style=\"text-align: right;\">\n",
              "      <th></th>\n",
              "      <th>Name</th>\n",
              "      <th>PClass</th>\n",
              "      <th>Age</th>\n",
              "      <th>Sex</th>\n",
              "      <th>Survived</th>\n",
              "      <th>SexCode</th>\n",
              "    </tr>\n",
              "  </thead>\n",
              "  <tbody>\n",
              "    <tr>\n",
              "      <th>0</th>\n",
              "      <td>Allen, Miss Elisabeth Walton</td>\n",
              "      <td>1st</td>\n",
              "      <td>29.00</td>\n",
              "      <td>female</td>\n",
              "      <td>1</td>\n",
              "      <td>1</td>\n",
              "    </tr>\n",
              "    <tr>\n",
              "      <th>1</th>\n",
              "      <td>Allison, Miss Helen Loraine</td>\n",
              "      <td>1st</td>\n",
              "      <td>2.00</td>\n",
              "      <td>female</td>\n",
              "      <td>0</td>\n",
              "      <td>1</td>\n",
              "    </tr>\n",
              "    <tr>\n",
              "      <th>2</th>\n",
              "      <td>Allison, Mr Hudson Joshua Creighton</td>\n",
              "      <td>1st</td>\n",
              "      <td>30.00</td>\n",
              "      <td>male</td>\n",
              "      <td>0</td>\n",
              "      <td>0</td>\n",
              "    </tr>\n",
              "    <tr>\n",
              "      <th>3</th>\n",
              "      <td>Allison, Mrs Hudson JC (Bessie Waldo Daniels)</td>\n",
              "      <td>1st</td>\n",
              "      <td>25.00</td>\n",
              "      <td>female</td>\n",
              "      <td>0</td>\n",
              "      <td>1</td>\n",
              "    </tr>\n",
              "    <tr>\n",
              "      <th>4</th>\n",
              "      <td>Allison, Master Hudson Trevor</td>\n",
              "      <td>1st</td>\n",
              "      <td>0.92</td>\n",
              "      <td>male</td>\n",
              "      <td>1</td>\n",
              "      <td>0</td>\n",
              "    </tr>\n",
              "  </tbody>\n",
              "</table>\n",
              "</div>"
            ],
            "text/plain": [
              "                                            Name PClass  ...  Survived SexCode\n",
              "0                   Allen, Miss Elisabeth Walton    1st  ...         1       1\n",
              "1                    Allison, Miss Helen Loraine    1st  ...         0       1\n",
              "2            Allison, Mr Hudson Joshua Creighton    1st  ...         0       0\n",
              "3  Allison, Mrs Hudson JC (Bessie Waldo Daniels)    1st  ...         0       1\n",
              "4                  Allison, Master Hudson Trevor    1st  ...         1       0\n",
              "\n",
              "[5 rows x 6 columns]"
            ]
          },
          "metadata": {
            "tags": []
          },
          "execution_count": 6
        }
      ]
    },
    {
      "cell_type": "code",
      "metadata": {
        "id": "WokWtyubNl7J",
        "colab_type": "code",
        "outputId": "c1f505ac-5151-45c2-b544-fadb7b10d78f",
        "colab": {
          "base_uri": "https://localhost:8080/",
          "height": 297
        }
      },
      "source": [
        "data.describe()"
      ],
      "execution_count": 0,
      "outputs": [
        {
          "output_type": "execute_result",
          "data": {
            "text/html": [
              "<div>\n",
              "<style scoped>\n",
              "    .dataframe tbody tr th:only-of-type {\n",
              "        vertical-align: middle;\n",
              "    }\n",
              "\n",
              "    .dataframe tbody tr th {\n",
              "        vertical-align: top;\n",
              "    }\n",
              "\n",
              "    .dataframe thead th {\n",
              "        text-align: right;\n",
              "    }\n",
              "</style>\n",
              "<table border=\"1\" class=\"dataframe\">\n",
              "  <thead>\n",
              "    <tr style=\"text-align: right;\">\n",
              "      <th></th>\n",
              "      <th>Age</th>\n",
              "      <th>Survived</th>\n",
              "      <th>SexCode</th>\n",
              "    </tr>\n",
              "  </thead>\n",
              "  <tbody>\n",
              "    <tr>\n",
              "      <th>count</th>\n",
              "      <td>756.000000</td>\n",
              "      <td>1313.000000</td>\n",
              "      <td>1313.000000</td>\n",
              "    </tr>\n",
              "    <tr>\n",
              "      <th>mean</th>\n",
              "      <td>30.397989</td>\n",
              "      <td>0.342727</td>\n",
              "      <td>0.351866</td>\n",
              "    </tr>\n",
              "    <tr>\n",
              "      <th>std</th>\n",
              "      <td>14.259049</td>\n",
              "      <td>0.474802</td>\n",
              "      <td>0.477734</td>\n",
              "    </tr>\n",
              "    <tr>\n",
              "      <th>min</th>\n",
              "      <td>0.170000</td>\n",
              "      <td>0.000000</td>\n",
              "      <td>0.000000</td>\n",
              "    </tr>\n",
              "    <tr>\n",
              "      <th>25%</th>\n",
              "      <td>21.000000</td>\n",
              "      <td>0.000000</td>\n",
              "      <td>0.000000</td>\n",
              "    </tr>\n",
              "    <tr>\n",
              "      <th>50%</th>\n",
              "      <td>28.000000</td>\n",
              "      <td>0.000000</td>\n",
              "      <td>0.000000</td>\n",
              "    </tr>\n",
              "    <tr>\n",
              "      <th>75%</th>\n",
              "      <td>39.000000</td>\n",
              "      <td>1.000000</td>\n",
              "      <td>1.000000</td>\n",
              "    </tr>\n",
              "    <tr>\n",
              "      <th>max</th>\n",
              "      <td>71.000000</td>\n",
              "      <td>1.000000</td>\n",
              "      <td>1.000000</td>\n",
              "    </tr>\n",
              "  </tbody>\n",
              "</table>\n",
              "</div>"
            ],
            "text/plain": [
              "              Age     Survived      SexCode\n",
              "count  756.000000  1313.000000  1313.000000\n",
              "mean    30.397989     0.342727     0.351866\n",
              "std     14.259049     0.474802     0.477734\n",
              "min      0.170000     0.000000     0.000000\n",
              "25%     21.000000     0.000000     0.000000\n",
              "50%     28.000000     0.000000     0.000000\n",
              "75%     39.000000     1.000000     1.000000\n",
              "max     71.000000     1.000000     1.000000"
            ]
          },
          "metadata": {
            "tags": []
          },
          "execution_count": 8
        }
      ]
    },
    {
      "cell_type": "code",
      "metadata": {
        "id": "vTaxKAVZOkXS",
        "colab_type": "code",
        "outputId": "939ea9a1-5cea-4c60-fab5-a9123f0c0b00",
        "colab": {
          "base_uri": "https://localhost:8080/",
          "height": 142
        }
      },
      "source": [
        "data.iloc[2:5]"
      ],
      "execution_count": 0,
      "outputs": [
        {
          "output_type": "execute_result",
          "data": {
            "text/html": [
              "<div>\n",
              "<style scoped>\n",
              "    .dataframe tbody tr th:only-of-type {\n",
              "        vertical-align: middle;\n",
              "    }\n",
              "\n",
              "    .dataframe tbody tr th {\n",
              "        vertical-align: top;\n",
              "    }\n",
              "\n",
              "    .dataframe thead th {\n",
              "        text-align: right;\n",
              "    }\n",
              "</style>\n",
              "<table border=\"1\" class=\"dataframe\">\n",
              "  <thead>\n",
              "    <tr style=\"text-align: right;\">\n",
              "      <th></th>\n",
              "      <th>Name</th>\n",
              "      <th>PClass</th>\n",
              "      <th>Age</th>\n",
              "      <th>Sex</th>\n",
              "      <th>Survived</th>\n",
              "      <th>SexCode</th>\n",
              "    </tr>\n",
              "  </thead>\n",
              "  <tbody>\n",
              "    <tr>\n",
              "      <th>2</th>\n",
              "      <td>Allison, Mr Hudson Joshua Creighton</td>\n",
              "      <td>1st</td>\n",
              "      <td>30.00</td>\n",
              "      <td>male</td>\n",
              "      <td>0</td>\n",
              "      <td>0</td>\n",
              "    </tr>\n",
              "    <tr>\n",
              "      <th>3</th>\n",
              "      <td>Allison, Mrs Hudson JC (Bessie Waldo Daniels)</td>\n",
              "      <td>1st</td>\n",
              "      <td>25.00</td>\n",
              "      <td>female</td>\n",
              "      <td>0</td>\n",
              "      <td>1</td>\n",
              "    </tr>\n",
              "    <tr>\n",
              "      <th>4</th>\n",
              "      <td>Allison, Master Hudson Trevor</td>\n",
              "      <td>1st</td>\n",
              "      <td>0.92</td>\n",
              "      <td>male</td>\n",
              "      <td>1</td>\n",
              "      <td>0</td>\n",
              "    </tr>\n",
              "  </tbody>\n",
              "</table>\n",
              "</div>"
            ],
            "text/plain": [
              "                                            Name PClass  ...  Survived SexCode\n",
              "2            Allison, Mr Hudson Joshua Creighton    1st  ...         0       0\n",
              "3  Allison, Mrs Hudson JC (Bessie Waldo Daniels)    1st  ...         0       1\n",
              "4                  Allison, Master Hudson Trevor    1st  ...         1       0\n",
              "\n",
              "[3 rows x 6 columns]"
            ]
          },
          "metadata": {
            "tags": []
          },
          "execution_count": 17
        }
      ]
    },
    {
      "cell_type": "code",
      "metadata": {
        "id": "EywjWL_vO0I6",
        "colab_type": "code",
        "colab": {}
      },
      "source": [
        "data1 = data.set_index(data['Name'])"
      ],
      "execution_count": 0,
      "outputs": []
    },
    {
      "cell_type": "code",
      "metadata": {
        "id": "TnnT6xniPSAC",
        "colab_type": "code",
        "outputId": "c44889a0-35ff-49b2-c753-8a8e4cd000a8",
        "colab": {
          "base_uri": "https://localhost:8080/",
          "height": 136
        }
      },
      "source": [
        "data1.loc['Allen, Miss Elisabeth Walton']"
      ],
      "execution_count": 0,
      "outputs": [
        {
          "output_type": "execute_result",
          "data": {
            "text/plain": [
              "Name        Allen, Miss Elisabeth Walton\n",
              "PClass                               1st\n",
              "Age                                   29\n",
              "Sex                               female\n",
              "Survived                               1\n",
              "SexCode                                1\n",
              "Name: Allen, Miss Elisabeth Walton, dtype: object"
            ]
          },
          "metadata": {
            "tags": []
          },
          "execution_count": 21
        }
      ]
    },
    {
      "cell_type": "code",
      "metadata": {
        "id": "lY6lG_cIPjzw",
        "colab_type": "code",
        "outputId": "c832c205-91a6-4b8b-e912-7117ac1a096c",
        "colab": {
          "base_uri": "https://localhost:8080/",
          "height": 221
        }
      },
      "source": [
        "data['Survived'].isnull()"
      ],
      "execution_count": 0,
      "outputs": [
        {
          "output_type": "execute_result",
          "data": {
            "text/plain": [
              "0       False\n",
              "1       False\n",
              "2       False\n",
              "3       False\n",
              "4       False\n",
              "        ...  \n",
              "1308    False\n",
              "1309    False\n",
              "1310    False\n",
              "1311    False\n",
              "1312    False\n",
              "Name: Survived, Length: 1313, dtype: bool"
            ]
          },
          "metadata": {
            "tags": []
          },
          "execution_count": 38
        }
      ]
    },
    {
      "cell_type": "code",
      "metadata": {
        "id": "qHo3sOudPcG1",
        "colab_type": "code",
        "outputId": "8a02d40a-4b37-4991-bb75-c300263cda79",
        "colab": {
          "base_uri": "https://localhost:8080/",
          "height": 163
        }
      },
      "source": [
        "data.groupby(['Survived','Sex']).count()"
      ],
      "execution_count": 0,
      "outputs": [
        {
          "output_type": "error",
          "ename": "NameError",
          "evalue": "ignored",
          "traceback": [
            "\u001b[0;31m---------------------------------------------------------------------------\u001b[0m",
            "\u001b[0;31mNameError\u001b[0m                                 Traceback (most recent call last)",
            "\u001b[0;32m<ipython-input-1-8422bf716097>\u001b[0m in \u001b[0;36m<module>\u001b[0;34m()\u001b[0m\n\u001b[0;32m----> 1\u001b[0;31m \u001b[0mdata\u001b[0m\u001b[0;34m.\u001b[0m\u001b[0mgroupby\u001b[0m\u001b[0;34m(\u001b[0m\u001b[0;34m[\u001b[0m\u001b[0;34m'Survived'\u001b[0m\u001b[0;34m,\u001b[0m\u001b[0;34m'Sex'\u001b[0m\u001b[0;34m]\u001b[0m\u001b[0;34m)\u001b[0m\u001b[0;34m\u001b[0m\u001b[0;34m\u001b[0m\u001b[0m\n\u001b[0m",
            "\u001b[0;31mNameError\u001b[0m: name 'data' is not defined"
          ]
        }
      ]
    },
    {
      "cell_type": "code",
      "metadata": {
        "id": "-ciQOn03UUic",
        "colab_type": "code",
        "colab": {}
      },
      "source": [
        "data1 = data[data['Age'] >= 30]"
      ],
      "execution_count": 0,
      "outputs": []
    },
    {
      "cell_type": "code",
      "metadata": {
        "id": "MQVE0q_wQOEI",
        "colab_type": "code",
        "outputId": "cbb459d5-9cb8-4565-e5f5-b7df2c0071ca",
        "colab": {
          "base_uri": "https://localhost:8080/",
          "height": 85
        }
      },
      "source": [
        "data1.groupby(['Sex'])['Age'].count()"
      ],
      "execution_count": 0,
      "outputs": [
        {
          "output_type": "execute_result",
          "data": {
            "text/plain": [
              "Sex\n",
              "female    131\n",
              "male      224\n",
              "Name: Age, dtype: int64"
            ]
          },
          "metadata": {
            "tags": []
          },
          "execution_count": 88
        }
      ]
    },
    {
      "cell_type": "code",
      "metadata": {
        "id": "r4iLSyy1Uoor",
        "colab_type": "code",
        "colab": {}
      },
      "source": [
        "alien_0 = {'dic' :1 , 'qualification' : 'bba'}"
      ],
      "execution_count": 0,
      "outputs": []
    },
    {
      "cell_type": "code",
      "metadata": {
        "id": "2OLXfpYoXHMr",
        "colab_type": "code",
        "outputId": "961babe1-1db5-466f-d1c7-282d56b51a4b",
        "colab": {
          "base_uri": "https://localhost:8080/",
          "height": 34
        }
      },
      "source": [
        "alien_0['qualification']"
      ],
      "execution_count": 0,
      "outputs": [
        {
          "output_type": "execute_result",
          "data": {
            "text/plain": [
              "'bba'"
            ]
          },
          "metadata": {
            "tags": []
          },
          "execution_count": 3
        }
      ]
    },
    {
      "cell_type": "code",
      "metadata": {
        "id": "6i-7aq782ib7",
        "colab_type": "code",
        "colab": {}
      },
      "source": [
        "alien_0['prakasha'] = 'bacardi'\n",
        "alien_0['supi'] = 'acchu'"
      ],
      "execution_count": 0,
      "outputs": []
    },
    {
      "cell_type": "code",
      "metadata": {
        "id": "A2OxJllpcRCX",
        "colab_type": "code",
        "outputId": "19735aed-00ae-4724-8ed8-b7ea7abe7e72",
        "colab": {
          "base_uri": "https://localhost:8080/",
          "height": 34
        }
      },
      "source": [
        "alien_0"
      ],
      "execution_count": 0,
      "outputs": [
        {
          "output_type": "execute_result",
          "data": {
            "text/plain": [
              "{'dic': 1, 'prakasha': 'bacardi', 'qualification': 'bba', 'supi': 'acchu'}"
            ]
          },
          "metadata": {
            "tags": []
          },
          "execution_count": 26
        }
      ]
    },
    {
      "cell_type": "code",
      "metadata": {
        "id": "KaXE2UDIcSan",
        "colab_type": "code",
        "outputId": "776c5838-0710-4b1e-8a44-2b09ab47bcc6",
        "colab": {
          "base_uri": "https://localhost:8080/",
          "height": 85
        }
      },
      "source": [
        "for  m , n in alien_0.items() :\n",
        "  print(m, \":\" ,n)"
      ],
      "execution_count": 0,
      "outputs": [
        {
          "output_type": "stream",
          "text": [
            "dic : 1\n",
            "qualification : bba\n",
            "prakasha : bacardi\n",
            "supi : acchu\n"
          ],
          "name": "stdout"
        }
      ]
    },
    {
      "cell_type": "code",
      "metadata": {
        "id": "HOVNlTOZiHHc",
        "colab_type": "code",
        "colab": {}
      },
      "source": [
        "#feedback"
      ],
      "execution_count": 0,
      "outputs": []
    },
    {
      "cell_type": "code",
      "metadata": {
        "id": "11lIZQBYe3q6",
        "colab_type": "code",
        "colab": {}
      },
      "source": [
        "import pandas as pd\n",
        "import numpy as np"
      ],
      "execution_count": 0,
      "outputs": []
    },
    {
      "cell_type": "code",
      "metadata": {
        "id": "p-2g7bV7jA42",
        "colab_type": "code",
        "colab": {}
      },
      "source": [
        "review = pd.read_csv('1.csv')"
      ],
      "execution_count": 0,
      "outputs": []
    },
    {
      "cell_type": "code",
      "metadata": {
        "id": "MZAHldsMlKLR",
        "colab_type": "code",
        "colab": {}
      },
      "source": [
        "review = review['text']"
      ],
      "execution_count": 0,
      "outputs": []
    },
    {
      "cell_type": "code",
      "metadata": {
        "id": "001-kmbXlXC2",
        "colab_type": "code",
        "outputId": "7bf673bc-9fb8-45a7-f066-88672b4add0b",
        "colab": {
          "base_uri": "https://localhost:8080/",
          "height": 221
        }
      },
      "source": [
        "review.str.lower()"
      ],
      "execution_count": 0,
      "outputs": [
        {
          "output_type": "execute_result",
          "data": {
            "text/plain": [
              "0       i used to love comcast. until all these consta...\n",
              "1       i'm so over comcast! the worst internet provid...\n",
              "2       if i could give them a negative star or no sta...\n",
              "3       i've had the worst experiences so far since in...\n",
              "4       check your contract when you sign up for comca...\n",
              "                              ...                        \n",
              "5654    last year, we bought the nascar in car package...\n",
              "5655    their billing department is horrid. if you dec...\n",
              "5656    ordered \"on demand\" movie for the 1st time in ...\n",
              "5657    i am being ripped of by comcast cable regardin...\n",
              "5658    i have had at&t/comcast services, digital tv, ...\n",
              "Name: text, Length: 5659, dtype: object"
            ]
          },
          "metadata": {
            "tags": []
          },
          "execution_count": 109
        }
      ]
    },
    {
      "cell_type": "code",
      "metadata": {
        "id": "no0Xn6aCmkoK",
        "colab_type": "code",
        "colab": {}
      },
      "source": [
        "import urllib\n",
        "from bs4 import BeautifulSoup\n",
        "from urllib.request import urlopen"
      ],
      "execution_count": 0,
      "outputs": []
    },
    {
      "cell_type": "code",
      "metadata": {
        "id": "4dBfpu-ct2Ti",
        "colab_type": "code",
        "colab": {}
      },
      "source": [
        "url = \"https://www.thehindu.com/news/international/covid-19-chinese-couple-charged-for-giving-false-info-to-singapore-authorities/article30942000.ece?utm_source=taboola\"\n",
        "html = urllib"
      ],
      "execution_count": 0,
      "outputs": []
    },
    {
      "cell_type": "code",
      "metadata": {
        "id": "zeUY5CzWu7J-",
        "colab_type": "code",
        "colab": {}
      },
      "source": [
        "for script in soup([ script , ])"
      ],
      "execution_count": 0,
      "outputs": []
    }
  ]
}