{
  "nbformat": 4,
  "nbformat_minor": 0,
  "metadata": {
    "colab": {
      "name": "Assignment.ipynb",
      "provenance": [],
      "collapsed_sections": [],
      "mount_file_id": "13tzkRvsT_whxDYU8_Vs3-kq7x2RKVIvJ",
      "authorship_tag": "ABX9TyMyns/LIK7+6sggTG9yhhij",
      "include_colab_link": true
    },
    "kernelspec": {
      "name": "python3",
      "display_name": "Python 3"
    }
  },
  "cells": [
    {
      "cell_type": "markdown",
      "metadata": {
        "id": "view-in-github",
        "colab_type": "text"
      },
      "source": [
        "<a href=\"https://colab.research.google.com/github/mohithxoxo/python/blob/master/Assignment.ipynb\" target=\"_parent\"><img src=\"https://colab.research.google.com/assets/colab-badge.svg\" alt=\"Open In Colab\"/></a>"
      ]
    },
    {
      "cell_type": "code",
      "metadata": {
        "id": "VoStPbFyezWl",
        "colab_type": "code",
        "colab": {}
      },
      "source": [
        "import pandas as pd"
      ],
      "execution_count": 0,
      "outputs": []
    },
    {
      "cell_type": "code",
      "metadata": {
        "id": "CArmR_R-fLNs",
        "colab_type": "code",
        "colab": {}
      },
      "source": [
        "\n",
        "imbd = pd.read_csv(\"/content/drive/My Drive/imbd.csv\",encoding= 'unicode_escape',skiprows=[2])"
      ],
      "execution_count": 0,
      "outputs": []
    },
    {
      "cell_type": "code",
      "metadata": {
        "id": "KPNMJdFHgSpn",
        "colab_type": "code",
        "outputId": "e7f4970c-e78d-4ac0-c38f-10dc70633b3a",
        "colab": {
          "base_uri": "https://localhost:8080/",
          "height": 289
        }
      },
      "source": [
        "imbd.head()"
      ],
      "execution_count": 0,
      "outputs": [
        {
          "output_type": "execute_result",
          "data": {
            "text/html": [
              "<div>\n",
              "<style scoped>\n",
              "    .dataframe tbody tr th:only-of-type {\n",
              "        vertical-align: middle;\n",
              "    }\n",
              "\n",
              "    .dataframe tbody tr th {\n",
              "        vertical-align: top;\n",
              "    }\n",
              "\n",
              "    .dataframe thead th {\n",
              "        text-align: right;\n",
              "    }\n",
              "</style>\n",
              "<table border=\"1\" class=\"dataframe\">\n",
              "  <thead>\n",
              "    <tr style=\"text-align: right;\">\n",
              "      <th></th>\n",
              "      <th>Plot</th>\n",
              "      <th>Title</th>\n",
              "      <th>imdbVotes</th>\n",
              "      <th>Poster</th>\n",
              "      <th>imdbRating</th>\n",
              "      <th>Genre</th>\n",
              "      <th>imdbID</th>\n",
              "      <th>Year</th>\n",
              "      <th>Language</th>\n",
              "    </tr>\n",
              "  </thead>\n",
              "  <tbody>\n",
              "    <tr>\n",
              "      <th>0</th>\n",
              "      <td>Despite his tarnished reputation after the eve...</td>\n",
              "      <td>The Dark Knight Rises</td>\n",
              "      <td>2679</td>\n",
              "      <td>http://ia.media-imdb.com/images/M/MV5BMTk4ODQz...</td>\n",
              "      <td>75</td>\n",
              "      <td>Action, Thriller</td>\n",
              "      <td>tt1345836</td>\n",
              "      <td>2012</td>\n",
              "      <td>English</td>\n",
              "    </tr>\n",
              "    <tr>\n",
              "      <th>1</th>\n",
              "      <td>Based on the novel written by Stephen Chbosky,...</td>\n",
              "      <td>The Perks of Being a Wallflower</td>\n",
              "      <td>1270</td>\n",
              "      <td>http://ia.media-imdb.com/images/M/MV5BMzIxOTQy...</td>\n",
              "      <td>71</td>\n",
              "      <td>Drama, Romance</td>\n",
              "      <td>tt1659337</td>\n",
              "      <td>2012</td>\n",
              "      <td>English</td>\n",
              "    </tr>\n",
              "    <tr>\n",
              "      <th>2</th>\n",
              "      <td>Mike Lane is a thirty-year old living in Tampa...</td>\n",
              "      <td>Magic Mike</td>\n",
              "      <td>2580</td>\n",
              "      <td>http://ia.media-imdb.com/images/M/MV5BMTQzMDMz...</td>\n",
              "      <td>51</td>\n",
              "      <td>Comedy, Drama</td>\n",
              "      <td>tt1915581</td>\n",
              "      <td>2012</td>\n",
              "      <td>English</td>\n",
              "    </tr>\n",
              "    <tr>\n",
              "      <th>3</th>\n",
              "      <td>When Bond's latest assignment goes gravely wro...</td>\n",
              "      <td>Skyfall</td>\n",
              "      <td>1807</td>\n",
              "      <td>http://ia.media-imdb.com/images/M/MV5BMjAyODkz...</td>\n",
              "      <td>68</td>\n",
              "      <td>Action, Thriller</td>\n",
              "      <td>tt1074638</td>\n",
              "      <td>2012</td>\n",
              "      <td>English</td>\n",
              "    </tr>\n",
              "    <tr>\n",
              "      <th>4</th>\n",
              "      <td>Against medical advice and without the knowled...</td>\n",
              "      <td>Silver Linings Playbook</td>\n",
              "      <td>1828</td>\n",
              "      <td>http://ia.media-imdb.com/images/M/MV5BMTM2MTI5...</td>\n",
              "      <td>68</td>\n",
              "      <td>Comedy, Drama, Romance</td>\n",
              "      <td>tt1045658</td>\n",
              "      <td>2012</td>\n",
              "      <td>English</td>\n",
              "    </tr>\n",
              "  </tbody>\n",
              "</table>\n",
              "</div>"
            ],
            "text/plain": [
              "                                                Plot  ...                     Language\n",
              "0  Despite his tarnished reputation after the eve...  ...  English                    \n",
              "1  Based on the novel written by Stephen Chbosky,...  ...    English                  \n",
              "2  Mike Lane is a thirty-year old living in Tampa...  ...    English                  \n",
              "3  When Bond's latest assignment goes gravely wro...  ...    English                  \n",
              "4  Against medical advice and without the knowled...  ...    English                  \n",
              "\n",
              "[5 rows x 9 columns]"
            ]
          },
          "metadata": {
            "tags": []
          },
          "execution_count": 103
        }
      ]
    },
    {
      "cell_type": "code",
      "metadata": {
        "id": "Iz4jdxAGgU58",
        "colab_type": "code",
        "colab": {}
      },
      "source": [
        "imbd.dropna(inplace = True)"
      ],
      "execution_count": 0,
      "outputs": []
    },
    {
      "cell_type": "code",
      "metadata": {
        "id": "7RXF1p8PhBC9",
        "colab_type": "code",
        "outputId": "550d86c5-8ec3-4622-9dcf-43fa93f37b9f",
        "colab": {
          "base_uri": "https://localhost:8080/",
          "height": 187
        }
      },
      "source": [
        "imbd.dtypes"
      ],
      "execution_count": 0,
      "outputs": [
        {
          "output_type": "execute_result",
          "data": {
            "text/plain": [
              "Plot          object\n",
              "Title         object\n",
              "imdbVotes     object\n",
              "Poster        object\n",
              "imdbRating    object\n",
              "Genre         object\n",
              "imdbID        object\n",
              "Year          object\n",
              "Language      object\n",
              "dtype: object"
            ]
          },
          "metadata": {
            "tags": []
          },
          "execution_count": 105
        }
      ]
    },
    {
      "cell_type": "code",
      "metadata": {
        "id": "0__wHt_mjrUv",
        "colab_type": "code",
        "colab": {}
      },
      "source": [
        "imbd[\"imdbVotes\"] = imbd[\"imdbVotes\"].str.replace(\",\",\"\").astype(int)\n",
        "imbd[\"imdbRating\"] = imbd[\"imdbRating\"].astype(float)\n",
        "imbd[\"Genre\"]=imbd[\"Genre\"].astype('category')\n",
        "imbd[\"Language\"]=imbd[\"Language\"].astype('category')"
      ],
      "execution_count": 0,
      "outputs": []
    },
    {
      "cell_type": "code",
      "metadata": {
        "id": "QotHX3o9L7Z4",
        "colab_type": "code",
        "outputId": "189fdd91-335a-47ac-8ff9-49a09f597ef5",
        "colab": {
          "base_uri": "https://localhost:8080/",
          "height": 187
        }
      },
      "source": [
        "imbd.dtypes"
      ],
      "execution_count": 0,
      "outputs": [
        {
          "output_type": "execute_result",
          "data": {
            "text/plain": [
              "Plot            object\n",
              "Title           object\n",
              "imdbVotes        int64\n",
              "Poster          object\n",
              "imdbRating     float64\n",
              "Genre         category\n",
              "imdbID          object\n",
              "Year            object\n",
              "Language      category\n",
              "dtype: object"
            ]
          },
          "metadata": {
            "tags": []
          },
          "execution_count": 107
        }
      ]
    },
    {
      "cell_type": "code",
      "metadata": {
        "id": "8teCzLeGvvdF",
        "colab_type": "code",
        "outputId": "c64e5163-a01e-469b-9c86-2d564eabf9b5",
        "colab": {
          "base_uri": "https://localhost:8080/",
          "height": 390
        }
      },
      "source": [
        "imbd_gen = pd.DataFrame(imbd[\"Genre\"].value_counts())\n",
        "imbd_gen  = imbd_gen.rename(columns= {'Genre' : 'Count'} )\n",
        "imbd_gen.index.name = 'Genre'\n",
        "imbd_gen.head(10)"
      ],
      "execution_count": 0,
      "outputs": [
        {
          "output_type": "execute_result",
          "data": {
            "text/html": [
              "<div>\n",
              "<style scoped>\n",
              "    .dataframe tbody tr th:only-of-type {\n",
              "        vertical-align: middle;\n",
              "    }\n",
              "\n",
              "    .dataframe tbody tr th {\n",
              "        vertical-align: top;\n",
              "    }\n",
              "\n",
              "    .dataframe thead th {\n",
              "        text-align: right;\n",
              "    }\n",
              "</style>\n",
              "<table border=\"1\" class=\"dataframe\">\n",
              "  <thead>\n",
              "    <tr style=\"text-align: right;\">\n",
              "      <th></th>\n",
              "      <th>Count</th>\n",
              "    </tr>\n",
              "    <tr>\n",
              "      <th>Genre</th>\n",
              "      <th></th>\n",
              "    </tr>\n",
              "  </thead>\n",
              "  <tbody>\n",
              "    <tr>\n",
              "      <th>Drama</th>\n",
              "      <td>348</td>\n",
              "    </tr>\n",
              "    <tr>\n",
              "      <th>Comedy</th>\n",
              "      <td>194</td>\n",
              "    </tr>\n",
              "    <tr>\n",
              "      <th>Comedy, Drama</th>\n",
              "      <td>127</td>\n",
              "    </tr>\n",
              "    <tr>\n",
              "      <th>Comedy, Drama, Romance</th>\n",
              "      <td>102</td>\n",
              "    </tr>\n",
              "    <tr>\n",
              "      <th>Comedy, Romance</th>\n",
              "      <td>51</td>\n",
              "    </tr>\n",
              "    <tr>\n",
              "      <th>Drama, Romance</th>\n",
              "      <td>51</td>\n",
              "    </tr>\n",
              "    <tr>\n",
              "      <th>Horror</th>\n",
              "      <td>47</td>\n",
              "    </tr>\n",
              "    <tr>\n",
              "      <th>Drama, Thriller</th>\n",
              "      <td>42</td>\n",
              "    </tr>\n",
              "    <tr>\n",
              "      <th>Crime, Drama, Thriller</th>\n",
              "      <td>40</td>\n",
              "    </tr>\n",
              "    <tr>\n",
              "      <th>Horror, Thriller</th>\n",
              "      <td>37</td>\n",
              "    </tr>\n",
              "  </tbody>\n",
              "</table>\n",
              "</div>"
            ],
            "text/plain": [
              "                        Count\n",
              "Genre                        \n",
              "Drama                     348\n",
              "Comedy                    194\n",
              "Comedy, Drama             127\n",
              "Comedy, Drama, Romance    102\n",
              "Comedy, Romance            51\n",
              "Drama, Romance             51\n",
              "Horror                     47\n",
              "Drama, Thriller            42\n",
              "Crime, Drama, Thriller     40\n",
              "Horror, Thriller           37"
            ]
          },
          "metadata": {
            "tags": []
          },
          "execution_count": 108
        }
      ]
    },
    {
      "cell_type": "code",
      "metadata": {
        "id": "Bnt9rrD40VE6",
        "colab_type": "code",
        "outputId": "55d6c321-6080-4cf8-c0b6-7c112386e995",
        "colab": {
          "base_uri": "https://localhost:8080/",
          "height": 450
        }
      },
      "source": [
        "imbd_sort = imbd['Genre'].sort_values().to_frame()\n",
        "imbd_sort.index.name = 'Index'\n",
        "imbd_sort"
      ],
      "execution_count": 0,
      "outputs": [
        {
          "output_type": "execute_result",
          "data": {
            "text/html": [
              "<div>\n",
              "<style scoped>\n",
              "    .dataframe tbody tr th:only-of-type {\n",
              "        vertical-align: middle;\n",
              "    }\n",
              "\n",
              "    .dataframe tbody tr th {\n",
              "        vertical-align: top;\n",
              "    }\n",
              "\n",
              "    .dataframe thead th {\n",
              "        text-align: right;\n",
              "    }\n",
              "</style>\n",
              "<table border=\"1\" class=\"dataframe\">\n",
              "  <thead>\n",
              "    <tr style=\"text-align: right;\">\n",
              "      <th></th>\n",
              "      <th>Genre</th>\n",
              "    </tr>\n",
              "    <tr>\n",
              "      <th>Index</th>\n",
              "      <th></th>\n",
              "    </tr>\n",
              "  </thead>\n",
              "  <tbody>\n",
              "    <tr>\n",
              "      <th>298</th>\n",
              "      <td>Action</td>\n",
              "    </tr>\n",
              "    <tr>\n",
              "      <th>2803</th>\n",
              "      <td>Action</td>\n",
              "    </tr>\n",
              "    <tr>\n",
              "      <th>1142</th>\n",
              "      <td>Action</td>\n",
              "    </tr>\n",
              "    <tr>\n",
              "      <th>1614</th>\n",
              "      <td>Action</td>\n",
              "    </tr>\n",
              "    <tr>\n",
              "      <th>2525</th>\n",
              "      <td>Action</td>\n",
              "    </tr>\n",
              "    <tr>\n",
              "      <th>...</th>\n",
              "      <td>...</td>\n",
              "    </tr>\n",
              "    <tr>\n",
              "      <th>2766</th>\n",
              "      <td>Sport</td>\n",
              "    </tr>\n",
              "    <tr>\n",
              "      <th>638</th>\n",
              "      <td>Sport</td>\n",
              "    </tr>\n",
              "    <tr>\n",
              "      <th>1635</th>\n",
              "      <td>Sport</td>\n",
              "    </tr>\n",
              "    <tr>\n",
              "      <th>2947</th>\n",
              "      <td>Thriller, Mystery</td>\n",
              "    </tr>\n",
              "    <tr>\n",
              "      <th>3078</th>\n",
              "      <td>War, Drama, Romance</td>\n",
              "    </tr>\n",
              "  </tbody>\n",
              "</table>\n",
              "<p>1831 rows × 1 columns</p>\n",
              "</div>"
            ],
            "text/plain": [
              "                     Genre\n",
              "Index                     \n",
              "298                 Action\n",
              "2803                Action\n",
              "1142                Action\n",
              "1614                Action\n",
              "2525                Action\n",
              "...                    ...\n",
              "2766                 Sport\n",
              "638                  Sport\n",
              "1635                 Sport\n",
              "2947     Thriller, Mystery\n",
              "3078   War, Drama, Romance\n",
              "\n",
              "[1831 rows x 1 columns]"
            ]
          },
          "metadata": {
            "tags": []
          },
          "execution_count": 109
        }
      ]
    },
    {
      "cell_type": "code",
      "metadata": {
        "id": "dA3QbaN1rkEN",
        "colab_type": "code",
        "outputId": "0c43994e-d8d0-40ab-ec24-d86c3b06f861",
        "colab": {
          "base_uri": "https://localhost:8080/",
          "height": 119
        }
      },
      "source": [
        "imbd_sqr = ( imbd['imdbRating'] - imbd['imdbVotes']  ) ** 2\n",
        "imbd_sqr.head()"
      ],
      "execution_count": 0,
      "outputs": [
        {
          "output_type": "execute_result",
          "data": {
            "text/plain": [
              "0    6780816.0\n",
              "1    1437601.0\n",
              "2    6395841.0\n",
              "3    3024121.0\n",
              "4    3097600.0\n",
              "dtype: float64"
            ]
          },
          "metadata": {
            "tags": []
          },
          "execution_count": 110
        }
      ]
    },
    {
      "cell_type": "code",
      "metadata": {
        "id": "JLT6OGKC6OYg",
        "colab_type": "code",
        "colab": {}
      },
      "source": [
        "imbd['Rt-Vt_Squ_dif'] = imbd_sqr"
      ],
      "execution_count": 0,
      "outputs": []
    },
    {
      "cell_type": "code",
      "metadata": {
        "id": "2gzTFSm17NbR",
        "colab_type": "code",
        "outputId": "31e0acc0-c17f-422a-c6cd-e1dff99e5142",
        "colab": {
          "base_uri": "https://localhost:8080/",
          "height": 640
        }
      },
      "source": [
        "imbd"
      ],
      "execution_count": 0,
      "outputs": [
        {
          "output_type": "execute_result",
          "data": {
            "text/html": [
              "<div>\n",
              "<style scoped>\n",
              "    .dataframe tbody tr th:only-of-type {\n",
              "        vertical-align: middle;\n",
              "    }\n",
              "\n",
              "    .dataframe tbody tr th {\n",
              "        vertical-align: top;\n",
              "    }\n",
              "\n",
              "    .dataframe thead th {\n",
              "        text-align: right;\n",
              "    }\n",
              "</style>\n",
              "<table border=\"1\" class=\"dataframe\">\n",
              "  <thead>\n",
              "    <tr style=\"text-align: right;\">\n",
              "      <th></th>\n",
              "      <th>Plot</th>\n",
              "      <th>Title</th>\n",
              "      <th>imdbVotes</th>\n",
              "      <th>Poster</th>\n",
              "      <th>imdbRating</th>\n",
              "      <th>Genre</th>\n",
              "      <th>imdbID</th>\n",
              "      <th>Year</th>\n",
              "      <th>Language</th>\n",
              "      <th>Rt-Vt_Squ_dif</th>\n",
              "    </tr>\n",
              "  </thead>\n",
              "  <tbody>\n",
              "    <tr>\n",
              "      <th>0</th>\n",
              "      <td>Despite his tarnished reputation after the eve...</td>\n",
              "      <td>The Dark Knight Rises</td>\n",
              "      <td>2679</td>\n",
              "      <td>http://ia.media-imdb.com/images/M/MV5BMTk4ODQz...</td>\n",
              "      <td>75.0</td>\n",
              "      <td>Action, Thriller</td>\n",
              "      <td>tt1345836</td>\n",
              "      <td>2012</td>\n",
              "      <td>English</td>\n",
              "      <td>6780816.00</td>\n",
              "    </tr>\n",
              "    <tr>\n",
              "      <th>1</th>\n",
              "      <td>Based on the novel written by Stephen Chbosky,...</td>\n",
              "      <td>The Perks of Being a Wallflower</td>\n",
              "      <td>1270</td>\n",
              "      <td>http://ia.media-imdb.com/images/M/MV5BMzIxOTQy...</td>\n",
              "      <td>71.0</td>\n",
              "      <td>Drama, Romance</td>\n",
              "      <td>tt1659337</td>\n",
              "      <td>2012</td>\n",
              "      <td>English</td>\n",
              "      <td>1437601.00</td>\n",
              "    </tr>\n",
              "    <tr>\n",
              "      <th>2</th>\n",
              "      <td>Mike Lane is a thirty-year old living in Tampa...</td>\n",
              "      <td>Magic Mike</td>\n",
              "      <td>2580</td>\n",
              "      <td>http://ia.media-imdb.com/images/M/MV5BMTQzMDMz...</td>\n",
              "      <td>51.0</td>\n",
              "      <td>Comedy, Drama</td>\n",
              "      <td>tt1915581</td>\n",
              "      <td>2012</td>\n",
              "      <td>English</td>\n",
              "      <td>6395841.00</td>\n",
              "    </tr>\n",
              "    <tr>\n",
              "      <th>3</th>\n",
              "      <td>When Bond's latest assignment goes gravely wro...</td>\n",
              "      <td>Skyfall</td>\n",
              "      <td>1807</td>\n",
              "      <td>http://ia.media-imdb.com/images/M/MV5BMjAyODkz...</td>\n",
              "      <td>68.0</td>\n",
              "      <td>Action, Thriller</td>\n",
              "      <td>tt1074638</td>\n",
              "      <td>2012</td>\n",
              "      <td>English</td>\n",
              "      <td>3024121.00</td>\n",
              "    </tr>\n",
              "    <tr>\n",
              "      <th>4</th>\n",
              "      <td>Against medical advice and without the knowled...</td>\n",
              "      <td>Silver Linings Playbook</td>\n",
              "      <td>1828</td>\n",
              "      <td>http://ia.media-imdb.com/images/M/MV5BMTM2MTI5...</td>\n",
              "      <td>68.0</td>\n",
              "      <td>Comedy, Drama, Romance</td>\n",
              "      <td>tt1045658</td>\n",
              "      <td>2012</td>\n",
              "      <td>English</td>\n",
              "      <td>3097600.00</td>\n",
              "    </tr>\n",
              "    <tr>\n",
              "      <th>...</th>\n",
              "      <td>...</td>\n",
              "      <td>...</td>\n",
              "      <td>...</td>\n",
              "      <td>...</td>\n",
              "      <td>...</td>\n",
              "      <td>...</td>\n",
              "      <td>...</td>\n",
              "      <td>...</td>\n",
              "      <td>...</td>\n",
              "      <td>...</td>\n",
              "    </tr>\n",
              "    <tr>\n",
              "      <th>3333</th>\n",
              "      <td>Ram (Shaam) and Lakshman a.k.a Lucky (Allu Arj...</td>\n",
              "      <td>Race Gurram</td>\n",
              "      <td>2632</td>\n",
              "      <td>http://ia.media-imdb.com/images/M/MV5BMjE0ODQ5...</td>\n",
              "      <td>7.4</td>\n",
              "      <td>Action, Comedy, Romance</td>\n",
              "      <td>tt3142764</td>\n",
              "      <td>2014</td>\n",
              "      <td>Telugu</td>\n",
              "      <td>6888525.16</td>\n",
              "    </tr>\n",
              "    <tr>\n",
              "      <th>3340</th>\n",
              "      <td>In Thailand, Prem is the heir to his family's ...</td>\n",
              "      <td>Ready</td>\n",
              "      <td>634</td>\n",
              "      <td>http://ia.media-imdb.com/images/M/MV5BMTUxNDM5...</td>\n",
              "      <td>7.3</td>\n",
              "      <td>Comedy</td>\n",
              "      <td>tt1708532</td>\n",
              "      <td>2008</td>\n",
              "      <td>Telugu</td>\n",
              "      <td>392752.89</td>\n",
              "    </tr>\n",
              "    <tr>\n",
              "      <th>3352</th>\n",
              "      <td>A scrupulously honest cop refuses kidnappers' ...</td>\n",
              "      <td>Shakti</td>\n",
              "      <td>468</td>\n",
              "      <td>http://ia.media-imdb.com/images/M/MV5BMTQ1NjAz...</td>\n",
              "      <td>3.3</td>\n",
              "      <td>Action, Fantasy</td>\n",
              "      <td>tt0084667</td>\n",
              "      <td>2011</td>\n",
              "      <td>Telugu</td>\n",
              "      <td>215946.09</td>\n",
              "    </tr>\n",
              "    <tr>\n",
              "      <th>3363</th>\n",
              "      <td>Josef Stalin rises from his rejection as being...</td>\n",
              "      <td>Stalin</td>\n",
              "      <td>653</td>\n",
              "      <td>http://ia.media-imdb.com/images/M/MV5BMTk5OTQw...</td>\n",
              "      <td>5.6</td>\n",
              "      <td>Action, Drama</td>\n",
              "      <td>tt0105462</td>\n",
              "      <td>2006</td>\n",
              "      <td>Telugu</td>\n",
              "      <td>419126.76</td>\n",
              "    </tr>\n",
              "    <tr>\n",
              "      <th>3369</th>\n",
              "      <td>Unable to convince the ruling council of Krypt...</td>\n",
              "      <td>Superman</td>\n",
              "      <td>49</td>\n",
              "      <td>http://ia.media-imdb.com/images/M/MV5BMTI1MjA5...</td>\n",
              "      <td>4.2</td>\n",
              "      <td>Fantasy, Musical, Sci-Fi</td>\n",
              "      <td>tt0078346</td>\n",
              "      <td>1980</td>\n",
              "      <td>Telugu</td>\n",
              "      <td>2007.04</td>\n",
              "    </tr>\n",
              "  </tbody>\n",
              "</table>\n",
              "<p>1831 rows × 10 columns</p>\n",
              "</div>"
            ],
            "text/plain": [
              "                                                   Plot  ... Rt-Vt_Squ_dif\n",
              "0     Despite his tarnished reputation after the eve...  ...    6780816.00\n",
              "1     Based on the novel written by Stephen Chbosky,...  ...    1437601.00\n",
              "2     Mike Lane is a thirty-year old living in Tampa...  ...    6395841.00\n",
              "3     When Bond's latest assignment goes gravely wro...  ...    3024121.00\n",
              "4     Against medical advice and without the knowled...  ...    3097600.00\n",
              "...                                                 ...  ...           ...\n",
              "3333  Ram (Shaam) and Lakshman a.k.a Lucky (Allu Arj...  ...    6888525.16\n",
              "3340  In Thailand, Prem is the heir to his family's ...  ...     392752.89\n",
              "3352  A scrupulously honest cop refuses kidnappers' ...  ...     215946.09\n",
              "3363  Josef Stalin rises from his rejection as being...  ...     419126.76\n",
              "3369  Unable to convince the ruling council of Krypt...  ...       2007.04\n",
              "\n",
              "[1831 rows x 10 columns]"
            ]
          },
          "metadata": {
            "tags": []
          },
          "execution_count": 112
        }
      ]
    }
  ]
}