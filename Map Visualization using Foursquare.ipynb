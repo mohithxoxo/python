{
  "nbformat": 4,
  "nbformat_minor": 0,
  "metadata": {
    "kernelspec": {
      "display_name": "Python",
      "language": "python",
      "name": "conda-env-python-py"
    },
    "language_info": {
      "codemirror_mode": {
        "name": "ipython",
        "version": 3
      },
      "file_extension": ".py",
      "mimetype": "text/x-python",
      "name": "python",
      "nbconvert_exporter": "python",
      "pygments_lexer": "ipython3",
      "version": "3.6.7"
    },
    "colab": {
      "name": "Foursquare.ipynb",
      "provenance": [],
      "collapsed_sections": [
        "qEE3sHcaoi81",
        "gaF6Ej5doi9d",
        "BBtO6oXwoi9y",
        "vGpM-EROoi-O",
        "rBMOBBC4oi_I"
      ],
      "include_colab_link": true
    }
  },
  "cells": [
    {
      "cell_type": "markdown",
      "metadata": {
        "id": "view-in-github",
        "colab_type": "text"
      },
      "source": [
        "<a href=\"https://colab.research.google.com/github/mohithxoxo/python/blob/master/Foursquare.ipynb\" target=\"_parent\"><img src=\"https://colab.research.google.com/assets/colab-badge.svg\" alt=\"Open In Colab\"/></a>"
      ]
    },
    {
      "cell_type": "markdown",
      "metadata": {
        "button": false,
        "deletable": true,
        "new_sheet": false,
        "run_control": {
          "read_only": false
        },
        "id": "Q-MvhL1MoiwT",
        "colab_type": "text"
      },
      "source": [
        "### Import necessary Libraries"
      ]
    },
    {
      "cell_type": "code",
      "metadata": {
        "button": false,
        "deletable": true,
        "jupyter": {
          "outputs_hidden": false
        },
        "new_sheet": false,
        "run_control": {
          "read_only": false
        },
        "id": "AKdnaLWOoiwf",
        "colab_type": "code",
        "outputId": "4ab0a341-a4ee-4ab4-b887-643667b0a10b",
        "colab": {
          "base_uri": "https://localhost:8080/",
          "height": 51
        }
      },
      "source": [
        "import requests # library to handle requests\n",
        "import pandas as pd # library for data analsysis\n",
        "import numpy as np # library to handle data in a vectorized manner\n",
        "import random # library for random number generation\n",
        "\n",
        "from geopy.geocoders import Nominatim # module to convert an address into latitude and longitude values\n",
        "\n",
        "# libraries for displaying images\n",
        "from IPython.display import Image \n",
        "from IPython.core.display import HTML \n",
        "    \n",
        "# tranforming json file into a pandas dataframe library\n",
        "from pandas.io.json import json_normalize\n",
        "\n",
        "import folium # plotting library\n",
        "\n",
        "print('Folium installed')\n",
        "print('Libraries imported.')"
      ],
      "execution_count": 1,
      "outputs": [
        {
          "output_type": "stream",
          "text": [
            "Folium installed\n",
            "Libraries imported.\n"
          ],
          "name": "stdout"
        }
      ]
    },
    {
      "cell_type": "markdown",
      "metadata": {
        "button": false,
        "deletable": true,
        "new_sheet": false,
        "run_control": {
          "read_only": false
        },
        "id": "pZPoRLl1oixN",
        "colab_type": "text"
      },
      "source": [
        "### Define Foursquare Credentials and Version"
      ]
    },
    {
      "cell_type": "markdown",
      "metadata": {
        "button": false,
        "deletable": true,
        "new_sheet": false,
        "run_control": {
          "read_only": false
        },
        "id": "plAtp3ZboixX",
        "colab_type": "text"
      },
      "source": [
        "##### Make sure that you have created a Foursquare developer account and have your credentials handy"
      ]
    },
    {
      "cell_type": "code",
      "metadata": {
        "button": false,
        "deletable": true,
        "jupyter": {
          "outputs_hidden": false
        },
        "new_sheet": false,
        "run_control": {
          "read_only": false
        },
        "id": "AGgf7bOJoixl",
        "colab_type": "code",
        "outputId": "a3cbc4f7-1ff4-4b71-c2ad-d542cc4f14c6",
        "colab": {
          "base_uri": "https://localhost:8080/",
          "height": 68
        }
      },
      "source": [
        "CLIENT_ID = 'GJE0I1OSMRPDIGFYRJBT5V30MPRPJZB4PKPPDRW5KPKQQZAF' # your Foursquare ID\n",
        "CLIENT_SECRET = '1AQKBNKEOE1WRBIO2S5I2ZPZCZ3MNYQTJYXEIZ34PJVEUDNA' # your Foursquare Secret\n",
        "VERSION = '20180604'\n",
        "LIMIT = 30\n",
        "print('Your credentails:')\n",
        "print('CLIENT_ID: ' + CLIENT_ID)\n",
        "print('CLIENT_SECRET:' + CLIENT_SECRET)"
      ],
      "execution_count": 2,
      "outputs": [
        {
          "output_type": "stream",
          "text": [
            "Your credentails:\n",
            "CLIENT_ID: GJE0I1OSMRPDIGFYRJBT5V30MPRPJZB4PKPPDRW5KPKQQZAF\n",
            "CLIENT_SECRET:1AQKBNKEOE1WRBIO2S5I2ZPZCZ3MNYQTJYXEIZ34PJVEUDNA\n"
          ],
          "name": "stdout"
        }
      ]
    },
    {
      "cell_type": "markdown",
      "metadata": {
        "button": false,
        "deletable": true,
        "new_sheet": false,
        "run_control": {
          "read_only": false
        },
        "id": "FqxbfXxdoix2",
        "colab_type": "text"
      },
      "source": [
        "  "
      ]
    },
    {
      "cell_type": "markdown",
      "metadata": {
        "button": false,
        "deletable": true,
        "new_sheet": false,
        "run_control": {
          "read_only": false
        },
        "id": "rZY9PgKxoix6",
        "colab_type": "text"
      },
      "source": [
        "#### Let's again assume that you are staying at the Conrad hotel. So let's start by converting the Contrad Hotel's address to its latitude and longitude coordinates."
      ]
    },
    {
      "cell_type": "markdown",
      "metadata": {
        "id": "TNNxMmLmoiyA",
        "colab_type": "text"
      },
      "source": [
        "In order to define an instance of the geocoder, we need to define a user_agent. We will name our agent <em>foursquare_agent</em>, as shown below."
      ]
    },
    {
      "cell_type": "code",
      "metadata": {
        "button": false,
        "deletable": true,
        "jupyter": {
          "outputs_hidden": false
        },
        "new_sheet": false,
        "run_control": {
          "read_only": false
        },
        "id": "8mttlTWmoiyF",
        "colab_type": "code",
        "outputId": "3784eadb-48fc-4efc-9510-db518b7bacd8",
        "colab": {
          "base_uri": "https://localhost:8080/",
          "height": 34
        }
      },
      "source": [
        "address = 'Bangalore,Karnataka,India'\n",
        "\n",
        "geolocator = Nominatim(user_agent=\"foursquare_agent\")\n",
        "location = geolocator.geocode(address)\n",
        "latitude = location.latitude\n",
        "longitude = location.longitude\n",
        "print(latitude, longitude)"
      ],
      "execution_count": 44,
      "outputs": [
        {
          "output_type": "stream",
          "text": [
            "12.9791198 77.5912997\n"
          ],
          "name": "stdout"
        }
      ]
    },
    {
      "cell_type": "code",
      "metadata": {
        "button": false,
        "deletable": true,
        "jupyter": {
          "outputs_hidden": false
        },
        "new_sheet": false,
        "run_control": {
          "read_only": false
        },
        "scrolled": true,
        "id": "tS6aCgtIoiyz",
        "colab_type": "code",
        "outputId": "a89d1a33-4dec-420b-f2eb-283dbc006947",
        "colab": {
          "base_uri": "https://localhost:8080/",
          "height": 34
        }
      },
      "source": [
        "search_query = 'restaurants'\n",
        "radius = 100000\n",
        "print(search_query + ' .... OK!')"
      ],
      "execution_count": 45,
      "outputs": [
        {
          "output_type": "stream",
          "text": [
            "restaurants .... OK!\n"
          ],
          "name": "stdout"
        }
      ]
    },
    {
      "cell_type": "code",
      "metadata": {
        "button": false,
        "deletable": true,
        "jupyter": {
          "outputs_hidden": false
        },
        "new_sheet": false,
        "run_control": {
          "read_only": false
        },
        "id": "033_JFBloizF",
        "colab_type": "code",
        "outputId": "f6c70f6f-e4d6-4a5c-c8c9-b9bd9c6c8c57",
        "colab": {
          "base_uri": "https://localhost:8080/",
          "height": 54
        }
      },
      "source": [
        "url = 'https://api.foursquare.com/v2/venues/search?client_id={}&client_secret={}&ll={},{}&v={}&query={}&radius={}&limit={}'.format(CLIENT_ID, CLIENT_SECRET, latitude, longitude, VERSION, search_query, radius, LIMIT)\n",
        "url"
      ],
      "execution_count": 46,
      "outputs": [
        {
          "output_type": "execute_result",
          "data": {
            "text/plain": [
              "'https://api.foursquare.com/v2/venues/search?client_id=GJE0I1OSMRPDIGFYRJBT5V30MPRPJZB4PKPPDRW5KPKQQZAF&client_secret=1AQKBNKEOE1WRBIO2S5I2ZPZCZ3MNYQTJYXEIZ34PJVEUDNA&ll=12.9791198,77.5912997&v=20180604&query=restaurants&radius=100000&limit=30'"
            ]
          },
          "metadata": {
            "tags": []
          },
          "execution_count": 46
        }
      ]
    },
    {
      "cell_type": "markdown",
      "metadata": {
        "button": false,
        "deletable": true,
        "new_sheet": false,
        "run_control": {
          "read_only": false
        },
        "id": "_XJuw84qoizV",
        "colab_type": "text"
      },
      "source": [
        "#### Send the GET Request and examine the results"
      ]
    },
    {
      "cell_type": "code",
      "metadata": {
        "button": false,
        "deletable": true,
        "jupyter": {
          "outputs_hidden": false
        },
        "new_sheet": false,
        "run_control": {
          "read_only": false
        },
        "scrolled": true,
        "id": "EO3AXb6Boizf",
        "colab_type": "code",
        "outputId": "f129b5c0-db2f-43bf-a223-051943c86932",
        "colab": {
          "base_uri": "https://localhost:8080/",
          "height": 1000
        }
      },
      "source": [
        "results = requests.get(url).json()\n",
        "results"
      ],
      "execution_count": 47,
      "outputs": [
        {
          "output_type": "execute_result",
          "data": {
            "text/plain": [
              "{'meta': {'code': 200, 'requestId': '5e746c8d963d29001bc6aef2'},\n",
              " 'response': {'venues': [{'categories': [{'icon': {'prefix': 'https://ss3.4sqi.net/img/categories_v2/food/indian_',\n",
              "       'suffix': '.png'},\n",
              "      'id': '4bf58dd8d48988d10f941735',\n",
              "      'name': 'Indian Restaurant',\n",
              "      'pluralName': 'Indian Restaurants',\n",
              "      'primary': True,\n",
              "      'shortName': 'Indian'}],\n",
              "    'hasPerk': False,\n",
              "    'id': '4dc55eafd4c0ad9c0f8585e5',\n",
              "    'location': {'address': 'Above Mom & me',\n",
              "     'cc': 'IN',\n",
              "     'city': 'Bangalore',\n",
              "     'country': 'India',\n",
              "     'crossStreet': '1st cross, koramangala 5th block',\n",
              "     'distance': 6109,\n",
              "     'formattedAddress': ['Above Mom & me (1st cross, koramangala 5th block)',\n",
              "      'Bangalore',\n",
              "      'Karnātaka',\n",
              "      'India'],\n",
              "     'labeledLatLngs': [{'label': 'display',\n",
              "       'lat': 12.933695361984093,\n",
              "       'lng': 77.6229044540145}],\n",
              "     'lat': 12.933695361984093,\n",
              "     'lng': 77.6229044540145,\n",
              "     'state': 'Karnātaka'},\n",
              "    'name': 'Turquoise Restaurants',\n",
              "    'referralId': 'v-1584688542'},\n",
              "   {'categories': [{'icon': {'prefix': 'https://ss3.4sqi.net/img/categories_v2/food/fastfood_',\n",
              "       'suffix': '.png'},\n",
              "      'id': '4bf58dd8d48988d16e941735',\n",
              "      'name': 'Fast Food Restaurant',\n",
              "      'pluralName': 'Fast Food Restaurants',\n",
              "      'primary': True,\n",
              "      'shortName': 'Fast Food'}],\n",
              "    'hasPerk': False,\n",
              "    'id': '4f1b8bdde4b0817d3ce12ae2',\n",
              "    'location': {'cc': 'IN',\n",
              "     'city': 'Bangalore',\n",
              "     'country': 'India',\n",
              "     'distance': 5582,\n",
              "     'formattedAddress': ['Bangalore', 'Karnātaka', 'India'],\n",
              "     'labeledLatLngs': [{'label': 'display',\n",
              "       'lat': 12.973075831795692,\n",
              "       'lng': 77.54021353669881}],\n",
              "     'lat': 12.973075831795692,\n",
              "     'lng': 77.54021353669881,\n",
              "     'state': 'Karnātaka'},\n",
              "    'name': 'Sagar Restaurants And Caterers',\n",
              "    'referralId': 'v-1584688542'},\n",
              "   {'categories': [{'icon': {'prefix': 'https://ss3.4sqi.net/img/categories_v2/food/default_',\n",
              "       'suffix': '.png'},\n",
              "      'id': '54135bf5e4b08f3d2429dfe0',\n",
              "      'name': 'Multicuisine Indian Restaurant',\n",
              "      'pluralName': 'Multicuisine Indian Restaurants',\n",
              "      'primary': True,\n",
              "      'shortName': 'Multicuisine Indian'}],\n",
              "    'hasPerk': False,\n",
              "    'id': '5acd8445c6666607b18c6c80',\n",
              "    'location': {'address': 'L 141, 5th Main Rd, Opposite Rajesh Jewellery Mart, Sector 6, HSR Layout, Bengaluru, Karnataka 560102',\n",
              "     'cc': 'IN',\n",
              "     'city': 'Bangalore',\n",
              "     'country': 'India',\n",
              "     'distance': 8481,\n",
              "     'formattedAddress': ['L 141, 5th Main Rd, Opposite Rajesh Jewellery Mart, Sector 6, HSR Layout, Bengaluru, Karnataka 560102',\n",
              "      'Bangalore 560102',\n",
              "      'Karnātaka',\n",
              "      'India'],\n",
              "     'labeledLatLngs': [{'label': 'display',\n",
              "       'lat': 12.914153,\n",
              "       'lng': 77.63215}],\n",
              "     'lat': 12.914153,\n",
              "     'lng': 77.63215,\n",
              "     'postalCode': '560102',\n",
              "     'state': 'Karnātaka'},\n",
              "    'name': 'Rajesh Restaurants',\n",
              "    'referralId': 'v-1584688542'},\n",
              "   {'categories': [{'icon': {'prefix': 'https://ss3.4sqi.net/img/categories_v2/food/indian_',\n",
              "       'suffix': '.png'},\n",
              "      'id': '4bf58dd8d48988d10f941735',\n",
              "      'name': 'Indian Restaurant',\n",
              "      'pluralName': 'Indian Restaurants',\n",
              "      'primary': True,\n",
              "      'shortName': 'Indian'}],\n",
              "    'hasPerk': False,\n",
              "    'id': '5a1418b964c8e11573ea2bd3',\n",
              "    'location': {'address': 'No.7,4th B block,Near BDA Complex, Koramangala',\n",
              "     'cc': 'IN',\n",
              "     'city': 'Bangalore',\n",
              "     'country': 'India',\n",
              "     'crossStreet': 'Near BDA Complex',\n",
              "     'distance': 5802,\n",
              "     'formattedAddress': ['No.7,4th B block,Near BDA Complex, Koramangala (Near BDA Complex)',\n",
              "      'Bangalore 560034',\n",
              "      'Karnātaka',\n",
              "      'India'],\n",
              "     'labeledLatLngs': [{'label': 'display',\n",
              "       'lat': 12.936220585556605,\n",
              "       'lng': 77.62167647480965}],\n",
              "     'lat': 12.936220585556605,\n",
              "     'lng': 77.62167647480965,\n",
              "     'postalCode': '560034',\n",
              "     'state': 'Karnātaka'},\n",
              "    'name': 'Nandhana Restaurants',\n",
              "    'referralId': 'v-1584688542'},\n",
              "   {'categories': [{'icon': {'prefix': 'https://ss3.4sqi.net/img/categories_v2/food/indian_',\n",
              "       'suffix': '.png'},\n",
              "      'id': '4bf58dd8d48988d10f941735',\n",
              "      'name': 'Indian Restaurant',\n",
              "      'pluralName': 'Indian Restaurants',\n",
              "      'primary': True,\n",
              "      'shortName': 'Indian'}],\n",
              "    'hasPerk': False,\n",
              "    'id': '5201fb13498e98c02b3ed4bf',\n",
              "    'location': {'address': 'Pyramid Food Court',\n",
              "     'cc': 'IN',\n",
              "     'city': 'Bangalore',\n",
              "     'country': 'India',\n",
              "     'distance': 6381,\n",
              "     'formattedAddress': ['Pyramid Food Court',\n",
              "      'Bangalore',\n",
              "      'Karnātaka',\n",
              "      'India'],\n",
              "     'labeledLatLngs': [{'label': 'display',\n",
              "       'lat': 12.950709342956543,\n",
              "       'lng': 77.64239501953125}],\n",
              "     'lat': 12.950709342956543,\n",
              "     'lng': 77.64239501953125,\n",
              "     'state': 'Karnātaka'},\n",
              "    'name': 'sinbad Restaurants',\n",
              "    'referralId': 'v-1584688542'},\n",
              "   {'categories': [{'icon': {'prefix': 'https://ss3.4sqi.net/img/categories_v2/food/indian_',\n",
              "       'suffix': '.png'},\n",
              "      'id': '4bf58dd8d48988d10f941735',\n",
              "      'name': 'Indian Restaurant',\n",
              "      'pluralName': 'Indian Restaurants',\n",
              "      'primary': True,\n",
              "      'shortName': 'Indian'}],\n",
              "    'hasPerk': False,\n",
              "    'id': '5162dc55e4b00e8fc41461df',\n",
              "    'location': {'address': 'Vijaya Bank Colony Extension',\n",
              "     'cc': 'IN',\n",
              "     'city': 'Bangalore',\n",
              "     'country': 'India',\n",
              "     'crossStreet': 'Outer Ring Road',\n",
              "     'distance': 8612,\n",
              "     'formattedAddress': ['Vijaya Bank Colony Extension (Outer Ring Road)',\n",
              "      'Bangalore',\n",
              "      'Karnātaka',\n",
              "      'India'],\n",
              "     'labeledLatLngs': [{'label': 'display',\n",
              "       'lat': 13.017228073516318,\n",
              "       'lng': 77.66039916680731}],\n",
              "     'lat': 13.017228073516318,\n",
              "     'lng': 77.66039916680731,\n",
              "     'state': 'Karnātaka'},\n",
              "    'name': 'Inchara',\n",
              "    'referralId': 'v-1584688542'},\n",
              "   {'categories': [{'icon': {'prefix': 'https://ss3.4sqi.net/img/categories_v2/nightlife/default_',\n",
              "       'suffix': '.png'},\n",
              "      'id': '4bf58dd8d48988d121941735',\n",
              "      'name': 'Lounge',\n",
              "      'pluralName': 'Lounges',\n",
              "      'primary': True,\n",
              "      'shortName': 'Lounge'}],\n",
              "    'hasPerk': False,\n",
              "    'id': '593c07e9724750423ee53e03',\n",
              "    'location': {'cc': 'IN',\n",
              "     'city': 'Bangalore',\n",
              "     'country': 'India',\n",
              "     'distance': 9028,\n",
              "     'formattedAddress': ['Bangalore 560076', 'Karnātaka', 'India'],\n",
              "     'labeledLatLngs': [{'label': 'display',\n",
              "       'lat': 12.899199,\n",
              "       'lng': 77.60549}],\n",
              "     'lat': 12.899199,\n",
              "     'lng': 77.60549,\n",
              "     'postalCode': '560076',\n",
              "     'state': 'Karnātaka'},\n",
              "    'name': 'Public',\n",
              "    'referralId': 'v-1584688542'},\n",
              "   {'categories': [{'icon': {'prefix': 'https://ss3.4sqi.net/img/categories_v2/food/default_',\n",
              "       'suffix': '.png'},\n",
              "      'id': '54135bf5e4b08f3d2429dfe6',\n",
              "      'name': 'Hyderabadi Restaurant',\n",
              "      'pluralName': 'Hyderabadi Restaurants',\n",
              "      'primary': True,\n",
              "      'shortName': 'Hyderabadi'}],\n",
              "    'hasPerk': False,\n",
              "    'id': '5843cc5b5a58693fa1e1916d',\n",
              "    'location': {'cc': 'IN',\n",
              "     'city': 'Bangalore',\n",
              "     'country': 'India',\n",
              "     'distance': 17200,\n",
              "     'formattedAddress': ['Bangalore 560066', 'Karnātaka', 'India'],\n",
              "     'labeledLatLngs': [{'label': 'display',\n",
              "       'lat': 12.983856,\n",
              "       'lng': 77.74979}],\n",
              "     'lat': 12.983856,\n",
              "     'lng': 77.74979,\n",
              "     'postalCode': '560066',\n",
              "     'state': 'Karnātaka'},\n",
              "    'name': 'Shanmukha Restaurants',\n",
              "    'referralId': 'v-1584688542'},\n",
              "   {'categories': [{'icon': {'prefix': 'https://ss3.4sqi.net/img/categories_v2/food/indian_',\n",
              "       'suffix': '.png'},\n",
              "      'id': '4bf58dd8d48988d10f941735',\n",
              "      'name': 'Indian Restaurant',\n",
              "      'pluralName': 'Indian Restaurants',\n",
              "      'primary': True,\n",
              "      'shortName': 'Indian'}],\n",
              "    'hasPerk': False,\n",
              "    'id': '52bd16a111d24cfb8962d505',\n",
              "    'location': {'cc': 'IN',\n",
              "     'country': 'India',\n",
              "     'distance': 19787,\n",
              "     'formattedAddress': ['India'],\n",
              "     'labeledLatLngs': [{'label': 'display',\n",
              "       'lat': 12.801905378596107,\n",
              "       'lng': 77.5770286933869}],\n",
              "     'lat': 12.801905378596107,\n",
              "     'lng': 77.5770286933869},\n",
              "    'name': 'Karnataka Vanashree Restaurants',\n",
              "    'referralId': 'v-1584688542'}]}}"
            ]
          },
          "metadata": {
            "tags": []
          },
          "execution_count": 47
        }
      ]
    },
    {
      "cell_type": "markdown",
      "metadata": {
        "button": false,
        "deletable": true,
        "new_sheet": false,
        "run_control": {
          "read_only": false
        },
        "id": "Nxvt6ppRoiz2",
        "colab_type": "text"
      },
      "source": [
        "#### Get relevant part of JSON and transform it into a *pandas* dataframe"
      ]
    },
    {
      "cell_type": "code",
      "metadata": {
        "button": false,
        "deletable": true,
        "jupyter": {
          "outputs_hidden": false
        },
        "new_sheet": false,
        "run_control": {
          "read_only": false
        },
        "id": "LRvea1Wloiz5",
        "colab_type": "code",
        "outputId": "d5f03c71-59c9-4787-cc7a-ee55fdd925b7",
        "colab": {
          "base_uri": "https://localhost:8080/",
          "height": 428
        }
      },
      "source": [
        "# assign relevant part of JSON to venues\n",
        "venues = results['response']['venues']\n",
        "\n",
        "# tranform venues into a dataframe\n",
        "dataframe = json_normalize(venues)\n",
        "dataframe.head()"
      ],
      "execution_count": 48,
      "outputs": [
        {
          "output_type": "execute_result",
          "data": {
            "text/html": [
              "<div>\n",
              "<style scoped>\n",
              "    .dataframe tbody tr th:only-of-type {\n",
              "        vertical-align: middle;\n",
              "    }\n",
              "\n",
              "    .dataframe tbody tr th {\n",
              "        vertical-align: top;\n",
              "    }\n",
              "\n",
              "    .dataframe thead th {\n",
              "        text-align: right;\n",
              "    }\n",
              "</style>\n",
              "<table border=\"1\" class=\"dataframe\">\n",
              "  <thead>\n",
              "    <tr style=\"text-align: right;\">\n",
              "      <th></th>\n",
              "      <th>id</th>\n",
              "      <th>name</th>\n",
              "      <th>categories</th>\n",
              "      <th>referralId</th>\n",
              "      <th>hasPerk</th>\n",
              "      <th>location.address</th>\n",
              "      <th>location.crossStreet</th>\n",
              "      <th>location.lat</th>\n",
              "      <th>location.lng</th>\n",
              "      <th>location.labeledLatLngs</th>\n",
              "      <th>location.distance</th>\n",
              "      <th>location.cc</th>\n",
              "      <th>location.city</th>\n",
              "      <th>location.state</th>\n",
              "      <th>location.country</th>\n",
              "      <th>location.formattedAddress</th>\n",
              "      <th>location.postalCode</th>\n",
              "    </tr>\n",
              "  </thead>\n",
              "  <tbody>\n",
              "    <tr>\n",
              "      <th>0</th>\n",
              "      <td>4dc55eafd4c0ad9c0f8585e5</td>\n",
              "      <td>Turquoise Restaurants</td>\n",
              "      <td>[{'id': '4bf58dd8d48988d10f941735', 'name': 'I...</td>\n",
              "      <td>v-1584688542</td>\n",
              "      <td>False</td>\n",
              "      <td>Above Mom &amp; me</td>\n",
              "      <td>1st cross, koramangala 5th block</td>\n",
              "      <td>12.933695</td>\n",
              "      <td>77.622904</td>\n",
              "      <td>[{'label': 'display', 'lat': 12.93369536198409...</td>\n",
              "      <td>6109</td>\n",
              "      <td>IN</td>\n",
              "      <td>Bangalore</td>\n",
              "      <td>Karnātaka</td>\n",
              "      <td>India</td>\n",
              "      <td>[Above Mom &amp; me (1st cross, koramangala 5th bl...</td>\n",
              "      <td>NaN</td>\n",
              "    </tr>\n",
              "    <tr>\n",
              "      <th>1</th>\n",
              "      <td>4f1b8bdde4b0817d3ce12ae2</td>\n",
              "      <td>Sagar Restaurants And Caterers</td>\n",
              "      <td>[{'id': '4bf58dd8d48988d16e941735', 'name': 'F...</td>\n",
              "      <td>v-1584688542</td>\n",
              "      <td>False</td>\n",
              "      <td>NaN</td>\n",
              "      <td>NaN</td>\n",
              "      <td>12.973076</td>\n",
              "      <td>77.540214</td>\n",
              "      <td>[{'label': 'display', 'lat': 12.97307583179569...</td>\n",
              "      <td>5582</td>\n",
              "      <td>IN</td>\n",
              "      <td>Bangalore</td>\n",
              "      <td>Karnātaka</td>\n",
              "      <td>India</td>\n",
              "      <td>[Bangalore, Karnātaka, India]</td>\n",
              "      <td>NaN</td>\n",
              "    </tr>\n",
              "    <tr>\n",
              "      <th>2</th>\n",
              "      <td>5acd8445c6666607b18c6c80</td>\n",
              "      <td>Rajesh Restaurants</td>\n",
              "      <td>[{'id': '54135bf5e4b08f3d2429dfe0', 'name': 'M...</td>\n",
              "      <td>v-1584688542</td>\n",
              "      <td>False</td>\n",
              "      <td>L 141, 5th Main Rd, Opposite Rajesh Jewellery ...</td>\n",
              "      <td>NaN</td>\n",
              "      <td>12.914153</td>\n",
              "      <td>77.632150</td>\n",
              "      <td>[{'label': 'display', 'lat': 12.914153, 'lng':...</td>\n",
              "      <td>8481</td>\n",
              "      <td>IN</td>\n",
              "      <td>Bangalore</td>\n",
              "      <td>Karnātaka</td>\n",
              "      <td>India</td>\n",
              "      <td>[L 141, 5th Main Rd, Opposite Rajesh Jewellery...</td>\n",
              "      <td>560102</td>\n",
              "    </tr>\n",
              "    <tr>\n",
              "      <th>3</th>\n",
              "      <td>5a1418b964c8e11573ea2bd3</td>\n",
              "      <td>Nandhana Restaurants</td>\n",
              "      <td>[{'id': '4bf58dd8d48988d10f941735', 'name': 'I...</td>\n",
              "      <td>v-1584688542</td>\n",
              "      <td>False</td>\n",
              "      <td>No.7,4th B block,Near BDA Complex, Koramangala</td>\n",
              "      <td>Near BDA Complex</td>\n",
              "      <td>12.936221</td>\n",
              "      <td>77.621676</td>\n",
              "      <td>[{'label': 'display', 'lat': 12.93622058555660...</td>\n",
              "      <td>5802</td>\n",
              "      <td>IN</td>\n",
              "      <td>Bangalore</td>\n",
              "      <td>Karnātaka</td>\n",
              "      <td>India</td>\n",
              "      <td>[No.7,4th B block,Near BDA Complex, Koramangal...</td>\n",
              "      <td>560034</td>\n",
              "    </tr>\n",
              "    <tr>\n",
              "      <th>4</th>\n",
              "      <td>5201fb13498e98c02b3ed4bf</td>\n",
              "      <td>sinbad Restaurants</td>\n",
              "      <td>[{'id': '4bf58dd8d48988d10f941735', 'name': 'I...</td>\n",
              "      <td>v-1584688542</td>\n",
              "      <td>False</td>\n",
              "      <td>Pyramid Food Court</td>\n",
              "      <td>NaN</td>\n",
              "      <td>12.950709</td>\n",
              "      <td>77.642395</td>\n",
              "      <td>[{'label': 'display', 'lat': 12.95070934295654...</td>\n",
              "      <td>6381</td>\n",
              "      <td>IN</td>\n",
              "      <td>Bangalore</td>\n",
              "      <td>Karnātaka</td>\n",
              "      <td>India</td>\n",
              "      <td>[Pyramid Food Court, Bangalore, Karnātaka, India]</td>\n",
              "      <td>NaN</td>\n",
              "    </tr>\n",
              "  </tbody>\n",
              "</table>\n",
              "</div>"
            ],
            "text/plain": [
              "                         id  ... location.postalCode\n",
              "0  4dc55eafd4c0ad9c0f8585e5  ...                 NaN\n",
              "1  4f1b8bdde4b0817d3ce12ae2  ...                 NaN\n",
              "2  5acd8445c6666607b18c6c80  ...              560102\n",
              "3  5a1418b964c8e11573ea2bd3  ...              560034\n",
              "4  5201fb13498e98c02b3ed4bf  ...                 NaN\n",
              "\n",
              "[5 rows x 17 columns]"
            ]
          },
          "metadata": {
            "tags": []
          },
          "execution_count": 48
        }
      ]
    },
    {
      "cell_type": "markdown",
      "metadata": {
        "button": false,
        "deletable": true,
        "new_sheet": false,
        "run_control": {
          "read_only": false
        },
        "id": "7mT1lkPyoi0I",
        "colab_type": "text"
      },
      "source": [
        "#### Define information of interest and filter dataframe"
      ]
    },
    {
      "cell_type": "code",
      "metadata": {
        "button": false,
        "deletable": true,
        "jupyter": {
          "outputs_hidden": false
        },
        "new_sheet": false,
        "run_control": {
          "read_only": false
        },
        "scrolled": true,
        "id": "mHtp082uoi0Q",
        "colab_type": "code",
        "outputId": "45f5ed8b-ada4-4710-cd1b-2cf3afad98cc",
        "colab": {
          "base_uri": "https://localhost:8080/",
          "height": 722
        }
      },
      "source": [
        "# keep only columns that include venue name, and anything that is associated with location\n",
        "filtered_columns = ['name', 'categories'] + [col for col in dataframe.columns if col.startswith('location.')] + ['id']\n",
        "dataframe_filtered = dataframe.loc[:, filtered_columns]\n",
        "\n",
        "# function that extracts the category of the venue\n",
        "def get_category_type(row):\n",
        "    try:\n",
        "        categories_list = row['categories']\n",
        "    except:\n",
        "        categories_list = row['venue.categories']\n",
        "        \n",
        "    if len(categories_list) == 0:\n",
        "        return None\n",
        "    else:\n",
        "        return categories_list[0]['name']\n",
        "\n",
        "# filter the category for each row\n",
        "dataframe_filtered['categories'] = dataframe_filtered.apply(get_category_type, axis=1)\n",
        "\n",
        "# clean column names by keeping only last term\n",
        "dataframe_filtered.columns = [column.split('.')[-1] for column in dataframe_filtered.columns]\n",
        "\n",
        "dataframe_filtered"
      ],
      "execution_count": 49,
      "outputs": [
        {
          "output_type": "execute_result",
          "data": {
            "text/html": [
              "<div>\n",
              "<style scoped>\n",
              "    .dataframe tbody tr th:only-of-type {\n",
              "        vertical-align: middle;\n",
              "    }\n",
              "\n",
              "    .dataframe tbody tr th {\n",
              "        vertical-align: top;\n",
              "    }\n",
              "\n",
              "    .dataframe thead th {\n",
              "        text-align: right;\n",
              "    }\n",
              "</style>\n",
              "<table border=\"1\" class=\"dataframe\">\n",
              "  <thead>\n",
              "    <tr style=\"text-align: right;\">\n",
              "      <th></th>\n",
              "      <th>name</th>\n",
              "      <th>categories</th>\n",
              "      <th>address</th>\n",
              "      <th>crossStreet</th>\n",
              "      <th>lat</th>\n",
              "      <th>lng</th>\n",
              "      <th>labeledLatLngs</th>\n",
              "      <th>distance</th>\n",
              "      <th>cc</th>\n",
              "      <th>city</th>\n",
              "      <th>state</th>\n",
              "      <th>country</th>\n",
              "      <th>formattedAddress</th>\n",
              "      <th>postalCode</th>\n",
              "      <th>id</th>\n",
              "    </tr>\n",
              "  </thead>\n",
              "  <tbody>\n",
              "    <tr>\n",
              "      <th>0</th>\n",
              "      <td>Turquoise Restaurants</td>\n",
              "      <td>Indian Restaurant</td>\n",
              "      <td>Above Mom &amp; me</td>\n",
              "      <td>1st cross, koramangala 5th block</td>\n",
              "      <td>12.933695</td>\n",
              "      <td>77.622904</td>\n",
              "      <td>[{'label': 'display', 'lat': 12.93369536198409...</td>\n",
              "      <td>6109</td>\n",
              "      <td>IN</td>\n",
              "      <td>Bangalore</td>\n",
              "      <td>Karnātaka</td>\n",
              "      <td>India</td>\n",
              "      <td>[Above Mom &amp; me (1st cross, koramangala 5th bl...</td>\n",
              "      <td>NaN</td>\n",
              "      <td>4dc55eafd4c0ad9c0f8585e5</td>\n",
              "    </tr>\n",
              "    <tr>\n",
              "      <th>1</th>\n",
              "      <td>Sagar Restaurants And Caterers</td>\n",
              "      <td>Fast Food Restaurant</td>\n",
              "      <td>NaN</td>\n",
              "      <td>NaN</td>\n",
              "      <td>12.973076</td>\n",
              "      <td>77.540214</td>\n",
              "      <td>[{'label': 'display', 'lat': 12.97307583179569...</td>\n",
              "      <td>5582</td>\n",
              "      <td>IN</td>\n",
              "      <td>Bangalore</td>\n",
              "      <td>Karnātaka</td>\n",
              "      <td>India</td>\n",
              "      <td>[Bangalore, Karnātaka, India]</td>\n",
              "      <td>NaN</td>\n",
              "      <td>4f1b8bdde4b0817d3ce12ae2</td>\n",
              "    </tr>\n",
              "    <tr>\n",
              "      <th>2</th>\n",
              "      <td>Rajesh Restaurants</td>\n",
              "      <td>Multicuisine Indian Restaurant</td>\n",
              "      <td>L 141, 5th Main Rd, Opposite Rajesh Jewellery ...</td>\n",
              "      <td>NaN</td>\n",
              "      <td>12.914153</td>\n",
              "      <td>77.632150</td>\n",
              "      <td>[{'label': 'display', 'lat': 12.914153, 'lng':...</td>\n",
              "      <td>8481</td>\n",
              "      <td>IN</td>\n",
              "      <td>Bangalore</td>\n",
              "      <td>Karnātaka</td>\n",
              "      <td>India</td>\n",
              "      <td>[L 141, 5th Main Rd, Opposite Rajesh Jewellery...</td>\n",
              "      <td>560102</td>\n",
              "      <td>5acd8445c6666607b18c6c80</td>\n",
              "    </tr>\n",
              "    <tr>\n",
              "      <th>3</th>\n",
              "      <td>Nandhana Restaurants</td>\n",
              "      <td>Indian Restaurant</td>\n",
              "      <td>No.7,4th B block,Near BDA Complex, Koramangala</td>\n",
              "      <td>Near BDA Complex</td>\n",
              "      <td>12.936221</td>\n",
              "      <td>77.621676</td>\n",
              "      <td>[{'label': 'display', 'lat': 12.93622058555660...</td>\n",
              "      <td>5802</td>\n",
              "      <td>IN</td>\n",
              "      <td>Bangalore</td>\n",
              "      <td>Karnātaka</td>\n",
              "      <td>India</td>\n",
              "      <td>[No.7,4th B block,Near BDA Complex, Koramangal...</td>\n",
              "      <td>560034</td>\n",
              "      <td>5a1418b964c8e11573ea2bd3</td>\n",
              "    </tr>\n",
              "    <tr>\n",
              "      <th>4</th>\n",
              "      <td>sinbad Restaurants</td>\n",
              "      <td>Indian Restaurant</td>\n",
              "      <td>Pyramid Food Court</td>\n",
              "      <td>NaN</td>\n",
              "      <td>12.950709</td>\n",
              "      <td>77.642395</td>\n",
              "      <td>[{'label': 'display', 'lat': 12.95070934295654...</td>\n",
              "      <td>6381</td>\n",
              "      <td>IN</td>\n",
              "      <td>Bangalore</td>\n",
              "      <td>Karnātaka</td>\n",
              "      <td>India</td>\n",
              "      <td>[Pyramid Food Court, Bangalore, Karnātaka, India]</td>\n",
              "      <td>NaN</td>\n",
              "      <td>5201fb13498e98c02b3ed4bf</td>\n",
              "    </tr>\n",
              "    <tr>\n",
              "      <th>5</th>\n",
              "      <td>Inchara</td>\n",
              "      <td>Indian Restaurant</td>\n",
              "      <td>Vijaya Bank Colony Extension</td>\n",
              "      <td>Outer Ring Road</td>\n",
              "      <td>13.017228</td>\n",
              "      <td>77.660399</td>\n",
              "      <td>[{'label': 'display', 'lat': 13.01722807351631...</td>\n",
              "      <td>8612</td>\n",
              "      <td>IN</td>\n",
              "      <td>Bangalore</td>\n",
              "      <td>Karnātaka</td>\n",
              "      <td>India</td>\n",
              "      <td>[Vijaya Bank Colony Extension (Outer Ring Road...</td>\n",
              "      <td>NaN</td>\n",
              "      <td>5162dc55e4b00e8fc41461df</td>\n",
              "    </tr>\n",
              "    <tr>\n",
              "      <th>6</th>\n",
              "      <td>Public</td>\n",
              "      <td>Lounge</td>\n",
              "      <td>NaN</td>\n",
              "      <td>NaN</td>\n",
              "      <td>12.899199</td>\n",
              "      <td>77.605490</td>\n",
              "      <td>[{'label': 'display', 'lat': 12.899199, 'lng':...</td>\n",
              "      <td>9028</td>\n",
              "      <td>IN</td>\n",
              "      <td>Bangalore</td>\n",
              "      <td>Karnātaka</td>\n",
              "      <td>India</td>\n",
              "      <td>[Bangalore 560076, Karnātaka, India]</td>\n",
              "      <td>560076</td>\n",
              "      <td>593c07e9724750423ee53e03</td>\n",
              "    </tr>\n",
              "    <tr>\n",
              "      <th>7</th>\n",
              "      <td>Shanmukha Restaurants</td>\n",
              "      <td>Hyderabadi Restaurant</td>\n",
              "      <td>NaN</td>\n",
              "      <td>NaN</td>\n",
              "      <td>12.983856</td>\n",
              "      <td>77.749790</td>\n",
              "      <td>[{'label': 'display', 'lat': 12.983856, 'lng':...</td>\n",
              "      <td>17200</td>\n",
              "      <td>IN</td>\n",
              "      <td>Bangalore</td>\n",
              "      <td>Karnātaka</td>\n",
              "      <td>India</td>\n",
              "      <td>[Bangalore 560066, Karnātaka, India]</td>\n",
              "      <td>560066</td>\n",
              "      <td>5843cc5b5a58693fa1e1916d</td>\n",
              "    </tr>\n",
              "    <tr>\n",
              "      <th>8</th>\n",
              "      <td>Karnataka Vanashree Restaurants</td>\n",
              "      <td>Indian Restaurant</td>\n",
              "      <td>NaN</td>\n",
              "      <td>NaN</td>\n",
              "      <td>12.801905</td>\n",
              "      <td>77.577029</td>\n",
              "      <td>[{'label': 'display', 'lat': 12.80190537859610...</td>\n",
              "      <td>19787</td>\n",
              "      <td>IN</td>\n",
              "      <td>NaN</td>\n",
              "      <td>NaN</td>\n",
              "      <td>India</td>\n",
              "      <td>[India]</td>\n",
              "      <td>NaN</td>\n",
              "      <td>52bd16a111d24cfb8962d505</td>\n",
              "    </tr>\n",
              "  </tbody>\n",
              "</table>\n",
              "</div>"
            ],
            "text/plain": [
              "                              name  ...                        id\n",
              "0            Turquoise Restaurants  ...  4dc55eafd4c0ad9c0f8585e5\n",
              "1   Sagar Restaurants And Caterers  ...  4f1b8bdde4b0817d3ce12ae2\n",
              "2               Rajesh Restaurants  ...  5acd8445c6666607b18c6c80\n",
              "3             Nandhana Restaurants  ...  5a1418b964c8e11573ea2bd3\n",
              "4               sinbad Restaurants  ...  5201fb13498e98c02b3ed4bf\n",
              "5                          Inchara  ...  5162dc55e4b00e8fc41461df\n",
              "6                           Public  ...  593c07e9724750423ee53e03\n",
              "7            Shanmukha Restaurants  ...  5843cc5b5a58693fa1e1916d\n",
              "8  Karnataka Vanashree Restaurants  ...  52bd16a111d24cfb8962d505\n",
              "\n",
              "[9 rows x 15 columns]"
            ]
          },
          "metadata": {
            "tags": []
          },
          "execution_count": 49
        }
      ]
    },
    {
      "cell_type": "markdown",
      "metadata": {
        "button": false,
        "deletable": true,
        "new_sheet": false,
        "run_control": {
          "read_only": false
        },
        "id": "wl3Nol8Boi0i",
        "colab_type": "text"
      },
      "source": [
        "\n",
        "\n",
        "```\n",
        "# This is formatted as code\n",
        "```\n",
        "\n",
        "#### Let's visualize the ATM that are nearby\n"
      ]
    },
    {
      "cell_type": "code",
      "metadata": {
        "button": false,
        "deletable": true,
        "jupyter": {
          "outputs_hidden": false
        },
        "new_sheet": false,
        "run_control": {
          "read_only": false
        },
        "id": "2QH5n1snoi0q",
        "colab_type": "code",
        "outputId": "e8298dad-5711-48e9-dc3d-c6c46774cc76",
        "colab": {
          "base_uri": "https://localhost:8080/",
          "height": 187
        }
      },
      "source": [
        "dataframe_filtered.name"
      ],
      "execution_count": 50,
      "outputs": [
        {
          "output_type": "execute_result",
          "data": {
            "text/plain": [
              "0              Turquoise Restaurants\n",
              "1     Sagar Restaurants And Caterers\n",
              "2                 Rajesh Restaurants\n",
              "3               Nandhana Restaurants\n",
              "4                 sinbad Restaurants\n",
              "5                            Inchara\n",
              "6                             Public\n",
              "7              Shanmukha Restaurants\n",
              "8    Karnataka Vanashree Restaurants\n",
              "Name: name, dtype: object"
            ]
          },
          "metadata": {
            "tags": []
          },
          "execution_count": 50
        }
      ]
    },
    {
      "cell_type": "code",
      "metadata": {
        "button": false,
        "deletable": true,
        "jupyter": {
          "outputs_hidden": false
        },
        "new_sheet": false,
        "run_control": {
          "read_only": false
        },
        "id": "0RWA4HMloi09",
        "colab_type": "code",
        "outputId": "c539120d-bcc5-409d-e095-5109684f42da",
        "colab": {
          "base_uri": "https://localhost:8080/",
          "height": 763
        }
      },
      "source": [
        "venues_map = folium.Map(location=[latitude, longitude], zoom_start=13) # generate map centred around \n",
        "\n",
        "# add a red circle marker to represent \n",
        "folium.CircleMarker(\n",
        "    [latitude, longitude],\n",
        "    radius=10,\n",
        "    color='red',\n",
        "    popup='Restaurants',\n",
        "    fill = True,\n",
        "    fill_color = 'red',\n",
        "    fill_opacity = 0.6\n",
        ").add_to(venues_map)\n",
        "\n",
        "# add the ATMS as blue circle markers\n",
        "for lat, lng, label in zip(dataframe_filtered.lat, dataframe_filtered.lng, dataframe_filtered.categories):\n",
        "    folium.CircleMarker(\n",
        "        [lat, lng],\n",
        "        radius=5,\n",
        "        color='blue',\n",
        "        popup=label,\n",
        "        fill = True,\n",
        "        fill_color='blue',\n",
        "        fill_opacity=0.6\n",
        "    ).add_to(venues_map)\n",
        "\n",
        "# display map\n",
        "venues_map"
      ],
      "execution_count": 52,
      "outputs": [
        {
          "output_type": "execute_result",
          "data": {
            "text/html": [
              "<div style=\"width:100%;\"><div style=\"position:relative;width:100%;height:0;padding-bottom:60%;\"><iframe src=\"about:blank\" style=\"position:absolute;width:100%;height:100%;left:0;top:0;border:none !important;\" data-html=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 onload=\"this.contentDocument.open();this.contentDocument.write(atob(this.getAttribute('data-html')));this.contentDocument.close();\" allowfullscreen webkitallowfullscreen mozallowfullscreen></iframe></div></div>"
            ],
            "text/plain": [
              "<folium.folium.Map at 0x7f0b1813e550>"
            ]
          },
          "metadata": {
            "tags": []
          },
          "execution_count": 52
        }
      ]
    },
    {
      "cell_type": "markdown",
      "metadata": {
        "button": false,
        "deletable": true,
        "new_sheet": false,
        "run_control": {
          "read_only": false
        },
        "id": "qCKDlNH5oi1N",
        "colab_type": "text"
      },
      "source": [
        "   "
      ]
    },
    {
      "cell_type": "markdown",
      "metadata": {
        "button": false,
        "deletable": true,
        "new_sheet": false,
        "run_control": {
          "read_only": false
        },
        "id": "UfuHHgzroi1Q",
        "colab_type": "text"
      },
      "source": [
        "<a id=\"item2\"></a>"
      ]
    },
    {
      "cell_type": "markdown",
      "metadata": {
        "button": false,
        "deletable": true,
        "new_sheet": false,
        "run_control": {
          "read_only": false
        },
        "id": "46ug_QBhoi1T",
        "colab_type": "text"
      },
      "source": [
        "## 2. Explore a Given Venue\n",
        "> `https://api.foursquare.com/v2/venues/`**VENUE_ID**`?client_id=`**CLIENT_ID**`&client_secret=`**CLIENT_SECRET**`&v=`**VERSION**"
      ]
    },
    {
      "cell_type": "markdown",
      "metadata": {
        "button": false,
        "deletable": true,
        "new_sheet": false,
        "run_control": {
          "read_only": false
        },
        "id": "dMnPNYlFoi1b",
        "colab_type": "text"
      },
      "source": [
        "### A. Let's explore the closest Italian restaurant -- _Harry's Italian Pizza Bar_"
      ]
    },
    {
      "cell_type": "code",
      "metadata": {
        "button": false,
        "deletable": true,
        "jupyter": {
          "outputs_hidden": false
        },
        "new_sheet": false,
        "run_control": {
          "read_only": false
        },
        "id": "EFYSArItoi1g",
        "colab_type": "code",
        "colab": {
          "base_uri": "https://localhost:8080/",
          "height": 54
        },
        "outputId": "0700b7ee-c441-4f03-ccde-983027145cc4"
      },
      "source": [
        "venue_id = '4dc55eafd4c0ad9c0f8585e5' # ID of Turquoise Restaurants\n",
        "url = 'https://api.foursquare.com/v2/venues/{}?client_id={}&client_secret={}&v={}'.format(venue_id, CLIENT_ID, CLIENT_SECRET, VERSION)\n",
        "url"
      ],
      "execution_count": 54,
      "outputs": [
        {
          "output_type": "execute_result",
          "data": {
            "text/plain": [
              "'https://api.foursquare.com/v2/venues/4dc55eafd4c0ad9c0f8585e5?client_id=GJE0I1OSMRPDIGFYRJBT5V30MPRPJZB4PKPPDRW5KPKQQZAF&client_secret=1AQKBNKEOE1WRBIO2S5I2ZPZCZ3MNYQTJYXEIZ34PJVEUDNA&v=20180604'"
            ]
          },
          "metadata": {
            "tags": []
          },
          "execution_count": 54
        }
      ]
    },
    {
      "cell_type": "markdown",
      "metadata": {
        "button": false,
        "deletable": true,
        "new_sheet": false,
        "run_control": {
          "read_only": false
        },
        "id": "hEBbD0hYoi1r",
        "colab_type": "text"
      },
      "source": [
        "#### Send GET request for result"
      ]
    },
    {
      "cell_type": "code",
      "metadata": {
        "button": false,
        "deletable": true,
        "jupyter": {
          "outputs_hidden": false
        },
        "new_sheet": false,
        "run_control": {
          "read_only": false
        },
        "id": "h8br7nOOoi1u",
        "colab_type": "code",
        "colab": {
          "base_uri": "https://localhost:8080/",
          "height": 1000
        },
        "outputId": "b9fbc6f9-f72e-41d7-a2a2-833143f57d22"
      },
      "source": [
        "result = requests.get(url).json()\n",
        "print(result['response']['venue'].keys())\n",
        "result['response']['venue']"
      ],
      "execution_count": 55,
      "outputs": [
        {
          "output_type": "stream",
          "text": [
            "dict_keys(['id', 'name', 'contact', 'location', 'canonicalUrl', 'categories', 'verified', 'stats', 'url', 'price', 'likes', 'dislike', 'ok', 'rating', 'ratingColor', 'ratingSignals', 'allowMenuUrlEdit', 'beenHere', 'specials', 'photos', 'reasons', 'description', 'storeId', 'hereNow', 'createdAt', 'tips', 'shortUrl', 'timeZone', 'listed', 'hours', 'pageUpdates', 'inbox', 'attributes', 'bestPhoto'])\n"
          ],
          "name": "stdout"
        },
        {
          "output_type": "execute_result",
          "data": {
            "text/plain": [
              "{'allowMenuUrlEdit': True,\n",
              " 'attributes': {'groups': [{'count': 1,\n",
              "    'items': [{'displayName': 'Price', 'displayValue': '₹₹', 'priceTier': 2}],\n",
              "    'name': 'Price',\n",
              "    'summary': '₹₹',\n",
              "    'type': 'price'}]},\n",
              " 'beenHere': {'count': 0,\n",
              "  'lastCheckinExpiredAt': 0,\n",
              "  'marked': False,\n",
              "  'unconfirmedCount': 0},\n",
              " 'bestPhoto': {'createdAt': 1360851096,\n",
              "  'height': 540,\n",
              "  'id': '511cf098e4b0ca541c754131',\n",
              "  'prefix': 'https://fastly.4sqi.net/img/general/',\n",
              "  'source': {'name': 'Foursquare for Android',\n",
              "   'url': 'https://foursquare.com/download/#/android'},\n",
              "  'suffix': '/31574185_xK2I7rXSTfEyVmvFZJLRyN99vzCVMkVA20B2L3nQn2c.jpg',\n",
              "  'visibility': 'public',\n",
              "  'width': 960},\n",
              " 'canonicalUrl': 'https://foursquare.com/v/turquoise-restaurants/4dc55eafd4c0ad9c0f8585e5',\n",
              " 'categories': [{'icon': {'prefix': 'https://ss3.4sqi.net/img/categories_v2/food/indian_',\n",
              "    'suffix': '.png'},\n",
              "   'id': '4bf58dd8d48988d10f941735',\n",
              "   'name': 'Indian Restaurant',\n",
              "   'pluralName': 'Indian Restaurants',\n",
              "   'primary': True,\n",
              "   'shortName': 'Indian'}],\n",
              " 'contact': {'formattedPhone': '+91 80 6577 6588', 'phone': '+918065776588'},\n",
              " 'createdAt': 1304780463,\n",
              " 'description': \"Koramangala's 1st Fine European & Indian Dining Restaurants\",\n",
              " 'dislike': False,\n",
              " 'hereNow': {'count': 0, 'groups': [], 'summary': 'Nobody here'},\n",
              " 'hours': {'dayData': [],\n",
              "  'isLocalHoliday': False,\n",
              "  'isOpen': True,\n",
              "  'richStatus': {'entities': [], 'text': 'Open until 11:00 PM'},\n",
              "  'status': 'Open until 11:00 PM',\n",
              "  'timeframes': [{'days': 'Mon–Sun',\n",
              "    'includesToday': True,\n",
              "    'open': [{'renderedTime': 'Noon–11:00 PM'}],\n",
              "    'segments': []}]},\n",
              " 'id': '4dc55eafd4c0ad9c0f8585e5',\n",
              " 'inbox': {'count': 0, 'items': []},\n",
              " 'likes': {'count': 1,\n",
              "  'groups': [{'count': 1,\n",
              "    'items': [{'firstName': 'Anil',\n",
              "      'id': '6001088',\n",
              "      'lastName': 'G',\n",
              "      'photo': {'prefix': 'https://fastly.4sqi.net/img/user/',\n",
              "       'suffix': '/2NPAVPO2OUBUYBEY.jpg'}}],\n",
              "    'type': 'others'}],\n",
              "  'summary': '1 Like'},\n",
              " 'listed': {'count': 3,\n",
              "  'groups': [{'count': 3,\n",
              "    'items': [{'canonicalUrl': 'https://foursquare.com/bangalorebrat/list/luncheon-bangalore',\n",
              "      'collaborative': False,\n",
              "      'createdAt': 1325938478,\n",
              "      'description': '',\n",
              "      'editable': False,\n",
              "      'followers': {'count': 16},\n",
              "      'id': '4f08372ee4b0fcefa8451aaa',\n",
              "      'listItems': {'count': 74,\n",
              "       'items': [{'createdAt': 1367047626,\n",
              "         'id': 'v4dc55eafd4c0ad9c0f8585e5'}]},\n",
              "      'name': 'Luncheon Bangalore!',\n",
              "      'photo': {'createdAt': 1357922702,\n",
              "       'height': 540,\n",
              "       'id': '50f0418ee4b0ba751785f5f5',\n",
              "       'prefix': 'https://fastly.4sqi.net/img/general/',\n",
              "       'suffix': '/24282261_hLgi-cMkW0oj58w278TxAwW6ObwrtVl3jtQh3ASTe5M.jpg',\n",
              "       'user': {'firstName': 'Manoj',\n",
              "        'id': '24282261',\n",
              "        'lastName': 'S',\n",
              "        'photo': {'default': True,\n",
              "         'prefix': 'https://fastly.4sqi.net/img/user/',\n",
              "         'suffix': '/blank_boy.png'}},\n",
              "       'visibility': 'public',\n",
              "       'width': 720},\n",
              "      'public': True,\n",
              "      'type': 'others',\n",
              "      'updatedAt': 1422523402,\n",
              "      'url': '/bangalorebrat/list/luncheon-bangalore',\n",
              "      'user': {'firstName': 'Divya',\n",
              "       'id': '12353237',\n",
              "       'lastName': 'L',\n",
              "       'photo': {'prefix': 'https://fastly.4sqi.net/img/user/',\n",
              "        'suffix': '/J0DCLVBQ135GCRCP.jpg'}}},\n",
              "     {'canonicalUrl': 'https://foursquare.com/bangalorebrat/list/buffet-lunches-in-bangalore',\n",
              "      'collaborative': False,\n",
              "      'createdAt': 1325920723,\n",
              "      'description': '',\n",
              "      'editable': False,\n",
              "      'followers': {'count': 2},\n",
              "      'id': '4f07f1d3e4b08f52483d770d',\n",
              "      'listItems': {'count': 11,\n",
              "       'items': [{'createdAt': 1367047623,\n",
              "         'id': 'v4dc55eafd4c0ad9c0f8585e5'}]},\n",
              "      'name': 'Buffet Lunches in Bangalore',\n",
              "      'photo': {'createdAt': 1318236816,\n",
              "       'height': 461,\n",
              "       'id': '4e92b290775b74564d09e866',\n",
              "       'prefix': 'https://fastly.4sqi.net/img/general/',\n",
              "       'suffix': '/DE5DOII0KAJOM500CUJDAJRPB51WTXDMWNX02P0QQUWKD5HV.jpg',\n",
              "       'user': {'firstName': 'Sarang',\n",
              "        'id': '12289949',\n",
              "        'lastName': 'M',\n",
              "        'photo': {'prefix': 'https://fastly.4sqi.net/img/user/',\n",
              "         'suffix': '/LM2P1UA1BTRI0OP4.jpg'}},\n",
              "       'visibility': 'public',\n",
              "       'width': 346},\n",
              "      'public': True,\n",
              "      'type': 'others',\n",
              "      'updatedAt': 1377066367,\n",
              "      'url': '/bangalorebrat/list/buffet-lunches-in-bangalore',\n",
              "      'user': {'firstName': 'Divya',\n",
              "       'id': '12353237',\n",
              "       'lastName': 'L',\n",
              "       'photo': {'prefix': 'https://fastly.4sqi.net/img/user/',\n",
              "        'suffix': '/J0DCLVBQ135GCRCP.jpg'}}}],\n",
              "    'name': 'Lists from other people',\n",
              "    'type': 'others'}]},\n",
              " 'location': {'address': 'Above Mom & me',\n",
              "  'cc': 'IN',\n",
              "  'city': 'Bangalore',\n",
              "  'country': 'India',\n",
              "  'crossStreet': '1st cross, koramangala 5th block',\n",
              "  'formattedAddress': ['Above Mom & me (1st cross, koramangala 5th block)',\n",
              "   'Bangalore',\n",
              "   'Karnātaka',\n",
              "   'India'],\n",
              "  'labeledLatLngs': [{'label': 'display',\n",
              "    'lat': 12.933695361984093,\n",
              "    'lng': 77.6229044540145}],\n",
              "  'lat': 12.933695361984093,\n",
              "  'lng': 77.6229044540145,\n",
              "  'state': 'Karnātaka'},\n",
              " 'name': 'Turquoise Restaurants',\n",
              " 'ok': False,\n",
              " 'pageUpdates': {'count': 0, 'items': []},\n",
              " 'photos': {'count': 12,\n",
              "  'groups': [{'count': 12,\n",
              "    'items': [{'createdAt': 1360851096,\n",
              "      'height': 540,\n",
              "      'id': '511cf098e4b0ca541c754131',\n",
              "      'prefix': 'https://fastly.4sqi.net/img/general/',\n",
              "      'source': {'name': 'Foursquare for Android',\n",
              "       'url': 'https://foursquare.com/download/#/android'},\n",
              "      'suffix': '/31574185_xK2I7rXSTfEyVmvFZJLRyN99vzCVMkVA20B2L3nQn2c.jpg',\n",
              "      'user': {'firstName': 'Agali',\n",
              "       'id': '31574185',\n",
              "       'lastName': 'S',\n",
              "       'photo': {'prefix': 'https://fastly.4sqi.net/img/user/',\n",
              "        'suffix': '/FGMYG3DMQ0IPBVJY.jpg'}},\n",
              "      'visibility': 'public',\n",
              "      'width': 960},\n",
              "     {'createdAt': 1356964313,\n",
              "      'height': 540,\n",
              "      'id': '50e1a1d9e4b07dd5e9f1b682',\n",
              "      'prefix': 'https://fastly.4sqi.net/img/general/',\n",
              "      'source': {'name': 'Foursquare for Android',\n",
              "       'url': 'https://foursquare.com/download/#/android'},\n",
              "      'suffix': '/9174823_RLLblqDRB4Op0F1lsIAbG2wTMxWRnTTfyMJiSgoZRjU.jpg',\n",
              "      'user': {'firstName': 'Ahmad',\n",
              "       'id': '9174823',\n",
              "       'lastName': 'Z',\n",
              "       'photo': {'prefix': 'https://fastly.4sqi.net/img/user/',\n",
              "        'suffix': '/9174823_60lLg8Jt_QZxnqQAYp4eGmFU-lOnE0J3ID8VS-oMrxY4WXTHUK8jGHJjKjhQ-OaH_PWHmLzB6.jpg'}},\n",
              "      'visibility': 'public',\n",
              "      'width': 720}],\n",
              "    'name': 'Venue photos',\n",
              "    'type': 'venue'}]},\n",
              " 'price': {'currency': '₹', 'message': 'Moderate', 'tier': 2},\n",
              " 'rating': 5.8,\n",
              " 'ratingColor': 'FF9600',\n",
              " 'ratingSignals': 12,\n",
              " 'reasons': {'count': 0, 'items': []},\n",
              " 'shortUrl': 'http://4sq.com/ikr1xM',\n",
              " 'specials': {'count': 0, 'items': []},\n",
              " 'stats': {'tipCount': 12},\n",
              " 'storeId': '',\n",
              " 'timeZone': 'Asia/Kolkata',\n",
              " 'tips': {'count': 12,\n",
              "  'groups': [{'count': 12,\n",
              "    'items': [{'agreeCount': 0,\n",
              "      'canonicalUrl': 'https://foursquare.com/item/4f8cf494e4b03758903c031c',\n",
              "      'createdAt': 1334637716,\n",
              "      'disagreeCount': 0,\n",
              "      'id': '4f8cf494e4b03758903c031c',\n",
              "      'lang': 'en',\n",
              "      'likes': {'count': 1,\n",
              "       'groups': [{'count': 1, 'items': [], 'type': 'others'}],\n",
              "       'summary': '1 like'},\n",
              "      'logView': True,\n",
              "      'text': 'There is a board games group gathering here on Tue. evenings. Come join us and play some game, while enjoying a serious rebate on food & drinks.',\n",
              "      'todo': {'count': 0},\n",
              "      'type': 'user',\n",
              "      'user': {'firstName': 'Thierry',\n",
              "       'id': '970439',\n",
              "       'lastName': 'L',\n",
              "       'photo': {'prefix': 'https://fastly.4sqi.net/img/user/',\n",
              "        'suffix': '/2WDUEFVWFZFPIOLO.jpg'}}},\n",
              "     {'agreeCount': 0,\n",
              "      'canonicalUrl': 'https://foursquare.com/item/4df46de88130cf14cc16ad05',\n",
              "      'createdAt': 1307864552,\n",
              "      'disagreeCount': 0,\n",
              "      'id': '4df46de88130cf14cc16ad05',\n",
              "      'lang': 'en',\n",
              "      'likes': {'count': 1,\n",
              "       'groups': [{'count': 1, 'items': [], 'type': 'others'}],\n",
              "       'summary': '1 like'},\n",
              "      'logView': True,\n",
              "      'text': 'Decent ambiance. They made us a cream of chicken on request. The mince lasagna was just okay. The Pollo Alla Cacciatora looked a bit different too, though it was decent. MFT Rs. 1000. Pricey.',\n",
              "      'todo': {'count': 0},\n",
              "      'type': 'user',\n",
              "      'user': {'firstName': 'manu',\n",
              "       'id': '320944',\n",
              "       'lastName': 'p',\n",
              "       'photo': {'prefix': 'https://fastly.4sqi.net/img/user/',\n",
              "        'suffix': '/Z2W02RKCB2XDDLOV.jpg'}}}],\n",
              "    'name': 'All tips',\n",
              "    'type': 'others'}]},\n",
              " 'url': 'http://www.turquoiserestaurants.in',\n",
              " 'verified': True}"
            ]
          },
          "metadata": {
            "tags": []
          },
          "execution_count": 55
        }
      ]
    },
    {
      "cell_type": "markdown",
      "metadata": {
        "button": false,
        "deletable": true,
        "new_sheet": false,
        "run_control": {
          "read_only": false
        },
        "id": "XqlHko71oi2P",
        "colab_type": "text"
      },
      "source": [
        "### B. Get the venue's overall rating"
      ]
    },
    {
      "cell_type": "code",
      "metadata": {
        "button": false,
        "deletable": true,
        "jupyter": {
          "outputs_hidden": false
        },
        "new_sheet": false,
        "run_control": {
          "read_only": false
        },
        "id": "n1jYsTIWoi21",
        "colab_type": "code",
        "colab": {
          "base_uri": "https://localhost:8080/",
          "height": 34
        },
        "outputId": "153a2b7c-0dbb-4fcf-a965-3131db1c485d"
      },
      "source": [
        "try:\n",
        "    print(result['response']['venue']['rating'])\n",
        "except:\n",
        "    print('This venue has not been rated yet.')"
      ],
      "execution_count": 56,
      "outputs": [
        {
          "output_type": "stream",
          "text": [
            "5.8\n"
          ],
          "name": "stdout"
        }
      ]
    },
    {
      "cell_type": "markdown",
      "metadata": {
        "button": false,
        "deletable": true,
        "new_sheet": false,
        "run_control": {
          "read_only": false
        },
        "id": "4rB_aIV8oi55",
        "colab_type": "text"
      },
      "source": [
        "Since this restaurant has a slightly better rating, let's explore it further."
      ]
    },
    {
      "cell_type": "markdown",
      "metadata": {
        "button": false,
        "deletable": true,
        "new_sheet": false,
        "run_control": {
          "read_only": false
        },
        "id": "AHm9pCHqoi58",
        "colab_type": "text"
      },
      "source": [
        "### C. Get the number of tips"
      ]
    },
    {
      "cell_type": "markdown",
      "metadata": {
        "button": false,
        "deletable": true,
        "new_sheet": false,
        "run_control": {
          "read_only": false
        },
        "id": "a70fMzaToi6X",
        "colab_type": "text"
      },
      "source": [
        "### D. Get the venue's tips\n",
        "> `https://api.foursquare.com/v2/venues/`**VENUE_ID**`/tips?client_id=`**CLIENT_ID**`&client_secret=`**CLIENT_SECRET**`&v=`**VERSION**`&limit=`**LIMIT**"
      ]
    },
    {
      "cell_type": "markdown",
      "metadata": {
        "button": false,
        "deletable": true,
        "new_sheet": false,
        "run_control": {
          "read_only": false
        },
        "id": "rCWJ48zioi6a",
        "colab_type": "text"
      },
      "source": [
        "#### Create URL and send GET request. Make sure to set limit to get all tips"
      ]
    },
    {
      "cell_type": "code",
      "metadata": {
        "button": false,
        "deletable": true,
        "jupyter": {
          "outputs_hidden": false
        },
        "new_sheet": false,
        "run_control": {
          "read_only": false
        },
        "id": "ZbowD1Ouoi6d",
        "colab_type": "code",
        "colab": {
          "base_uri": "https://localhost:8080/",
          "height": 632
        },
        "outputId": "3ea0655a-7469-4d3d-8890-fc3cdae6af04"
      },
      "source": [
        "## Ecco Tips\n",
        "limit = 15 # set limit to be greater than or equal to the total number of tips\n",
        "venue_id = '4dc55eafd4c0ad9c0f8585e5' #used ny restaurant id for better results\n",
        "url = 'https://api.foursquare.com/v2/venues/{}/tips?client_id={}&client_secret={}&v={}&limit={}'.format(venue_id, CLIENT_ID, CLIENT_SECRET, VERSION, limit)\n",
        "\n",
        "results = requests.get(url).json()\n",
        "results"
      ],
      "execution_count": 57,
      "outputs": [
        {
          "output_type": "execute_result",
          "data": {
            "text/plain": [
              "{'meta': {'code': 200, 'requestId': '5e746df90f5968001b36c3b2'},\n",
              " 'response': {'tips': {'count': 12,\n",
              "   'items': [{'agreeCount': 0,\n",
              "     'canonicalUrl': 'https://foursquare.com/item/50d7d593e4b0e253420fa2e1',\n",
              "     'createdAt': 1356322195,\n",
              "     'disagreeCount': 0,\n",
              "     'id': '50d7d593e4b0e253420fa2e1',\n",
              "     'lang': 'en',\n",
              "     'likes': {'count': 0, 'groups': []},\n",
              "     'logView': True,\n",
              "     'text': 'Love the food esp lamb biryani. Also enjoyed nalli gosht, peshawari paneer tikka( creamy n melt in mouth) dal bukhara- awesome, haleem, peshawari chicken perfectly spiced. Baklawa superb! Must visit.',\n",
              "     'todo': {'count': 0},\n",
              "     'type': 'user',\n",
              "     'user': {'firstName': 'Navaz',\n",
              "      'id': '16307970',\n",
              "      'lastName': 'L',\n",
              "      'photo': {'prefix': 'https://fastly.4sqi.net/img/user/',\n",
              "       'suffix': '/SYG4GDPTG1TWUMXA.jpg'}}},\n",
              "    {'agreeCount': 0,\n",
              "     'canonicalUrl': 'https://foursquare.com/item/4e46ac0b814d84e76a9a5fb3',\n",
              "     'createdAt': 1313254411,\n",
              "     'disagreeCount': 0,\n",
              "     'id': '4e46ac0b814d84e76a9a5fb3',\n",
              "     'lang': 'en',\n",
              "     'likes': {'count': 0, 'groups': []},\n",
              "     'logView': True,\n",
              "     'text': 'Indian/Parsi. Decent Galawati Kabab and excellent Baida Roti for starters. Zardari Kofta and Murgh Makhani with the awesome Naan Baluchistan or Khameeri Roti. Many dishes unavailable. MFT Rs.1200',\n",
              "     'todo': {'count': 0},\n",
              "     'type': 'user',\n",
              "     'url': 'http://www.manuscrypts.com/2011/07/31/turquoise-the-indian/',\n",
              "     'user': {'firstName': 'manu',\n",
              "      'id': '320944',\n",
              "      'lastName': 'p',\n",
              "      'photo': {'prefix': 'https://fastly.4sqi.net/img/user/',\n",
              "       'suffix': '/Z2W02RKCB2XDDLOV.jpg'}}}]}}}"
            ]
          },
          "metadata": {
            "tags": []
          },
          "execution_count": 57
        }
      ]
    },
    {
      "cell_type": "markdown",
      "metadata": {
        "button": false,
        "deletable": true,
        "new_sheet": false,
        "run_control": {
          "read_only": false
        },
        "id": "Rj7C8-xhoi6r",
        "colab_type": "text"
      },
      "source": [
        "#### Get tips and list of associated features"
      ]
    },
    {
      "cell_type": "code",
      "metadata": {
        "button": false,
        "deletable": true,
        "jupyter": {
          "outputs_hidden": false
        },
        "new_sheet": false,
        "run_control": {
          "read_only": false
        },
        "id": "LhPlKfcwoi6u",
        "colab_type": "code",
        "colab": {
          "base_uri": "https://localhost:8080/",
          "height": 34
        },
        "outputId": "6cd38b6a-c7f7-4569-96d6-a7e4571b4680"
      },
      "source": [
        "tips = results['response']['tips']['items']\n",
        "\n",
        "tip = results['response']['tips']['items'][0]\n",
        "tip.keys()"
      ],
      "execution_count": 60,
      "outputs": [
        {
          "output_type": "execute_result",
          "data": {
            "text/plain": [
              "dict_keys(['id', 'createdAt', 'text', 'type', 'canonicalUrl', 'lang', 'likes', 'logView', 'agreeCount', 'disagreeCount', 'todo', 'user'])"
            ]
          },
          "metadata": {
            "tags": []
          },
          "execution_count": 60
        }
      ]
    },
    {
      "cell_type": "markdown",
      "metadata": {
        "button": false,
        "deletable": true,
        "new_sheet": false,
        "run_control": {
          "read_only": false
        },
        "id": "AlzPrWgioi7A",
        "colab_type": "text"
      },
      "source": [
        "#### Format column width and display all tips"
      ]
    },
    {
      "cell_type": "code",
      "metadata": {
        "button": false,
        "deletable": true,
        "jupyter": {
          "outputs_hidden": false
        },
        "new_sheet": false,
        "run_control": {
          "read_only": false
        },
        "id": "2K7h4tMooi7I",
        "colab_type": "code",
        "colab": {
          "base_uri": "https://localhost:8080/",
          "height": 332
        },
        "outputId": "5694103c-610f-4ede-cfb3-7d1d6a4e5537"
      },
      "source": [
        "pd.set_option('display.max_colwidth', -1)\n",
        "\n",
        "tips_df = json_normalize(tips) # json normalize tips\n",
        "\n",
        "# columns to keep\n",
        "filtered_columns = ['text', 'agreeCount', 'disagreeCount', 'id', 'user.firstName', 'user.lastName', 'user.gender', 'user.id']\n",
        "tips_filtered = tips_df.loc[:, filtered_columns]\n",
        "\n",
        "# display tips\n",
        "tips_filtered"
      ],
      "execution_count": 61,
      "outputs": [
        {
          "output_type": "stream",
          "text": [
            "/usr/local/lib/python3.6/dist-packages/pandas/core/indexing.py:1418: FutureWarning: \n",
            "Passing list-likes to .loc or [] with any missing label will raise\n",
            "KeyError in the future, you can use .reindex() as an alternative.\n",
            "\n",
            "See the documentation here:\n",
            "https://pandas.pydata.org/pandas-docs/stable/user_guide/indexing.html#deprecate-loc-reindex-listlike\n",
            "  return self._getitem_tuple(key)\n"
          ],
          "name": "stderr"
        },
        {
          "output_type": "execute_result",
          "data": {
            "text/html": [
              "<div>\n",
              "<style scoped>\n",
              "    .dataframe tbody tr th:only-of-type {\n",
              "        vertical-align: middle;\n",
              "    }\n",
              "\n",
              "    .dataframe tbody tr th {\n",
              "        vertical-align: top;\n",
              "    }\n",
              "\n",
              "    .dataframe thead th {\n",
              "        text-align: right;\n",
              "    }\n",
              "</style>\n",
              "<table border=\"1\" class=\"dataframe\">\n",
              "  <thead>\n",
              "    <tr style=\"text-align: right;\">\n",
              "      <th></th>\n",
              "      <th>text</th>\n",
              "      <th>agreeCount</th>\n",
              "      <th>disagreeCount</th>\n",
              "      <th>id</th>\n",
              "      <th>user.firstName</th>\n",
              "      <th>user.lastName</th>\n",
              "      <th>user.gender</th>\n",
              "      <th>user.id</th>\n",
              "    </tr>\n",
              "  </thead>\n",
              "  <tbody>\n",
              "    <tr>\n",
              "      <th>0</th>\n",
              "      <td>Love the food esp lamb biryani. Also enjoyed nalli gosht, peshawari paneer tikka( creamy n melt in mouth) dal bukhara- awesome, haleem, peshawari chicken perfectly spiced. Baklawa superb! Must visit.</td>\n",
              "      <td>0</td>\n",
              "      <td>0</td>\n",
              "      <td>50d7d593e4b0e253420fa2e1</td>\n",
              "      <td>Navaz</td>\n",
              "      <td>L</td>\n",
              "      <td>NaN</td>\n",
              "      <td>16307970</td>\n",
              "    </tr>\n",
              "    <tr>\n",
              "      <th>1</th>\n",
              "      <td>Indian/Parsi. Decent Galawati Kabab and excellent Baida Roti for starters. Zardari Kofta and Murgh Makhani with the awesome Naan Baluchistan or Khameeri Roti. Many dishes unavailable. MFT Rs.1200</td>\n",
              "      <td>0</td>\n",
              "      <td>0</td>\n",
              "      <td>4e46ac0b814d84e76a9a5fb3</td>\n",
              "      <td>manu</td>\n",
              "      <td>p</td>\n",
              "      <td>NaN</td>\n",
              "      <td>320944</td>\n",
              "    </tr>\n",
              "  </tbody>\n",
              "</table>\n",
              "</div>"
            ],
            "text/plain": [
              "                                                                                                                                                                                                      text  ...   user.id\n",
              "0  Love the food esp lamb biryani. Also enjoyed nalli gosht, peshawari paneer tikka( creamy n melt in mouth) dal bukhara- awesome, haleem, peshawari chicken perfectly spiced. Baklawa superb! Must visit.  ...  16307970\n",
              "1  Indian/Parsi. Decent Galawati Kabab and excellent Baida Roti for starters. Zardari Kofta and Murgh Makhani with the awesome Naan Baluchistan or Khameeri Roti. Many dishes unavailable. MFT Rs.1200      ...  320944  \n",
              "\n",
              "[2 rows x 8 columns]"
            ]
          },
          "metadata": {
            "tags": []
          },
          "execution_count": 61
        }
      ]
    },
    {
      "cell_type": "markdown",
      "metadata": {
        "button": false,
        "deletable": true,
        "new_sheet": false,
        "run_control": {
          "read_only": false
        },
        "id": "HeJ7jDyvoi7Y",
        "colab_type": "text"
      },
      "source": [
        "Now remember that because we are using a personal developer account, then we can access only 2 of the restaurant's tips, instead of all 15 tips."
      ]
    },
    {
      "cell_type": "markdown",
      "metadata": {
        "button": false,
        "deletable": true,
        "new_sheet": false,
        "run_control": {
          "read_only": false
        },
        "id": "DJsdtyzjoi7d",
        "colab_type": "text"
      },
      "source": [
        "   "
      ]
    },
    {
      "cell_type": "markdown",
      "metadata": {
        "button": false,
        "deletable": true,
        "new_sheet": false,
        "run_control": {
          "read_only": false
        },
        "id": "ksdAlCM6oi7h",
        "colab_type": "text"
      },
      "source": [
        "<a id=\"item3\"></a>"
      ]
    },
    {
      "cell_type": "markdown",
      "metadata": {
        "button": false,
        "deletable": true,
        "new_sheet": false,
        "run_control": {
          "read_only": false
        },
        "id": "uuFLgywhoi7n",
        "colab_type": "text"
      },
      "source": [
        "## 3. Search a Foursquare User\n",
        "> `https://api.foursquare.com/v2/users/`**USER_ID**`?client_id=`**CLIENT_ID**`&client_secret=`**CLIENT_SECRET**`&v=`**VERSION**"
      ]
    },
    {
      "cell_type": "markdown",
      "metadata": {
        "button": false,
        "deletable": true,
        "new_sheet": false,
        "run_control": {
          "read_only": false
        },
        "id": "pqiWonCRoi7q",
        "colab_type": "text"
      },
      "source": [
        "### Define URL, send GET request and display features associated with user"
      ]
    },
    {
      "cell_type": "code",
      "metadata": {
        "button": false,
        "deletable": true,
        "jupyter": {
          "outputs_hidden": false
        },
        "new_sheet": false,
        "run_control": {
          "read_only": false
        },
        "id": "cmMdb4XJoi7x",
        "colab_type": "code",
        "colab": {
          "base_uri": "https://localhost:8080/",
          "height": 231
        },
        "outputId": "fee1b4f3-4e88-4f8c-f8ac-6309a098a07b"
      },
      "source": [
        "user_id = '484542633' # user ID with most agree counts and complete profile\n",
        "\n",
        "url = 'https://api.foursquare.com/v2/users/{}?client_id={}&client_secret={}&v={}'.format(user_id, CLIENT_ID, CLIENT_SECRET, VERSION) # define URL\n",
        "\n",
        "# send GET request\n",
        "results = requests.get(url).json()\n",
        "user_data = results['response']['user']\n",
        "\n",
        "# display features associated with user\n",
        "user_data.keys()"
      ],
      "execution_count": 72,
      "outputs": [
        {
          "output_type": "error",
          "ename": "KeyError",
          "evalue": "ignored",
          "traceback": [
            "\u001b[0;31m---------------------------------------------------------------------------\u001b[0m",
            "\u001b[0;31mKeyError\u001b[0m                                  Traceback (most recent call last)",
            "\u001b[0;32m<ipython-input-72-91224d45fd37>\u001b[0m in \u001b[0;36m<module>\u001b[0;34m()\u001b[0m\n\u001b[1;32m      5\u001b[0m \u001b[0;31m# send GET request\u001b[0m\u001b[0;34m\u001b[0m\u001b[0;34m\u001b[0m\u001b[0;34m\u001b[0m\u001b[0m\n\u001b[1;32m      6\u001b[0m \u001b[0mresults\u001b[0m \u001b[0;34m=\u001b[0m \u001b[0mrequests\u001b[0m\u001b[0;34m.\u001b[0m\u001b[0mget\u001b[0m\u001b[0;34m(\u001b[0m\u001b[0murl\u001b[0m\u001b[0;34m)\u001b[0m\u001b[0;34m.\u001b[0m\u001b[0mjson\u001b[0m\u001b[0;34m(\u001b[0m\u001b[0;34m)\u001b[0m\u001b[0;34m\u001b[0m\u001b[0;34m\u001b[0m\u001b[0m\n\u001b[0;32m----> 7\u001b[0;31m \u001b[0muser_data\u001b[0m \u001b[0;34m=\u001b[0m \u001b[0mresults\u001b[0m\u001b[0;34m[\u001b[0m\u001b[0;34m'response'\u001b[0m\u001b[0;34m]\u001b[0m\u001b[0;34m[\u001b[0m\u001b[0;34m'user'\u001b[0m\u001b[0;34m]\u001b[0m\u001b[0;34m\u001b[0m\u001b[0;34m\u001b[0m\u001b[0m\n\u001b[0m\u001b[1;32m      8\u001b[0m \u001b[0;34m\u001b[0m\u001b[0m\n\u001b[1;32m      9\u001b[0m \u001b[0;31m# display features associated with user\u001b[0m\u001b[0;34m\u001b[0m\u001b[0;34m\u001b[0m\u001b[0;34m\u001b[0m\u001b[0m\n",
            "\u001b[0;31mKeyError\u001b[0m: 'user'"
          ]
        }
      ]
    },
    {
      "cell_type": "code",
      "metadata": {
        "button": false,
        "deletable": true,
        "jupyter": {
          "outputs_hidden": false
        },
        "new_sheet": false,
        "run_control": {
          "read_only": false
        },
        "id": "EId--AZYoi8Y",
        "colab_type": "code",
        "colab": {
          "base_uri": "https://localhost:8080/",
          "height": 197
        },
        "outputId": "cd77e6c9-1bcb-4bce-f816-b8367ba6166b"
      },
      "source": [
        "print('First Name: ' + user_data['firstName'])\n",
        "print('Last Name: ' + user_data['lastName'])\n",
        "print('Home City: ' + user_data['homeCity'])"
      ],
      "execution_count": 68,
      "outputs": [
        {
          "output_type": "error",
          "ename": "KeyError",
          "evalue": "ignored",
          "traceback": [
            "\u001b[0;31m---------------------------------------------------------------------------\u001b[0m",
            "\u001b[0;31mKeyError\u001b[0m                                  Traceback (most recent call last)",
            "\u001b[0;32m<ipython-input-68-6c3d173b902c>\u001b[0m in \u001b[0;36m<module>\u001b[0;34m()\u001b[0m\n\u001b[0;32m----> 1\u001b[0;31m \u001b[0mprint\u001b[0m\u001b[0;34m(\u001b[0m\u001b[0;34m'First Name: '\u001b[0m \u001b[0;34m+\u001b[0m \u001b[0muser_data\u001b[0m\u001b[0;34m[\u001b[0m\u001b[0;34m'firstName'\u001b[0m\u001b[0;34m]\u001b[0m\u001b[0;34m)\u001b[0m\u001b[0;34m\u001b[0m\u001b[0;34m\u001b[0m\u001b[0m\n\u001b[0m\u001b[1;32m      2\u001b[0m \u001b[0mprint\u001b[0m\u001b[0;34m(\u001b[0m\u001b[0;34m'Last Name: '\u001b[0m \u001b[0;34m+\u001b[0m \u001b[0muser_data\u001b[0m\u001b[0;34m[\u001b[0m\u001b[0;34m'lastName'\u001b[0m\u001b[0;34m]\u001b[0m\u001b[0;34m)\u001b[0m\u001b[0;34m\u001b[0m\u001b[0;34m\u001b[0m\u001b[0m\n\u001b[1;32m      3\u001b[0m \u001b[0mprint\u001b[0m\u001b[0;34m(\u001b[0m\u001b[0;34m'Home City: '\u001b[0m \u001b[0;34m+\u001b[0m \u001b[0muser_data\u001b[0m\u001b[0;34m[\u001b[0m\u001b[0;34m'homeCity'\u001b[0m\u001b[0;34m]\u001b[0m\u001b[0;34m)\u001b[0m\u001b[0;34m\u001b[0m\u001b[0;34m\u001b[0m\u001b[0m\n",
            "\u001b[0;31mKeyError\u001b[0m: 'firstName'"
          ]
        }
      ]
    },
    {
      "cell_type": "markdown",
      "metadata": {
        "button": false,
        "deletable": true,
        "new_sheet": false,
        "run_control": {
          "read_only": false
        },
        "id": "qEE3sHcaoi81",
        "colab_type": "text"
      },
      "source": [
        "#### How many tips has this user submitted?"
      ]
    },
    {
      "cell_type": "code",
      "metadata": {
        "button": false,
        "deletable": true,
        "jupyter": {
          "outputs_hidden": false
        },
        "new_sheet": false,
        "run_control": {
          "read_only": false
        },
        "id": "IqvYj2m9oi85",
        "colab_type": "code",
        "colab": {
          "base_uri": "https://localhost:8080/",
          "height": 163
        },
        "outputId": "f1f0ada4-3f86-431b-97aa-b08155ffd2d2"
      },
      "source": [
        "user_data['tips']"
      ],
      "execution_count": 73,
      "outputs": [
        {
          "output_type": "error",
          "ename": "KeyError",
          "evalue": "ignored",
          "traceback": [
            "\u001b[0;31m---------------------------------------------------------------------------\u001b[0m",
            "\u001b[0;31mKeyError\u001b[0m                                  Traceback (most recent call last)",
            "\u001b[0;32m<ipython-input-73-6335e7dc938e>\u001b[0m in \u001b[0;36m<module>\u001b[0;34m()\u001b[0m\n\u001b[0;32m----> 1\u001b[0;31m \u001b[0muser_data\u001b[0m\u001b[0;34m[\u001b[0m\u001b[0;34m'tips'\u001b[0m\u001b[0;34m]\u001b[0m\u001b[0;34m\u001b[0m\u001b[0;34m\u001b[0m\u001b[0m\n\u001b[0m",
            "\u001b[0;31mKeyError\u001b[0m: 'tips'"
          ]
        }
      ]
    },
    {
      "cell_type": "markdown",
      "metadata": {
        "button": false,
        "deletable": true,
        "new_sheet": false,
        "run_control": {
          "read_only": false
        },
        "id": "KbtJ3v9_oi9Q",
        "colab_type": "text"
      },
      "source": [
        "Wow! So it turns out that Nick is a very active Foursquare user, with more than 250 tips."
      ]
    },
    {
      "cell_type": "markdown",
      "metadata": {
        "button": false,
        "deletable": true,
        "new_sheet": false,
        "run_control": {
          "read_only": false
        },
        "id": "gaF6Ej5doi9d",
        "colab_type": "text"
      },
      "source": [
        "### Get User's tips"
      ]
    },
    {
      "cell_type": "code",
      "metadata": {
        "button": false,
        "deletable": true,
        "jupyter": {
          "outputs_hidden": false
        },
        "new_sheet": false,
        "run_control": {
          "read_only": false
        },
        "id": "W2hvve1moi9l",
        "colab_type": "code",
        "colab": {}
      },
      "source": [
        "# define tips URL\n",
        "url = 'https://api.foursquare.com/v2/users/{}/tips?client_id={}&client_secret={}&v={}&limit={}'.format(user_id, CLIENT_ID, CLIENT_SECRET, VERSION, limit)\n",
        "\n",
        "# send GET request and get user's tips\n",
        "results = requests.get(url).json()\n",
        "tips = results['response']['tips']['items']\n",
        "\n",
        "# format column width\n",
        "pd.set_option('display.max_colwidth', -1)\n",
        "\n",
        "tips_df = json_normalize(tips)\n",
        "\n",
        "# filter columns\n",
        "filtered_columns = ['text', 'agreeCount', 'disagreeCount', 'id']\n",
        "tips_filtered = tips_df.loc[:, filtered_columns]\n",
        "\n",
        "# display user's tips\n",
        "tips_filtered"
      ],
      "execution_count": 0,
      "outputs": []
    },
    {
      "cell_type": "markdown",
      "metadata": {
        "button": false,
        "deletable": true,
        "new_sheet": false,
        "run_control": {
          "read_only": false
        },
        "id": "BBtO6oXwoi9y",
        "colab_type": "text"
      },
      "source": [
        "#### Let's get the venue for the tip with the greatest number of agree counts"
      ]
    },
    {
      "cell_type": "code",
      "metadata": {
        "button": false,
        "deletable": true,
        "jupyter": {
          "outputs_hidden": false
        },
        "new_sheet": false,
        "run_control": {
          "read_only": false
        },
        "id": "Isy0p96ioi94",
        "colab_type": "code",
        "colab": {}
      },
      "source": [
        "tip_id = '5ab5575d73fe2516ad8f363b' # tip id\n",
        "\n",
        "# define URL\n",
        "url = 'http://api.foursquare.com/v2/tips/{}?client_id={}&client_secret={}&v={}'.format(tip_id, CLIENT_ID, CLIENT_SECRET, VERSION)\n",
        "\n",
        "# send GET Request and examine results\n",
        "result = requests.get(url).json()\n",
        "print(result['response']['tip']['venue']['name'])\n",
        "print(result['response']['tip']['venue']['location'])"
      ],
      "execution_count": 0,
      "outputs": []
    },
    {
      "cell_type": "markdown",
      "metadata": {
        "button": false,
        "deletable": true,
        "new_sheet": false,
        "run_control": {
          "read_only": false
        },
        "id": "vGpM-EROoi-O",
        "colab_type": "text"
      },
      "source": [
        "### Get User's friends"
      ]
    },
    {
      "cell_type": "code",
      "metadata": {
        "button": false,
        "deletable": true,
        "jupyter": {
          "outputs_hidden": false
        },
        "new_sheet": false,
        "run_control": {
          "read_only": false
        },
        "id": "mPkBgW_Loi-1",
        "colab_type": "code",
        "colab": {}
      },
      "source": [
        "user_friends = json_normalize(user_data['friends']['groups'][0]['items'])\n",
        "user_friends"
      ],
      "execution_count": 0,
      "outputs": []
    },
    {
      "cell_type": "markdown",
      "metadata": {
        "button": false,
        "deletable": true,
        "new_sheet": false,
        "run_control": {
          "read_only": false
        },
        "id": "KHp_VfjJoi_C",
        "colab_type": "text"
      },
      "source": [
        "Interesting. Despite being very active, it turns out that Nick does not have any friends on Foursquare. This might definitely change in the future."
      ]
    },
    {
      "cell_type": "markdown",
      "metadata": {
        "button": false,
        "deletable": true,
        "new_sheet": false,
        "run_control": {
          "read_only": false
        },
        "id": "rBMOBBC4oi_I",
        "colab_type": "text"
      },
      "source": [
        "### Retrieve the User's Profile Image"
      ]
    },
    {
      "cell_type": "code",
      "metadata": {
        "button": false,
        "deletable": true,
        "jupyter": {
          "outputs_hidden": false
        },
        "new_sheet": false,
        "run_control": {
          "read_only": false
        },
        "scrolled": true,
        "id": "j5Zuo0K4oi_N",
        "colab_type": "code",
        "colab": {}
      },
      "source": [
        "user_data"
      ],
      "execution_count": 0,
      "outputs": []
    },
    {
      "cell_type": "code",
      "metadata": {
        "button": false,
        "deletable": true,
        "jupyter": {
          "outputs_hidden": false
        },
        "new_sheet": false,
        "run_control": {
          "read_only": false
        },
        "id": "784B5Pneoi_j",
        "colab_type": "code",
        "colab": {}
      },
      "source": [
        "# 1. grab prefix of photo\n",
        "# 2. grab suffix of photo\n",
        "# 3. concatenate them using the image size  \n",
        "Image(url='https://igx.4sqi.net/img/user/300x300/484542633_mK2Yum7T_7Tn9fWpndidJsmw2Hof_6T5vJBKCHPLMK5OL-U5ZiJGj51iwBstcpDLYa3Zvhvis.jpg')"
      ],
      "execution_count": 0,
      "outputs": []
    },
    {
      "cell_type": "markdown",
      "metadata": {
        "button": false,
        "deletable": true,
        "new_sheet": false,
        "run_control": {
          "read_only": false
        },
        "id": "3hEZMLGPoi_v",
        "colab_type": "text"
      },
      "source": [
        "  "
      ]
    },
    {
      "cell_type": "markdown",
      "metadata": {
        "button": false,
        "deletable": true,
        "new_sheet": false,
        "run_control": {
          "read_only": false
        },
        "id": "cAnGvxxToi_z",
        "colab_type": "text"
      },
      "source": [
        "<a id=\"item4\"></a>"
      ]
    },
    {
      "cell_type": "markdown",
      "metadata": {
        "button": false,
        "deletable": true,
        "new_sheet": false,
        "run_control": {
          "read_only": false
        },
        "id": "ae7VKjYqoi_7",
        "colab_type": "text"
      },
      "source": [
        "## 4. Explore a location\n",
        "> `https://api.foursquare.com/v2/venues/`**explore**`?client_id=`**CLIENT_ID**`&client_secret=`**CLIENT_SECRET**`&ll=`**LATITUDE**`,`**LONGITUDE**`&v=`**VERSION**`&limit=`**LIMIT**"
      ]
    },
    {
      "cell_type": "markdown",
      "metadata": {
        "button": false,
        "deletable": true,
        "new_sheet": false,
        "run_control": {
          "read_only": false
        },
        "id": "bbiVw0-XojAQ",
        "colab_type": "text"
      },
      "source": [
        "#### So, if you are just curious about the popular spots around the restaurant. In order to explore the area, let's start by getting the latitude and longitude values of karavalli Restaurant bangalore."
      ]
    },
    {
      "cell_type": "code",
      "metadata": {
        "id": "yreb0KyP2ajx",
        "colab_type": "code",
        "colab": {}
      },
      "source": [
        ""
      ],
      "execution_count": 0,
      "outputs": []
    },
    {
      "cell_type": "code",
      "metadata": {
        "button": false,
        "deletable": true,
        "new_sheet": false,
        "run_control": {
          "read_only": false
        },
        "id": "eEdQsjEcojAX",
        "colab_type": "code",
        "colab": {}
      },
      "source": [
        "latitude = 12.9724\n",
        "longitude = 77.6086"
      ],
      "execution_count": 0,
      "outputs": []
    },
    {
      "cell_type": "markdown",
      "metadata": {
        "button": false,
        "deletable": true,
        "new_sheet": false,
        "run_control": {
          "read_only": false
        },
        "id": "Q6ELi9lkojAv",
        "colab_type": "text"
      },
      "source": [
        "#### Define URL"
      ]
    },
    {
      "cell_type": "code",
      "metadata": {
        "button": false,
        "deletable": true,
        "jupyter": {
          "outputs_hidden": false
        },
        "new_sheet": false,
        "run_control": {
          "read_only": false
        },
        "id": "jvNFZEZSojAz",
        "colab_type": "code",
        "colab": {
          "base_uri": "https://localhost:8080/",
          "height": 54
        },
        "outputId": "fa04059b-df56-4c0d-8024-c5a6ab27b645"
      },
      "source": [
        "url = 'https://api.foursquare.com/v2/venues/explore?client_id={}&client_secret={}&ll={},{}&v={}&radius={}&limit={}'.format(CLIENT_ID, CLIENT_SECRET, latitude, longitude, VERSION, radius, LIMIT)\n",
        "url"
      ],
      "execution_count": 76,
      "outputs": [
        {
          "output_type": "execute_result",
          "data": {
            "text/plain": [
              "'https://api.foursquare.com/v2/venues/explore?client_id=GJE0I1OSMRPDIGFYRJBT5V30MPRPJZB4PKPPDRW5KPKQQZAF&client_secret=1AQKBNKEOE1WRBIO2S5I2ZPZCZ3MNYQTJYXEIZ34PJVEUDNA&ll=12.9724,77.6086&v=20180604&radius=100000&limit=30'"
            ]
          },
          "metadata": {
            "tags": []
          },
          "execution_count": 76
        }
      ]
    },
    {
      "cell_type": "markdown",
      "metadata": {
        "button": false,
        "deletable": true,
        "new_sheet": false,
        "run_control": {
          "read_only": false
        },
        "id": "5lr4FiV6ojBJ",
        "colab_type": "text"
      },
      "source": [
        "#### Send GET request and examine results"
      ]
    },
    {
      "cell_type": "code",
      "metadata": {
        "button": false,
        "deletable": true,
        "new_sheet": false,
        "run_control": {
          "read_only": false
        },
        "id": "6l6JRgLhojBR",
        "colab_type": "code",
        "colab": {}
      },
      "source": [
        "import requests"
      ],
      "execution_count": 0,
      "outputs": []
    },
    {
      "cell_type": "code",
      "metadata": {
        "button": false,
        "deletable": true,
        "jupyter": {
          "outputs_hidden": false
        },
        "new_sheet": false,
        "run_control": {
          "read_only": false
        },
        "id": "PSbAfEvtojBj",
        "colab_type": "code",
        "colab": {
          "base_uri": "https://localhost:8080/",
          "height": 34
        },
        "outputId": "3b85ec53-d8bf-4e01-b576-37862a6e0bb5"
      },
      "source": [
        "results = requests.get(url).json()\n",
        "'There are {} around karavalli restaurant.'.format(len(results['response']['groups'][0]['items']))"
      ],
      "execution_count": 79,
      "outputs": [
        {
          "output_type": "execute_result",
          "data": {
            "text/plain": [
              "'There are 30 around karavalli restaurant.'"
            ]
          },
          "metadata": {
            "tags": []
          },
          "execution_count": 79
        }
      ]
    },
    {
      "cell_type": "markdown",
      "metadata": {
        "button": false,
        "deletable": true,
        "new_sheet": false,
        "run_control": {
          "read_only": false
        },
        "id": "mypgejS3ojB7",
        "colab_type": "text"
      },
      "source": [
        "#### Get relevant part of JSON"
      ]
    },
    {
      "cell_type": "code",
      "metadata": {
        "button": false,
        "deletable": true,
        "jupyter": {
          "outputs_hidden": false
        },
        "new_sheet": false,
        "run_control": {
          "read_only": false
        },
        "id": "8SGtOnFaojB-",
        "colab_type": "code",
        "colab": {
          "base_uri": "https://localhost:8080/",
          "height": 561
        },
        "outputId": "3a044b81-7c00-4b61-a6c0-d068aff021e5"
      },
      "source": [
        "items = results['response']['groups'][0]['items']\n",
        "items[0]"
      ],
      "execution_count": 80,
      "outputs": [
        {
          "output_type": "execute_result",
          "data": {
            "text/plain": [
              "{'reasons': {'count': 0,\n",
              "  'items': [{'reasonName': 'globalInteractionReason',\n",
              "    'summary': 'This spot is popular',\n",
              "    'type': 'general'}]},\n",
              " 'referralId': 'e-0-4b530849f964a520108d27e3-0',\n",
              " 'venue': {'categories': [{'icon': {'prefix': 'https://ss3.4sqi.net/img/categories_v2/travel/hotel_',\n",
              "     'suffix': '.png'},\n",
              "    'id': '4bf58dd8d48988d1fa931735',\n",
              "    'name': 'Hotel',\n",
              "    'pluralName': 'Hotels',\n",
              "    'primary': True,\n",
              "    'shortName': 'Hotel'}],\n",
              "  'id': '4b530849f964a520108d27e3',\n",
              "  'location': {'address': '37-39',\n",
              "   'cc': 'IN',\n",
              "   'city': 'Bangalore',\n",
              "   'country': 'India',\n",
              "   'crossStreet': 'Mahatma Gandhi Road',\n",
              "   'distance': 1057,\n",
              "   'formattedAddress': ['37-39 (Mahatma Gandhi Road)',\n",
              "    'Bangalore 560001',\n",
              "    'Karnātaka',\n",
              "    'India'],\n",
              "   'labeledLatLngs': [{'label': 'display',\n",
              "     'lat': 12.973457334267048,\n",
              "     'lng': 77.61828850236205}],\n",
              "   'lat': 12.973457334267048,\n",
              "   'lng': 77.61828850236205,\n",
              "   'postalCode': '560001',\n",
              "   'state': 'Karnātaka'},\n",
              "  'name': 'The Oberoi',\n",
              "  'photos': {'count': 0, 'groups': []}}}"
            ]
          },
          "metadata": {
            "tags": []
          },
          "execution_count": 80
        }
      ]
    },
    {
      "cell_type": "markdown",
      "metadata": {
        "button": false,
        "deletable": true,
        "new_sheet": false,
        "run_control": {
          "read_only": false
        },
        "id": "zqKNO9TxojCO",
        "colab_type": "text"
      },
      "source": [
        "#### Process JSON and convert it to a clean dataframe"
      ]
    },
    {
      "cell_type": "code",
      "metadata": {
        "button": false,
        "deletable": true,
        "jupyter": {
          "outputs_hidden": false
        },
        "new_sheet": false,
        "run_control": {
          "read_only": false
        },
        "id": "IJ-X5_e-ojCR",
        "colab_type": "code",
        "colab": {
          "base_uri": "https://localhost:8080/",
          "height": 940
        },
        "outputId": "56a652cd-efce-4499-f8b6-a325c3e52f18"
      },
      "source": [
        "dataframe = json_normalize(items) # flatten JSON\n",
        "\n",
        "# filter columns\n",
        "filtered_columns = ['venue.name', 'venue.categories'] + [col for col in dataframe.columns if col.startswith('venue.location.')] + ['venue.id']\n",
        "dataframe_filtered = dataframe.loc[:, filtered_columns]\n",
        "\n",
        "# filter the category for each row\n",
        "dataframe_filtered['venue.categories'] = dataframe_filtered.apply(get_category_type, axis=1)\n",
        "\n",
        "# clean columns\n",
        "dataframe_filtered.columns = [col.split('.')[-1] for col in dataframe_filtered.columns]\n",
        "\n",
        "dataframe_filtered.head(10)"
      ],
      "execution_count": 81,
      "outputs": [
        {
          "output_type": "execute_result",
          "data": {
            "text/html": [
              "<div>\n",
              "<style scoped>\n",
              "    .dataframe tbody tr th:only-of-type {\n",
              "        vertical-align: middle;\n",
              "    }\n",
              "\n",
              "    .dataframe tbody tr th {\n",
              "        vertical-align: top;\n",
              "    }\n",
              "\n",
              "    .dataframe thead th {\n",
              "        text-align: right;\n",
              "    }\n",
              "</style>\n",
              "<table border=\"1\" class=\"dataframe\">\n",
              "  <thead>\n",
              "    <tr style=\"text-align: right;\">\n",
              "      <th></th>\n",
              "      <th>name</th>\n",
              "      <th>categories</th>\n",
              "      <th>address</th>\n",
              "      <th>crossStreet</th>\n",
              "      <th>lat</th>\n",
              "      <th>lng</th>\n",
              "      <th>labeledLatLngs</th>\n",
              "      <th>distance</th>\n",
              "      <th>postalCode</th>\n",
              "      <th>cc</th>\n",
              "      <th>city</th>\n",
              "      <th>state</th>\n",
              "      <th>country</th>\n",
              "      <th>formattedAddress</th>\n",
              "      <th>neighborhood</th>\n",
              "      <th>id</th>\n",
              "    </tr>\n",
              "  </thead>\n",
              "  <tbody>\n",
              "    <tr>\n",
              "      <th>0</th>\n",
              "      <td>The Oberoi</td>\n",
              "      <td>Hotel</td>\n",
              "      <td>37-39</td>\n",
              "      <td>Mahatma Gandhi Road</td>\n",
              "      <td>12.973457</td>\n",
              "      <td>77.618289</td>\n",
              "      <td>[{'label': 'display', 'lat': 12.973457334267048, 'lng': 77.61828850236205}]</td>\n",
              "      <td>1057</td>\n",
              "      <td>560001</td>\n",
              "      <td>IN</td>\n",
              "      <td>Bangalore</td>\n",
              "      <td>Karnātaka</td>\n",
              "      <td>India</td>\n",
              "      <td>[37-39 (Mahatma Gandhi Road), Bangalore 560001, Karnātaka, India]</td>\n",
              "      <td>NaN</td>\n",
              "      <td>4b530849f964a520108d27e3</td>\n",
              "    </tr>\n",
              "    <tr>\n",
              "      <th>1</th>\n",
              "      <td>Harima</td>\n",
              "      <td>Sushi Restaurant</td>\n",
              "      <td>4th Floor, Devatha Plaza</td>\n",
              "      <td>Residency Road</td>\n",
              "      <td>12.967755</td>\n",
              "      <td>77.600073</td>\n",
              "      <td>[{'label': 'display', 'lat': 12.967754615278329, 'lng': 77.60007264264614}]</td>\n",
              "      <td>1059</td>\n",
              "      <td>NaN</td>\n",
              "      <td>IN</td>\n",
              "      <td>Bangalore</td>\n",
              "      <td>Karnātaka</td>\n",
              "      <td>India</td>\n",
              "      <td>[4th Floor, Devatha Plaza (Residency Road), Bangalore, Karnātaka, India]</td>\n",
              "      <td>NaN</td>\n",
              "      <td>4b97ad0bf964a5200c0f35e3</td>\n",
              "    </tr>\n",
              "    <tr>\n",
              "      <th>2</th>\n",
              "      <td>Arbor Brewing Company</td>\n",
              "      <td>Brewery</td>\n",
              "      <td>8, 3rd Flr., Allied Grande Plaza, Magrath Rd.</td>\n",
              "      <td>MG Rd.</td>\n",
              "      <td>12.970140</td>\n",
              "      <td>77.610857</td>\n",
              "      <td>[{'label': 'display', 'lat': 12.970139599197337, 'lng': 77.61085658133437}]</td>\n",
              "      <td>351</td>\n",
              "      <td>560025</td>\n",
              "      <td>IN</td>\n",
              "      <td>Bangalore</td>\n",
              "      <td>Karnātaka</td>\n",
              "      <td>India</td>\n",
              "      <td>[8, 3rd Flr., Allied Grande Plaza, Magrath Rd. (MG Rd.), Bangalore 560025, Karnātaka, India]</td>\n",
              "      <td>NaN</td>\n",
              "      <td>50b8cfebe4b0b45a1a4919ad</td>\n",
              "    </tr>\n",
              "    <tr>\n",
              "      <th>3</th>\n",
              "      <td>Cubbon Park</td>\n",
              "      <td>Park</td>\n",
              "      <td>M G Road</td>\n",
              "      <td>NaN</td>\n",
              "      <td>12.977042</td>\n",
              "      <td>77.595277</td>\n",
              "      <td>[{'label': 'display', 'lat': 12.977042175203783, 'lng': 77.59527683258057}]</td>\n",
              "      <td>1534</td>\n",
              "      <td>NaN</td>\n",
              "      <td>IN</td>\n",
              "      <td>Bangalore</td>\n",
              "      <td>Karnātaka</td>\n",
              "      <td>India</td>\n",
              "      <td>[M G Road, Bangalore, Karnātaka, India]</td>\n",
              "      <td>NaN</td>\n",
              "      <td>4bbc4513e45295217db855a4</td>\n",
              "    </tr>\n",
              "    <tr>\n",
              "      <th>4</th>\n",
              "      <td>JW Marriott Hotel Bengaluru</td>\n",
              "      <td>Hotel</td>\n",
              "      <td>24/1 Vittal Mallya Road</td>\n",
              "      <td>NaN</td>\n",
              "      <td>12.972362</td>\n",
              "      <td>77.595051</td>\n",
              "      <td>[{'label': 'display', 'lat': 12.972361772490226, 'lng': 77.59505132638924}]</td>\n",
              "      <td>1469</td>\n",
              "      <td>560001</td>\n",
              "      <td>IN</td>\n",
              "      <td>Bangalore</td>\n",
              "      <td>Karnātaka</td>\n",
              "      <td>India</td>\n",
              "      <td>[24/1 Vittal Mallya Road, Bangalore 560001, Karnātaka, India]</td>\n",
              "      <td>NaN</td>\n",
              "      <td>51d1245e498ef93fd0e713bb</td>\n",
              "    </tr>\n",
              "    <tr>\n",
              "      <th>5</th>\n",
              "      <td>Hard Rock Cafe Bengaluru</td>\n",
              "      <td>American Restaurant</td>\n",
              "      <td>40 St. Marks Road</td>\n",
              "      <td>St. Marks Rd</td>\n",
              "      <td>12.976389</td>\n",
              "      <td>77.601468</td>\n",
              "      <td>[{'label': 'display', 'lat': 12.9763894, 'lng': 77.6014683}]</td>\n",
              "      <td>892</td>\n",
              "      <td>560001</td>\n",
              "      <td>IN</td>\n",
              "      <td>Bangalore</td>\n",
              "      <td>Karnātaka</td>\n",
              "      <td>India</td>\n",
              "      <td>[40 St. Marks Road (St. Marks Rd), Bangalore 560001, Karnātaka, India]</td>\n",
              "      <td>NaN</td>\n",
              "      <td>4b5aaef9f964a520b8d028e3</td>\n",
              "    </tr>\n",
              "    <tr>\n",
              "      <th>6</th>\n",
              "      <td>UB City</td>\n",
              "      <td>Shopping Mall</td>\n",
              "      <td>at Vittal Mallya Rd</td>\n",
              "      <td>NaN</td>\n",
              "      <td>12.971709</td>\n",
              "      <td>77.595905</td>\n",
              "      <td>[{'label': 'display', 'lat': 12.971708980695311, 'lng': 77.59590528412356}]</td>\n",
              "      <td>1379</td>\n",
              "      <td>560001</td>\n",
              "      <td>IN</td>\n",
              "      <td>Bangalore</td>\n",
              "      <td>Karnātaka</td>\n",
              "      <td>India</td>\n",
              "      <td>[at Vittal Mallya Rd, Bangalore 560001, Karnātaka, India]</td>\n",
              "      <td>NaN</td>\n",
              "      <td>4bcd805cfb84c9b61512223e</td>\n",
              "    </tr>\n",
              "    <tr>\n",
              "      <th>7</th>\n",
              "      <td>Truffles - Ice &amp; Spice</td>\n",
              "      <td>Burger Joint</td>\n",
              "      <td>#22</td>\n",
              "      <td>St. Marks Rd</td>\n",
              "      <td>12.971802</td>\n",
              "      <td>77.601031</td>\n",
              "      <td>[{'label': 'display', 'lat': 12.971801622357315, 'lng': 77.60103059863826}]</td>\n",
              "      <td>823</td>\n",
              "      <td>560001</td>\n",
              "      <td>IN</td>\n",
              "      <td>Bangalore</td>\n",
              "      <td>Karnātaka</td>\n",
              "      <td>India</td>\n",
              "      <td>[#22 (St. Marks Rd), Bangalore 560001, Karnātaka, India]</td>\n",
              "      <td>NaN</td>\n",
              "      <td>4bd446b341b9ef3b27a801e6</td>\n",
              "    </tr>\n",
              "    <tr>\n",
              "      <th>8</th>\n",
              "      <td>Toscano</td>\n",
              "      <td>Italian Restaurant</td>\n",
              "      <td>UB City Level 2 Concorde Block</td>\n",
              "      <td>24 Vittal Mallya Road</td>\n",
              "      <td>12.971980</td>\n",
              "      <td>77.596066</td>\n",
              "      <td>[{'label': 'display', 'lat': 12.97198038085137, 'lng': 77.59606565238312}]</td>\n",
              "      <td>1360</td>\n",
              "      <td>NaN</td>\n",
              "      <td>IN</td>\n",
              "      <td>Bangalore</td>\n",
              "      <td>Karnātaka</td>\n",
              "      <td>India</td>\n",
              "      <td>[UB City Level 2 Concorde Block (24 Vittal Mallya Road), Bangalore, Karnātaka, India]</td>\n",
              "      <td>NaN</td>\n",
              "      <td>4bc1cd90b492d13a4e74a660</td>\n",
              "    </tr>\n",
              "    <tr>\n",
              "      <th>9</th>\n",
              "      <td>Taj West End</td>\n",
              "      <td>Hotel</td>\n",
              "      <td>Racecourse Rd.</td>\n",
              "      <td>NaN</td>\n",
              "      <td>12.984572</td>\n",
              "      <td>77.584893</td>\n",
              "      <td>[{'label': 'display', 'lat': 12.984572066608893, 'lng': 77.58489294114838}]</td>\n",
              "      <td>2906</td>\n",
              "      <td>NaN</td>\n",
              "      <td>IN</td>\n",
              "      <td>Bangalore</td>\n",
              "      <td>Karnātaka</td>\n",
              "      <td>India</td>\n",
              "      <td>[Racecourse Rd., Bangalore, Karnātaka, India]</td>\n",
              "      <td>NaN</td>\n",
              "      <td>4b69572ff964a520509f2be3</td>\n",
              "    </tr>\n",
              "  </tbody>\n",
              "</table>\n",
              "</div>"
            ],
            "text/plain": [
              "                          name  ...                        id\n",
              "0  The Oberoi                   ...  4b530849f964a520108d27e3\n",
              "1  Harima                       ...  4b97ad0bf964a5200c0f35e3\n",
              "2  Arbor Brewing Company        ...  50b8cfebe4b0b45a1a4919ad\n",
              "3  Cubbon Park                  ...  4bbc4513e45295217db855a4\n",
              "4  JW Marriott Hotel Bengaluru  ...  51d1245e498ef93fd0e713bb\n",
              "5  Hard Rock Cafe Bengaluru     ...  4b5aaef9f964a520b8d028e3\n",
              "6  UB City                      ...  4bcd805cfb84c9b61512223e\n",
              "7  Truffles - Ice & Spice       ...  4bd446b341b9ef3b27a801e6\n",
              "8  Toscano                      ...  4bc1cd90b492d13a4e74a660\n",
              "9  Taj West End                 ...  4b69572ff964a520509f2be3\n",
              "\n",
              "[10 rows x 16 columns]"
            ]
          },
          "metadata": {
            "tags": []
          },
          "execution_count": 81
        }
      ]
    },
    {
      "cell_type": "markdown",
      "metadata": {
        "button": false,
        "deletable": true,
        "new_sheet": false,
        "run_control": {
          "read_only": false
        },
        "id": "-E3adQdZojC-",
        "colab_type": "text"
      },
      "source": [
        "#### Let's visualize these items on the map around our location"
      ]
    },
    {
      "cell_type": "code",
      "metadata": {
        "button": false,
        "deletable": true,
        "jupyter": {
          "outputs_hidden": false
        },
        "new_sheet": false,
        "run_control": {
          "read_only": false
        },
        "id": "ik0gg-_rojDF",
        "colab_type": "code",
        "colab": {
          "base_uri": "https://localhost:8080/",
          "height": 763
        },
        "outputId": "8e8248de-1b4e-48da-d0ec-5aa9f2d73838"
      },
      "source": [
        "venues_map = folium.Map(location=[latitude, longitude], zoom_start=15) # generate map centred around Ecco\n",
        "\n",
        "\n",
        "# add Ecco as a red circle mark\n",
        "folium.CircleMarker(\n",
        "    [latitude, longitude],\n",
        "    radius=10,\n",
        "    popup='karavalli',\n",
        "    fill=True,\n",
        "    color='red',\n",
        "    fill_color='red',\n",
        "    fill_opacity=0.6\n",
        "    ).add_to(venues_map)\n",
        "\n",
        "\n",
        "# add popular spots to the map as blue circle markers\n",
        "for lat, lng, label in zip(dataframe_filtered.lat, dataframe_filtered.lng, dataframe_filtered.categories):\n",
        "    folium.CircleMarker(\n",
        "        [lat, lng],\n",
        "        radius=5,\n",
        "        popup=label,\n",
        "        fill=True,\n",
        "        color='blue',\n",
        "        fill_color='blue',\n",
        "        fill_opacity=0.6\n",
        "        ).add_to(venues_map)\n",
        "\n",
        "# display map\n",
        "venues_map"
      ],
      "execution_count": 83,
      "outputs": [
        {
          "output_type": "execute_result",
          "data": {
            "text/html": [
              "<div style=\"width:100%;\"><div style=\"position:relative;width:100%;height:0;padding-bottom:60%;\"><iframe src=\"about:blank\" style=\"position:absolute;width:100%;height:100%;left:0;top:0;border:none !important;\" data-html=PCFET0NUWVBFIGh0bWw+CjxoZWFkPiAgICAKICAgIDxtZXRhIGh0dHAtZXF1aXY9ImNvbnRlbnQtdHlwZSIgY29udGVudD0idGV4dC9odG1sOyBjaGFyc2V0PVVURi04IiAvPgogICAgPHNjcmlwdD5MX1BSRUZFUl9DQU5WQVM9ZmFsc2U7IExfTk9fVE9VQ0g9ZmFsc2U7IExfRElTQUJMRV8zRD1mYWxzZTs8L3NjcmlwdD4KICAgIDxzY3JpcHQgc3JjPSJodHRwczovL2Nkbi5qc2RlbGl2ci5uZXQvbnBtL2xlYWZsZXRAMS40LjAvZGlzdC9sZWFmbGV0LmpzIj48L3NjcmlwdD4KICAgIDxzY3JpcHQgc3JjPSJodHRwczovL2NvZGUuanF1ZXJ5LmNvbS9qcXVlcnktMS4xMi40Lm1pbi5qcyI+PC9zY3JpcHQ+CiAgICA8c2NyaXB0IHNyYz0iaHR0cHM6Ly9tYXhjZG4uYm9vdHN0cmFwY2RuLmNvbS9ib290c3RyYXAvMy4yLjAvanMvYm9vdHN0cmFwLm1pbi5qcyI+PC9zY3JpcHQ+CiAgICA8c2NyaXB0IHNyYz0iaHR0cHM6Ly9jZG5qcy5jbG91ZGZsYXJlLmNvbS9hamF4L2xpYnMvTGVhZmxldC5hd2Vzb21lLW1hcmtlcnMvMi4wLjIvbGVhZmxldC5hd2Vzb21lLW1hcmtlcnMuanMiPjwvc2NyaXB0PgogICAgPGxpbmsgcmVsPSJzdHlsZXNoZWV0IiBocmVmPSJodHRwczovL2Nkbi5qc2RlbGl2ci5uZXQvbnBtL2xlYWZsZXRAMS40LjAvZGlzdC9sZWFmbGV0LmNzcyIvPgogICAgPGxpbmsgcmVsPSJzdHlsZXNoZWV0IiBocmVmPSJodHRwczovL21heGNkbi5ib290c3RyYXBjZG4uY29tL2Jvb3RzdHJhcC8zLjIuMC9jc3MvYm9vdHN0cmFwLm1pbi5jc3MiLz4KICAgIDxsaW5rIHJlbD0ic3R5bGVzaGVldCIgaHJlZj0iaHR0cHM6Ly9tYXhjZG4uYm9vdHN0cmFwY2RuLmNvbS9ib290c3RyYXAvMy4yLjAvY3NzL2Jvb3RzdHJhcC10aGVtZS5taW4uY3NzIi8+CiAgICA8bGluayByZWw9InN0eWxlc2hlZXQiIGhyZWY9Imh0dHBzOi8vbWF4Y2RuLmJvb3RzdHJhcGNkbi5jb20vZm9udC1hd2Vzb21lLzQuNi4zL2Nzcy9mb250LWF3ZXNvbWUubWluLmNzcyIvPgogICAgPGxpbmsgcmVsPSJzdHlsZXNoZWV0IiBocmVmPSJodHRwczovL2NkbmpzLmNsb3VkZmxhcmUuY29tL2FqYXgvbGlicy9MZWFmbGV0LmF3ZXNvbWUtbWFya2Vycy8yLjAuMi9sZWFmbGV0LmF3ZXNvbWUtbWFya2Vycy5jc3MiLz4KICAgIDxsaW5rIHJlbD0ic3R5bGVzaGVldCIgaHJlZj0iaHR0cHM6Ly9yYXdjZG4uZ2l0aGFjay5jb20vcHl0aG9uLXZpc3VhbGl6YXRpb24vZm9saXVtL21hc3Rlci9mb2xpdW0vdGVtcGxhdGVzL2xlYWZsZXQuYXdlc29tZS5yb3RhdGUuY3NzIi8+CiAgICA8c3R5bGU+aHRtbCwgYm9keSB7d2lkdGg6IDEwMCU7aGVpZ2h0OiAxMDAlO21hcmdpbjogMDtwYWRkaW5nOiAwO308L3N0eWxlPgogICAgPHN0eWxlPiNtYXAge3Bvc2l0aW9uOmFic29sdXRlO3RvcDowO2JvdHRvbTowO3JpZ2h0OjA7bGVmdDowO308L3N0eWxlPgogICAgCiAgICA8bWV0YSBuYW1lPSJ2aWV3cG9ydCIgY29udGVudD0id2lkdGg9ZGV2aWNlLXdpZHRoLAogICAgICAgIGluaXRpYWwtc2NhbGU9MS4wLCBtYXhpbXVtLXNjYWxlPTEuMCwgdXNlci1zY2FsYWJsZT1ubyIgLz4KICAgIDxzdHlsZT4jbWFwXzYyZmVkMTdkNmFkNjQ4YzM4MjY5ODI5YTU3MjJmZmVkIHsKICAgICAgICBwb3NpdGlvbjogcmVsYXRpdmU7CiAgICAgICAgd2lkdGg6IDEwMC4wJTsKICAgICAgICBoZWlnaHQ6IDEwMC4wJTsKICAgICAgICBsZWZ0OiAwLjAlOwogICAgICAgIHRvcDogMC4wJTsKICAgICAgICB9CiAgICA8L3N0eWxlPgo8L2hlYWQ+Cjxib2R5PiAgICAKICAgIAogICAgPGRpdiBjbGFzcz0iZm9saXVtLW1hcCIgaWQ9Im1hcF82MmZlZDE3ZDZhZDY0OGMzODI2OTgyOWE1NzIyZmZlZCIgPjwvZGl2Pgo8L2JvZHk+CjxzY3JpcHQ+ICAgIAogICAgCiAgICAKICAgICAgICB2YXIgYm91bmRzID0gbnVsbDsKICAgIAoKICAgIHZhciBtYXBfNjJmZWQxN2Q2YWQ2NDhjMzgyNjk4MjlhNTcyMmZmZWQgPSBMLm1hcCgKICAgICAgICAnbWFwXzYyZmVkMTdkNmFkNjQ4YzM4MjY5ODI5YTU3MjJmZmVkJywgewogICAgICAgIGNlbnRlcjogWzEyLjk3MjQsIDc3LjYwODZdLAogICAgICAgIHpvb206IDE1LAogICAgICAgIG1heEJvdW5kczogYm91bmRzLAogICAgICAgIGxheWVyczogW10sCiAgICAgICAgd29ybGRDb3B5SnVtcDogZmFsc2UsCiAgICAgICAgY3JzOiBMLkNSUy5FUFNHMzg1NywKICAgICAgICB6b29tQ29udHJvbDogdHJ1ZSwKICAgICAgICB9KTsKCgogICAgCiAgICB2YXIgdGlsZV9sYXllcl9hOWRmM2FlMjM4Zjk0MjUyYWFkYTQ1OGQzYTczZjY3OCA9IEwudGlsZUxheWVyKAogICAgICAgICdodHRwczovL3tzfS50aWxlLm9wZW5zdHJlZXRtYXAub3JnL3t6fS97eH0ve3l9LnBuZycsCiAgICAgICAgewogICAgICAgICJhdHRyaWJ1dGlvbiI6IG51bGwsCiAgICAgICAgImRldGVjdFJldGluYSI6IGZhbHNlLAogICAgICAgICJtYXhOYXRpdmVab29tIjogMTgsCiAgICAgICAgIm1heFpvb20iOiAxOCwKICAgICAgICAibWluWm9vbSI6IDAsCiAgICAgICAgIm5vV3JhcCI6IGZhbHNlLAogICAgICAgICJvcGFjaXR5IjogMSwKICAgICAgICAic3ViZG9tYWlucyI6ICJhYmMiLAogICAgICAgICJ0bXMiOiBmYWxzZQp9KS5hZGRUbyhtYXBfNjJmZWQxN2Q2YWQ2NDhjMzgyNjk4MjlhNTcyMmZmZWQpOwogICAgCiAgICAgICAgICAgIHZhciBjaXJjbGVfbWFya2VyXzI2OWE0MmVmZGFhNzRmODg4OTQyY2IyOGEyMTA4M2FjID0gTC5jaXJjbGVNYXJrZXIoCiAgICAgICAgICAgICAgICBbMTIuOTcyNCwgNzcuNjA4Nl0sCiAgICAgICAgICAgICAgICB7CiAgImJ1YmJsaW5nTW91c2VFdmVudHMiOiB0cnVlLAogICJjb2xvciI6ICJyZWQiLAogICJkYXNoQXJyYXkiOiBudWxsLAogICJkYXNoT2Zmc2V0IjogbnVsbCwKICAiZmlsbCI6IHRydWUsCiAgImZpbGxDb2xvciI6ICJyZWQiLAogICJmaWxsT3BhY2l0eSI6IDAuNiwKICAiZmlsbFJ1bGUiOiAiZXZlbm9kZCIsCiAgImxpbmVDYXAiOiAicm91bmQiLAogICJsaW5lSm9pbiI6ICJyb3VuZCIsCiAgIm9wYWNpdHkiOiAxLjAsCiAgInJhZGl1cyI6IDEwLAogICJzdHJva2UiOiB0cnVlLAogICJ3ZWlnaHQiOiAzCn0KICAgICAgICAgICAgICAgICkKICAgICAgICAgICAgICAgIC5hZGRUbyhtYXBfNjJmZWQxN2Q2YWQ2NDhjMzgyNjk4MjlhNTcyMmZmZWQpOwogICAgICAgICAgICAKICAgIAogICAgICAgICAgICB2YXIgcG9wdXBfMzg2MDQ5NTg3OGYyNGVhY2E0NWU0N2Y0NmQ4ZDU1NWYgPSBMLnBvcHVwKHttYXhXaWR0aDogJzEwMCUnCiAgICAgICAgICAgIAogICAgICAgICAgICB9KTsKCiAgICAgICAgICAgIAogICAgICAgICAgICAgICAgdmFyIGh0bWxfMjVjYTRlNDY1OGYyNGNhZDk1ODNhYjg5OTMzYzJmMDMgPSAkKGA8ZGl2IGlkPSJodG1sXzI1Y2E0ZTQ2NThmMjRjYWQ5NTgzYWI4OTkzM2MyZjAzIiBzdHlsZT0id2lkdGg6IDEwMC4wJTsgaGVpZ2h0OiAxMDAuMCU7Ij5rYXJhdmFsbGk8L2Rpdj5gKVswXTsKICAgICAgICAgICAgICAgIHBvcHVwXzM4NjA0OTU4NzhmMjRlYWNhNDVlNDdmNDZkOGQ1NTVmLnNldENvbnRlbnQoaHRtbF8yNWNhNGU0NjU4ZjI0Y2FkOTU4M2FiODk5MzNjMmYwMyk7CiAgICAgICAgICAgIAoKICAgICAgICAgICAgY2lyY2xlX21hcmtlcl8yNjlhNDJlZmRhYTc0Zjg4ODk0MmNiMjhhMjEwODNhYy5iaW5kUG9wdXAocG9wdXBfMzg2MDQ5NTg3OGYyNGVhY2E0NWU0N2Y0NmQ4ZDU1NWYpCiAgICAgICAgICAgIDsKCiAgICAgICAgICAgIAogICAgICAgIAogICAgCiAgICAgICAgICAgIHZhciBjaXJjbGVfbWFya2VyXzZlYjAyNjY3MmU4ZDQ2Nzk5ZjE4YWVhY2I2ODY0NmU4ID0gTC5jaXJjbGVNYXJrZXIoCiAgICAgICAgICAgICAgICBbMTIuOTczNDU3MzM0MjY3MDQ4LCA3Ny42MTgyODg1MDIzNjIwNV0sCiAgICAgICAgICAgICAgICB7CiAgImJ1YmJsaW5nTW91c2VFdmVudHMiOiB0cnVlLAogICJjb2xvciI6ICJibHVlIiwKICAiZGFzaEFycmF5IjogbnVsbCwKICAiZGFzaE9mZnNldCI6IG51bGwsCiAgImZpbGwiOiB0cnVlLAogICJmaWxsQ29sb3IiOiAiYmx1ZSIsCiAgImZpbGxPcGFjaXR5IjogMC42LAogICJmaWxsUnVsZSI6ICJldmVub2RkIiwKICAibGluZUNhcCI6ICJyb3VuZCIsCiAgImxpbmVKb2luIjogInJvdW5kIiwKICAib3BhY2l0eSI6IDEuMCwKICAicmFkaXVzIjogNSwKICAic3Ryb2tlIjogdHJ1ZSwKICAid2VpZ2h0IjogMwp9CiAgICAgICAgICAgICAgICApCiAgICAgICAgICAgICAgICAuYWRkVG8obWFwXzYyZmVkMTdkNmFkNjQ4YzM4MjY5ODI5YTU3MjJmZmVkKTsKICAgICAgICAgICAgCiAgICAKICAgICAgICAgICAgdmFyIHBvcHVwX2U5MzMwNzE2ODRmNjQwNzdiOGZjYmNkMWI3YWNjNGFiID0gTC5wb3B1cCh7bWF4V2lkdGg6ICcxMDAlJwogICAgICAgICAgICAKICAgICAgICAgICAgfSk7CgogICAgICAgICAgICAKICAgICAgICAgICAgICAgIHZhciBodG1sX2Q1ODY5YzRjYzY0ZTQzNmQ5NWI5NTYzN2Y1MGRmMTM0ID0gJChgPGRpdiBpZD0iaHRtbF9kNTg2OWM0Y2M2NGU0MzZkOTViOTU2MzdmNTBkZjEzNCIgc3R5bGU9IndpZHRoOiAxMDAuMCU7IGhlaWdodDogMTAwLjAlOyI+SG90ZWw8L2Rpdj5gKVswXTsKICAgICAgICAgICAgICAgIHBvcHVwX2U5MzMwNzE2ODRmNjQwNzdiOGZjYmNkMWI3YWNjNGFiLnNldENvbnRlbnQoaHRtbF9kNTg2OWM0Y2M2NGU0MzZkOTViOTU2MzdmNTBkZjEzNCk7CiAgICAgICAgICAgIAoKICAgICAgICAgICAgY2lyY2xlX21hcmtlcl82ZWIwMjY2NzJlOGQ0Njc5OWYxOGFlYWNiNjg2NDZlOC5iaW5kUG9wdXAocG9wdXBfZTkzMzA3MTY4NGY2NDA3N2I4ZmNiY2QxYjdhY2M0YWIpCiAgICAgICAgICAgIDsKCiAgICAgICAgICAgIAogICAgICAgIAogICAgCiAgICAgICAgICAgIHZhciBjaXJjbGVfbWFya2VyXzMzMDQ4NjA5OTViYTRkMjg5YzFiN2FkYzVlMTY4ODQ0ID0gTC5jaXJjbGVNYXJrZXIoCiAgICAgICAgICAgICAgICBbMTIuOTY3NzU0NjE1Mjc4MzI5LCA3Ny42MDAwNzI2NDI2NDYxNF0sCiAgICAgICAgICAgICAgICB7CiAgImJ1YmJsaW5nTW91c2VFdmVudHMiOiB0cnVlLAogICJjb2xvciI6ICJibHVlIiwKICAiZGFzaEFycmF5IjogbnVsbCwKICAiZGFzaE9mZnNldCI6IG51bGwsCiAgImZpbGwiOiB0cnVlLAogICJmaWxsQ29sb3IiOiAiYmx1ZSIsCiAgImZpbGxPcGFjaXR5IjogMC42LAogICJmaWxsUnVsZSI6ICJldmVub2RkIiwKICAibGluZUNhcCI6ICJyb3VuZCIsCiAgImxpbmVKb2luIjogInJvdW5kIiwKICAib3BhY2l0eSI6IDEuMCwKICAicmFkaXVzIjogNSwKICAic3Ryb2tlIjogdHJ1ZSwKICAid2VpZ2h0IjogMwp9CiAgICAgICAgICAgICAgICApCiAgICAgICAgICAgICAgICAuYWRkVG8obWFwXzYyZmVkMTdkNmFkNjQ4YzM4MjY5ODI5YTU3MjJmZmVkKTsKICAgICAgICAgICAgCiAgICAKICAgICAgICAgICAgdmFyIHBvcHVwX2U4ZTY5MzE1NDZkMzQ3MjBiZDI1Y2RiNjg4YWRkMWVlID0gTC5wb3B1cCh7bWF4V2lkdGg6ICcxMDAlJwogICAgICAgICAgICAKICAgICAgICAgICAgfSk7CgogICAgICAgICAgICAKICAgICAgICAgICAgICAgIHZhciBodG1sX2Y1MzY0OGIxNmRkNzQ1ZGQ4Y2MzMGZmYjAyNTNjYTFiID0gJChgPGRpdiBpZD0iaHRtbF9mNTM2NDhiMTZkZDc0NWRkOGNjMzBmZmIwMjUzY2ExYiIgc3R5bGU9IndpZHRoOiAxMDAuMCU7IGhlaWdodDogMTAwLjAlOyI+U3VzaGkgUmVzdGF1cmFudDwvZGl2PmApWzBdOwogICAgICAgICAgICAgICAgcG9wdXBfZThlNjkzMTU0NmQzNDcyMGJkMjVjZGI2ODhhZGQxZWUuc2V0Q29udGVudChodG1sX2Y1MzY0OGIxNmRkNzQ1ZGQ4Y2MzMGZmYjAyNTNjYTFiKTsKICAgICAgICAgICAgCgogICAgICAgICAgICBjaXJjbGVfbWFya2VyXzMzMDQ4NjA5OTViYTRkMjg5YzFiN2FkYzVlMTY4ODQ0LmJpbmRQb3B1cChwb3B1cF9lOGU2OTMxNTQ2ZDM0NzIwYmQyNWNkYjY4OGFkZDFlZSkKICAgICAgICAgICAgOwoKICAgICAgICAgICAgCiAgICAgICAgCiAgICAKICAgICAgICAgICAgdmFyIGNpcmNsZV9tYXJrZXJfZWNmZDM1ZGIzODc1NDJmMThkYmMwOWFhM2RjZDJmZTAgPSBMLmNpcmNsZU1hcmtlcigKICAgICAgICAgICAgICAgIFsxMi45NzAxMzk1OTkxOTczMzcsIDc3LjYxMDg1NjU4MTMzNDM3XSwKICAgICAgICAgICAgICAgIHsKICAiYnViYmxpbmdNb3VzZUV2ZW50cyI6IHRydWUsCiAgImNvbG9yIjogImJsdWUiLAogICJkYXNoQXJyYXkiOiBudWxsLAogICJkYXNoT2Zmc2V0IjogbnVsbCwKICAiZmlsbCI6IHRydWUsCiAgImZpbGxDb2xvciI6ICJibHVlIiwKICAiZmlsbE9wYWNpdHkiOiAwLjYsCiAgImZpbGxSdWxlIjogImV2ZW5vZGQiLAogICJsaW5lQ2FwIjogInJvdW5kIiwKICAibGluZUpvaW4iOiAicm91bmQiLAogICJvcGFjaXR5IjogMS4wLAogICJyYWRpdXMiOiA1LAogICJzdHJva2UiOiB0cnVlLAogICJ3ZWlnaHQiOiAzCn0KICAgICAgICAgICAgICAgICkKICAgICAgICAgICAgICAgIC5hZGRUbyhtYXBfNjJmZWQxN2Q2YWQ2NDhjMzgyNjk4MjlhNTcyMmZmZWQpOwogICAgICAgICAgICAKICAgIAogICAgICAgICAgICB2YXIgcG9wdXBfZDRjN2RhMjRmNTIyNDQ2Yjk0ZjE4MzVlNzFlMGJmMjcgPSBMLnBvcHVwKHttYXhXaWR0aDogJzEwMCUnCiAgICAgICAgICAgIAogICAgICAgICAgICB9KTsKCiAgICAgICAgICAgIAogICAgICAgICAgICAgICAgdmFyIGh0bWxfZjAzYjBhN2I2OGRiNDI5MThlYjJlZTg0MWYyMWM2NjMgPSAkKGA8ZGl2IGlkPSJodG1sX2YwM2IwYTdiNjhkYjQyOTE4ZWIyZWU4NDFmMjFjNjYzIiBzdHlsZT0id2lkdGg6IDEwMC4wJTsgaGVpZ2h0OiAxMDAuMCU7Ij5CcmV3ZXJ5PC9kaXY+YClbMF07CiAgICAgICAgICAgICAgICBwb3B1cF9kNGM3ZGEyNGY1MjI0NDZiOTRmMTgzNWU3MWUwYmYyNy5zZXRDb250ZW50KGh0bWxfZjAzYjBhN2I2OGRiNDI5MThlYjJlZTg0MWYyMWM2NjMpOwogICAgICAgICAgICAKCiAgICAgICAgICAgIGNpcmNsZV9tYXJrZXJfZWNmZDM1ZGIzODc1NDJmMThkYmMwOWFhM2RjZDJmZTAuYmluZFBvcHVwKHBvcHVwX2Q0YzdkYTI0ZjUyMjQ0NmI5NGYxODM1ZTcxZTBiZjI3KQogICAgICAgICAgICA7CgogICAgICAgICAgICAKICAgICAgICAKICAgIAogICAgICAgICAgICB2YXIgY2lyY2xlX21hcmtlcl9hZTRjY2FhYzIyNzg0YWNhOTE3NTE0MTA2NDM1NDA2NiA9IEwuY2lyY2xlTWFya2VyKAogICAgICAgICAgICAgICAgWzEyLjk3NzA0MjE3NTIwMzc4MywgNzcuNTk1Mjc2ODMyNTgwNTddLAogICAgICAgICAgICAgICAgewogICJidWJibGluZ01vdXNlRXZlbnRzIjogdHJ1ZSwKICAiY29sb3IiOiAiYmx1ZSIsCiAgImRhc2hBcnJheSI6IG51bGwsCiAgImRhc2hPZmZzZXQiOiBudWxsLAogICJmaWxsIjogdHJ1ZSwKICAiZmlsbENvbG9yIjogImJsdWUiLAogICJmaWxsT3BhY2l0eSI6IDAuNiwKICAiZmlsbFJ1bGUiOiAiZXZlbm9kZCIsCiAgImxpbmVDYXAiOiAicm91bmQiLAogICJsaW5lSm9pbiI6ICJyb3VuZCIsCiAgIm9wYWNpdHkiOiAxLjAsCiAgInJhZGl1cyI6IDUsCiAgInN0cm9rZSI6IHRydWUsCiAgIndlaWdodCI6IDMKfQogICAgICAgICAgICAgICAgKQogICAgICAgICAgICAgICAgLmFkZFRvKG1hcF82MmZlZDE3ZDZhZDY0OGMzODI2OTgyOWE1NzIyZmZlZCk7CiAgICAgICAgICAgIAogICAgCiAgICAgICAgICAgIHZhciBwb3B1cF9lNzFmM2EzNDQyMTg0NmI5ODI3N2ZmNTUyMjIxYWRjYiA9IEwucG9wdXAoe21heFdpZHRoOiAnMTAwJScKICAgICAgICAgICAgCiAgICAgICAgICAgIH0pOwoKICAgICAgICAgICAgCiAgICAgICAgICAgICAgICB2YXIgaHRtbF9kYjg0YmFmZmViOGY0MzJjYjEyNmU5Y2Y3NmNmM2M4OSA9ICQoYDxkaXYgaWQ9Imh0bWxfZGI4NGJhZmZlYjhmNDMyY2IxMjZlOWNmNzZjZjNjODkiIHN0eWxlPSJ3aWR0aDogMTAwLjAlOyBoZWlnaHQ6IDEwMC4wJTsiPlBhcms8L2Rpdj5gKVswXTsKICAgICAgICAgICAgICAgIHBvcHVwX2U3MWYzYTM0NDIxODQ2Yjk4Mjc3ZmY1NTIyMjFhZGNiLnNldENvbnRlbnQoaHRtbF9kYjg0YmFmZmViOGY0MzJjYjEyNmU5Y2Y3NmNmM2M4OSk7CiAgICAgICAgICAgIAoKICAgICAgICAgICAgY2lyY2xlX21hcmtlcl9hZTRjY2FhYzIyNzg0YWNhOTE3NTE0MTA2NDM1NDA2Ni5iaW5kUG9wdXAocG9wdXBfZTcxZjNhMzQ0MjE4NDZiOTgyNzdmZjU1MjIyMWFkY2IpCiAgICAgICAgICAgIDsKCiAgICAgICAgICAgIAogICAgICAgIAogICAgCiAgICAgICAgICAgIHZhciBjaXJjbGVfbWFya2VyXzBkNzAxMTM4NDIyYzQ2OTE5MjcyM2JhZDc5MTM2MWQ0ID0gTC5jaXJjbGVNYXJrZXIoCiAgICAgICAgICAgICAgICBbMTIuOTcyMzYxNzcyNDkwMjI2LCA3Ny41OTUwNTEzMjYzODkyNF0sCiAgICAgICAgICAgICAgICB7CiAgImJ1YmJsaW5nTW91c2VFdmVudHMiOiB0cnVlLAogICJjb2xvciI6ICJibHVlIiwKICAiZGFzaEFycmF5IjogbnVsbCwKICAiZGFzaE9mZnNldCI6IG51bGwsCiAgImZpbGwiOiB0cnVlLAogICJmaWxsQ29sb3IiOiAiYmx1ZSIsCiAgImZpbGxPcGFjaXR5IjogMC42LAogICJmaWxsUnVsZSI6ICJldmVub2RkIiwKICAibGluZUNhcCI6ICJyb3VuZCIsCiAgImxpbmVKb2luIjogInJvdW5kIiwKICAib3BhY2l0eSI6IDEuMCwKICAicmFkaXVzIjogNSwKICAic3Ryb2tlIjogdHJ1ZSwKICAid2VpZ2h0IjogMwp9CiAgICAgICAgICAgICAgICApCiAgICAgICAgICAgICAgICAuYWRkVG8obWFwXzYyZmVkMTdkNmFkNjQ4YzM4MjY5ODI5YTU3MjJmZmVkKTsKICAgICAgICAgICAgCiAgICAKICAgICAgICAgICAgdmFyIHBvcHVwXzA0OTk2OTA3ZDJmZDRlNzhhMzNkMWQxN2I3NjUwYzE5ID0gTC5wb3B1cCh7bWF4V2lkdGg6ICcxMDAlJwogICAgICAgICAgICAKICAgICAgICAgICAgfSk7CgogICAgICAgICAgICAKICAgICAgICAgICAgICAgIHZhciBodG1sX2I2NmU3MzgyMjRiMjRjMTNhMGVmYWI0OTA4MmQ0NWEzID0gJChgPGRpdiBpZD0iaHRtbF9iNjZlNzM4MjI0YjI0YzEzYTBlZmFiNDkwODJkNDVhMyIgc3R5bGU9IndpZHRoOiAxMDAuMCU7IGhlaWdodDogMTAwLjAlOyI+SG90ZWw8L2Rpdj5gKVswXTsKICAgICAgICAgICAgICAgIHBvcHVwXzA0OTk2OTA3ZDJmZDRlNzhhMzNkMWQxN2I3NjUwYzE5LnNldENvbnRlbnQoaHRtbF9iNjZlNzM4MjI0YjI0YzEzYTBlZmFiNDkwODJkNDVhMyk7CiAgICAgICAgICAgIAoKICAgICAgICAgICAgY2lyY2xlX21hcmtlcl8wZDcwMTEzODQyMmM0NjkxOTI3MjNiYWQ3OTEzNjFkNC5iaW5kUG9wdXAocG9wdXBfMDQ5OTY5MDdkMmZkNGU3OGEzM2QxZDE3Yjc2NTBjMTkpCiAgICAgICAgICAgIDsKCiAgICAgICAgICAgIAogICAgICAgIAogICAgCiAgICAgICAgICAgIHZhciBjaXJjbGVfbWFya2VyXzIxZDA4ODBiMDA1NzQ3MWFiMWI0ZDdmZDI4Y2RmODlkID0gTC5jaXJjbGVNYXJrZXIoCiAgICAgICAgICAgICAgICBbMTIuOTc2Mzg5NCwgNzcuNjAxNDY4M10sCiAgICAgICAgICAgICAgICB7CiAgImJ1YmJsaW5nTW91c2VFdmVudHMiOiB0cnVlLAogICJjb2xvciI6ICJibHVlIiwKICAiZGFzaEFycmF5IjogbnVsbCwKICAiZGFzaE9mZnNldCI6IG51bGwsCiAgImZpbGwiOiB0cnVlLAogICJmaWxsQ29sb3IiOiAiYmx1ZSIsCiAgImZpbGxPcGFjaXR5IjogMC42LAogICJmaWxsUnVsZSI6ICJldmVub2RkIiwKICAibGluZUNhcCI6ICJyb3VuZCIsCiAgImxpbmVKb2luIjogInJvdW5kIiwKICAib3BhY2l0eSI6IDEuMCwKICAicmFkaXVzIjogNSwKICAic3Ryb2tlIjogdHJ1ZSwKICAid2VpZ2h0IjogMwp9CiAgICAgICAgICAgICAgICApCiAgICAgICAgICAgICAgICAuYWRkVG8obWFwXzYyZmVkMTdkNmFkNjQ4YzM4MjY5ODI5YTU3MjJmZmVkKTsKICAgICAgICAgICAgCiAgICAKICAgICAgICAgICAgdmFyIHBvcHVwXzM5NmY2MTQ3ZWZjZDRiZGE4MzRkN2UwYmQxZWZjNmU2ID0gTC5wb3B1cCh7bWF4V2lkdGg6ICcxMDAlJwogICAgICAgICAgICAKICAgICAgICAgICAgfSk7CgogICAgICAgICAgICAKICAgICAgICAgICAgICAgIHZhciBodG1sXzVhNzJlNTk2NDRkYzRiMTFiZjg3OGEyMjEyYjAyYjRkID0gJChgPGRpdiBpZD0iaHRtbF81YTcyZTU5NjQ0ZGM0YjExYmY4NzhhMjIxMmIwMmI0ZCIgc3R5bGU9IndpZHRoOiAxMDAuMCU7IGhlaWdodDogMTAwLjAlOyI+QW1lcmljYW4gUmVzdGF1cmFudDwvZGl2PmApWzBdOwogICAgICAgICAgICAgICAgcG9wdXBfMzk2ZjYxNDdlZmNkNGJkYTgzNGQ3ZTBiZDFlZmM2ZTYuc2V0Q29udGVudChodG1sXzVhNzJlNTk2NDRkYzRiMTFiZjg3OGEyMjEyYjAyYjRkKTsKICAgICAgICAgICAgCgogICAgICAgICAgICBjaXJjbGVfbWFya2VyXzIxZDA4ODBiMDA1NzQ3MWFiMWI0ZDdmZDI4Y2RmODlkLmJpbmRQb3B1cChwb3B1cF8zOTZmNjE0N2VmY2Q0YmRhODM0ZDdlMGJkMWVmYzZlNikKICAgICAgICAgICAgOwoKICAgICAgICAgICAgCiAgICAgICAgCiAgICAKICAgICAgICAgICAgdmFyIGNpcmNsZV9tYXJrZXJfNWUwOTk4OWRiNmNlNDA3YmI1MzA2M2JmNmQxNWZhMDQgPSBMLmNpcmNsZU1hcmtlcigKICAgICAgICAgICAgICAgIFsxMi45NzE3MDg5ODA2OTUzMTEsIDc3LjU5NTkwNTI4NDEyMzU2XSwKICAgICAgICAgICAgICAgIHsKICAiYnViYmxpbmdNb3VzZUV2ZW50cyI6IHRydWUsCiAgImNvbG9yIjogImJsdWUiLAogICJkYXNoQXJyYXkiOiBudWxsLAogICJkYXNoT2Zmc2V0IjogbnVsbCwKICAiZmlsbCI6IHRydWUsCiAgImZpbGxDb2xvciI6ICJibHVlIiwKICAiZmlsbE9wYWNpdHkiOiAwLjYsCiAgImZpbGxSdWxlIjogImV2ZW5vZGQiLAogICJsaW5lQ2FwIjogInJvdW5kIiwKICAibGluZUpvaW4iOiAicm91bmQiLAogICJvcGFjaXR5IjogMS4wLAogICJyYWRpdXMiOiA1LAogICJzdHJva2UiOiB0cnVlLAogICJ3ZWlnaHQiOiAzCn0KICAgICAgICAgICAgICAgICkKICAgICAgICAgICAgICAgIC5hZGRUbyhtYXBfNjJmZWQxN2Q2YWQ2NDhjMzgyNjk4MjlhNTcyMmZmZWQpOwogICAgICAgICAgICAKICAgIAogICAgICAgICAgICB2YXIgcG9wdXBfMzQ2NzQ1ZTU2M2ZmNDgzZWI0ZmU2MzNlNTdhOTU1OTcgPSBMLnBvcHVwKHttYXhXaWR0aDogJzEwMCUnCiAgICAgICAgICAgIAogICAgICAgICAgICB9KTsKCiAgICAgICAgICAgIAogICAgICAgICAgICAgICAgdmFyIGh0bWxfMjgyMzYzZTg2OTljNDNhNzhmZGMxNDM5ZTQ5ZDY0ZTYgPSAkKGA8ZGl2IGlkPSJodG1sXzI4MjM2M2U4Njk5YzQzYTc4ZmRjMTQzOWU0OWQ2NGU2IiBzdHlsZT0id2lkdGg6IDEwMC4wJTsgaGVpZ2h0OiAxMDAuMCU7Ij5TaG9wcGluZyBNYWxsPC9kaXY+YClbMF07CiAgICAgICAgICAgICAgICBwb3B1cF8zNDY3NDVlNTYzZmY0ODNlYjRmZTYzM2U1N2E5NTU5Ny5zZXRDb250ZW50KGh0bWxfMjgyMzYzZTg2OTljNDNhNzhmZGMxNDM5ZTQ5ZDY0ZTYpOwogICAgICAgICAgICAKCiAgICAgICAgICAgIGNpcmNsZV9tYXJrZXJfNWUwOTk4OWRiNmNlNDA3YmI1MzA2M2JmNmQxNWZhMDQuYmluZFBvcHVwKHBvcHVwXzM0Njc0NWU1NjNmZjQ4M2ViNGZlNjMzZTU3YTk1NTk3KQogICAgICAgICAgICA7CgogICAgICAgICAgICAKICAgICAgICAKICAgIAogICAgICAgICAgICB2YXIgY2lyY2xlX21hcmtlcl9iZDM2MjM4YzU2OGI0NjVlYmRjZWEyOGZkZmQzNzc0ZSA9IEwuY2lyY2xlTWFya2VyKAogICAgICAgICAgICAgICAgWzEyLjk3MTgwMTYyMjM1NzMxNSwgNzcuNjAxMDMwNTk4NjM4MjZdLAogICAgICAgICAgICAgICAgewogICJidWJibGluZ01vdXNlRXZlbnRzIjogdHJ1ZSwKICAiY29sb3IiOiAiYmx1ZSIsCiAgImRhc2hBcnJheSI6IG51bGwsCiAgImRhc2hPZmZzZXQiOiBudWxsLAogICJmaWxsIjogdHJ1ZSwKICAiZmlsbENvbG9yIjogImJsdWUiLAogICJmaWxsT3BhY2l0eSI6IDAuNiwKICAiZmlsbFJ1bGUiOiAiZXZlbm9kZCIsCiAgImxpbmVDYXAiOiAicm91bmQiLAogICJsaW5lSm9pbiI6ICJyb3VuZCIsCiAgIm9wYWNpdHkiOiAxLjAsCiAgInJhZGl1cyI6IDUsCiAgInN0cm9rZSI6IHRydWUsCiAgIndlaWdodCI6IDMKfQogICAgICAgICAgICAgICAgKQogICAgICAgICAgICAgICAgLmFkZFRvKG1hcF82MmZlZDE3ZDZhZDY0OGMzODI2OTgyOWE1NzIyZmZlZCk7CiAgICAgICAgICAgIAogICAgCiAgICAgICAgICAgIHZhciBwb3B1cF82MTBlMDcxMjEwYWQ0MGY1OGYzZmVmMjIyMDYxMTUzYyA9IEwucG9wdXAoe21heFdpZHRoOiAnMTAwJScKICAgICAgICAgICAgCiAgICAgICAgICAgIH0pOwoKICAgICAgICAgICAgCiAgICAgICAgICAgICAgICB2YXIgaHRtbF83ZjE4OGRkNmUyMWI0ZGU3OGVhNGExYWJkOTBlZGU5NCA9ICQoYDxkaXYgaWQ9Imh0bWxfN2YxODhkZDZlMjFiNGRlNzhlYTRhMWFiZDkwZWRlOTQiIHN0eWxlPSJ3aWR0aDogMTAwLjAlOyBoZWlnaHQ6IDEwMC4wJTsiPkJ1cmdlciBKb2ludDwvZGl2PmApWzBdOwogICAgICAgICAgICAgICAgcG9wdXBfNjEwZTA3MTIxMGFkNDBmNThmM2ZlZjIyMjA2MTE1M2Muc2V0Q29udGVudChodG1sXzdmMTg4ZGQ2ZTIxYjRkZTc4ZWE0YTFhYmQ5MGVkZTk0KTsKICAgICAgICAgICAgCgogICAgICAgICAgICBjaXJjbGVfbWFya2VyX2JkMzYyMzhjNTY4YjQ2NWViZGNlYTI4ZmRmZDM3NzRlLmJpbmRQb3B1cChwb3B1cF82MTBlMDcxMjEwYWQ0MGY1OGYzZmVmMjIyMDYxMTUzYykKICAgICAgICAgICAgOwoKICAgICAgICAgICAgCiAgICAgICAgCiAgICAKICAgICAgICAgICAgdmFyIGNpcmNsZV9tYXJrZXJfOTIyZmJhYWYyMjg3NDgwYTg3ZTc0ZmFhNTQ2ZjhkODggPSBMLmNpcmNsZU1hcmtlcigKICAgICAgICAgICAgICAgIFsxMi45NzE5ODAzODA4NTEzNywgNzcuNTk2MDY1NjUyMzgzMTJdLAogICAgICAgICAgICAgICAgewogICJidWJibGluZ01vdXNlRXZlbnRzIjogdHJ1ZSwKICAiY29sb3IiOiAiYmx1ZSIsCiAgImRhc2hBcnJheSI6IG51bGwsCiAgImRhc2hPZmZzZXQiOiBudWxsLAogICJmaWxsIjogdHJ1ZSwKICAiZmlsbENvbG9yIjogImJsdWUiLAogICJmaWxsT3BhY2l0eSI6IDAuNiwKICAiZmlsbFJ1bGUiOiAiZXZlbm9kZCIsCiAgImxpbmVDYXAiOiAicm91bmQiLAogICJsaW5lSm9pbiI6ICJyb3VuZCIsCiAgIm9wYWNpdHkiOiAxLjAsCiAgInJhZGl1cyI6IDUsCiAgInN0cm9rZSI6IHRydWUsCiAgIndlaWdodCI6IDMKfQogICAgICAgICAgICAgICAgKQogICAgICAgICAgICAgICAgLmFkZFRvKG1hcF82MmZlZDE3ZDZhZDY0OGMzODI2OTgyOWE1NzIyZmZlZCk7CiAgICAgICAgICAgIAogICAgCiAgICAgICAgICAgIHZhciBwb3B1cF85YjVjZmFmYjRlODA0MDIyODI0MWUzZjQwYjczZWJkMSA9IEwucG9wdXAoe21heFdpZHRoOiAnMTAwJScKICAgICAgICAgICAgCiAgICAgICAgICAgIH0pOwoKICAgICAgICAgICAgCiAgICAgICAgICAgICAgICB2YXIgaHRtbF84YjAwNWY2ODE4NTY0ODQ3YjhhYzRkMWE0ZTk0Y2VkMiA9ICQoYDxkaXYgaWQ9Imh0bWxfOGIwMDVmNjgxODU2NDg0N2I4YWM0ZDFhNGU5NGNlZDIiIHN0eWxlPSJ3aWR0aDogMTAwLjAlOyBoZWlnaHQ6IDEwMC4wJTsiPkl0YWxpYW4gUmVzdGF1cmFudDwvZGl2PmApWzBdOwogICAgICAgICAgICAgICAgcG9wdXBfOWI1Y2ZhZmI0ZTgwNDAyMjgyNDFlM2Y0MGI3M2ViZDEuc2V0Q29udGVudChodG1sXzhiMDA1ZjY4MTg1NjQ4NDdiOGFjNGQxYTRlOTRjZWQyKTsKICAgICAgICAgICAgCgogICAgICAgICAgICBjaXJjbGVfbWFya2VyXzkyMmZiYWFmMjI4NzQ4MGE4N2U3NGZhYTU0NmY4ZDg4LmJpbmRQb3B1cChwb3B1cF85YjVjZmFmYjRlODA0MDIyODI0MWUzZjQwYjczZWJkMSkKICAgICAgICAgICAgOwoKICAgICAgICAgICAgCiAgICAgICAgCiAgICAKICAgICAgICAgICAgdmFyIGNpcmNsZV9tYXJrZXJfNzM4MDE1NDUyZTVlNDcwNWI5ZmQzYmU0YjNhM2E4OTggPSBMLmNpcmNsZU1hcmtlcigKICAgICAgICAgICAgICAgIFsxMi45ODQ1NzIwNjY2MDg4OTMsIDc3LjU4NDg5Mjk0MTE0ODM4XSwKICAgICAgICAgICAgICAgIHsKICAiYnViYmxpbmdNb3VzZUV2ZW50cyI6IHRydWUsCiAgImNvbG9yIjogImJsdWUiLAogICJkYXNoQXJyYXkiOiBudWxsLAogICJkYXNoT2Zmc2V0IjogbnVsbCwKICAiZmlsbCI6IHRydWUsCiAgImZpbGxDb2xvciI6ICJibHVlIiwKICAiZmlsbE9wYWNpdHkiOiAwLjYsCiAgImZpbGxSdWxlIjogImV2ZW5vZGQiLAogICJsaW5lQ2FwIjogInJvdW5kIiwKICAibGluZUpvaW4iOiAicm91bmQiLAogICJvcGFjaXR5IjogMS4wLAogICJyYWRpdXMiOiA1LAogICJzdHJva2UiOiB0cnVlLAogICJ3ZWlnaHQiOiAzCn0KICAgICAgICAgICAgICAgICkKICAgICAgICAgICAgICAgIC5hZGRUbyhtYXBfNjJmZWQxN2Q2YWQ2NDhjMzgyNjk4MjlhNTcyMmZmZWQpOwogICAgICAgICAgICAKICAgIAogICAgICAgICAgICB2YXIgcG9wdXBfYjQ4NjQyZmM5ZjY4NGU0YWJjNzU2ZmQxODQ0MGY5MDggPSBMLnBvcHVwKHttYXhXaWR0aDogJzEwMCUnCiAgICAgICAgICAgIAogICAgICAgICAgICB9KTsKCiAgICAgICAgICAgIAogICAgICAgICAgICAgICAgdmFyIGh0bWxfOWVlNDRhZDY2ZWU5NDM0ZDhhNmVhODgyMGUzYWM1OWMgPSAkKGA8ZGl2IGlkPSJodG1sXzllZTQ0YWQ2NmVlOTQzNGQ4YTZlYTg4MjBlM2FjNTljIiBzdHlsZT0id2lkdGg6IDEwMC4wJTsgaGVpZ2h0OiAxMDAuMCU7Ij5Ib3RlbDwvZGl2PmApWzBdOwogICAgICAgICAgICAgICAgcG9wdXBfYjQ4NjQyZmM5ZjY4NGU0YWJjNzU2ZmQxODQ0MGY5MDguc2V0Q29udGVudChodG1sXzllZTQ0YWQ2NmVlOTQzNGQ4YTZlYTg4MjBlM2FjNTljKTsKICAgICAgICAgICAgCgogICAgICAgICAgICBjaXJjbGVfbWFya2VyXzczODAxNTQ1MmU1ZTQ3MDViOWZkM2JlNGIzYTNhODk4LmJpbmRQb3B1cChwb3B1cF9iNDg2NDJmYzlmNjg0ZTRhYmM3NTZmZDE4NDQwZjkwOCkKICAgICAgICAgICAgOwoKICAgICAgICAgICAgCiAgICAgICAgCiAgICAKICAgICAgICAgICAgdmFyIGNpcmNsZV9tYXJrZXJfMDcwYmRiNTJkOTkwNDBjMjg5MjBiZDllMjk0NTJhMDUgPSBMLmNpcmNsZU1hcmtlcigKICAgICAgICAgICAgICAgIFsxMi45NzI5NzkwMjEzODM0NjgsIDc3LjU5OTk3MTI0MjU4OTg1XSwKICAgICAgICAgICAgICAgIHsKICAiYnViYmxpbmdNb3VzZUV2ZW50cyI6IHRydWUsCiAgImNvbG9yIjogImJsdWUiLAogICJkYXNoQXJyYXkiOiBudWxsLAogICJkYXNoT2Zmc2V0IjogbnVsbCwKICAiZmlsbCI6IHRydWUsCiAgImZpbGxDb2xvciI6ICJibHVlIiwKICAiZmlsbE9wYWNpdHkiOiAwLjYsCiAgImZpbGxSdWxlIjogImV2ZW5vZGQiLAogICJsaW5lQ2FwIjogInJvdW5kIiwKICAibGluZUpvaW4iOiAicm91bmQiLAogICJvcGFjaXR5IjogMS4wLAogICJyYWRpdXMiOiA1LAogICJzdHJva2UiOiB0cnVlLAogICJ3ZWlnaHQiOiAzCn0KICAgICAgICAgICAgICAgICkKICAgICAgICAgICAgICAgIC5hZGRUbyhtYXBfNjJmZWQxN2Q2YWQ2NDhjMzgyNjk4MjlhNTcyMmZmZWQpOwogICAgICAgICAgICAKICAgIAogICAgICAgICAgICB2YXIgcG9wdXBfZDVjN2U4ODY4YTZkNGM2NzlmZGFlMjg3MjIyNmRhM2YgPSBMLnBvcHVwKHttYXhXaWR0aDogJzEwMCUnCiAgICAgICAgICAgIAogICAgICAgICAgICB9KTsKCiAgICAgICAgICAgIAogICAgICAgICAgICAgICAgdmFyIGh0bWxfMmViMWM2ZWQ1MTFhNDkxYjhjODZlZTU2MDBiYmU4NzkgPSAkKGA8ZGl2IGlkPSJodG1sXzJlYjFjNmVkNTExYTQ5MWI4Yzg2ZWU1NjAwYmJlODc5IiBzdHlsZT0id2lkdGg6IDEwMC4wJTsgaGVpZ2h0OiAxMDAuMCU7Ij5JY2UgQ3JlYW0gU2hvcDwvZGl2PmApWzBdOwogICAgICAgICAgICAgICAgcG9wdXBfZDVjN2U4ODY4YTZkNGM2NzlmZGFlMjg3MjIyNmRhM2Yuc2V0Q29udGVudChodG1sXzJlYjFjNmVkNTExYTQ5MWI4Yzg2ZWU1NjAwYmJlODc5KTsKICAgICAgICAgICAgCgogICAgICAgICAgICBjaXJjbGVfbWFya2VyXzA3MGJkYjUyZDk5MDQwYzI4OTIwYmQ5ZTI5NDUyYTA1LmJpbmRQb3B1cChwb3B1cF9kNWM3ZTg4NjhhNmQ0YzY3OWZkYWUyODcyMjI2ZGEzZikKICAgICAgICAgICAgOwoKICAgICAgICAgICAgCiAgICAgICAgCiAgICAKICAgICAgICAgICAgdmFyIGNpcmNsZV9tYXJrZXJfNDEwZDZkNzU2N2I5NGE1YjkyMmU4NDU3NjE0NTY3N2MgPSBMLmNpcmNsZU1hcmtlcigKICAgICAgICAgICAgICAgIFsxMi45Njc0Nzg4NDcxMjIxMjUsIDc3LjYwMTc1NTE1NzA3NzgzXSwKICAgICAgICAgICAgICAgIHsKICAiYnViYmxpbmdNb3VzZUV2ZW50cyI6IHRydWUsCiAgImNvbG9yIjogImJsdWUiLAogICJkYXNoQXJyYXkiOiBudWxsLAogICJkYXNoT2Zmc2V0IjogbnVsbCwKICAiZmlsbCI6IHRydWUsCiAgImZpbGxDb2xvciI6ICJibHVlIiwKICAiZmlsbE9wYWNpdHkiOiAwLjYsCiAgImZpbGxSdWxlIjogImV2ZW5vZGQiLAogICJsaW5lQ2FwIjogInJvdW5kIiwKICAibGluZUpvaW4iOiAicm91bmQiLAogICJvcGFjaXR5IjogMS4wLAogICJyYWRpdXMiOiA1LAogICJzdHJva2UiOiB0cnVlLAogICJ3ZWlnaHQiOiAzCn0KICAgICAgICAgICAgICAgICkKICAgICAgICAgICAgICAgIC5hZGRUbyhtYXBfNjJmZWQxN2Q2YWQ2NDhjMzgyNjk4MjlhNTcyMmZmZWQpOwogICAgICAgICAgICAKICAgIAogICAgICAgICAgICB2YXIgcG9wdXBfZDhkNGQ0MWQ1ZDkyNDg3MTk2Y2NjZmQ2ODc2YjE4ZmQgPSBMLnBvcHVwKHttYXhXaWR0aDogJzEwMCUnCiAgICAgICAgICAgIAogICAgICAgICAgICB9KTsKCiAgICAgICAgICAgIAogICAgICAgICAgICAgICAgdmFyIGh0bWxfNWU0MjYxNGVmNWE3NDEzNWFkYjQ0YTkxYzQ0MTc2NmMgPSAkKGA8ZGl2IGlkPSJodG1sXzVlNDI2MTRlZjVhNzQxMzVhZGI0NGE5MWM0NDE3NjZjIiBzdHlsZT0id2lkdGg6IDEwMC4wJTsgaGVpZ2h0OiAxMDAuMCU7Ij5Ib3RlbDwvZGl2PmApWzBdOwogICAgICAgICAgICAgICAgcG9wdXBfZDhkNGQ0MWQ1ZDkyNDg3MTk2Y2NjZmQ2ODc2YjE4ZmQuc2V0Q29udGVudChodG1sXzVlNDI2MTRlZjVhNzQxMzVhZGI0NGE5MWM0NDE3NjZjKTsKICAgICAgICAgICAgCgogICAgICAgICAgICBjaXJjbGVfbWFya2VyXzQxMGQ2ZDc1NjdiOTRhNWI5MjJlODQ1NzYxNDU2NzdjLmJpbmRQb3B1cChwb3B1cF9kOGQ0ZDQxZDVkOTI0ODcxOTZjY2NmZDY4NzZiMThmZCkKICAgICAgICAgICAgOwoKICAgICAgICAgICAgCiAgICAgICAgCiAgICAKICAgICAgICAgICAgdmFyIGNpcmNsZV9tYXJrZXJfMDdlOWYxNWQwMTk5NDE0NmI4MmNlMjFmMGNlMmYwNjcgPSBMLmNpcmNsZU1hcmtlcigKICAgICAgICAgICAgICAgIFsxMi45NzkzNjc0MTkzMTc1MzUsIDc3LjY0MDcwMjQ1NDA5NTU2XSwKICAgICAgICAgICAgICAgIHsKICAiYnViYmxpbmdNb3VzZUV2ZW50cyI6IHRydWUsCiAgImNvbG9yIjogImJsdWUiLAogICJkYXNoQXJyYXkiOiBudWxsLAogICJkYXNoT2Zmc2V0IjogbnVsbCwKICAiZmlsbCI6IHRydWUsCiAgImZpbGxDb2xvciI6ICJibHVlIiwKICAiZmlsbE9wYWNpdHkiOiAwLjYsCiAgImZpbGxSdWxlIjogImV2ZW5vZGQiLAogICJsaW5lQ2FwIjogInJvdW5kIiwKICAibGluZUpvaW4iOiAicm91bmQiLAogICJvcGFjaXR5IjogMS4wLAogICJyYWRpdXMiOiA1LAogICJzdHJva2UiOiB0cnVlLAogICJ3ZWlnaHQiOiAzCn0KICAgICAgICAgICAgICAgICkKICAgICAgICAgICAgICAgIC5hZGRUbyhtYXBfNjJmZWQxN2Q2YWQ2NDhjMzgyNjk4MjlhNTcyMmZmZWQpOwogICAgICAgICAgICAKICAgIAogICAgICAgICAgICB2YXIgcG9wdXBfNmYyNTA2MmY4ZDU2NGM4ZGFmYTZmNzk5YWJiMzQyNjMgPSBMLnBvcHVwKHttYXhXaWR0aDogJzEwMCUnCiAgICAgICAgICAgIAogICAgICAgICAgICB9KTsKCiAgICAgICAgICAgIAogICAgICAgICAgICAgICAgdmFyIGh0bWxfM2NjYTQwNDRmNDNjNDE5OTkyMGZhMWIyMmI5MDUwMzMgPSAkKGA8ZGl2IGlkPSJodG1sXzNjY2E0MDQ0ZjQzYzQxOTk5MjBmYTFiMjJiOTA1MDMzIiBzdHlsZT0id2lkdGg6IDEwMC4wJTsgaGVpZ2h0OiAxMDAuMCU7Ij5CcmV3ZXJ5PC9kaXY+YClbMF07CiAgICAgICAgICAgICAgICBwb3B1cF82ZjI1MDYyZjhkNTY0YzhkYWZhNmY3OTlhYmIzNDI2My5zZXRDb250ZW50KGh0bWxfM2NjYTQwNDRmNDNjNDE5OTkyMGZhMWIyMmI5MDUwMzMpOwogICAgICAgICAgICAKCiAgICAgICAgICAgIGNpcmNsZV9tYXJrZXJfMDdlOWYxNWQwMTk5NDE0NmI4MmNlMjFmMGNlMmYwNjcuYmluZFBvcHVwKHBvcHVwXzZmMjUwNjJmOGQ1NjRjOGRhZmE2Zjc5OWFiYjM0MjYzKQogICAgICAgICAgICA7CgogICAgICAgICAgICAKICAgICAgICAKICAgIAogICAgICAgICAgICB2YXIgY2lyY2xlX21hcmtlcl9mZTNkMzk2ZDEzM2Q0NDEzOTBkMTA5YzEzZDBlZTAzZiA9IEwuY2lyY2xlTWFya2VyKAogICAgICAgICAgICAgICAgWzEyLjk4NzE1Njc1NjQwMjg3NSwgNzcuNTk0ODM0NTA5OTYxNTZdLAogICAgICAgICAgICAgICAgewogICJidWJibGluZ01vdXNlRXZlbnRzIjogdHJ1ZSwKICAiY29sb3IiOiAiYmx1ZSIsCiAgImRhc2hBcnJheSI6IG51bGwsCiAgImRhc2hPZmZzZXQiOiBudWxsLAogICJmaWxsIjogdHJ1ZSwKICAiZmlsbENvbG9yIjogImJsdWUiLAogICJmaWxsT3BhY2l0eSI6IDAuNiwKICAiZmlsbFJ1bGUiOiAiZXZlbm9kZCIsCiAgImxpbmVDYXAiOiAicm91bmQiLAogICJsaW5lSm9pbiI6ICJyb3VuZCIsCiAgIm9wYWNpdHkiOiAxLjAsCiAgInJhZGl1cyI6IDUsCiAgInN0cm9rZSI6IHRydWUsCiAgIndlaWdodCI6IDMKfQogICAgICAgICAgICAgICAgKQogICAgICAgICAgICAgICAgLmFkZFRvKG1hcF82MmZlZDE3ZDZhZDY0OGMzODI2OTgyOWE1NzIyZmZlZCk7CiAgICAgICAgICAgIAogICAgCiAgICAgICAgICAgIHZhciBwb3B1cF85YWFmYzg2NGE0ZDI0ZTU0OGEzODI4MGQxZTA2ZTMzMCA9IEwucG9wdXAoe21heFdpZHRoOiAnMTAwJScKICAgICAgICAgICAgCiAgICAgICAgICAgIH0pOwoKICAgICAgICAgICAgCiAgICAgICAgICAgICAgICB2YXIgaHRtbF9jZDdjN2E5OTRjMTU0NjU4YWE1MDM4ZDAwNGQ2YWIxNiA9ICQoYDxkaXYgaWQ9Imh0bWxfY2Q3YzdhOTk0YzE1NDY1OGFhNTAzOGQwMDRkNmFiMTYiIHN0eWxlPSJ3aWR0aDogMTAwLjAlOyBoZWlnaHQ6IDEwMC4wJTsiPlRlYSBSb29tPC9kaXY+YClbMF07CiAgICAgICAgICAgICAgICBwb3B1cF85YWFmYzg2NGE0ZDI0ZTU0OGEzODI4MGQxZTA2ZTMzMC5zZXRDb250ZW50KGh0bWxfY2Q3YzdhOTk0YzE1NDY1OGFhNTAzOGQwMDRkNmFiMTYpOwogICAgICAgICAgICAKCiAgICAgICAgICAgIGNpcmNsZV9tYXJrZXJfZmUzZDM5NmQxMzNkNDQxMzkwZDEwOWMxM2QwZWUwM2YuYmluZFBvcHVwKHBvcHVwXzlhYWZjODY0YTRkMjRlNTQ4YTM4MjgwZDFlMDZlMzMwKQogICAgICAgICAgICA7CgogICAgICAgICAgICAKICAgICAgICAKICAgIAogICAgICAgICAgICB2YXIgY2lyY2xlX21hcmtlcl8xZjJkMDRhMGZmYjA0NDk0OTY4Nzk0NWRhYWQ4OGIzYiA9IEwuY2lyY2xlTWFya2VyKAogICAgICAgICAgICAgICAgWzEyLjk1Mzk4MzM2MjE3MzMxNCwgNzcuNTY4ODYyMDk2NDA4NTddLAogICAgICAgICAgICAgICAgewogICJidWJibGluZ01vdXNlRXZlbnRzIjogdHJ1ZSwKICAiY29sb3IiOiAiYmx1ZSIsCiAgImRhc2hBcnJheSI6IG51bGwsCiAgImRhc2hPZmZzZXQiOiBudWxsLAogICJmaWxsIjogdHJ1ZSwKICAiZmlsbENvbG9yIjogImJsdWUiLAogICJmaWxsT3BhY2l0eSI6IDAuNiwKICAiZmlsbFJ1bGUiOiAiZXZlbm9kZCIsCiAgImxpbmVDYXAiOiAicm91bmQiLAogICJsaW5lSm9pbiI6ICJyb3VuZCIsCiAgIm9wYWNpdHkiOiAxLjAsCiAgInJhZGl1cyI6IDUsCiAgInN0cm9rZSI6IHRydWUsCiAgIndlaWdodCI6IDMKfQogICAgICAgICAgICAgICAgKQogICAgICAgICAgICAgICAgLmFkZFRvKG1hcF82MmZlZDE3ZDZhZDY0OGMzODI2OTgyOWE1NzIyZmZlZCk7CiAgICAgICAgICAgIAogICAgCiAgICAgICAgICAgIHZhciBwb3B1cF84ODc2NTZmMWNiNzE0MDAyYmNkOGYzNjZjZDRlMmIyYSA9IEwucG9wdXAoe21heFdpZHRoOiAnMTAwJScKICAgICAgICAgICAgCiAgICAgICAgICAgIH0pOwoKICAgICAgICAgICAgCiAgICAgICAgICAgICAgICB2YXIgaHRtbF82ODc1ZGUzMmZkNjk0ZTdjODY1MjQzN2NlYTI1MDk4MiA9ICQoYDxkaXYgaWQ9Imh0bWxfNjg3NWRlMzJmZDY5NGU3Yzg2NTI0MzdjZWEyNTA5ODIiIHN0eWxlPSJ3aWR0aDogMTAwLjAlOyBoZWlnaHQ6IDEwMC4wJTsiPkJyZWFrZmFzdCBTcG90PC9kaXY+YClbMF07CiAgICAgICAgICAgICAgICBwb3B1cF84ODc2NTZmMWNiNzE0MDAyYmNkOGYzNjZjZDRlMmIyYS5zZXRDb250ZW50KGh0bWxfNjg3NWRlMzJmZDY5NGU3Yzg2NTI0MzdjZWEyNTA5ODIpOwogICAgICAgICAgICAKCiAgICAgICAgICAgIGNpcmNsZV9tYXJrZXJfMWYyZDA0YTBmZmIwNDQ5NDk2ODc5NDVkYWFkODhiM2IuYmluZFBvcHVwKHBvcHVwXzg4NzY1NmYxY2I3MTQwMDJiY2Q4ZjM2NmNkNGUyYjJhKQogICAgICAgICAgICA7CgogICAgICAgICAgICAKICAgICAgICAKICAgIAogICAgICAgICAgICB2YXIgY2lyY2xlX21hcmtlcl85ZjI4MjllZDA1MWY0ZjRkODEyY2U3YmQ1NzI3M2Q3ZiA9IEwuY2lyY2xlTWFya2VyKAogICAgICAgICAgICAgICAgWzEyLjk3MTY1NjE3NTgyMzQyMSwgNzcuNTk4MjU0MTc5ODY4MzJdLAogICAgICAgICAgICAgICAgewogICJidWJibGluZ01vdXNlRXZlbnRzIjogdHJ1ZSwKICAiY29sb3IiOiAiYmx1ZSIsCiAgImRhc2hBcnJheSI6IG51bGwsCiAgImRhc2hPZmZzZXQiOiBudWxsLAogICJmaWxsIjogdHJ1ZSwKICAiZmlsbENvbG9yIjogImJsdWUiLAogICJmaWxsT3BhY2l0eSI6IDAuNiwKICAiZmlsbFJ1bGUiOiAiZXZlbm9kZCIsCiAgImxpbmVDYXAiOiAicm91bmQiLAogICJsaW5lSm9pbiI6ICJyb3VuZCIsCiAgIm9wYWNpdHkiOiAxLjAsCiAgInJhZGl1cyI6IDUsCiAgInN0cm9rZSI6IHRydWUsCiAgIndlaWdodCI6IDMKfQogICAgICAgICAgICAgICAgKQogICAgICAgICAgICAgICAgLmFkZFRvKG1hcF82MmZlZDE3ZDZhZDY0OGMzODI2OTgyOWE1NzIyZmZlZCk7CiAgICAgICAgICAgIAogICAgCiAgICAgICAgICAgIHZhciBwb3B1cF82MGU4MWUzMjgwY2U0Njk3OGYxODJhMGRiNzAzMjI4NSA9IEwucG9wdXAoe21heFdpZHRoOiAnMTAwJScKICAgICAgICAgICAgCiAgICAgICAgICAgIH0pOwoKICAgICAgICAgICAgCiAgICAgICAgICAgICAgICB2YXIgaHRtbF9kMDFlYTI3ZDJkMTU0Yzc4YmJkZjZkZDA2YTE5NzRhNiA9ICQoYDxkaXYgaWQ9Imh0bWxfZDAxZWEyN2QyZDE1NGM3OGJiZGY2ZGQwNmExOTc0YTYiIHN0eWxlPSJ3aWR0aDogMTAwLjAlOyBoZWlnaHQ6IDEwMC4wJTsiPkRlbGkgLyBCb2RlZ2E8L2Rpdj5gKVswXTsKICAgICAgICAgICAgICAgIHBvcHVwXzYwZTgxZTMyODBjZTQ2OTc4ZjE4MmEwZGI3MDMyMjg1LnNldENvbnRlbnQoaHRtbF9kMDFlYTI3ZDJkMTU0Yzc4YmJkZjZkZDA2YTE5NzRhNik7CiAgICAgICAgICAgIAoKICAgICAgICAgICAgY2lyY2xlX21hcmtlcl85ZjI4MjllZDA1MWY0ZjRkODEyY2U3YmQ1NzI3M2Q3Zi5iaW5kUG9wdXAocG9wdXBfNjBlODFlMzI4MGNlNDY5NzhmMTgyYTBkYjcwMzIyODUpCiAgICAgICAgICAgIDsKCiAgICAgICAgICAgIAogICAgICAgIAogICAgCiAgICAgICAgICAgIHZhciBjaXJjbGVfbWFya2VyXzJhOTRlZjA1OGVlOTQ4MTI5MzM4MTQyOTY1M2FhMzU2ID0gTC5jaXJjbGVNYXJrZXIoCiAgICAgICAgICAgICAgICBbMTIuOTg4MzAzNjYzNzIxMzcsIDc3LjU3NzEyOTYxMTk0MzQ5XSwKICAgICAgICAgICAgICAgIHsKICAiYnViYmxpbmdNb3VzZUV2ZW50cyI6IHRydWUsCiAgImNvbG9yIjogImJsdWUiLAogICJkYXNoQXJyYXkiOiBudWxsLAogICJkYXNoT2Zmc2V0IjogbnVsbCwKICAiZmlsbCI6IHRydWUsCiAgImZpbGxDb2xvciI6ICJibHVlIiwKICAiZmlsbE9wYWNpdHkiOiAwLjYsCiAgImZpbGxSdWxlIjogImV2ZW5vZGQiLAogICJsaW5lQ2FwIjogInJvdW5kIiwKICAibGluZUpvaW4iOiAicm91bmQiLAogICJvcGFjaXR5IjogMS4wLAogICJyYWRpdXMiOiA1LAogICJzdHJva2UiOiB0cnVlLAogICJ3ZWlnaHQiOiAzCn0KICAgICAgICAgICAgICAgICkKICAgICAgICAgICAgICAgIC5hZGRUbyhtYXBfNjJmZWQxN2Q2YWQ2NDhjMzgyNjk4MjlhNTcyMmZmZWQpOwogICAgICAgICAgICAKICAgIAogICAgICAgICAgICB2YXIgcG9wdXBfNmM4MzE2Mzc5NmY4NDllNDk5Y2JkZjc4MWU4OTExZjUgPSBMLnBvcHVwKHttYXhXaWR0aDogJzEwMCUnCiAgICAgICAgICAgIAogICAgICAgICAgICB9KTsKCiAgICAgICAgICAgIAogICAgICAgICAgICAgICAgdmFyIGh0bWxfNGY3N2EwNDg5OTJiNDg4N2E5ZjNkMjQ0YmI0Y2NkNTUgPSAkKGA8ZGl2IGlkPSJodG1sXzRmNzdhMDQ4OTkyYjQ4ODdhOWYzZDI0NGJiNGNjZDU1IiBzdHlsZT0id2lkdGg6IDEwMC4wJTsgaGVpZ2h0OiAxMDAuMCU7Ij5JY2UgQ3JlYW0gU2hvcDwvZGl2PmApWzBdOwogICAgICAgICAgICAgICAgcG9wdXBfNmM4MzE2Mzc5NmY4NDllNDk5Y2JkZjc4MWU4OTExZjUuc2V0Q29udGVudChodG1sXzRmNzdhMDQ4OTkyYjQ4ODdhOWYzZDI0NGJiNGNjZDU1KTsKICAgICAgICAgICAgCgogICAgICAgICAgICBjaXJjbGVfbWFya2VyXzJhOTRlZjA1OGVlOTQ4MTI5MzM4MTQyOTY1M2FhMzU2LmJpbmRQb3B1cChwb3B1cF82YzgzMTYzNzk2Zjg0OWU0OTljYmRmNzgxZTg5MTFmNSkKICAgICAgICAgICAgOwoKICAgICAgICAgICAgCiAgICAgICAgCiAgICAKICAgICAgICAgICAgdmFyIGNpcmNsZV9tYXJrZXJfNzRjMzg0ZjJlM2RjNDM0Mzg0ZDU4M2I0YzNmMWZmNjEgPSBMLmNpcmNsZU1hcmtlcigKICAgICAgICAgICAgICAgIFsxMi45MzM0NDI4Mjg5NzU5NSwgNzcuNjE0MjY0NTQwNTEwNjldLAogICAgICAgICAgICAgICAgewogICJidWJibGluZ01vdXNlRXZlbnRzIjogdHJ1ZSwKICAiY29sb3IiOiAiYmx1ZSIsCiAgImRhc2hBcnJheSI6IG51bGwsCiAgImRhc2hPZmZzZXQiOiBudWxsLAogICJmaWxsIjogdHJ1ZSwKICAiZmlsbENvbG9yIjogImJsdWUiLAogICJmaWxsT3BhY2l0eSI6IDAuNiwKICAiZmlsbFJ1bGUiOiAiZXZlbm9kZCIsCiAgImxpbmVDYXAiOiAicm91bmQiLAogICJsaW5lSm9pbiI6ICJyb3VuZCIsCiAgIm9wYWNpdHkiOiAxLjAsCiAgInJhZGl1cyI6IDUsCiAgInN0cm9rZSI6IHRydWUsCiAgIndlaWdodCI6IDMKfQogICAgICAgICAgICAgICAgKQogICAgICAgICAgICAgICAgLmFkZFRvKG1hcF82MmZlZDE3ZDZhZDY0OGMzODI2OTgyOWE1NzIyZmZlZCk7CiAgICAgICAgICAgIAogICAgCiAgICAgICAgICAgIHZhciBwb3B1cF9lOGRjZjNlMDBjM2E0NjQxOWY4YTAyYjU2YjRiMWRmNSA9IEwucG9wdXAoe21heFdpZHRoOiAnMTAwJScKICAgICAgICAgICAgCiAgICAgICAgICAgIH0pOwoKICAgICAgICAgICAgCiAgICAgICAgICAgICAgICB2YXIgaHRtbF81NzVhN2IyZTYwZjI0N2Y0YTUyN2E3MDQzZTJiNDhmNSA9ICQoYDxkaXYgaWQ9Imh0bWxfNTc1YTdiMmU2MGYyNDdmNGE1MjdhNzA0M2UyYjQ4ZjUiIHN0eWxlPSJ3aWR0aDogMTAwLjAlOyBoZWlnaHQ6IDEwMC4wJTsiPkJ1cmdlciBKb2ludDwvZGl2PmApWzBdOwogICAgICAgICAgICAgICAgcG9wdXBfZThkY2YzZTAwYzNhNDY0MTlmOGEwMmI1NmI0YjFkZjUuc2V0Q29udGVudChodG1sXzU3NWE3YjJlNjBmMjQ3ZjRhNTI3YTcwNDNlMmI0OGY1KTsKICAgICAgICAgICAgCgogICAgICAgICAgICBjaXJjbGVfbWFya2VyXzc0YzM4NGYyZTNkYzQzNDM4NGQ1ODNiNGMzZjFmZjYxLmJpbmRQb3B1cChwb3B1cF9lOGRjZjNlMDBjM2E0NjQxOWY4YTAyYjU2YjRiMWRmNSkKICAgICAgICAgICAgOwoKICAgICAgICAgICAgCiAgICAgICAgCiAgICAKICAgICAgICAgICAgdmFyIGNpcmNsZV9tYXJrZXJfNzc5YWE0MjZhMDFmNDk3YWJhNWRkNDE5YzFkN2U3OTEgPSBMLmNpcmNsZU1hcmtlcigKICAgICAgICAgICAgICAgIFsxMi45NzUwNDE5NTU0MTQ0MjgsIDc3LjYwNDgxMjUyOTcyNjQzXSwKICAgICAgICAgICAgICAgIHsKICAiYnViYmxpbmdNb3VzZUV2ZW50cyI6IHRydWUsCiAgImNvbG9yIjogImJsdWUiLAogICJkYXNoQXJyYXkiOiBudWxsLAogICJkYXNoT2Zmc2V0IjogbnVsbCwKICAiZmlsbCI6IHRydWUsCiAgImZpbGxDb2xvciI6ICJibHVlIiwKICAiZmlsbE9wYWNpdHkiOiAwLjYsCiAgImZpbGxSdWxlIjogImV2ZW5vZGQiLAogICJsaW5lQ2FwIjogInJvdW5kIiwKICAibGluZUpvaW4iOiAicm91bmQiLAogICJvcGFjaXR5IjogMS4wLAogICJyYWRpdXMiOiA1LAogICJzdHJva2UiOiB0cnVlLAogICJ3ZWlnaHQiOiAzCn0KICAgICAgICAgICAgICAgICkKICAgICAgICAgICAgICAgIC5hZGRUbyhtYXBfNjJmZWQxN2Q2YWQ2NDhjMzgyNjk4MjlhNTcyMmZmZWQpOwogICAgICAgICAgICAKICAgIAogICAgICAgICAgICB2YXIgcG9wdXBfMjE3MTMxZjIxZjk5NDFiOWE2YmZmMGM2OWIwOTA2MjUgPSBMLnBvcHVwKHttYXhXaWR0aDogJzEwMCUnCiAgICAgICAgICAgIAogICAgICAgICAgICB9KTsKCiAgICAgICAgICAgIAogICAgICAgICAgICAgICAgdmFyIGh0bWxfNzNhMjdjZTEwNzk1NDhiMjgwZjMzYzA5Yjk0YWNmNmUgPSAkKGA8ZGl2IGlkPSJodG1sXzczYTI3Y2UxMDc5NTQ4YjI4MGYzM2MwOWI5NGFjZjZlIiBzdHlsZT0id2lkdGg6IDEwMC4wJTsgaGVpZ2h0OiAxMDAuMCU7Ij5Cb29rc3RvcmU8L2Rpdj5gKVswXTsKICAgICAgICAgICAgICAgIHBvcHVwXzIxNzEzMWYyMWY5OTQxYjlhNmJmZjBjNjliMDkwNjI1LnNldENvbnRlbnQoaHRtbF83M2EyN2NlMTA3OTU0OGIyODBmMzNjMDliOTRhY2Y2ZSk7CiAgICAgICAgICAgIAoKICAgICAgICAgICAgY2lyY2xlX21hcmtlcl83NzlhYTQyNmEwMWY0OTdhYmE1ZGQ0MTljMWQ3ZTc5MS5iaW5kUG9wdXAocG9wdXBfMjE3MTMxZjIxZjk5NDFiOWE2YmZmMGM2OWIwOTA2MjUpCiAgICAgICAgICAgIDsKCiAgICAgICAgICAgIAogICAgICAgIAogICAgCiAgICAgICAgICAgIHZhciBjaXJjbGVfbWFya2VyXzBmYjNkNzA4OTQyOTRmMzJiY2U2YWE0OGQxNjk1YzU0ID0gTC5jaXJjbGVNYXJrZXIoCiAgICAgICAgICAgICAgICBbMTIuOTMyOTQ3MjQwNDk3NjY4LCA3Ny41ODI1MzYzMzA1NTQ0XSwKICAgICAgICAgICAgICAgIHsKICAiYnViYmxpbmdNb3VzZUV2ZW50cyI6IHRydWUsCiAgImNvbG9yIjogImJsdWUiLAogICJkYXNoQXJyYXkiOiBudWxsLAogICJkYXNoT2Zmc2V0IjogbnVsbCwKICAiZmlsbCI6IHRydWUsCiAgImZpbGxDb2xvciI6ICJibHVlIiwKICAiZmlsbE9wYWNpdHkiOiAwLjYsCiAgImZpbGxSdWxlIjogImV2ZW5vZGQiLAogICJsaW5lQ2FwIjogInJvdW5kIiwKICAibGluZUpvaW4iOiAicm91bmQiLAogICJvcGFjaXR5IjogMS4wLAogICJyYWRpdXMiOiA1LAogICJzdHJva2UiOiB0cnVlLAogICJ3ZWlnaHQiOiAzCn0KICAgICAgICAgICAgICAgICkKICAgICAgICAgICAgICAgIC5hZGRUbyhtYXBfNjJmZWQxN2Q2YWQ2NDhjMzgyNjk4MjlhNTcyMmZmZWQpOwogICAgICAgICAgICAKICAgIAogICAgICAgICAgICB2YXIgcG9wdXBfZGJiZmNjYmFkNDk2NDU3NGEwODAzZjMwNzQ4NzNiZjMgPSBMLnBvcHVwKHttYXhXaWR0aDogJzEwMCUnCiAgICAgICAgICAgIAogICAgICAgICAgICB9KTsKCiAgICAgICAgICAgIAogICAgICAgICAgICAgICAgdmFyIGh0bWxfNzQxNTg2YjgzNzc5NGYzOThiMmQxYjQzODFhZDlhMTEgPSAkKGA8ZGl2IGlkPSJodG1sXzc0MTU4NmI4Mzc3OTRmMzk4YjJkMWI0MzgxYWQ5YTExIiBzdHlsZT0id2lkdGg6IDEwMC4wJTsgaGVpZ2h0OiAxMDAuMCU7Ij5TYW5kd2ljaCBQbGFjZTwvZGl2PmApWzBdOwogICAgICAgICAgICAgICAgcG9wdXBfZGJiZmNjYmFkNDk2NDU3NGEwODAzZjMwNzQ4NzNiZjMuc2V0Q29udGVudChodG1sXzc0MTU4NmI4Mzc3OTRmMzk4YjJkMWI0MzgxYWQ5YTExKTsKICAgICAgICAgICAgCgogICAgICAgICAgICBjaXJjbGVfbWFya2VyXzBmYjNkNzA4OTQyOTRmMzJiY2U2YWE0OGQxNjk1YzU0LmJpbmRQb3B1cChwb3B1cF9kYmJmY2NiYWQ0OTY0NTc0YTA4MDNmMzA3NDg3M2JmMykKICAgICAgICAgICAgOwoKICAgICAgICAgICAgCiAgICAgICAgCiAgICAKICAgICAgICAgICAgdmFyIGNpcmNsZV9tYXJrZXJfMWViMzhkOGI3OTg5NDJjYTk2YjEzNzRmOWNlYTQ4YzIgPSBMLmNpcmNsZU1hcmtlcigKICAgICAgICAgICAgICAgIFsxMi45NzgxNDQ0ODEzOTE3MDIsIDc3LjU5OTIyMjgzNDA5NF0sCiAgICAgICAgICAgICAgICB7CiAgImJ1YmJsaW5nTW91c2VFdmVudHMiOiB0cnVlLAogICJjb2xvciI6ICJibHVlIiwKICAiZGFzaEFycmF5IjogbnVsbCwKICAiZGFzaE9mZnNldCI6IG51bGwsCiAgImZpbGwiOiB0cnVlLAogICJmaWxsQ29sb3IiOiAiYmx1ZSIsCiAgImZpbGxPcGFjaXR5IjogMC42LAogICJmaWxsUnVsZSI6ICJldmVub2RkIiwKICAibGluZUNhcCI6ICJyb3VuZCIsCiAgImxpbmVKb2luIjogInJvdW5kIiwKICAib3BhY2l0eSI6IDEuMCwKICAicmFkaXVzIjogNSwKICAic3Ryb2tlIjogdHJ1ZSwKICAid2VpZ2h0IjogMwp9CiAgICAgICAgICAgICAgICApCiAgICAgICAgICAgICAgICAuYWRkVG8obWFwXzYyZmVkMTdkNmFkNjQ4YzM4MjY5ODI5YTU3MjJmZmVkKTsKICAgICAgICAgICAgCiAgICAKICAgICAgICAgICAgdmFyIHBvcHVwXzhlNGY1NjQwMzRjNjRiNzg5NzQ4OGMzY2I0ZTFhNjAzID0gTC5wb3B1cCh7bWF4V2lkdGg6ICcxMDAlJwogICAgICAgICAgICAKICAgICAgICAgICAgfSk7CgogICAgICAgICAgICAKICAgICAgICAgICAgICAgIHZhciBodG1sXzkzNDc4NjcyMWEyNDQwNjM4MjU4MGU0NDQ2NTMzMmFiID0gJChgPGRpdiBpZD0iaHRtbF85MzQ3ODY3MjFhMjQ0MDYzODI1ODBlNDQ0NjUzMzJhYiIgc3R5bGU9IndpZHRoOiAxMDAuMCU7IGhlaWdodDogMTAwLjAlOyI+Q3JpY2tldCBHcm91bmQ8L2Rpdj5gKVswXTsKICAgICAgICAgICAgICAgIHBvcHVwXzhlNGY1NjQwMzRjNjRiNzg5NzQ4OGMzY2I0ZTFhNjAzLnNldENvbnRlbnQoaHRtbF85MzQ3ODY3MjFhMjQ0MDYzODI1ODBlNDQ0NjUzMzJhYik7CiAgICAgICAgICAgIAoKICAgICAgICAgICAgY2lyY2xlX21hcmtlcl8xZWIzOGQ4Yjc5ODk0MmNhOTZiMTM3NGY5Y2VhNDhjMi5iaW5kUG9wdXAocG9wdXBfOGU0ZjU2NDAzNGM2NGI3ODk3NDg4YzNjYjRlMWE2MDMpCiAgICAgICAgICAgIDsKCiAgICAgICAgICAgIAogICAgICAgIAogICAgCiAgICAgICAgICAgIHZhciBjaXJjbGVfbWFya2VyX2FmMTk5N2E4Y2QxMzRiY2JhOTk3ZjMwMzI5OTg5MTJmID0gTC5jaXJjbGVNYXJrZXIoCiAgICAgICAgICAgICAgICBbMTIuOTcxOTk0NzQ2MzQzNjc0LCA3Ny41OTYwMDExOTYwNDc3OF0sCiAgICAgICAgICAgICAgICB7CiAgImJ1YmJsaW5nTW91c2VFdmVudHMiOiB0cnVlLAogICJjb2xvciI6ICJibHVlIiwKICAiZGFzaEFycmF5IjogbnVsbCwKICAiZGFzaE9mZnNldCI6IG51bGwsCiAgImZpbGwiOiB0cnVlLAogICJmaWxsQ29sb3IiOiAiYmx1ZSIsCiAgImZpbGxPcGFjaXR5IjogMC42LAogICJmaWxsUnVsZSI6ICJldmVub2RkIiwKICAibGluZUNhcCI6ICJyb3VuZCIsCiAgImxpbmVKb2luIjogInJvdW5kIiwKICAib3BhY2l0eSI6IDEuMCwKICAicmFkaXVzIjogNSwKICAic3Ryb2tlIjogdHJ1ZSwKICAid2VpZ2h0IjogMwp9CiAgICAgICAgICAgICAgICApCiAgICAgICAgICAgICAgICAuYWRkVG8obWFwXzYyZmVkMTdkNmFkNjQ4YzM4MjY5ODI5YTU3MjJmZmVkKTsKICAgICAgICAgICAgCiAgICAKICAgICAgICAgICAgdmFyIHBvcHVwXzhhZTA1ZTU0YTI1MzQxNGM4ODY4NDQyMGJhZjg0MzZjID0gTC5wb3B1cCh7bWF4V2lkdGg6ICcxMDAlJwogICAgICAgICAgICAKICAgICAgICAgICAgfSk7CgogICAgICAgICAgICAKICAgICAgICAgICAgICAgIHZhciBodG1sX2RjN2I1MWUwYzFhOTRiMThiZWQyYWJmMGI1NGIxNGYwID0gJChgPGRpdiBpZD0iaHRtbF9kYzdiNTFlMGMxYTk0YjE4YmVkMmFiZjBiNTRiMTRmMCIgc3R5bGU9IndpZHRoOiAxMDAuMCU7IGhlaWdodDogMTAwLjAlOyI+RnJlbmNoIFJlc3RhdXJhbnQ8L2Rpdj5gKVswXTsKICAgICAgICAgICAgICAgIHBvcHVwXzhhZTA1ZTU0YTI1MzQxNGM4ODY4NDQyMGJhZjg0MzZjLnNldENvbnRlbnQoaHRtbF9kYzdiNTFlMGMxYTk0YjE4YmVkMmFiZjBiNTRiMTRmMCk7CiAgICAgICAgICAgIAoKICAgICAgICAgICAgY2lyY2xlX21hcmtlcl9hZjE5OTdhOGNkMTM0YmNiYTk5N2YzMDMyOTk4OTEyZi5iaW5kUG9wdXAocG9wdXBfOGFlMDVlNTRhMjUzNDE0Yzg4Njg0NDIwYmFmODQzNmMpCiAgICAgICAgICAgIDsKCiAgICAgICAgICAgIAogICAgICAgIAogICAgCiAgICAgICAgICAgIHZhciBjaXJjbGVfbWFya2VyX2Y3Y2RiNGFhOWM2ZDRjMWU4ZTYyMjBhZmUzZjFjNGM5ID0gTC5jaXJjbGVNYXJrZXIoCiAgICAgICAgICAgICAgICBbMTIuOTY3MDEwNDQzMjg2MzI3LCA3Ny41OTU2MTc2MzE1OTU4MV0sCiAgICAgICAgICAgICAgICB7CiAgImJ1YmJsaW5nTW91c2VFdmVudHMiOiB0cnVlLAogICJjb2xvciI6ICJibHVlIiwKICAiZGFzaEFycmF5IjogbnVsbCwKICAiZGFzaE9mZnNldCI6IG51bGwsCiAgImZpbGwiOiB0cnVlLAogICJmaWxsQ29sb3IiOiAiYmx1ZSIsCiAgImZpbGxPcGFjaXR5IjogMC42LAogICJmaWxsUnVsZSI6ICJldmVub2RkIiwKICAibGluZUNhcCI6ICJyb3VuZCIsCiAgImxpbmVKb2luIjogInJvdW5kIiwKICAib3BhY2l0eSI6IDEuMCwKICAicmFkaXVzIjogNSwKICAic3Ryb2tlIjogdHJ1ZSwKICAid2VpZ2h0IjogMwp9CiAgICAgICAgICAgICAgICApCiAgICAgICAgICAgICAgICAuYWRkVG8obWFwXzYyZmVkMTdkNmFkNjQ4YzM4MjY5ODI5YTU3MjJmZmVkKTsKICAgICAgICAgICAgCiAgICAKICAgICAgICAgICAgdmFyIHBvcHVwXzBkZmU0NjZmZTY0ZTQ3YzE5YTgwNzg0NjJlMGQ1MzBiID0gTC5wb3B1cCh7bWF4V2lkdGg6ICcxMDAlJwogICAgICAgICAgICAKICAgICAgICAgICAgfSk7CgogICAgICAgICAgICAKICAgICAgICAgICAgICAgIHZhciBodG1sXzBhMTY1ZjgwYzQxZjQzYTQ4MWNjMTIwZDMyYjBjMTQ4ID0gJChgPGRpdiBpZD0iaHRtbF8wYTE2NWY4MGM0MWY0M2E0ODFjYzEyMGQzMmIwYzE0OCIgc3R5bGU9IndpZHRoOiAxMDAuMCU7IGhlaWdodDogMTAwLjAlOyI+SG90ZWw8L2Rpdj5gKVswXTsKICAgICAgICAgICAgICAgIHBvcHVwXzBkZmU0NjZmZTY0ZTQ3YzE5YTgwNzg0NjJlMGQ1MzBiLnNldENvbnRlbnQoaHRtbF8wYTE2NWY4MGM0MWY0M2E0ODFjYzEyMGQzMmIwYzE0OCk7CiAgICAgICAgICAgIAoKICAgICAgICAgICAgY2lyY2xlX21hcmtlcl9mN2NkYjRhYTljNmQ0YzFlOGU2MjIwYWZlM2YxYzRjOS5iaW5kUG9wdXAocG9wdXBfMGRmZTQ2NmZlNjRlNDdjMTlhODA3ODQ2MmUwZDUzMGIpCiAgICAgICAgICAgIDsKCiAgICAgICAgICAgIAogICAgICAgIAogICAgCiAgICAgICAgICAgIHZhciBjaXJjbGVfbWFya2VyXzJhNjY5MGU0ZTkyOTQ3NDdiNTY1ZmRhYTljMGM4YjliID0gTC5jaXJjbGVNYXJrZXIoCiAgICAgICAgICAgICAgICBbMTIuOTcxODk5NTU5MDc3NTM1LCA3Ny41OTYyMzY0MzE3MDY4OF0sCiAgICAgICAgICAgICAgICB7CiAgImJ1YmJsaW5nTW91c2VFdmVudHMiOiB0cnVlLAogICJjb2xvciI6ICJibHVlIiwKICAiZGFzaEFycmF5IjogbnVsbCwKICAiZGFzaE9mZnNldCI6IG51bGwsCiAgImZpbGwiOiB0cnVlLAogICJmaWxsQ29sb3IiOiAiYmx1ZSIsCiAgImZpbGxPcGFjaXR5IjogMC42LAogICJmaWxsUnVsZSI6ICJldmVub2RkIiwKICAibGluZUNhcCI6ICJyb3VuZCIsCiAgImxpbmVKb2luIjogInJvdW5kIiwKICAib3BhY2l0eSI6IDEuMCwKICAicmFkaXVzIjogNSwKICAic3Ryb2tlIjogdHJ1ZSwKICAid2VpZ2h0IjogMwp9CiAgICAgICAgICAgICAgICApCiAgICAgICAgICAgICAgICAuYWRkVG8obWFwXzYyZmVkMTdkNmFkNjQ4YzM4MjY5ODI5YTU3MjJmZmVkKTsKICAgICAgICAgICAgCiAgICAKICAgICAgICAgICAgdmFyIHBvcHVwXzViOWZlZDkzMjJjNTQ5Njk5MTk3ZjI2YjgyOGNiZTNkID0gTC5wb3B1cCh7bWF4V2lkdGg6ICcxMDAlJwogICAgICAgICAgICAKICAgICAgICAgICAgfSk7CgogICAgICAgICAgICAKICAgICAgICAgICAgICAgIHZhciBodG1sXzA5ODNmMmFiNDUyZDRkMzZhYThmNWVhMDEyNDUyNjNlID0gJChgPGRpdiBpZD0iaHRtbF8wOTgzZjJhYjQ1MmQ0ZDM2YWE4ZjVlYTAxMjQ1MjYzZSIgc3R5bGU9IndpZHRoOiAxMDAuMCU7IGhlaWdodDogMTAwLjAlOyI+SmFwYW5lc2UgUmVzdGF1cmFudDwvZGl2PmApWzBdOwogICAgICAgICAgICAgICAgcG9wdXBfNWI5ZmVkOTMyMmM1NDk2OTkxOTdmMjZiODI4Y2JlM2Quc2V0Q29udGVudChodG1sXzA5ODNmMmFiNDUyZDRkMzZhYThmNWVhMDEyNDUyNjNlKTsKICAgICAgICAgICAgCgogICAgICAgICAgICBjaXJjbGVfbWFya2VyXzJhNjY5MGU0ZTkyOTQ3NDdiNTY1ZmRhYTljMGM4YjliLmJpbmRQb3B1cChwb3B1cF81YjlmZWQ5MzIyYzU0OTY5OTE5N2YyNmI4MjhjYmUzZCkKICAgICAgICAgICAgOwoKICAgICAgICAgICAgCiAgICAgICAgCiAgICAKICAgICAgICAgICAgdmFyIGNpcmNsZV9tYXJrZXJfODhhOGVjYzk1YjcxNGM1YTk3ZWI3ZjU5ZGQzYmU5NDMgPSBMLmNpcmNsZU1hcmtlcigKICAgICAgICAgICAgICAgIFsxMi45NzUzNjM2MzM3MTI4MDMsIDc3LjYwNDk5NDk0MDI4ODg1XSwKICAgICAgICAgICAgICAgIHsKICAiYnViYmxpbmdNb3VzZUV2ZW50cyI6IHRydWUsCiAgImNvbG9yIjogImJsdWUiLAogICJkYXNoQXJyYXkiOiBudWxsLAogICJkYXNoT2Zmc2V0IjogbnVsbCwKICAiZmlsbCI6IHRydWUsCiAgImZpbGxDb2xvciI6ICJibHVlIiwKICAiZmlsbE9wYWNpdHkiOiAwLjYsCiAgImZpbGxSdWxlIjogImV2ZW5vZGQiLAogICJsaW5lQ2FwIjogInJvdW5kIiwKICAibGluZUpvaW4iOiAicm91bmQiLAogICJvcGFjaXR5IjogMS4wLAogICJyYWRpdXMiOiA1LAogICJzdHJva2UiOiB0cnVlLAogICJ3ZWlnaHQiOiAzCn0KICAgICAgICAgICAgICAgICkKICAgICAgICAgICAgICAgIC5hZGRUbyhtYXBfNjJmZWQxN2Q2YWQ2NDhjMzgyNjk4MjlhNTcyMmZmZWQpOwogICAgICAgICAgICAKICAgIAogICAgICAgICAgICB2YXIgcG9wdXBfYTVhNTM0YmJmMDEzNDQ2NWJiNTQ0ZWY2MTFmNzJjYWIgPSBMLnBvcHVwKHttYXhXaWR0aDogJzEwMCUnCiAgICAgICAgICAgIAogICAgICAgICAgICB9KTsKCiAgICAgICAgICAgIAogICAgICAgICAgICAgICAgdmFyIGh0bWxfMzhmZGJlMGUyYmJiNDIwY2I2MmFmMjI4NWVlZTQyMWUgPSAkKGA8ZGl2IGlkPSJodG1sXzM4ZmRiZTBlMmJiYjQyMGNiNjJhZjIyODVlZWU0MjFlIiBzdHlsZT0id2lkdGg6IDEwMC4wJTsgaGVpZ2h0OiAxMDAuMCU7Ij5Mb3VuZ2U8L2Rpdj5gKVswXTsKICAgICAgICAgICAgICAgIHBvcHVwX2E1YTUzNGJiZjAxMzQ0NjViYjU0NGVmNjExZjcyY2FiLnNldENvbnRlbnQoaHRtbF8zOGZkYmUwZTJiYmI0MjBjYjYyYWYyMjg1ZWVlNDIxZSk7CiAgICAgICAgICAgIAoKICAgICAgICAgICAgY2lyY2xlX21hcmtlcl84OGE4ZWNjOTViNzE0YzVhOTdlYjdmNTlkZDNiZTk0My5iaW5kUG9wdXAocG9wdXBfYTVhNTM0YmJmMDEzNDQ2NWJiNTQ0ZWY2MTFmNzJjYWIpCiAgICAgICAgICAgIDsKCiAgICAgICAgICAgIAogICAgICAgIAogICAgCiAgICAgICAgICAgIHZhciBjaXJjbGVfbWFya2VyXzE5ODliNzI0NjQ4NzRmOGJiMzViMTE0Nzk0N2Q0N2NlID0gTC5jaXJjbGVNYXJrZXIoCiAgICAgICAgICAgICAgICBbMTIuOTcxNjQ1NjM5MTkzNzQ3LCA3Ny41OTYyNDE4NDA5MDEyXSwKICAgICAgICAgICAgICAgIHsKICAiYnViYmxpbmdNb3VzZUV2ZW50cyI6IHRydWUsCiAgImNvbG9yIjogImJsdWUiLAogICJkYXNoQXJyYXkiOiBudWxsLAogICJkYXNoT2Zmc2V0IjogbnVsbCwKICAiZmlsbCI6IHRydWUsCiAgImZpbGxDb2xvciI6ICJibHVlIiwKICAiZmlsbE9wYWNpdHkiOiAwLjYsCiAgImZpbGxSdWxlIjogImV2ZW5vZGQiLAogICJsaW5lQ2FwIjogInJvdW5kIiwKICAibGluZUpvaW4iOiAicm91bmQiLAogICJvcGFjaXR5IjogMS4wLAogICJyYWRpdXMiOiA1LAogICJzdHJva2UiOiB0cnVlLAogICJ3ZWlnaHQiOiAzCn0KICAgICAgICAgICAgICAgICkKICAgICAgICAgICAgICAgIC5hZGRUbyhtYXBfNjJmZWQxN2Q2YWQ2NDhjMzgyNjk4MjlhNTcyMmZmZWQpOwogICAgICAgICAgICAKICAgIAogICAgICAgICAgICB2YXIgcG9wdXBfOWFhNzRmOTkzYTAyNDFhOThiMDNhMjZlYzI4Nzc5ODAgPSBMLnBvcHVwKHttYXhXaWR0aDogJzEwMCUnCiAgICAgICAgICAgIAogICAgICAgICAgICB9KTsKCiAgICAgICAgICAgIAogICAgICAgICAgICAgICAgdmFyIGh0bWxfYzgxNjQwMGQzYzczNDkxMmE4M2U3Y2E3YjE4ZWM5ODggPSAkKGA8ZGl2IGlkPSJodG1sX2M4MTY0MDBkM2M3MzQ5MTJhODNlN2NhN2IxOGVjOTg4IiBzdHlsZT0id2lkdGg6IDEwMC4wJTsgaGVpZ2h0OiAxMDAuMCU7Ij5Mb3VuZ2U8L2Rpdj5gKVswXTsKICAgICAgICAgICAgICAgIHBvcHVwXzlhYTc0Zjk5M2EwMjQxYTk4YjAzYTI2ZWMyODc3OTgwLnNldENvbnRlbnQoaHRtbF9jODE2NDAwZDNjNzM0OTEyYTgzZTdjYTdiMThlYzk4OCk7CiAgICAgICAgICAgIAoKICAgICAgICAgICAgY2lyY2xlX21hcmtlcl8xOTg5YjcyNDY0ODc0ZjhiYjM1YjExNDc5NDdkNDdjZS5iaW5kUG9wdXAocG9wdXBfOWFhNzRmOTkzYTAyNDFhOThiMDNhMjZlYzI4Nzc5ODApCiAgICAgICAgICAgIDsKCiAgICAgICAgICAgIAogICAgICAgIAogICAgCiAgICAgICAgICAgIHZhciBjaXJjbGVfbWFya2VyXzAwOThiMTg2NzIwNzQ1YzM4NTQ3NGUwOTllZGRmZmJmID0gTC5jaXJjbGVNYXJrZXIoCiAgICAgICAgICAgICAgICBbMTIuOTczNDg1NjkwNDgyMTQ1LCA3Ny42MjAxMTY5ODUyNzczNV0sCiAgICAgICAgICAgICAgICB7CiAgImJ1YmJsaW5nTW91c2VFdmVudHMiOiB0cnVlLAogICJjb2xvciI6ICJibHVlIiwKICAiZGFzaEFycmF5IjogbnVsbCwKICAiZGFzaE9mZnNldCI6IG51bGwsCiAgImZpbGwiOiB0cnVlLAogICJmaWxsQ29sb3IiOiAiYmx1ZSIsCiAgImZpbGxPcGFjaXR5IjogMC42LAogICJmaWxsUnVsZSI6ICJldmVub2RkIiwKICAibGluZUNhcCI6ICJyb3VuZCIsCiAgImxpbmVKb2luIjogInJvdW5kIiwKICAib3BhY2l0eSI6IDEuMCwKICAicmFkaXVzIjogNSwKICAic3Ryb2tlIjogdHJ1ZSwKICAid2VpZ2h0IjogMwp9CiAgICAgICAgICAgICAgICApCiAgICAgICAgICAgICAgICAuYWRkVG8obWFwXzYyZmVkMTdkNmFkNjQ4YzM4MjY5ODI5YTU3MjJmZmVkKTsKICAgICAgICAgICAgCiAgICAKICAgICAgICAgICAgdmFyIHBvcHVwXzg0Y2ZkMzY4NzI2YzQzYWM4MDc5MDFmMWY4OWUxNWNhID0gTC5wb3B1cCh7bWF4V2lkdGg6ICcxMDAlJwogICAgICAgICAgICAKICAgICAgICAgICAgfSk7CgogICAgICAgICAgICAKICAgICAgICAgICAgICAgIHZhciBodG1sXzIwZDVjZTgyMWEyMzRlYTM5YTZhZGQ1MWM5Yzk3MGE2ID0gJChgPGRpdiBpZD0iaHRtbF8yMGQ1Y2U4MjFhMjM0ZWEzOWE2YWRkNTFjOWM5NzBhNiIgc3R5bGU9IndpZHRoOiAxMDAuMCU7IGhlaWdodDogMTAwLjAlOyI+RGVwYXJ0bWVudCBTdG9yZTwvZGl2PmApWzBdOwogICAgICAgICAgICAgICAgcG9wdXBfODRjZmQzNjg3MjZjNDNhYzgwNzkwMWYxZjg5ZTE1Y2Euc2V0Q29udGVudChodG1sXzIwZDVjZTgyMWEyMzRlYTM5YTZhZGQ1MWM5Yzk3MGE2KTsKICAgICAgICAgICAgCgogICAgICAgICAgICBjaXJjbGVfbWFya2VyXzAwOThiMTg2NzIwNzQ1YzM4NTQ3NGUwOTllZGRmZmJmLmJpbmRQb3B1cChwb3B1cF84NGNmZDM2ODcyNmM0M2FjODA3OTAxZjFmODllMTVjYSkKICAgICAgICAgICAgOwoKICAgICAgICAgICAgCiAgICAgICAgCiAgICAKICAgICAgICAgICAgdmFyIGNpcmNsZV9tYXJrZXJfNjk3NGMzMDhhODM1NGI5OThiZGExMWMxNzdjZGUzZDAgPSBMLmNpcmNsZU1hcmtlcigKICAgICAgICAgICAgICAgIFsxMi45MzQ1OTQ5NjY4NjIwMiwgNzcuNjExMzIxMDgzNzQxNTNdLAogICAgICAgICAgICAgICAgewogICJidWJibGluZ01vdXNlRXZlbnRzIjogdHJ1ZSwKICAiY29sb3IiOiAiYmx1ZSIsCiAgImRhc2hBcnJheSI6IG51bGwsCiAgImRhc2hPZmZzZXQiOiBudWxsLAogICJmaWxsIjogdHJ1ZSwKICAiZmlsbENvbG9yIjogImJsdWUiLAogICJmaWxsT3BhY2l0eSI6IDAuNiwKICAiZmlsbFJ1bGUiOiAiZXZlbm9kZCIsCiAgImxpbmVDYXAiOiAicm91bmQiLAogICJsaW5lSm9pbiI6ICJyb3VuZCIsCiAgIm9wYWNpdHkiOiAxLjAsCiAgInJhZGl1cyI6IDUsCiAgInN0cm9rZSI6IHRydWUsCiAgIndlaWdodCI6IDMKfQogICAgICAgICAgICAgICAgKQogICAgICAgICAgICAgICAgLmFkZFRvKG1hcF82MmZlZDE3ZDZhZDY0OGMzODI2OTgyOWE1NzIyZmZlZCk7CiAgICAgICAgICAgIAogICAgCiAgICAgICAgICAgIHZhciBwb3B1cF84YTIzZjg2YTYzYTM0MmI5YmI3NmRjMmExZWVkMDI5NSA9IEwucG9wdXAoe21heFdpZHRoOiAnMTAwJScKICAgICAgICAgICAgCiAgICAgICAgICAgIH0pOwoKICAgICAgICAgICAgCiAgICAgICAgICAgICAgICB2YXIgaHRtbF9lZDc4ODNkNmVkNzU0MGQ1OThmNjBmMjg3ZWI0OTcyZCA9ICQoYDxkaXYgaWQ9Imh0bWxfZWQ3ODgzZDZlZDc1NDBkNTk4ZjYwZjI4N2ViNDk3MmQiIHN0eWxlPSJ3aWR0aDogMTAwLjAlOyBoZWlnaHQ6IDEwMC4wJTsiPk1vdmllIFRoZWF0ZXI8L2Rpdj5gKVswXTsKICAgICAgICAgICAgICAgIHBvcHVwXzhhMjNmODZhNjNhMzQyYjliYjc2ZGMyYTFlZWQwMjk1LnNldENvbnRlbnQoaHRtbF9lZDc4ODNkNmVkNzU0MGQ1OThmNjBmMjg3ZWI0OTcyZCk7CiAgICAgICAgICAgIAoKICAgICAgICAgICAgY2lyY2xlX21hcmtlcl82OTc0YzMwOGE4MzU0Yjk5OGJkYTExYzE3N2NkZTNkMC5iaW5kUG9wdXAocG9wdXBfOGEyM2Y4NmE2M2EzNDJiOWJiNzZkYzJhMWVlZDAyOTUpCiAgICAgICAgICAgIDsKCiAgICAgICAgICAgIAogICAgICAgIAogICAgCiAgICAgICAgICAgIHZhciBjaXJjbGVfbWFya2VyXzZmMTNmNTU2ZTAwNzQ5YmZiYjU1YTc3YjI1N2E3ZmFhID0gTC5jaXJjbGVNYXJrZXIoCiAgICAgICAgICAgICAgICBbMTIuOTkxNjY1OTU4OTQ1Njg3LCA3Ny41OTQyMDcwNDEyNjg0Ml0sCiAgICAgICAgICAgICAgICB7CiAgImJ1YmJsaW5nTW91c2VFdmVudHMiOiB0cnVlLAogICJjb2xvciI6ICJibHVlIiwKICAiZGFzaEFycmF5IjogbnVsbCwKICAiZGFzaE9mZnNldCI6IG51bGwsCiAgImZpbGwiOiB0cnVlLAogICJmaWxsQ29sb3IiOiAiYmx1ZSIsCiAgImZpbGxPcGFjaXR5IjogMC42LAogICJmaWxsUnVsZSI6ICJldmVub2RkIiwKICAibGluZUNhcCI6ICJyb3VuZCIsCiAgImxpbmVKb2luIjogInJvdW5kIiwKICAib3BhY2l0eSI6IDEuMCwKICAicmFkaXVzIjogNSwKICAic3Ryb2tlIjogdHJ1ZSwKICAid2VpZ2h0IjogMwp9CiAgICAgICAgICAgICAgICApCiAgICAgICAgICAgICAgICAuYWRkVG8obWFwXzYyZmVkMTdkNmFkNjQ4YzM4MjY5ODI5YTU3MjJmZmVkKTsKICAgICAgICAgICAgCiAgICAKICAgICAgICAgICAgdmFyIHBvcHVwX2U0YmM5YWRjOWViNTQ2ZWU5Njg3YzMwODRjYTgyYWQzID0gTC5wb3B1cCh7bWF4V2lkdGg6ICcxMDAlJwogICAgICAgICAgICAKICAgICAgICAgICAgfSk7CgogICAgICAgICAgICAKICAgICAgICAgICAgICAgIHZhciBodG1sX2Y2NDhiY2I4Y2UwZDQ5ODQ4Yzc3MmY4NTQ2OWY5YTY2ID0gJChgPGRpdiBpZD0iaHRtbF9mNjQ4YmNiOGNlMGQ0OTg0OGM3NzJmODU0NjlmOWE2NiIgc3R5bGU9IndpZHRoOiAxMDAuMCU7IGhlaWdodDogMTAwLjAlOyI+U3RlYWtob3VzZTwvZGl2PmApWzBdOwogICAgICAgICAgICAgICAgcG9wdXBfZTRiYzlhZGM5ZWI1NDZlZTk2ODdjMzA4NGNhODJhZDMuc2V0Q29udGVudChodG1sX2Y2NDhiY2I4Y2UwZDQ5ODQ4Yzc3MmY4NTQ2OWY5YTY2KTsKICAgICAgICAgICAgCgogICAgICAgICAgICBjaXJjbGVfbWFya2VyXzZmMTNmNTU2ZTAwNzQ5YmZiYjU1YTc3YjI1N2E3ZmFhLmJpbmRQb3B1cChwb3B1cF9lNGJjOWFkYzllYjU0NmVlOTY4N2MzMDg0Y2E4MmFkMykKICAgICAgICAgICAgOwoKICAgICAgICAgICAgCiAgICAgICAgCiAgICAKICAgICAgICAgICAgdmFyIGNpcmNsZV9tYXJrZXJfMTg1OTBjY2IyYTE2NDE5NWFiYTUxNDgyZmE5MDA0ZGEgPSBMLmNpcmNsZU1hcmtlcigKICAgICAgICAgICAgICAgIFsxMi45Njk5NzI1OTIxMDI1NCwgNzcuNjM3NDUyNjY1ODA2M10sCiAgICAgICAgICAgICAgICB7CiAgImJ1YmJsaW5nTW91c2VFdmVudHMiOiB0cnVlLAogICJjb2xvciI6ICJibHVlIiwKICAiZGFzaEFycmF5IjogbnVsbCwKICAiZGFzaE9mZnNldCI6IG51bGwsCiAgImZpbGwiOiB0cnVlLAogICJmaWxsQ29sb3IiOiAiYmx1ZSIsCiAgImZpbGxPcGFjaXR5IjogMC42LAogICJmaWxsUnVsZSI6ICJldmVub2RkIiwKICAibGluZUNhcCI6ICJyb3VuZCIsCiAgImxpbmVKb2luIjogInJvdW5kIiwKICAib3BhY2l0eSI6IDEuMCwKICAicmFkaXVzIjogNSwKICAic3Ryb2tlIjogdHJ1ZSwKICAid2VpZ2h0IjogMwp9CiAgICAgICAgICAgICAgICApCiAgICAgICAgICAgICAgICAuYWRkVG8obWFwXzYyZmVkMTdkNmFkNjQ4YzM4MjY5ODI5YTU3MjJmZmVkKTsKICAgICAgICAgICAgCiAgICAKICAgICAgICAgICAgdmFyIHBvcHVwXzVhYzE3NTQzYmI0NTQ2MmY4NWZkNmY0Y2QxOTM4OGU3ID0gTC5wb3B1cCh7bWF4V2lkdGg6ICcxMDAlJwogICAgICAgICAgICAKICAgICAgICAgICAgfSk7CgogICAgICAgICAgICAKICAgICAgICAgICAgICAgIHZhciBodG1sXzJkNjU2MzQzMjhhNzQ0MzhiYTM3ZGUzZTliODUzMmFiID0gJChgPGRpdiBpZD0iaHRtbF8yZDY1NjM0MzI4YTc0NDM4YmEzN2RlM2U5Yjg1MzJhYiIgc3R5bGU9IndpZHRoOiAxMDAuMCU7IGhlaWdodDogMTAwLjAlOyI+SWNlIENyZWFtIFNob3A8L2Rpdj5gKVswXTsKICAgICAgICAgICAgICAgIHBvcHVwXzVhYzE3NTQzYmI0NTQ2MmY4NWZkNmY0Y2QxOTM4OGU3LnNldENvbnRlbnQoaHRtbF8yZDY1NjM0MzI4YTc0NDM4YmEzN2RlM2U5Yjg1MzJhYik7CiAgICAgICAgICAgIAoKICAgICAgICAgICAgY2lyY2xlX21hcmtlcl8xODU5MGNjYjJhMTY0MTk1YWJhNTE0ODJmYTkwMDRkYS5iaW5kUG9wdXAocG9wdXBfNWFjMTc1NDNiYjQ1NDYyZjg1ZmQ2ZjRjZDE5Mzg4ZTcpCiAgICAgICAgICAgIDsKCiAgICAgICAgICAgIAogICAgICAgIAo8L3NjcmlwdD4= onload=\"this.contentDocument.open();this.contentDocument.write(atob(this.getAttribute('data-html')));this.contentDocument.close();\" allowfullscreen webkitallowfullscreen mozallowfullscreen></iframe></div></div>"
            ],
            "text/plain": [
              "<folium.folium.Map at 0x7f0b18062390>"
            ]
          },
          "metadata": {
            "tags": []
          },
          "execution_count": 83
        }
      ]
    },
    {
      "cell_type": "markdown",
      "metadata": {
        "button": false,
        "deletable": true,
        "new_sheet": false,
        "run_control": {
          "read_only": false
        },
        "id": "yFE_u5zEojDW",
        "colab_type": "text"
      },
      "source": [
        "   "
      ]
    },
    {
      "cell_type": "markdown",
      "metadata": {
        "button": false,
        "deletable": true,
        "new_sheet": false,
        "run_control": {
          "read_only": false
        },
        "id": "NPbpnkfeojDq",
        "colab_type": "text"
      },
      "source": [
        "<a id=\"item5\"></a>"
      ]
    },
    {
      "cell_type": "markdown",
      "metadata": {
        "button": false,
        "deletable": true,
        "new_sheet": false,
        "run_control": {
          "read_only": false
        },
        "id": "0UXN2RYsojDy",
        "colab_type": "text"
      },
      "source": [
        "## 5. Explore Trending Venues\n",
        "> `https://api.foursquare.com/v2/venues/`**trending**`?client_id=`**CLIENT_ID**`&client_secret=`**CLIENT_SECRET**`&ll=`**LATITUDE**`,`**LONGITUDE**`&v=`**VERSION**"
      ]
    },
    {
      "cell_type": "markdown",
      "metadata": {
        "button": false,
        "deletable": true,
        "new_sheet": false,
        "run_control": {
          "read_only": false
        },
        "id": "LTPKZFYOojD0",
        "colab_type": "text"
      },
      "source": [
        "#### Now, instead of simply exploring the area around karavalli, you are interested in knowing the venues that are trending at the time you are done with your lunch, meaning the places with the highest foot traffic. So let's do that and get the trending venues around karavalli."
      ]
    },
    {
      "cell_type": "code",
      "metadata": {
        "button": false,
        "deletable": true,
        "jupyter": {
          "outputs_hidden": false
        },
        "new_sheet": false,
        "run_control": {
          "read_only": false
        },
        "id": "dYQeBpzvojD4",
        "colab_type": "code",
        "colab": {
          "base_uri": "https://localhost:8080/",
          "height": 51
        },
        "outputId": "fb5c915f-d56d-44fb-8d3d-020d5666ee16"
      },
      "source": [
        "# define URL\n",
        "url = 'https://api.foursquare.com/v2/venues/trending?client_id={}&client_secret={}&ll={},{}&v={}'.format(CLIENT_ID, CLIENT_SECRET, latitude, longitude, VERSION)\n",
        "\n",
        "# send GET request and get trending venues\n",
        "results = requests.get(url).json()\n",
        "results"
      ],
      "execution_count": 85,
      "outputs": [
        {
          "output_type": "execute_result",
          "data": {
            "text/plain": [
              "{'meta': {'code': 200, 'requestId': '5e74710695feaf001b0c84e7'},\n",
              " 'response': {'venues': []}}"
            ]
          },
          "metadata": {
            "tags": []
          },
          "execution_count": 85
        }
      ]
    },
    {
      "cell_type": "markdown",
      "metadata": {
        "button": false,
        "deletable": true,
        "new_sheet": false,
        "run_control": {
          "read_only": false
        },
        "id": "EpOcARG4ojEE",
        "colab_type": "text"
      },
      "source": [
        "### Check if any venues are trending at this time"
      ]
    },
    {
      "cell_type": "code",
      "metadata": {
        "button": false,
        "deletable": true,
        "new_sheet": false,
        "run_control": {
          "read_only": false
        },
        "id": "BcQU9MkZojEJ",
        "colab_type": "code",
        "colab": {}
      },
      "source": [
        "if len(results['response']['venues']) == 0:\n",
        "    trending_venues_df = 'No trending venues are available at the moment!'\n",
        "    \n",
        "else:\n",
        "    trending_venues = results['response']['venues']\n",
        "    trending_venues_df = json_normalize(trending_venues)\n",
        "\n",
        "    # filter columns\n",
        "    columns_filtered = ['name', 'categories'] + ['location.distance', 'location.city', 'location.postalCode', 'location.state', 'location.country', 'location.lat', 'location.lng']\n",
        "    trending_venues_df = trending_venues_df.loc[:, columns_filtered]\n",
        "\n",
        "    # filter the category for each row\n",
        "    trending_venues_df['categories'] = trending_venues_df.apply(get_category_type, axis=1)"
      ],
      "execution_count": 0,
      "outputs": []
    },
    {
      "cell_type": "code",
      "metadata": {
        "button": false,
        "deletable": true,
        "jupyter": {
          "outputs_hidden": false
        },
        "new_sheet": false,
        "run_control": {
          "read_only": false
        },
        "id": "poz-mvGmojET",
        "colab_type": "code",
        "colab": {
          "base_uri": "https://localhost:8080/",
          "height": 34
        },
        "outputId": "e0dc391e-178a-413d-8c6e-73d554849354"
      },
      "source": [
        "# display trending venues\n",
        "trending_venues_df"
      ],
      "execution_count": 87,
      "outputs": [
        {
          "output_type": "execute_result",
          "data": {
            "text/plain": [
              "'No trending venues are available at the moment!'"
            ]
          },
          "metadata": {
            "tags": []
          },
          "execution_count": 87
        }
      ]
    },
    {
      "cell_type": "markdown",
      "metadata": {
        "button": false,
        "deletable": true,
        "new_sheet": false,
        "run_control": {
          "read_only": false
        },
        "id": "mWHU68tgojEb",
        "colab_type": "text"
      },
      "source": [
        "Now, depending on when you run the above code, you might get different venues since the venues with the highest foot traffic are fetched live. "
      ]
    },
    {
      "cell_type": "markdown",
      "metadata": {
        "button": false,
        "deletable": true,
        "new_sheet": false,
        "run_control": {
          "read_only": false
        },
        "id": "laYksl38ojEe",
        "colab_type": "text"
      },
      "source": [
        "### Visualize trending venues"
      ]
    },
    {
      "cell_type": "code",
      "metadata": {
        "button": false,
        "deletable": true,
        "jupyter": {
          "outputs_hidden": false
        },
        "new_sheet": false,
        "run_control": {
          "read_only": false
        },
        "id": "ib3fOXU4ojEn",
        "colab_type": "code",
        "colab": {}
      },
      "source": [
        "if len(results['response']['venues']) == 0:\n",
        "    venues_map = 'Cannot generate visual as no trending venues are available at the moment!'\n",
        "\n",
        "else:\n",
        "    venues_map = folium.Map(location=[latitude, longitude], zoom_start=15) # generate map centred around Ecco\n",
        "\n",
        "\n",
        "    # add Ecco as a red circle mark\n",
        "    folium.features.CircleMarker(\n",
        "        [latitude, longitude],\n",
        "        radius=10,\n",
        "        popup='Ecco',\n",
        "        fill=True,\n",
        "        color='red',\n",
        "        fill_color='red',\n",
        "        fill_opacity=0.6\n",
        "    ).add_to(venues_map)\n",
        "\n",
        "\n",
        "    # add the trending venues as blue circle markers\n",
        "    for lat, lng, label in zip(trending_venues_df['location.lat'], trending_venues_df['location.lng'], trending_venues_df['name']):\n",
        "        folium.features.CircleMarker(\n",
        "            [lat, lng],\n",
        "            radius=5,\n",
        "            poup=label,\n",
        "            fill=True,\n",
        "            color='blue',\n",
        "            fill_color='blue',\n",
        "            fill_opacity=0.6\n",
        "        ).add_to(venues_map)"
      ],
      "execution_count": 0,
      "outputs": []
    },
    {
      "cell_type": "code",
      "metadata": {
        "button": false,
        "deletable": true,
        "jupyter": {
          "outputs_hidden": false
        },
        "new_sheet": false,
        "run_control": {
          "read_only": false
        },
        "id": "0ozAmu4uojE7",
        "colab_type": "code",
        "colab": {
          "base_uri": "https://localhost:8080/",
          "height": 34
        },
        "outputId": "5c87eade-1238-4142-9139-0f3be1c349e2"
      },
      "source": [
        "# display map\n",
        "venues_map"
      ],
      "execution_count": 89,
      "outputs": [
        {
          "output_type": "execute_result",
          "data": {
            "text/plain": [
              "'Cannot generate visual as no trending venues are available at the moment!'"
            ]
          },
          "metadata": {
            "tags": []
          },
          "execution_count": 89
        }
      ]
    },
    {
      "cell_type": "markdown",
      "metadata": {
        "button": false,
        "deletable": true,
        "new_sheet": false,
        "run_control": {
          "read_only": false
        },
        "id": "L8bMTRNgojFR",
        "colab_type": "text"
      },
      "source": [
        "<a id=\"item6\"></a>"
      ]
    }
  ]
}
